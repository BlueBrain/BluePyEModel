{
 "cells": [
  {
   "cell_type": "markdown",
   "metadata": {},
   "source": [
    "# Building an E-Model for a single-compartment cell\n",
    "\n",
    "This notebook provides a simple example on how to run the pipeline to create an e-model of a single-compartment cell with two free parameters. In this instance, we will use \"rheobase independant\" optimisation. \n",
    "\n",
    "When the optimisation is \"rheobase dependent,\" it means that we need to calculate the rheobase value (the minimum current required to trigger a neuron) to normalise the trace values. In this case, the normalisation is done by expressing the trace values as a percentage of the rheobase. This approach ensures that the traces are scaled relative to the neuron’s threshold current, providing a consistent basis for comparison. \n",
    "\n",
    "For rheobase dependant\" optimisation or additional details, please refer to the [L5PC](./../L5PC/) example."
   ]
  },
  {
   "cell_type": "code",
   "execution_count": 1,
   "metadata": {},
   "outputs": [],
   "source": [
    "import json\n",
    "\n",
    "from bluepyemodel.emodel_pipeline.emodel_pipeline import EModel_pipeline\n",
    "from bluepyemodel.efeatures_extraction.targets_configurator import TargetsConfigurator"
   ]
  },
  {
   "cell_type": "code",
   "execution_count": null,
   "metadata": {},
   "outputs": [],
   "source": [
    "# Clear any existing checkpoints to avoid conflicts with previous runs\n",
    "!rm -r ./checkpoints"
   ]
  },
  {
   "cell_type": "markdown",
   "metadata": {},
   "source": [
    "## Setting up the pipeline"
   ]
  },
  {
   "cell_type": "markdown",
   "metadata": {},
   "source": [
    "The pipeline setup involves six key steps: extraction of e-features from electrophysiological recordings; optimisation of a NEURON cell model based on these e-features; storing the optimised model parameters; validating the models against specified protocols; and plotting the results, including traces, e-feature scores, and parameter distributions."
   ]
  },
  {
   "cell_type": "markdown",
   "metadata": {},
   "source": [
    "The [recipes.json](./config/recipes.json) file (displayed below) contains the key settings for the various stages of the e-model building pipeline.\n",
    "\n",
    "* ``morph_path``: Directory path for morphologies\n",
    "* ``morphology``: Contains a list with the morphology's arbitrary name and file name, located in morph_path.\n",
    "* ``params``: Specifies mechanisms, locations, distributions, and parameters.\n",
    "* ``features``: Path to the file with extraction outputs.\n",
    "- **`pipeline_settings`**: Sets up the pipeline with several configuration options, including:  \n",
    "  - `extract_absolute_amplitudes`: Set to `true` for performing optimisation independently of rheobase (threshold current).  \n",
    "  - `optimiser`: Specifies the optimisation algorithm, set to `\"SO-CMA\"` (a single-objective Covariance Matrix Adaptation algorithm).  \n",
    "  - `max_ngen`: Defines the maximum number of generations for the optimisation process, set to `5`.  \n",
    "  - `optimisation_params`: Additional optimisation parameters, such as `offspring_size` set to `20`, indicating the number of solutions generated per generation.  \n",
    "  - `validation_protocols`: Lists protocols used for validation, e.g., `[\"IDrest\"]`.  \n",
    "  - `morph_modifiers`: Set to an empty list `[]`, meaning no specific modifications to morphologies are applied by default."
   ]
  },
  {
   "cell_type": "code",
   "execution_count": 3,
   "metadata": {},
   "outputs": [
    {
     "name": "stdout",
     "output_type": "stream",
     "text": [
      "{\n",
      "    \"simplecell\": {\n",
      "        \"morph_path\": \"./morphologies/\",\n",
      "        \"morphology\": [\n",
      "            [\n",
      "                \"simple\",\n",
      "                \"simple.swc\"\n",
      "            ]\n",
      "        ],\n",
      "        \"params\": \"config/params/simple.json\",\n",
      "        \"features\": \"config/features/simplecell.json\",\n",
      "        \"pipeline_settings\": {\n",
      "            \"path_extract_config\": \"config/extract_config/simplecell_config.json\",\n",
      "            \"extract_absolute_amplitudes\": true,\n",
      "            \"optimiser\": \"SO-CMA\",\n",
      "            \"max_ngen\": 5,\n",
      "            \"optimisation_params\": {\n",
      "                \"offspring_size\": 20\n",
      "            },\n",
      "            \"validation_protocols\": [\n",
      "                \"IDrest_0.4\"\n",
      "            ],\n",
      "            \"morph_modifiers\": []\n",
      "        }\n",
      "    }\n",
      "}\n"
     ]
    }
   ],
   "source": [
    "recipes_path = \"./config/recipes.json\"\n",
    "with open(recipes_path, 'r') as file:\n",
    "    recipe = json.load(file)\n",
    "\n",
    "print(json.dumps(recipe, indent=4))"
   ]
  },
  {
   "cell_type": "markdown",
   "metadata": {},
   "source": [
    "To begin, we need to instantiate the pipeline using the ``EModel_pipeline`` class. This class is responsible for loading the ``recipes.json`` file and configuring the pipeline settings based on its content. The following are the minimal required parameters:\n",
    "\n",
    "- **`emodel`**: Name of the e-model\n",
    "\n",
    "- **`etype`**: electrical type, `\"cADpyr\"`, indicating continuous adapting pyramidal cells.\n",
    "\n",
    "- **`species`**: Biological species, `\"rat\"`, for which the model is developed.\n",
    "\n",
    "- **`brain_region`**: Target brain region, `\"SSCX\"` (somatosensory cortex).\n",
    "\n",
    "- **`morphology`**: Filename of the morphology file located in the `./morphologies` folder, with a spherical shape characterized by a diameter and length of 10 micrometers.\n",
    "\n",
    "- **`morphology_format`**: Specifies the format of the morphology file, \"swc\", with support for SWC, ASC, and H5 formats."
   ]
  },
  {
   "cell_type": "code",
   "execution_count": 4,
   "metadata": {},
   "outputs": [],
   "source": [
    "emodel = \"simplecell\"\n",
    "etype = \"cADpyr\"\n",
    "species = \"rat\"\n",
    "brain_region = \"SSCX\"\n",
    "morphology = \"simple\"\n",
    "morphology_format = \"swc\""
   ]
  },
  {
   "cell_type": "code",
   "execution_count": 5,
   "metadata": {},
   "outputs": [],
   "source": [
    "pipeline = EModel_pipeline(\n",
    "    emodel=emodel,\n",
    "    etype=etype,\n",
    "    species=species,\n",
    "    brain_region=brain_region,\n",
    "    recipes_path=recipes_path,\n",
    "    data_access_point=\"local\",\n",
    ")"
   ]
  },
  {
   "cell_type": "markdown",
   "metadata": {},
   "source": [
    "## Extracting the features"
   ]
  },
  {
   "cell_type": "markdown",
   "metadata": {},
   "source": [
    "We need to download the required data using the script [download_ephys_data.sh](./download_ephys_data.sh). This dataset features continuous adapting pyramidal cells (cADpyr) e-type models from the rat somatosensory cortex. The data can be obtained from this [repository](<https://github.com/BlueBrain/SSCxEModelExamples/tree/main/feature_extraction/input-traces/C060109A1-SR-C1>)."
   ]
  },
  {
   "cell_type": "code",
   "execution_count": null,
   "metadata": {},
   "outputs": [],
   "source": [
    "!sh ./download_ephys_data.sh"
   ]
  },
  {
   "cell_type": "code",
   "execution_count": 7,
   "metadata": {},
   "outputs": [],
   "source": [
    "filenames = [\n",
    "    \"./ephys_data/C060109A1-SR-C1/X_IDrest_ch0_326.ibw\",\n",
    "    \"./ephys_data/C060109A1-SR-C1/X_IDrest_ch0_327.ibw\",\n",
    "    \"./ephys_data/C060109A1-SR-C1/X_IDrest_ch0_328.ibw\",\n",
    "    \"./ephys_data/C060109A1-SR-C1/X_IDrest_ch0_329.ibw\",\n",
    "    \"./ephys_data/C060109A1-SR-C1/X_IDrest_ch0_330.ibw\",\n",
    "    \"./ephys_data/C060109A1-SR-C1/X_IDthresh_ch0_349.ibw\",\n",
    "    \"./ephys_data/C060109A1-SR-C1/X_IDthresh_ch0_350.ibw\",\n",
    "    \"./ephys_data/C060109A1-SR-C1/X_IDthresh_ch0_351.ibw\",\n",
    "    \"./ephys_data/C060109A1-SR-C1/X_IDthresh_ch0_352.ibw\",\n",
    "    \"./ephys_data/C060109A1-SR-C1/X_IDthresh_ch0_353.ibw\",\n",
    "    \"./ephys_data/C060109A1-SR-C1/X_IV_ch0_266.ibw\",\n",
    "    \"./ephys_data/C060109A1-SR-C1/X_IV_ch0_267.ibw\",\n",
    "    \"./ephys_data/C060109A1-SR-C1/X_IV_ch0_268.ibw\",\n",
    "    \"./ephys_data/C060109A1-SR-C1/X_IV_ch0_269.ibw\",\n",
    "    \"./ephys_data/C060109A1-SR-C1/X_IV_ch0_270.ibw\"\n",
    "]"
   ]
  },
  {
   "cell_type": "markdown",
   "metadata": {},
   "source": [
    "We can now define the targets which contains the protocols (ecodes) and the features. We define two protocols, IDrest and IV protocols.\n",
    "\n",
    "For the IDrest protocol with an amplitude of 0.256 nA, we select the Spikecount, mean_frequency, and voltage_base capture the neuron's spiking activity and resting potential. In the IV protocol, at an amplitude of -0.147 nA, voltage_base and ohmic_input_resistance_vb_ssse assess the neuron's baseline potential and input resistance. \n",
    "\n",
    "The tolerance of 0.1 specifies the allowable deviation from the target amplitudes when extracting e-features from traces, meaning values within ±0.1 of the specified amplitudes are considered acceptable."
   ]
  },
  {
   "cell_type": "code",
   "execution_count": 8,
   "metadata": {},
   "outputs": [],
   "source": [
    "targets = {\n",
    "    \"IDrest\": {\n",
    "        \"amplitudes\": [0.256, 0.4],\n",
    "        \"efeatures\": [\n",
    "            \"Spikecount\",\n",
    "            \"mean_frequency\",\n",
    "            \"voltage_base\",\n",
    "        ],\n",
    "    },\n",
    "    \"IV\": {\n",
    "        \"amplitudes\": [-0.147],\n",
    "        \"efeatures\": [\n",
    "            \"voltage_base\",\n",
    "            \"ohmic_input_resistance_vb_ssse\",\n",
    "        ],\n",
    "    }\n",
    "}\n",
    "\n",
    "tolerance = 0.1"
   ]
  },
  {
   "cell_type": "markdown",
   "metadata": {},
   "source": [
    "The ecodes_metadata dictionary defines parameters for each protocol: ljp is the liquid junction potential correction (14.0 mV), while ton and toff represent the start and stop times (in ms) for current injection."
   ]
  },
  {
   "cell_type": "code",
   "execution_count": 9,
   "metadata": {},
   "outputs": [],
   "source": [
    "ecodes_metadata = {\n",
    "    \"IDthresh\": {\"ljp\": 14.0, \"ton\": 700, \"toff\": 2700},\n",
    "    \"IDrest\": {\"ljp\": 14.0, \"ton\": 700, \"toff\": 2700},\n",
    "    \"IV\": {\"ljp\": 14.0, \"ton\": 20, \"toff\": 1020},\n",
    "}"
   ]
  },
  {
   "cell_type": "markdown",
   "metadata": {},
   "source": [
    "We save this targets in an object called `ExtractionTargetConfigurator` (ETC), which will serve as the input for the feature extractor"
   ]
  },
  {
   "cell_type": "code",
   "execution_count": 10,
   "metadata": {},
   "outputs": [],
   "source": [
    "files_metadata = []\n",
    "for filename in filenames:\n",
    "    fn = filename.split(\"/\")[-1]\n",
    "    for ecode in ecodes_metadata:\n",
    "        if ecode in fn:\n",
    "            files_metadata.append(\n",
    "                {\n",
    "                    \"cell_name\": filename.split(\"/\")[-2],\n",
    "                    \"filename\": filename.split(\"/\")[-1].split(\".\")[0],\n",
    "                    \"ecodes\": {ecode: ecodes_metadata[ecode]},\n",
    "                    \"other_metadata\": {\n",
    "                        \"i_file\": filename,\n",
    "                        \"v_file\": filename.replace(\"ch0\", \"ch1\"),\n",
    "                        \"i_unit\": \"A\",\n",
    "                        \"v_unit\": \"V\",\n",
    "                        \"t_unit\": \"s\",\n",
    "                    },\n",
    "                }\n",
    "            )\n",
    "\n",
    "\n",
    "targets_formated = []\n",
    "for ecode in targets:\n",
    "    for amplitude in targets[ecode][\"amplitudes\"]:\n",
    "        for efeature in targets[ecode][\"efeatures\"]:\n",
    "            targets_formated.append(\n",
    "                {\n",
    "                    \"efeature\": efeature,\n",
    "                    \"protocol\": ecode,\n",
    "                    \"amplitude\": amplitude,\n",
    "                    \"tolerance\": tolerance,\n",
    "                }\n",
    "            )\n",
    "\n",
    "\n",
    "configurator = TargetsConfigurator(pipeline.access_point)\n",
    "configurator.new_configuration(files_metadata, targets_formated)\n",
    "configurator.save_configuration()"
   ]
  },
  {
   "cell_type": "markdown",
   "metadata": {},
   "source": [
    "We can now proceed to extract the e-features"
   ]
  },
  {
   "cell_type": "code",
   "execution_count": null,
   "metadata": {},
   "outputs": [],
   "source": [
    "pipeline.extract_efeatures()"
   ]
  },
  {
   "cell_type": "markdown",
   "metadata": {},
   "source": [
    "The results of the feature extraction is stored in [simplecell.json](./config/features/simplecell.json). Let's take a look at the extracted features"
   ]
  },
  {
   "cell_type": "code",
   "execution_count": 12,
   "metadata": {},
   "outputs": [
    {
     "name": "stdout",
     "output_type": "stream",
     "text": [
      "{\n",
      "    \"efeatures\": [\n",
      "        {\n",
      "            \"efel_feature_name\": \"Spikecount\",\n",
      "            \"protocol_name\": \"IDrest_0.256\",\n",
      "            \"recording_name\": \"soma.v\",\n",
      "            \"threshold_efeature_std\": null,\n",
      "            \"default_std_value\": 0.001,\n",
      "            \"mean\": 6.6,\n",
      "            \"original_std\": 4.5431266766402185,\n",
      "            \"sample_size\": 5,\n",
      "            \"efeature_name\": \"Spikecount\",\n",
      "            \"weight\": 1.0,\n",
      "            \"efel_settings\": {\n",
      "                \"interp_step\": 0.025,\n",
      "                \"strict_stiminterval\": true,\n",
      "                \"Threshold\": -50.11250305175781\n",
      "            }\n",
      "        },\n",
      "        {\n",
      "            \"efel_feature_name\": \"mean_frequency\",\n",
      "            \"protocol_name\": \"IDrest_0.256\",\n",
      "            \"recording_name\": \"soma.v\",\n",
      "            \"threshold_efeature_std\": null,\n",
      "            \"default_std_value\": 0.001,\n",
      "            \"mean\": 4.6549665308108965,\n",
      "            \"original_std\": 1.7066939148229534,\n",
      "            \"sample_size\": 4,\n",
      "            \"efeature_name\": \"mean_frequency\",\n",
      "            \"weight\": 1.0,\n",
      "            \"efel_settings\": {\n",
      "                \"interp_step\": 0.025,\n",
      "                \"strict_stiminterval\": true,\n",
      "                \"Threshold\": -50.11250305175781\n",
      "            }\n",
      "        },\n",
      "        {\n",
      "            \"efel_feature_name\": \"voltage_base\",\n",
      "            \"protocol_name\": \"IDrest_0.256\",\n",
      "            \"recording_name\": \"soma.v\",\n",
      "            \"threshold_efeature_std\": null,\n",
      "            \"default_std_value\": 0.001,\n",
      "            \"mean\": -84.9396882128033,\n",
      "            \"original_std\": 0.3331013733422112,\n",
      "            \"sample_size\": 5,\n",
      "            \"efeature_name\": \"voltage_base\",\n",
      "            \"weight\": 1.0,\n",
      "            \"efel_settings\": {\n",
      "                \"interp_step\": 0.025,\n",
      "                \"strict_stiminterval\": true,\n",
      "                \"Threshold\": -50.11250305175781\n",
      "            }\n",
      "        },\n",
      "        {\n",
      "            \"efel_feature_name\": \"Spikecount\",\n",
      "            \"protocol_name\": \"IDrest_0.4\",\n",
      "            \"recording_name\": \"soma.v\",\n",
      "            \"threshold_efeature_std\": null,\n",
      "            \"default_std_value\": 0.001,\n",
      "            \"mean\": 13.0,\n",
      "            \"original_std\": 0.001,\n",
      "            \"sample_size\": 1,\n",
      "            \"efeature_name\": \"Spikecount\",\n",
      "            \"weight\": 1.0,\n",
      "            \"efel_settings\": {\n",
      "                \"interp_step\": 0.025,\n",
      "                \"strict_stiminterval\": true,\n",
      "                \"Threshold\": -50.11250305175781\n",
      "            }\n",
      "        },\n",
      "        {\n",
      "            \"efel_feature_name\": \"mean_frequency\",\n",
      "            \"protocol_name\": \"IDrest_0.4\",\n",
      "            \"recording_name\": \"soma.v\",\n",
      "            \"threshold_efeature_std\": null,\n",
      "            \"default_std_value\": 0.001,\n",
      "            \"mean\": 6.888329580058474,\n",
      "            \"original_std\": 0.001,\n",
      "            \"sample_size\": 1,\n",
      "            \"efeature_name\": \"mean_frequency\",\n",
      "            \"weight\": 1.0,\n",
      "            \"efel_settings\": {\n",
      "                \"interp_step\": 0.025,\n",
      "                \"strict_stiminterval\": true,\n",
      "                \"Threshold\": -50.11250305175781\n",
      "            }\n",
      "        },\n",
      "        {\n",
      "            \"efel_feature_name\": \"voltage_base\",\n",
      "            \"protocol_name\": \"IDrest_0.4\",\n",
      "            \"recording_name\": \"soma.v\",\n",
      "            \"threshold_efeature_std\": null,\n",
      "            \"default_std_value\": 0.001,\n",
      "            \"mean\": -85.36351310593709,\n",
      "            \"original_std\": 0.001,\n",
      "            \"sample_size\": 1,\n",
      "            \"efeature_name\": \"voltage_base\",\n",
      "            \"weight\": 1.0,\n",
      "            \"efel_settings\": {\n",
      "                \"interp_step\": 0.025,\n",
      "                \"strict_stiminterval\": true,\n",
      "                \"Threshold\": -50.11250305175781\n",
      "            }\n",
      "        },\n",
      "        {\n",
      "            \"efel_feature_name\": \"voltage_base\",\n",
      "            \"protocol_name\": \"IV_-0.147\",\n",
      "            \"recording_name\": \"soma.v\",\n",
      "            \"threshold_efeature_std\": null,\n",
      "            \"default_std_value\": 0.001,\n",
      "            \"mean\": -84.5937809414334,\n",
      "            \"original_std\": 0.25958992541480197,\n",
      "            \"sample_size\": 5,\n",
      "            \"efeature_name\": \"voltage_base\",\n",
      "            \"weight\": 1.0,\n",
      "            \"efel_settings\": {\n",
      "                \"interp_step\": 0.025,\n",
      "                \"strict_stiminterval\": true,\n",
      "                \"Threshold\": -64.5374984741211\n",
      "            }\n",
      "        },\n",
      "        {\n",
      "            \"efel_feature_name\": \"ohmic_input_resistance_vb_ssse\",\n",
      "            \"protocol_name\": \"IV_-0.147\",\n",
      "            \"recording_name\": \"soma.v\",\n",
      "            \"threshold_efeature_std\": null,\n",
      "            \"default_std_value\": 0.001,\n",
      "            \"mean\": 47.95114886552402,\n",
      "            \"original_std\": 1.5928203273461563,\n",
      "            \"sample_size\": 5,\n",
      "            \"efeature_name\": \"ohmic_input_resistance_vb_ssse\",\n",
      "            \"weight\": 1.0,\n",
      "            \"efel_settings\": {\n",
      "                \"interp_step\": 0.025,\n",
      "                \"strict_stiminterval\": true,\n",
      "                \"Threshold\": -64.5374984741211\n",
      "            }\n",
      "        }\n",
      "    ],\n",
      "    \"protocols\": [\n",
      "        {\n",
      "            \"name\": \"IDrest_0.256\",\n",
      "            \"stimuli\": [\n",
      "                {\n",
      "                    \"delay\": 700.0000000000001,\n",
      "                    \"amp\": 0.2579375009983778,\n",
      "                    \"thresh_perc\": null,\n",
      "                    \"duration\": 2000.0,\n",
      "                    \"totduration\": 3000.0,\n",
      "                    \"holding_current\": -0.0266875009983778\n",
      "                }\n",
      "            ],\n",
      "            \"recordings_from_config\": [\n",
      "                {\n",
      "                    \"type\": \"CompRecording\",\n",
      "                    \"name\": \"IDrest_0.256.soma.v\",\n",
      "                    \"location\": \"soma\",\n",
      "                    \"variable\": \"v\"\n",
      "                }\n",
      "            ],\n",
      "            \"validation\": false,\n",
      "            \"protocol_type\": \"Protocol\",\n",
      "            \"stochasticity\": false\n",
      "        },\n",
      "        {\n",
      "            \"name\": \"IDrest_0.4\",\n",
      "            \"stimuli\": [\n",
      "                {\n",
      "                    \"delay\": 700.0000000000001,\n",
      "                    \"amp\": 0.3318749852478504,\n",
      "                    \"thresh_perc\": null,\n",
      "                    \"duration\": 2000.0,\n",
      "                    \"totduration\": 3000.0,\n",
      "                    \"holding_current\": -0.02656250074505806\n",
      "                }\n",
      "            ],\n",
      "            \"recordings_from_config\": [\n",
      "                {\n",
      "                    \"type\": \"CompRecording\",\n",
      "                    \"name\": \"IDrest_0.4.soma.v\",\n",
      "                    \"location\": \"soma\",\n",
      "                    \"variable\": \"v\"\n",
      "                }\n",
      "            ],\n",
      "            \"validation\": true,\n",
      "            \"protocol_type\": \"Protocol\",\n",
      "            \"stochasticity\": false\n",
      "        },\n",
      "        {\n",
      "            \"name\": \"IV_-0.147\",\n",
      "            \"stimuli\": [\n",
      "                {\n",
      "                    \"delay\": 20.0,\n",
      "                    \"amp\": -0.1440624985843897,\n",
      "                    \"thresh_perc\": null,\n",
      "                    \"duration\": 1000.0,\n",
      "                    \"totduration\": 1320.0,\n",
      "                    \"holding_current\": -0.02878124974668026\n",
      "                }\n",
      "            ],\n",
      "            \"recordings_from_config\": [\n",
      "                {\n",
      "                    \"type\": \"CompRecording\",\n",
      "                    \"name\": \"IV_-0.147.soma.v\",\n",
      "                    \"location\": \"soma\",\n",
      "                    \"variable\": \"v\"\n",
      "                }\n",
      "            ],\n",
      "            \"validation\": false,\n",
      "            \"protocol_type\": \"Protocol\",\n",
      "            \"stochasticity\": false\n",
      "        }\n",
      "    ]\n",
      "}\n"
     ]
    }
   ],
   "source": [
    "fcc_path = \"./config/features/simplecell.json\"\n",
    "with open(fcc_path, 'r') as file:\n",
    "    fcc = json.load(file)\n",
    "\n",
    "print(json.dumps(fcc, indent=4))"
   ]
  },
  {
   "cell_type": "markdown",
   "metadata": {},
   "source": [
    "## Setting the parameter for the optimisation"
   ]
  },
  {
   "cell_type": "markdown",
   "metadata": {},
   "source": [
    "The parameters for the optimisation are defined in [simple.json](./config/simple.json). In this case, we are optimising two parameters: ``gnabar_hh`` and ``gkbar_hh``. These parameters determine the maximum conductances for sodium and potassium ion channels in a Hodgkin-Huxley neuron model, with optimisation ranges of 0.05–0.125 (S/cm2) and 0.01–0.075 (S/cm2), respectively."
   ]
  },
  {
   "cell_type": "code",
   "execution_count": 13,
   "metadata": {},
   "outputs": [
    {
     "name": "stdout",
     "output_type": "stream",
     "text": [
      "{\n",
      "    \"mechanisms\": {\n",
      "        \"somatic\": {\n",
      "            \"mech\": [\n",
      "                \"hh\"\n",
      "            ]\n",
      "        }\n",
      "    },\n",
      "    \"distributions\": {},\n",
      "    \"parameters\": {\n",
      "        \"__comment\": \"define constants as single values and params to optimise as tuples of bounds: [lower, upper]\",\n",
      "        \"global\": [\n",
      "            {\n",
      "                \"name\": \"v_init\",\n",
      "                \"val\": -80\n",
      "            },\n",
      "            {\n",
      "                \"name\": \"celsius\",\n",
      "                \"val\": 34\n",
      "            }\n",
      "        ],\n",
      "        \"somatic\": [\n",
      "            {\n",
      "                \"name\": \"Ra\",\n",
      "                \"val\": 100\n",
      "            },\n",
      "            {\n",
      "                \"name\": \"cm\",\n",
      "                \"val\": 1\n",
      "            },\n",
      "            {\n",
      "                \"name\": \"ena\",\n",
      "                \"val\": 50\n",
      "            },\n",
      "            {\n",
      "                \"name\": \"ek\",\n",
      "                \"val\": -90\n",
      "            },\n",
      "            {\n",
      "                \"name\": \"gnabar_hh\",\n",
      "                \"val\": [\n",
      "                    0.05,\n",
      "                    0.125\n",
      "                ]\n",
      "            },\n",
      "            {\n",
      "                \"name\": \"gkbar_hh\",\n",
      "                \"val\": [\n",
      "                    0.01,\n",
      "                    0.075\n",
      "                ]\n",
      "            }\n",
      "        ]\n",
      "    }\n",
      "}\n"
     ]
    }
   ],
   "source": [
    "# EMC\n",
    "emc_path = \"./config/params/simple.json\"\n",
    "with open(emc_path, 'r') as file:\n",
    "    emc = json.load(file)\n",
    "\n",
    "print(json.dumps(emc, indent=4))"
   ]
  },
  {
   "cell_type": "markdown",
   "metadata": {},
   "source": [
    "## Running the optimisation"
   ]
  },
  {
   "cell_type": "markdown",
   "metadata": {},
   "source": [
    "We can now run the optimisation using the `EModel_pipeline` class. The optimisation will run for 5 generations, with a population size of 20."
   ]
  },
  {
   "cell_type": "code",
   "execution_count": null,
   "metadata": {},
   "outputs": [],
   "source": [
    "pipeline.optimise()"
   ]
  },
  {
   "cell_type": "markdown",
   "metadata": {},
   "source": [
    "Once the model has been fitted, we can store the results in the [final.json](./final.json) file."
   ]
  },
  {
   "cell_type": "code",
   "execution_count": null,
   "metadata": {},
   "outputs": [],
   "source": [
    "pipeline.store_optimisation_results()"
   ]
  },
  {
   "cell_type": "markdown",
   "metadata": {},
   "source": [
    "## Validating the model"
   ]
  },
  {
   "cell_type": "markdown",
   "metadata": {},
   "source": [
    "We can also run the validation of the e-model, executing the protocols defined under the `validation_protocols` key in  recipes.json"
   ]
  },
  {
   "cell_type": "code",
   "execution_count": null,
   "metadata": {},
   "outputs": [],
   "source": [
    "pipeline.validation()"
   ]
  },
  {
   "cell_type": "markdown",
   "metadata": {},
   "source": [
    "## Plotting the results"
   ]
  },
  {
   "cell_type": "markdown",
   "metadata": {},
   "source": [
    "The plots are stored in the `./figures/` directory, organised into subfolders: efeatures_extraction for e-feature figures by protocol, distributions for parameter distributions, optimisation for optimisation curves and progress, parameter_evolution for parameter changes over generations, scores for z-scores of optimised e-features, traces for optimised e-model traces, and currentscape for Currentscape plots."
   ]
  },
  {
   "cell_type": "code",
   "execution_count": null,
   "metadata": {},
   "outputs": [],
   "source": [
    "pipeline.plot(only_validated=False)"
   ]
  }
 ],
 "metadata": {
  "kernelspec": {
   "display_name": "venv-bpem",
   "language": "python",
   "name": "venv-bpem"
  },
  "language_info": {
   "codemirror_mode": {
    "name": "ipython",
    "version": 3
   },
   "file_extension": ".py",
   "mimetype": "text/x-python",
   "name": "python",
   "nbconvert_exporter": "python",
   "pygments_lexer": "ipython3",
   "version": "3.10.8"
  }
 },
 "nbformat": 4,
 "nbformat_minor": 4
}
