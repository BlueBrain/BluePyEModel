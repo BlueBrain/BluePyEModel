{
 "cells": [
  {
   "cell_type": "markdown",
   "metadata": {},
   "source": [
    "## Downloading ephys data"
   ]
  },
  {
   "cell_type": "code",
   "execution_count": 1,
   "metadata": {},
   "outputs": [
    {
     "ename": "KeyboardInterrupt",
     "evalue": "Interrupted by user",
     "output_type": "error",
     "traceback": [
      "\u001b[0;31m---------------------------------------------------------------------------\u001b[0m",
      "\u001b[0;31mKeyboardInterrupt\u001b[0m                         Traceback (most recent call last)",
      "\u001b[0;32m<ipython-input-1-a950eb2dd88c>\u001b[0m in \u001b[0;36m<module>\u001b[0;34m\u001b[0m\n\u001b[1;32m     12\u001b[0m ]\n\u001b[1;32m     13\u001b[0m \u001b[0;34m\u001b[0m\u001b[0m\n\u001b[0;32m---> 14\u001b[0;31m \u001b[0mtoken\u001b[0m \u001b[0;34m=\u001b[0m \u001b[0mgetpass\u001b[0m\u001b[0;34m.\u001b[0m\u001b[0mgetpass\u001b[0m\u001b[0;34m(\u001b[0m\u001b[0;34m)\u001b[0m\u001b[0;34m\u001b[0m\u001b[0;34m\u001b[0m\u001b[0m\n\u001b[0m\u001b[1;32m     15\u001b[0m \u001b[0;34m\u001b[0m\u001b[0m\n\u001b[1;32m     16\u001b[0m nexus_forge = KnowledgeGraphForge(\n",
      "\u001b[0;32m~/venv/lib/python3.8/site-packages/ipykernel/kernelbase.py\u001b[0m in \u001b[0;36mgetpass\u001b[0;34m(self, prompt, stream)\u001b[0m\n\u001b[1;32m    829\u001b[0m             warnings.warn(\"The `stream` parameter of `getpass.getpass` will have no effect when using ipykernel\",\n\u001b[1;32m    830\u001b[0m                     UserWarning, stacklevel=2)\n\u001b[0;32m--> 831\u001b[0;31m         return self._input_request(prompt,\n\u001b[0m\u001b[1;32m    832\u001b[0m             \u001b[0mself\u001b[0m\u001b[0;34m.\u001b[0m\u001b[0m_parent_ident\u001b[0m\u001b[0;34m,\u001b[0m\u001b[0;34m\u001b[0m\u001b[0;34m\u001b[0m\u001b[0m\n\u001b[1;32m    833\u001b[0m             \u001b[0mself\u001b[0m\u001b[0;34m.\u001b[0m\u001b[0m_parent_header\u001b[0m\u001b[0;34m,\u001b[0m\u001b[0;34m\u001b[0m\u001b[0;34m\u001b[0m\u001b[0m\n",
      "\u001b[0;32m~/venv/lib/python3.8/site-packages/ipykernel/kernelbase.py\u001b[0m in \u001b[0;36m_input_request\u001b[0;34m(self, prompt, ident, parent, password)\u001b[0m\n\u001b[1;32m    890\u001b[0m             \u001b[0;32mexcept\u001b[0m \u001b[0mKeyboardInterrupt\u001b[0m\u001b[0;34m:\u001b[0m\u001b[0;34m\u001b[0m\u001b[0;34m\u001b[0m\u001b[0m\n\u001b[1;32m    891\u001b[0m                 \u001b[0;31m# re-raise KeyboardInterrupt, to truncate traceback\u001b[0m\u001b[0;34m\u001b[0m\u001b[0;34m\u001b[0m\u001b[0;34m\u001b[0m\u001b[0m\n\u001b[0;32m--> 892\u001b[0;31m                 \u001b[0;32mraise\u001b[0m \u001b[0mKeyboardInterrupt\u001b[0m\u001b[0;34m(\u001b[0m\u001b[0;34m\"Interrupted by user\"\u001b[0m\u001b[0;34m)\u001b[0m \u001b[0;32mfrom\u001b[0m \u001b[0;32mNone\u001b[0m\u001b[0;34m\u001b[0m\u001b[0;34m\u001b[0m\u001b[0m\n\u001b[0m\u001b[1;32m    893\u001b[0m             \u001b[0;32mexcept\u001b[0m \u001b[0mException\u001b[0m \u001b[0;32mas\u001b[0m \u001b[0me\u001b[0m\u001b[0;34m:\u001b[0m\u001b[0;34m\u001b[0m\u001b[0;34m\u001b[0m\u001b[0m\n\u001b[1;32m    894\u001b[0m                 \u001b[0mself\u001b[0m\u001b[0;34m.\u001b[0m\u001b[0mlog\u001b[0m\u001b[0;34m.\u001b[0m\u001b[0mwarning\u001b[0m\u001b[0;34m(\u001b[0m\u001b[0;34m\"Invalid Message:\"\u001b[0m\u001b[0;34m,\u001b[0m \u001b[0mexc_info\u001b[0m\u001b[0;34m=\u001b[0m\u001b[0;32mTrue\u001b[0m\u001b[0;34m)\u001b[0m\u001b[0;34m\u001b[0m\u001b[0;34m\u001b[0m\u001b[0m\n",
      "\u001b[0;31mKeyboardInterrupt\u001b[0m: Interrupted by user"
     ]
    }
   ],
   "source": [
    "from kgforge.core import KnowledgeGraphForge\n",
    "import getpass\n",
    "\n",
    "file_names = [\n",
    "    \"C060109A1-SR-C1\", \"C060109A2-SR-C1\", \"C060109A3-SR-C1\", \"C060110A2-SR-C1\",\n",
    "    \"C060110A3-SR-C1\", \"C060110A5-SR-C1\", \"C060112A1-SR-C1\", \"C060112A3-SR-C1\",\n",
    "    \"C060112A4-SR-C1\", \"C060112A6-SR-C1\", \"C060112A7-SR-C1\", \"C060114A2-SR-C1\",\n",
    "    \"C060114A4-SR-C1\", \"C060114A5-SR-C1\", \"C060114A6-SR-C1\", \"C060114A7-SR-C1\",\n",
    "    \"C060116A1-SR-C1\", \"C060116A3-SR-C1\", \"C060116A4-SR-C1\", \"C060116A5-SR-C1\",\n",
    "    \"C060116A6-SR-C1\", \"C060116A7-SR-C1\", \"C060202A1-SR-C1\", \"C060202A2-SR-C1\",\n",
    "    \"C060202A4-SR-C1\", \"C060202A5-SR-C1\", \"C060202A6-SR-C1\", \"C060209A3-SR-C1\"\n",
    "]\n",
    "\n",
    "token = getpass.getpass()\n",
    "\n",
    "nexus_forge = KnowledgeGraphForge(\n",
    "        \"https://raw.githubusercontent.com/BlueBrain/nexus-forge/master/\"\n",
    "        \"examples/notebooks/use-cases/prod-forge-nexus.yml\",\n",
    "        token=token,\n",
    "        bucket=\"public/sscx\"\n",
    "    )\n",
    "\n",
    "p = nexus_forge.paths(\"Dataset\")\n",
    "\n",
    "for f in file_names:\n",
    "\n",
    "    resources = nexus_forge.search(\n",
    "        p.type.id == \"Trace\",\n",
    "        p.distribution.encodingFormat == \"application/nwb\",\n",
    "        p.name == f,\n",
    "        limit=1000\n",
    "    )\n",
    "\n",
    "    nexus_forge.download(\n",
    "        resources,\n",
    "        \"distribution.contentUrl\",\n",
    "        \"./sscx_ephys_data\",\n",
    "        overwrite=True\n",
    "    )"
   ]
  },
  {
   "cell_type": "markdown",
   "metadata": {},
   "source": [
    "## Introduction"
   ]
  },
  {
   "cell_type": "markdown",
   "metadata": {},
   "source": [
    "The creation of an emodel using BluePyEmodel and Nexus requires first to configure the pipeline. This notebook goes over the steps of this configuration and provides example data along the needed for the creation of an e-model.\n",
    "\n",
    "Author: Tanguy Damart (tanguy.damart@epfl.ch)"
   ]
  },
  {
   "cell_type": "markdown",
   "metadata": {},
   "source": [
    "The first step is to create the access point that will allow to register data in and fetch data from the Nexus Knowledge Graph:"
   ]
  },
  {
   "cell_type": "code",
   "execution_count": 1,
   "metadata": {},
   "outputs": [
    {
     "name": "stdout",
     "output_type": "stream",
     "text": [
      "········\n"
     ]
    }
   ],
   "source": [
    "from bluepyemodel.api.nexus import NexusAPI\n",
    "\n",
    "emodel = \"L5PC\"\n",
    "species = \"mouse\"\n",
    "\n",
    "access_point = NexusAPI(\n",
    "    emodel=emodel,\n",
    "    species=species,\n",
    "    project=\"emodel_pipeline\",\n",
    "    organisation=\"Cells\",\n",
    "    endpoint=\"https://staging.nexus.ocp.bbp.epfl.ch/v1\",\n",
    "    forge_path=None,\n",
    ")"
   ]
  },
  {
   "cell_type": "markdown",
   "metadata": {},
   "source": [
    "## E-features as targets"
   ]
  },
  {
   "cell_type": "markdown",
   "metadata": {},
   "source": [
    "The second step of e-model building is to specify the efeatures that the pipeline will have to work with.\n",
    "\n",
    "These targets will have to be extracted from the experimental data before being used either as optimization or validation targets. The main information required to perform this step are:\n",
    "- The name of the eCodes.\n",
    "- The amplitudes of the stimuli expressed as % of the rheobase for the eCode. This will indicate which recording the features have to be extrated from from but also which stimuli to used during optimisation or validation.\n",
    "- The type of the protocol: \"StepProtocol\", \"StepThresholdProtocol\", 'RinProtocol' or 'RMPProtocol'. This will be used during optimization and validation to express the role of the stimulus, it works as follow:\n",
    "    - If the type is 'StepProtocol', the holding current and amplitude for the protocol will be fixed during optimisation and evaluation.  \n",
    "    - If the type is 'StepThresholdProtocol', the holding current and amplitude for the protocol will be dynamically computed to match the holding current and rheobase of the model. \n",
    "    - If at least one target is a 'StepThresholdProtocol', at least one target of type 'RinProtocol' with an efeature 'ohmic_input_resistance_vb_ssse' and one target of type 'RMPProtocol' with an efeature 'steady_state_voltage_stimend' will have to be registered. These latters are used as target for the computation of the input resistance and resting membrane potential and are therefore mandatory to be able to use 'StepThresholdProtocol' protocols.\n",
    "- Should this eCode be used for optimization or for validation ?\n",
    "- Optional: the tolerance for the efeature extraction step expressed as % of the rheobase.\n",
    "\n",
    "Registering targets is done using the store_emodel_targets function."
   ]
  },
  {
   "cell_type": "code",
   "execution_count": null,
   "metadata": {},
   "outputs": [],
   "source": [
    "extraction_targets = {\n",
    "    'IDrest': {\n",
    "        'protocol_type': ['StepThresholdProtocol'],\n",
    "        'used_for_rheobase': False,\n",
    "        'used_for_optimization': True,\n",
    "        'targets': [200],\n",
    "        'efeatures': [\n",
    "            'Spikecount',\n",
    "            'mean_frequency',\n",
    "            'voltage_base',\n",
    "            'burst_number',\n",
    "            'inv_time_to_first_spike',\n",
    "            'AP_amplitude',\n",
    "            'APlast_amp',\n",
    "            'AP_begin_voltage',\n",
    "            'AHP_depth',\n",
    "            'ISI_CV',\n",
    "            'ISI_log_slope',\n",
    "            'fast_AHP',\n",
    "            'adaptation_index2',\n",
    "            'AHP_slow_time',\n",
    "            'doublet_ISI',\n",
    "            'decay_time_constant_after_stim'\n",
    "        ]\n",
    "    },\n",
    "    'IDthresh': {\n",
    "        'used_for_rheobase': True,\n",
    "        'used_for_optimization': False,\n",
    "        'protocol_type': [''],\n",
    "        'targets': [0],\n",
    "        'efeatures': [\n",
    "            'Spikecount'\n",
    "        ]\n",
    "    },\n",
    "    'IV': {\n",
    "        'protocol_type': ['StepThresholdProtocol', 'RinProtocol', 'RMPProtocol'],\n",
    "        'used_for_rheobase': False,\n",
    "        'used_for_optimization': True,\n",
    "        'targets': [-100., -40., 0.],\n",
    "        'efeatures': [\n",
    "            'Spikecount',\n",
    "            'voltage_base',\n",
    "            'decay_time_constant_after_stim',\n",
    "            'steady_state_voltage_stimend',\n",
    "            'voltage_deflection',\n",
    "            'voltage_deflection_begin',\n",
    "            'ohmic_input_resistance_vb_ssse'\n",
    "        ]\n",
    "    }\n",
    "}"
   ]
  },
  {
   "cell_type": "code",
   "execution_count": 2,
   "metadata": {},
   "outputs": [
    {
     "ename": "RuntimeError",
     "evalue": "This event loop is already running",
     "output_type": "error",
     "traceback": [
      "\u001b[0;31m---------------------------------------------------------------------------\u001b[0m",
      "\u001b[0;31mRuntimeError\u001b[0m                              Traceback (most recent call last)",
      "\u001b[0;32m<ipython-input-2-5959b23fd41d>\u001b[0m in \u001b[0;36m<module>\u001b[0;34m\u001b[0m\n\u001b[0;32m----> 1\u001b[0;31m access_point.store_emodel_targets(\n\u001b[0m\u001b[1;32m      2\u001b[0m         \u001b[0mecode\u001b[0m\u001b[0;34m=\u001b[0m\u001b[0;34m\"IDthresh\"\u001b[0m\u001b[0;34m,\u001b[0m\u001b[0;34m\u001b[0m\u001b[0;34m\u001b[0m\u001b[0m\n\u001b[1;32m      3\u001b[0m         \u001b[0mefeatures\u001b[0m\u001b[0;34m=\u001b[0m\u001b[0;34m[\u001b[0m\u001b[0;34m'AP_amplitude'\u001b[0m\u001b[0;34m]\u001b[0m\u001b[0;34m,\u001b[0m\u001b[0;34m\u001b[0m\u001b[0;34m\u001b[0m\u001b[0m\n\u001b[1;32m      4\u001b[0m         \u001b[0mamplitude\u001b[0m\u001b[0;34m=\u001b[0m\u001b[0;36m150\u001b[0m\u001b[0;34m,\u001b[0m\u001b[0;34m\u001b[0m\u001b[0;34m\u001b[0m\u001b[0m\n\u001b[1;32m      5\u001b[0m         \u001b[0mextraction_tolerance\u001b[0m\u001b[0;34m=\u001b[0m\u001b[0;36m10\u001b[0m\u001b[0;34m,\u001b[0m\u001b[0;34m\u001b[0m\u001b[0;34m\u001b[0m\u001b[0m\n",
      "\u001b[0;32m~/BluePyEModel/bluepyemodel/api/nexus.py\u001b[0m in \u001b[0;36mstore_emodel_targets\u001b[0;34m(self, ecode, efeatures, amplitude, extraction_tolerance, protocol_type, used_for_extraction_rheobase, used_for_optimization, used_for_validation, extra_recordings)\u001b[0m\n\u001b[1;32m    359\u001b[0m             )\n\u001b[1;32m    360\u001b[0m \u001b[0;34m\u001b[0m\u001b[0m\n\u001b[0;32m--> 361\u001b[0;31m         self.store_extraction_target(\n\u001b[0m\u001b[1;32m    362\u001b[0m             \u001b[0mecode\u001b[0m\u001b[0;34m=\u001b[0m\u001b[0mecode\u001b[0m\u001b[0;34m,\u001b[0m\u001b[0;34m\u001b[0m\u001b[0;34m\u001b[0m\u001b[0m\n\u001b[1;32m    363\u001b[0m             \u001b[0mtarget_amplitudes\u001b[0m\u001b[0;34m=\u001b[0m\u001b[0;34m[\u001b[0m\u001b[0mamplitude\u001b[0m\u001b[0;34m]\u001b[0m\u001b[0;34m,\u001b[0m\u001b[0;34m\u001b[0m\u001b[0;34m\u001b[0m\u001b[0m\n",
      "\u001b[0;32m~/BluePyEModel/bluepyemodel/api/nexus.py\u001b[0m in \u001b[0;36mstore_extraction_target\u001b[0;34m(self, ecode, target_amplitudes, tolerances, use_for_rheobase, efeatures)\u001b[0m\n\u001b[1;32m    269\u001b[0m         )\n\u001b[1;32m    270\u001b[0m \u001b[0;34m\u001b[0m\u001b[0m\n\u001b[0;32m--> 271\u001b[0;31m         \u001b[0mself\u001b[0m\u001b[0;34m.\u001b[0m\u001b[0mregister\u001b[0m\u001b[0;34m(\u001b[0m\u001b[0mresource\u001b[0m\u001b[0;34m)\u001b[0m\u001b[0;34m\u001b[0m\u001b[0;34m\u001b[0m\u001b[0m\n\u001b[0m\u001b[1;32m    272\u001b[0m \u001b[0;34m\u001b[0m\u001b[0m\n\u001b[1;32m    273\u001b[0m     def store_opt_validation_target(\n",
      "\u001b[0;32m~/BluePyEModel/bluepyemodel/api/nexus.py\u001b[0m in \u001b[0;36mregister\u001b[0;34m(self, resources)\u001b[0m\n\u001b[1;32m     91\u001b[0m             \u001b[0;32mraise\u001b[0m \u001b[0mNexusAPIException\u001b[0m\u001b[0;34m(\u001b[0m\u001b[0;34m\"resources should be a Resource or a list of Resources\"\u001b[0m\u001b[0;34m)\u001b[0m\u001b[0;34m\u001b[0m\u001b[0;34m\u001b[0m\u001b[0m\n\u001b[1;32m     92\u001b[0m \u001b[0;34m\u001b[0m\u001b[0m\n\u001b[0;32m---> 93\u001b[0;31m         \u001b[0mself\u001b[0m\u001b[0;34m.\u001b[0m\u001b[0mforge\u001b[0m\u001b[0;34m.\u001b[0m\u001b[0mregister\u001b[0m\u001b[0;34m(\u001b[0m\u001b[0mresources\u001b[0m\u001b[0;34m)\u001b[0m\u001b[0;34m\u001b[0m\u001b[0;34m\u001b[0m\u001b[0m\n\u001b[0m\u001b[1;32m     94\u001b[0m \u001b[0;34m\u001b[0m\u001b[0m\n\u001b[1;32m     95\u001b[0m     \u001b[0;32mdef\u001b[0m \u001b[0mfetch\u001b[0m\u001b[0;34m(\u001b[0m\u001b[0mself\u001b[0m\u001b[0;34m,\u001b[0m \u001b[0mfilters\u001b[0m\u001b[0;34m,\u001b[0m \u001b[0mcross_bucket\u001b[0m\u001b[0;34m=\u001b[0m\u001b[0;32mFalse\u001b[0m\u001b[0;34m,\u001b[0m \u001b[0mlimit\u001b[0m\u001b[0;34m=\u001b[0m\u001b[0;36m1000\u001b[0m\u001b[0;34m)\u001b[0m\u001b[0;34m:\u001b[0m\u001b[0;34m\u001b[0m\u001b[0;34m\u001b[0m\u001b[0m\n",
      "\u001b[0;32m~/venv/lib/python3.8/site-packages/kgforge/core/forge.py\u001b[0m in \u001b[0;36mregister\u001b[0;34m(self, data, schema_id)\u001b[0m\n\u001b[1;32m    348\u001b[0m     \u001b[0;31m# No @catch because the error handling is done by execution.run().\u001b[0m\u001b[0;34m\u001b[0m\u001b[0;34m\u001b[0m\u001b[0;34m\u001b[0m\u001b[0m\n\u001b[1;32m    349\u001b[0m     \u001b[0;32mdef\u001b[0m \u001b[0mregister\u001b[0m\u001b[0;34m(\u001b[0m\u001b[0mself\u001b[0m\u001b[0;34m,\u001b[0m \u001b[0mdata\u001b[0m\u001b[0;34m:\u001b[0m \u001b[0mUnion\u001b[0m\u001b[0;34m[\u001b[0m\u001b[0mResource\u001b[0m\u001b[0;34m,\u001b[0m \u001b[0mList\u001b[0m\u001b[0;34m[\u001b[0m\u001b[0mResource\u001b[0m\u001b[0;34m]\u001b[0m\u001b[0;34m]\u001b[0m\u001b[0;34m,\u001b[0m \u001b[0mschema_id\u001b[0m\u001b[0;34m:\u001b[0m \u001b[0mOptional\u001b[0m\u001b[0;34m[\u001b[0m\u001b[0mstr\u001b[0m\u001b[0;34m]\u001b[0m\u001b[0;34m=\u001b[0m\u001b[0;32mNone\u001b[0m\u001b[0;34m)\u001b[0m \u001b[0;34m->\u001b[0m \u001b[0;32mNone\u001b[0m\u001b[0;34m:\u001b[0m\u001b[0;34m\u001b[0m\u001b[0;34m\u001b[0m\u001b[0m\n\u001b[0;32m--> 350\u001b[0;31m         \u001b[0mself\u001b[0m\u001b[0;34m.\u001b[0m\u001b[0m_store\u001b[0m\u001b[0;34m.\u001b[0m\u001b[0mregister\u001b[0m\u001b[0;34m(\u001b[0m\u001b[0mdata\u001b[0m\u001b[0;34m,\u001b[0m \u001b[0mschema_id\u001b[0m\u001b[0;34m)\u001b[0m\u001b[0;34m\u001b[0m\u001b[0;34m\u001b[0m\u001b[0m\n\u001b[0m\u001b[1;32m    351\u001b[0m \u001b[0;34m\u001b[0m\u001b[0m\n\u001b[1;32m    352\u001b[0m     \u001b[0;31m# No @catch because the error handling is done by execution.run().\u001b[0m\u001b[0;34m\u001b[0m\u001b[0;34m\u001b[0m\u001b[0;34m\u001b[0m\u001b[0m\n",
      "\u001b[0;32m~/venv/lib/python3.8/site-packages/kgforge/specializations/stores/bluebrain_nexus.py\u001b[0m in \u001b[0;36mregister\u001b[0;34m(self, data, schema_id)\u001b[0m\n\u001b[1;32m     96\u001b[0m \u001b[0;34m\u001b[0m\u001b[0m\n\u001b[1;32m     97\u001b[0m     \u001b[0;32mdef\u001b[0m \u001b[0mregister\u001b[0m\u001b[0;34m(\u001b[0m\u001b[0mself\u001b[0m\u001b[0;34m,\u001b[0m \u001b[0mdata\u001b[0m\u001b[0;34m:\u001b[0m \u001b[0mUnion\u001b[0m\u001b[0;34m[\u001b[0m\u001b[0mResource\u001b[0m\u001b[0;34m,\u001b[0m \u001b[0mList\u001b[0m\u001b[0;34m[\u001b[0m\u001b[0mResource\u001b[0m\u001b[0;34m]\u001b[0m\u001b[0;34m]\u001b[0m\u001b[0;34m,\u001b[0m \u001b[0mschema_id\u001b[0m\u001b[0;34m:\u001b[0m \u001b[0mstr\u001b[0m \u001b[0;34m=\u001b[0m \u001b[0;32mNone\u001b[0m\u001b[0;34m)\u001b[0m \u001b[0;34m->\u001b[0m \u001b[0;32mNone\u001b[0m\u001b[0;34m:\u001b[0m\u001b[0;34m\u001b[0m\u001b[0;34m\u001b[0m\u001b[0m\n\u001b[0;32m---> 98\u001b[0;31m         run(self._register_one, self._register_many, data, required_synchronized=False,\n\u001b[0m\u001b[1;32m     99\u001b[0m             \u001b[0mexecute_actions\u001b[0m\u001b[0;34m=\u001b[0m\u001b[0;32mTrue\u001b[0m\u001b[0;34m,\u001b[0m \u001b[0mexception\u001b[0m\u001b[0;34m=\u001b[0m\u001b[0mRegistrationError\u001b[0m\u001b[0;34m,\u001b[0m \u001b[0mmonitored_status\u001b[0m\u001b[0;34m=\u001b[0m\u001b[0;34m\"_synchronized\"\u001b[0m\u001b[0;34m,\u001b[0m\u001b[0;34m\u001b[0m\u001b[0;34m\u001b[0m\u001b[0m\n\u001b[1;32m    100\u001b[0m             schema_id=schema_id)\n",
      "\u001b[0;32m~/venv/lib/python3.8/site-packages/kgforge/core/commons/execution.py\u001b[0m in \u001b[0;36mrun\u001b[0;34m(fun_one, fun_many, data, exception, id_required, required_synchronized, execute_actions, monitored_status, catch_exceptions, **kwargs)\u001b[0m\n\u001b[1;32m    108\u001b[0m                       execute_actions, monitored_status, catch_exceptions, **kwargs)\n\u001b[1;32m    109\u001b[0m         \u001b[0;32melse\u001b[0m\u001b[0;34m:\u001b[0m\u001b[0;34m\u001b[0m\u001b[0;34m\u001b[0m\u001b[0m\n\u001b[0;32m--> 110\u001b[0;31m             \u001b[0mfun_many\u001b[0m\u001b[0;34m(\u001b[0m\u001b[0mdata\u001b[0m\u001b[0;34m,\u001b[0m \u001b[0;34m**\u001b[0m\u001b[0mkwargs\u001b[0m\u001b[0;34m)\u001b[0m\u001b[0;34m\u001b[0m\u001b[0;34m\u001b[0m\u001b[0m\n\u001b[0m\u001b[1;32m    111\u001b[0m         \u001b[0mactions\u001b[0m \u001b[0;34m=\u001b[0m \u001b[0mActions\u001b[0m\u001b[0;34m.\u001b[0m\u001b[0mfrom_resources\u001b[0m\u001b[0;34m(\u001b[0m\u001b[0mdata\u001b[0m\u001b[0;34m)\u001b[0m\u001b[0;34m\u001b[0m\u001b[0;34m\u001b[0m\u001b[0m\n\u001b[1;32m    112\u001b[0m         \u001b[0mprint\u001b[0m\u001b[0;34m(\u001b[0m\u001b[0mactions\u001b[0m\u001b[0;34m)\u001b[0m\u001b[0;34m\u001b[0m\u001b[0;34m\u001b[0m\u001b[0m\n",
      "\u001b[0;32m~/venv/lib/python3.8/site-packages/kgforge/specializations/stores/bluebrain_nexus.py\u001b[0m in \u001b[0;36m_register_many\u001b[0;34m(self, resources, schema_id)\u001b[0m\n\u001b[1;32m    118\u001b[0m             \u001b[0mresources\u001b[0m\u001b[0;34m,\u001b[0m \u001b[0mself\u001b[0m\u001b[0;34m.\u001b[0m\u001b[0m_register_many\u001b[0m\u001b[0;34m.\u001b[0m\u001b[0m__name__\u001b[0m\u001b[0;34m,\u001b[0m \u001b[0mRegistrationError\u001b[0m\u001b[0;34m,\u001b[0m \u001b[0mid_required\u001b[0m\u001b[0;34m=\u001b[0m\u001b[0;32mFalse\u001b[0m\u001b[0;34m,\u001b[0m\u001b[0;34m\u001b[0m\u001b[0;34m\u001b[0m\u001b[0m\n\u001b[1;32m    119\u001b[0m             required_synchronized=False, execute_actions=True)\n\u001b[0;32m--> 120\u001b[0;31m         self.service.batch_request(\n\u001b[0m\u001b[1;32m    121\u001b[0m             verified, BatchAction.CREATE, register_callback, RegistrationError, schema_id=schema_id)\n\u001b[1;32m    122\u001b[0m \u001b[0;34m\u001b[0m\u001b[0m\n",
      "\u001b[0;32m~/venv/lib/python3.8/site-packages/kgforge/specializations/stores/nexus/service.py\u001b[0m in \u001b[0;36mbatch_request\u001b[0;34m(self, resources, action, callback, error_type, **kwargs)\u001b[0m\n\u001b[1;32m    209\u001b[0m                 \u001b[0;32mreturn\u001b[0m \u001b[0;32mawait\u001b[0m \u001b[0masyncio\u001b[0m\u001b[0;34m.\u001b[0m\u001b[0mgather\u001b[0m\u001b[0;34m(\u001b[0m\u001b[0;34m*\u001b[0m\u001b[0mtasks\u001b[0m\u001b[0;34m)\u001b[0m\u001b[0;34m\u001b[0m\u001b[0;34m\u001b[0m\u001b[0m\n\u001b[1;32m    210\u001b[0m \u001b[0;34m\u001b[0m\u001b[0m\n\u001b[0;32m--> 211\u001b[0;31m         \u001b[0;32mreturn\u001b[0m \u001b[0masyncio\u001b[0m\u001b[0;34m.\u001b[0m\u001b[0mrun\u001b[0m\u001b[0;34m(\u001b[0m\u001b[0mdispatch_action\u001b[0m\u001b[0;34m(\u001b[0m\u001b[0;34m)\u001b[0m\u001b[0;34m)\u001b[0m\u001b[0;34m\u001b[0m\u001b[0;34m\u001b[0m\u001b[0m\n\u001b[0m\u001b[1;32m    212\u001b[0m \u001b[0;34m\u001b[0m\u001b[0m\n\u001b[1;32m    213\u001b[0m     \u001b[0;32mdef\u001b[0m \u001b[0msync_metadata\u001b[0m\u001b[0;34m(\u001b[0m\u001b[0mself\u001b[0m\u001b[0;34m,\u001b[0m \u001b[0mresource\u001b[0m\u001b[0;34m:\u001b[0m \u001b[0mResource\u001b[0m\u001b[0;34m,\u001b[0m \u001b[0mresult\u001b[0m\u001b[0;34m:\u001b[0m \u001b[0mDict\u001b[0m\u001b[0;34m)\u001b[0m \u001b[0;34m->\u001b[0m \u001b[0;32mNone\u001b[0m\u001b[0;34m:\u001b[0m\u001b[0;34m\u001b[0m\u001b[0;34m\u001b[0m\u001b[0m\n",
      "\u001b[0;32m~/venv/lib/python3.8/site-packages/nest_asyncio.py\u001b[0m in \u001b[0;36mrun\u001b[0;34m(future, debug)\u001b[0m\n\u001b[1;32m     29\u001b[0m         \u001b[0mloop\u001b[0m \u001b[0;34m=\u001b[0m \u001b[0masyncio\u001b[0m\u001b[0;34m.\u001b[0m\u001b[0mget_event_loop\u001b[0m\u001b[0;34m(\u001b[0m\u001b[0;34m)\u001b[0m\u001b[0;34m\u001b[0m\u001b[0;34m\u001b[0m\u001b[0m\n\u001b[1;32m     30\u001b[0m         \u001b[0mloop\u001b[0m\u001b[0;34m.\u001b[0m\u001b[0mset_debug\u001b[0m\u001b[0;34m(\u001b[0m\u001b[0mdebug\u001b[0m\u001b[0;34m)\u001b[0m\u001b[0;34m\u001b[0m\u001b[0;34m\u001b[0m\u001b[0m\n\u001b[0;32m---> 31\u001b[0;31m         \u001b[0;32mreturn\u001b[0m \u001b[0mloop\u001b[0m\u001b[0;34m.\u001b[0m\u001b[0mrun_until_complete\u001b[0m\u001b[0;34m(\u001b[0m\u001b[0mfuture\u001b[0m\u001b[0;34m)\u001b[0m\u001b[0;34m\u001b[0m\u001b[0;34m\u001b[0m\u001b[0m\n\u001b[0m\u001b[1;32m     32\u001b[0m \u001b[0;34m\u001b[0m\u001b[0m\n\u001b[1;32m     33\u001b[0m     \u001b[0;32mif\u001b[0m \u001b[0msys\u001b[0m\u001b[0;34m.\u001b[0m\u001b[0mversion_info\u001b[0m \u001b[0;34m>=\u001b[0m \u001b[0;34m(\u001b[0m\u001b[0;36m3\u001b[0m\u001b[0;34m,\u001b[0m \u001b[0;36m6\u001b[0m\u001b[0;34m,\u001b[0m \u001b[0;36m0\u001b[0m\u001b[0;34m)\u001b[0m\u001b[0;34m:\u001b[0m\u001b[0;34m\u001b[0m\u001b[0;34m\u001b[0m\u001b[0m\n",
      "\u001b[0;32m/gpfs/bbp.cscs.ch/ssd/apps/hpc/jenkins/deploy/externals/2021-01-06/linux-rhel7-x86_64/gcc-9.3.0/python-3.8.3-suxrst/lib/python3.8/asyncio/base_events.py\u001b[0m in \u001b[0;36mrun_until_complete\u001b[0;34m(self, future)\u001b[0m\n\u001b[1;32m    590\u001b[0m         \"\"\"\n\u001b[1;32m    591\u001b[0m         \u001b[0mself\u001b[0m\u001b[0;34m.\u001b[0m\u001b[0m_check_closed\u001b[0m\u001b[0;34m(\u001b[0m\u001b[0;34m)\u001b[0m\u001b[0;34m\u001b[0m\u001b[0;34m\u001b[0m\u001b[0m\n\u001b[0;32m--> 592\u001b[0;31m         \u001b[0mself\u001b[0m\u001b[0;34m.\u001b[0m\u001b[0m_check_running\u001b[0m\u001b[0;34m(\u001b[0m\u001b[0;34m)\u001b[0m\u001b[0;34m\u001b[0m\u001b[0;34m\u001b[0m\u001b[0m\n\u001b[0m\u001b[1;32m    593\u001b[0m \u001b[0;34m\u001b[0m\u001b[0m\n\u001b[1;32m    594\u001b[0m         \u001b[0mnew_task\u001b[0m \u001b[0;34m=\u001b[0m \u001b[0;32mnot\u001b[0m \u001b[0mfutures\u001b[0m\u001b[0;34m.\u001b[0m\u001b[0misfuture\u001b[0m\u001b[0;34m(\u001b[0m\u001b[0mfuture\u001b[0m\u001b[0;34m)\u001b[0m\u001b[0;34m\u001b[0m\u001b[0;34m\u001b[0m\u001b[0m\n",
      "\u001b[0;32m/gpfs/bbp.cscs.ch/ssd/apps/hpc/jenkins/deploy/externals/2021-01-06/linux-rhel7-x86_64/gcc-9.3.0/python-3.8.3-suxrst/lib/python3.8/asyncio/base_events.py\u001b[0m in \u001b[0;36m_check_running\u001b[0;34m(self)\u001b[0m\n\u001b[1;32m    550\u001b[0m     \u001b[0;32mdef\u001b[0m \u001b[0m_check_running\u001b[0m\u001b[0;34m(\u001b[0m\u001b[0mself\u001b[0m\u001b[0;34m)\u001b[0m\u001b[0;34m:\u001b[0m\u001b[0;34m\u001b[0m\u001b[0;34m\u001b[0m\u001b[0m\n\u001b[1;32m    551\u001b[0m         \u001b[0;32mif\u001b[0m \u001b[0mself\u001b[0m\u001b[0;34m.\u001b[0m\u001b[0mis_running\u001b[0m\u001b[0;34m(\u001b[0m\u001b[0;34m)\u001b[0m\u001b[0;34m:\u001b[0m\u001b[0;34m\u001b[0m\u001b[0;34m\u001b[0m\u001b[0m\n\u001b[0;32m--> 552\u001b[0;31m             \u001b[0;32mraise\u001b[0m \u001b[0mRuntimeError\u001b[0m\u001b[0;34m(\u001b[0m\u001b[0;34m'This event loop is already running'\u001b[0m\u001b[0;34m)\u001b[0m\u001b[0;34m\u001b[0m\u001b[0;34m\u001b[0m\u001b[0m\n\u001b[0m\u001b[1;32m    553\u001b[0m         \u001b[0;32mif\u001b[0m \u001b[0mevents\u001b[0m\u001b[0;34m.\u001b[0m\u001b[0m_get_running_loop\u001b[0m\u001b[0;34m(\u001b[0m\u001b[0;34m)\u001b[0m \u001b[0;32mis\u001b[0m \u001b[0;32mnot\u001b[0m \u001b[0;32mNone\u001b[0m\u001b[0;34m:\u001b[0m\u001b[0;34m\u001b[0m\u001b[0;34m\u001b[0m\u001b[0m\n\u001b[1;32m    554\u001b[0m             raise RuntimeError(\n",
      "\u001b[0;31mRuntimeError\u001b[0m: This event loop is already running"
     ]
    }
   ],
   "source": [
    "for ecode in extraction_targets:\n",
    "\n",
    "    for target_amplitude, protocol_type in zip(\n",
    "            extraction_targets[ecode]['targets'],\n",
    "            extraction_targets[ecode]['protocol_type']\n",
    "    ):\n",
    "\n",
    "        access_point.store_emodel_targets(\n",
    "            ecode=ecode,\n",
    "            efeatures=extraction_targets[ecode]['efeatures'],\n",
    "            amplitude=target_amplitude,\n",
    "            extraction_tolerance=20,\n",
    "            protocol_type=protocol_type,\n",
    "            used_for_extraction_rheobase=extraction_targets[ecode]['used_for_rheobase'],\n",
    "            used_for_optimization=extraction_targets[ecode]['used_for_optimization'],\n",
    "            used_for_validation=False,\n",
    "        )"
   ]
  },
  {
   "cell_type": "markdown",
   "metadata": {},
   "source": [
    "## From which files to extract the e-features"
   ]
  },
  {
   "cell_type": "markdown",
   "metadata": {},
   "source": [
    "For e-features extraction, the pipeline need to know where are the recordings of interest located on Nexus. This is done using the store_ephys_trace function, which take as input the Nexus id of the matching resource as well as a few additional metadata.\n",
    "For the present demonstration, we will use the files downloaded above and supply their path instead:"
   ]
  },
  {
   "cell_type": "code",
   "execution_count": 1,
   "metadata": {},
   "outputs": [
    {
     "ename": "NameError",
     "evalue": "name 'glob' is not defined",
     "output_type": "error",
     "traceback": [
      "\u001b[0;31m---------------------------------------------------------------------------\u001b[0m",
      "\u001b[0;31mNameError\u001b[0m                                 Traceback (most recent call last)",
      "\u001b[0;32m<ipython-input-1-f9303e0d25e7>\u001b[0m in \u001b[0;36m<module>\u001b[0;34m\u001b[0m\n\u001b[1;32m      5\u001b[0m }\n\u001b[1;32m      6\u001b[0m \u001b[0;34m\u001b[0m\u001b[0m\n\u001b[0;32m----> 7\u001b[0;31m \u001b[0;32mfor\u001b[0m \u001b[0mtrace_path\u001b[0m \u001b[0;32min\u001b[0m \u001b[0mglob\u001b[0m\u001b[0;34m.\u001b[0m\u001b[0mglob\u001b[0m\u001b[0;34m(\u001b[0m\u001b[0;34m\"./sscx_ephys/*.nwb\"\u001b[0m\u001b[0;34m)\u001b[0m\u001b[0;34m:\u001b[0m\u001b[0;34m\u001b[0m\u001b[0;34m\u001b[0m\u001b[0m\n\u001b[0m\u001b[1;32m      8\u001b[0m \u001b[0;34m\u001b[0m\u001b[0m\n\u001b[1;32m      9\u001b[0m     \u001b[0;32mfor\u001b[0m \u001b[0mecode\u001b[0m \u001b[0;32min\u001b[0m \u001b[0mextraction_targets\u001b[0m\u001b[0;34m:\u001b[0m\u001b[0;34m\u001b[0m\u001b[0;34m\u001b[0m\u001b[0m\n",
      "\u001b[0;31mNameError\u001b[0m: name 'glob' is not defined"
     ]
    }
   ],
   "source": [
    "ton_toff = {\n",
    "    'IV': {'ton': 20, 'toff':1020},\n",
    "    'IDthresh': {'ton': 700, 'toff':2700},\n",
    "    'IDrest': {'ton': 700, 'toff':2700},\n",
    "}\n",
    "\n",
    "for trace_path in glob.glob(\"./sscx_ephys/*.nwb\"):\n",
    "    \n",
    "    for ecode in extraction_targets:\n",
    "        \n",
    "        file_metadata = {\n",
    "            \"ljp\": 14.,\n",
    "            \"protocol_name\": ecode,\n",
    "            \"filepath\": trace_path,\n",
    "            'i_unit': 'A',\n",
    "            'v_unit': 'V',\n",
    "            't_unit': 's',\n",
    "        }\n",
    "        \n",
    "        file_metadata.update(ton_toff[ecode])\n",
    "\n",
    "        access_point.store_recordings_metadata(\n",
    "            cell_id=pathlib.Path(trace_path).stem,\n",
    "            ecode=ecode,\n",
    "            ephys_file_path=trace_path,\n",
    "            recording_metadata=file_metadata\n",
    "        )"
   ]
  },
  {
   "cell_type": "markdown",
   "metadata": {},
   "source": [
    "## Defining the NEURON model"
   ]
  },
  {
   "cell_type": "markdown",
   "metadata": {},
   "source": [
    "The third step is to provide the information that will be used to build the e-model in the NEURON simulator."
   ]
  },
  {
   "cell_type": "markdown",
   "metadata": {},
   "source": [
    "### Morphology"
   ]
  },
  {
   "cell_type": "markdown",
   "metadata": {},
   "source": [
    "Specify the morphology to be use for the model:"
   ]
  },
  {
   "cell_type": "code",
   "execution_count": null,
   "metadata": {},
   "outputs": [],
   "source": [
    "access_point.store_morphology(\n",
    "    name=\"C060114A5\",\n",
    "    morphology_path=\"/gpfs/bbp.cscs.ch/project/proj38/home/damart/demo_BPEM/morphologies/C060114A5.asc\"\n",
    ")"
   ]
  },
  {
   "cell_type": "markdown",
   "metadata": {},
   "source": [
    "### Parameters"
   ]
  },
  {
   "cell_type": "markdown",
   "metadata": {},
   "source": [
    "Specify the parameters of the model:"
   ]
  },
  {
   "cell_type": "code",
   "execution_count": null,
   "metadata": {},
   "outputs": [],
   "source": [
    "model_parameters = {\n",
    "    \"global\": [\n",
    "        {\"name\": \"v_init\", \"val\": -80},\n",
    "        {\"name\": \"celsius\", \"val\": 34}\n",
    "    ],\n",
    "    \"distribution_decay\": [\n",
    "        {\"name\": \"constant\", \"val\": [-0.1, 0.0]}\n",
    "    ],\n",
    "    \"myelinated\": [\n",
    "        {\"name\": \"cm\", \"val\": 0.02}\n",
    "    ],\n",
    "    \"all\": [\n",
    "        {\"name\": \"Ra\", \"val\": 100},\n",
    "        {\"name\": \"g_pas\", \"val\": [1e-5, 6e-5], \"mech\": \"pas\"},\n",
    "        {\"name\": \"e_pas\", \"val\": [-95, -60], \"mech\": \"pas\"}\n",
    "    ],\n",
    "    \"somadend\": [\n",
    "        {\"name\": \"gIhbar_Ih\", \"val\": [0, 2e-4], \"dist\": \"exp\", \"mech\": \"Ih\"}\n",
    "    ],\n",
    "    \"axonal\": [\n",
    "        {\"name\": \"cm\", \"val\": 1},\n",
    "        {\"name\": \"ena\", \"val\": 50},\n",
    "        {\"name\": \"ek\", \"val\": -90},\n",
    "        {\"name\": \"vshifth_NaTg\", \"val\": 10, \"mech\": \"NaTg\"},\n",
    "        {\"name\": \"slopem_NaTg\", \"val\": 9, \"mech\": \"NaTg\"},\n",
    "        {\"name\": \"gNaTgbar_NaTg\", \"val\": [0, 1.5], \"mech\": \"NaTg\"},\n",
    "        {\"name\": \"gNap_Et2bar_Nap_Et2\", \"val\": [0, 0.02], \"mech\": \"Nap_Et2\"},\n",
    "        {\"name\": \"gK_Pstbar_K_Pst\", \"val\": [0, 1], \"mech\": \"K_Pst\"},\n",
    "        {\"name\": \"gK_Tstbar_K_Tst\", \"val\": [0, 0.2], \"mech\": \"K_Tst\"},\n",
    "        {\"name\": \"gSKv3_1bar_SKv3_1\", \"val\": [0, 1], \"mech\": \"SKv3_1\"},\n",
    "        {\"name\": \"gCa_HVAbar_Ca_HVA2\", \"val\": [0, 0.001], \"mech\": \"Ca_HVA2\"},\n",
    "        {\"name\": \"gCa_LVAstbar_Ca_LVAst\", \"val\": [0, 0.01], \"mech\": \"Ca_LVAst\"},\n",
    "        {\"name\": \"gSK_E2bar_SK_E2\", \"val\": [0, 0.1], \"mech\": \"SK_E2\"},\n",
    "        {\"name\": \"decay_CaDynamics_DC0\", \"val\": [20, 300], \"mech\": \"CaDynamics_DC0\"},\n",
    "        {\"name\": \"gamma_CaDynamics_DC0\", \"val\": [0.005, 0.05], \"mech\": \"CaDynamics_DC0\"}\n",
    "    ],\n",
    "    \"somatic\": [\n",
    "        {\"name\": \"cm\", \"val\": 1},\n",
    "        {\"name\": \"ena\", \"val\": 50},\n",
    "        {\"name\": \"ek\", \"val\": -90},\n",
    "        {\"name\": \"vshiftm_NaTg\", \"val\": 13, \"mech\": \"NaTg\"},\n",
    "        {\"name\": \"vshifth_NaTg\", \"val\": 15, \"mech\": \"NaTg\"},\n",
    "        {\"name\": \"slopem_NaTg\", \"val\": 7, \"mech\": \"NaTg\"},\n",
    "        {\"name\": \"gNaTgbar_NaTg\", \"val\": [0, 0.3], \"mech\": \"NaTg\"},\n",
    "        {\"name\": \"gK_Pstbar_K_Pst\", \"val\": [0, 0.2], \"mech\": \"K_Pst\"},\n",
    "        {\"name\": \"gK_Tstbar_K_Tst\", \"val\": [0, 0.1], \"mech\": \"K_Tst\"},\n",
    "        {\"name\": \"gSKv3_1bar_SKv3_1\", \"val\": [0, 1], \"mech\": \"SKv3_1\"},\n",
    "        {\"name\": \"gCa_HVAbar_Ca_HVA2\", \"val\": [0, 0.001], \"mech\": \"Ca_HVA2\"},\n",
    "        {\"name\": \"gCa_LVAstbar_Ca_LVAst\", \"val\": [0, 0.01], \"mech\": \"Ca_LVAst\"},\n",
    "        {\"name\": \"gSK_E2bar_SK_E2\", \"val\": [0, 0.1], \"mech\": \"SK_E2\"},\n",
    "        {\"name\": \"decay_CaDynamics_DC0\", \"val\": [20, 300], \"mech\": \"CaDynamics_DC0\"},\n",
    "        {\"name\": \"gamma_CaDynamics_DC0\", \"val\": [0.005, 0.05], \"mech\": \"CaDynamics_DC0\"}\n",
    "    ],\n",
    "    \"apical\": [\n",
    "        {\"name\": \"cm\", \"val\": 2},\n",
    "        {\"name\": \"ena\", \"val\": 50},\n",
    "        {\"name\": \"ek\", \"val\": -90},\n",
    "        {\"name\": \"gamma_CaDynamics_DC0\", \"val\": [0.005, 0.05], \"mech\": \"CaDynamics_DC0\"},\n",
    "        {\"name\": \"vshiftm_NaTg\", \"val\": 6, \"mech\": \"NaTg\"},\n",
    "        {\"name\": \"vshifth_NaTg\", \"val\": 6, \"mech\": \"NaTg\"},\n",
    "        {\"name\": \"gNaTgbar_NaTg\", \"val\": [0, 0.1], \"dist\": \"decay\", \"mech\": \"NaTg\"},\n",
    "        {\"name\": \"gSKv3_1bar_SKv3_1\", \"val\": [0, 0.003], \"mech\": \"SKv3_1\"},\n",
    "        {\"name\": \"gCa_HVAbar_Ca_HVA2\", \"val\": [0, 0.0001], \"mech\": \"Ca_HVA2\"},\n",
    "        {\"name\": \"gCa_LVAstbar_Ca_LVAst\", \"val\": [0, 0.001], \"mech\": \"Ca_LVAst\"}\n",
    "    ],\n",
    "    \"basal\": [\n",
    "        {\"name\": \"cm\", \"val\": 2},\n",
    "        {\"name\": \"gamma_CaDynamics_DC0\", \"val\": [0.005, 0.05], \"mech\": \"CaDynamics_DC0\"},\n",
    "        {\"name\": \"gCa_HVAbar_Ca_HVA2\", \"val\": [0, 0.0001], \"mech\": \"Ca_HVA2\"},\n",
    "        {\"name\": \"gCa_LVAstbar_Ca_LVAst\", \"val\": [0, 0.001], \"mech\": \"Ca_LVAst\"}\n",
    "    ]\n",
    "}"
   ]
  },
  {
   "cell_type": "code",
   "execution_count": null,
   "metadata": {},
   "outputs": [],
   "source": [
    "for location in model_parameters:\n",
    "    \n",
    "    for param in model_parameters[location]:\n",
    "\n",
    "        access_point.store_optimisation_parameter(\n",
    "            parameter_name=param['name'],\n",
    "            value=param['val'],\n",
    "            mechanism_name=param.get('mech', None),\n",
    "            location=[location],\n",
    "            distribution=param.get('dist', 'constant')\n",
    "        )"
   ]
  },
  {
   "cell_type": "markdown",
   "metadata": {},
   "source": [
    "### Channel Distributions"
   ]
  },
  {
   "cell_type": "markdown",
   "metadata": {},
   "source": [
    "Describe the distribution that have been specified for some of the parameters in the previous step. Note that the \"constant\" distribution does not need to be defined."
   ]
  },
  {
   "cell_type": "code",
   "execution_count": null,
   "metadata": {},
   "outputs": [],
   "source": [
    "distributions = {\n",
    "    \"exp\":\n",
    "        {\n",
    "            \"function\": \"(-0.8696 + 2.087*math.exp(({distance})*0.0031))*{value}\"\n",
    "        },\n",
    "    \"decay\":\n",
    "        {\n",
    "            \"function\": \"math.exp({distance}*{constant})*{value}\", \"parameters\": [\"constant\"]\n",
    "        }\n",
    "}"
   ]
  },
  {
   "cell_type": "code",
   "execution_count": null,
   "metadata": {},
   "outputs": [],
   "source": [
    "for distribution in distributions:\n",
    "\n",
    "    access_point.store_channel_distribution(\n",
    "        name=distribution,\n",
    "        function=distributions[distribution][\"function\"],\n",
    "        parameters=distributions[distribution].get(\"parameters\", [])\n",
    "    )"
   ]
  },
  {
   "cell_type": "markdown",
   "metadata": {},
   "source": [
    "### Mechanisms"
   ]
  },
  {
   "cell_type": "markdown",
   "metadata": {},
   "source": [
    "Define the mechanisms (mod files) that will be used to describe the dynamics of the model. These names of the mechanisms have to match the mechanism_names used in the Parameter step."
   ]
  },
  {
   "cell_type": "code",
   "execution_count": 7,
   "metadata": {},
   "outputs": [
    {
     "ename": "NameError",
     "evalue": "name 'access_point' is not defined",
     "output_type": "error",
     "traceback": [
      "\u001b[0;31m---------------------------------------------------------------------------\u001b[0m",
      "\u001b[0;31mNameError\u001b[0m                                 Traceback (most recent call last)",
      "\u001b[0;32m<ipython-input-7-60cb33fabe9a>\u001b[0m in \u001b[0;36m<module>\u001b[0;34m\u001b[0m\n\u001b[0;32m----> 1\u001b[0;31m access_point.store_mechanism(\n\u001b[0m\u001b[1;32m      2\u001b[0m     name, mechanism_id, stochastic)\n",
      "\u001b[0;31mNameError\u001b[0m: name 'access_point' is not defined"
     ]
    }
   ],
   "source": [
    "for mech_path in glob.glob(\"/gpfs/bbp.cscs.ch/project/proj38/home/damart/demo_BPEM/mechanisms/*.mod\"):\n",
    "\n",
    "    name = pathlib.Path(mech_path).stem\n",
    "\n",
    "    if \"Stoch\" in name:\n",
    "        stochastic = True\n",
    "    else:\n",
    "        stochastic = False\n",
    "\n",
    "    access_point.store_mechanism(\n",
    "        name=name,\n",
    "        mechanism_script_path=mech_path,\n",
    "        stochastic=stochastic\n",
    "    )"
   ]
  },
  {
   "cell_type": "markdown",
   "metadata": {},
   "source": [
    "After that, the pipeline can be run (see file pipeline.py)."
   ]
  }
 ],
 "metadata": {
  "kernelspec": {
   "display_name": "Python 3",
   "language": "python",
   "name": "python3"
  },
  "language_info": {
   "codemirror_mode": {
    "name": "ipython",
    "version": 3
   },
   "file_extension": ".py",
   "mimetype": "text/x-python",
   "name": "python",
   "nbconvert_exporter": "python",
   "pygments_lexer": "ipython3",
   "version": "3.8.3"
  },
  "pycharm": {
   "stem_cell": {
    "cell_type": "raw",
    "metadata": {
     "collapsed": false
    },
    "source": []
   }
  }
 },
 "nbformat": 4,
 "nbformat_minor": 4
}
