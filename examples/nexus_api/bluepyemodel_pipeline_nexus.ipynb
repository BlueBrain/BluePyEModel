{
 "cells": [
  {
   "cell_type": "markdown",
   "metadata": {},
   "source": [
    "## Introduction"
   ]
  },
  {
   "cell_type": "markdown",
   "metadata": {},
   "source": [
    "This notebook provides example data and Nexus Forge operations to integrate entities of the bluepyemodel pipeline with the Blue Brain Nexus. For more information see the following JIRA ticket: https://bbpteam.epfl.ch/project/issues/browse/NCMV3-44\n",
    "\n",
    "See below the mapping of the BluePyEModel SQL database tables to the Blue Brain Nexus types:\n",
    "\n",
    "Extraction:\n",
    "\n",
    "- extraction_targets: ElectrophysiologyFeatureExtractionTarget\n",
    "- extraction_files: ElectrophysiologyFeatureExtractionTrace\n",
    "- extraction_efeatures: ElectrophysiologyFeature\n",
    "- extraction_protocols: ElectrophysiologyFeatureExtractionProtocol\n",
    "\n",
    "Optimisation:\n",
    "\n",
    "- optimisation_targets: ElectrophysiologyFeatureOptimisationTarget\n",
    "- optimisation_morphology: ElectrophysiologyFeatureOptimisationNeuronMorphology\n",
    "- optimisation_parameters: ElectrophysiologyFeatureOptimisationParameter\n",
    "- optimisation_distributions: ElectrophysiologyFeatureOptimisationChannelDistribution\n",
    "- mechanisms_path: SubCellularModel\n",
    "- models: EModel\n",
    "\n",
    "Validation:\n",
    "\n",
    "- validation_targets: ElectrophysiologyFeatureValidationTarget"
   ]
  },
  {
   "cell_type": "markdown",
   "metadata": {},
   "source": [
    "## Imports"
   ]
  },
  {
   "cell_type": "code",
   "execution_count": 1,
   "metadata": {},
   "outputs": [],
   "source": [
    "# pip install git+https://github.com/BlueBrain/nexus-forge "
   ]
  },
  {
   "cell_type": "code",
   "execution_count": 2,
   "metadata": {},
   "outputs": [],
   "source": [
    "import uuid"
   ]
  },
  {
   "cell_type": "code",
   "execution_count": 3,
   "metadata": {},
   "outputs": [],
   "source": [
    "import getpass"
   ]
  },
  {
   "cell_type": "code",
   "execution_count": 4,
   "metadata": {
    "ExecuteTime": {
     "end_time": "2019-09-23T18:50:20.068658Z",
     "start_time": "2019-09-23T18:50:19.054054Z"
    }
   },
   "outputs": [],
   "source": [
    "from kgforge.core import KnowledgeGraphForge"
   ]
  },
  {
   "cell_type": "code",
   "execution_count": 5,
   "metadata": {},
   "outputs": [
    {
     "name": "stdout",
     "output_type": "stream",
     "text": [
      "0.5.2.dev3+g60a11ed\n"
     ]
    }
   ],
   "source": [
    "from kgforge.version import __version__\n",
    "print(__version__)"
   ]
  },
  {
   "cell_type": "markdown",
   "metadata": {},
   "source": [
    "## Setup"
   ]
  },
  {
   "cell_type": "markdown",
   "metadata": {},
   "source": [
    "Get your TOKEN here: https://bbp.epfl.ch/nexus/web/"
   ]
  },
  {
   "cell_type": "code",
   "execution_count": 6,
   "metadata": {},
   "outputs": [
    {
     "name": "stdout",
     "output_type": "stream",
     "text": [
      "········\n"
     ]
    }
   ],
   "source": [
    "TOKEN = getpass.getpass()"
   ]
  },
  {
   "cell_type": "code",
   "execution_count": 7,
   "metadata": {},
   "outputs": [],
   "source": [
    "forge = KnowledgeGraphForge(\n",
    "    \"https://raw.githubusercontent.com/BlueBrain/nexus-forge/master/examples/notebooks/use-cases/prod-forge-nexus.yml\", \n",
    "    endpoint=\"https://staging.nexus.ocp.bbp.epfl.ch/v1\",\n",
    "    token=TOKEN, \n",
    "    bucket=\"Cells/emodel_pipeline\", \n",
    "    debug=True\n",
    ")"
   ]
  },
  {
   "cell_type": "code",
   "execution_count": null,
   "metadata": {},
   "outputs": [],
   "source": [
    "# from kgforge.core import Resource\n",
    "\n",
    "# from bluepyemodel.api.nexus import Nexus_API\n",
    "\n",
    "#access_point = Nexus_API(\n",
    "#    project=\"emodel_pipeline\",\n",
    "#    organisation=\"Cells\",\n",
    "#    endpoint=\"https://staging.nexus.ocp.bbp.epfl.ch/v1\",\n",
    "#    forge_path=None,\n",
    "#)"
   ]
  },
  {
   "cell_type": "markdown",
   "metadata": {},
   "source": [
    "---"
   ]
  },
  {
   "cell_type": "markdown",
   "metadata": {},
   "source": [
    "## Example payloads and registration"
   ]
  },
  {
   "cell_type": "markdown",
   "metadata": {},
   "source": [
    "### extraction_targets"
   ]
  },
  {
   "cell_type": "code",
   "execution_count": 8,
   "metadata": {},
   "outputs": [],
   "source": [
    "type_of_interest = \"ElectrophysiologyFeatureExtractionTarget\""
   ]
  },
  {
   "cell_type": "code",
   "execution_count": 9,
   "metadata": {
    "jupyter": {
     "source_hidden": true
    }
   },
   "outputs": [],
   "source": [
    "resource = forge.from_json({\n",
    "    \"type\": [\n",
    "\t\t\"Entity\",\n",
    "\t\t\"ElectrophysiologyFeatureExtractionTarget\"\n",
    "\t\t],\n",
    "\t\"name\": \"Electrophysiology feature extraction target for an L23_PC e-model\",\n",
    "\t\"description\": \"This entity describes the electrophysiology feature extraction targets for an L23_PC electrical model\",\n",
    "\t\"eModel\": \"L23_PC\",\n",
    "\t\"subject\": {\n",
    "\t\t\"type\": \"Subject\",\n",
    "\t\t\"species\": {\n",
    "\t\t\t\"id\": \"http://purl.obolibrary.org/obo/NCBITaxon_9606\",\n",
    "\t\t\t\"label\": \"Homo sapiens\"\n",
    "\t\t}\n",
    "\t},\n",
    "    \"stimulus\": {\n",
    "\t    \"stimulusType\": {\n",
    "\t      \"id\": \"http://bbp.epfl.ch/neurosciencegraph/ontologies/stimulustypes/IDRest\",\n",
    "\t      \"label\": \"IDRest\"\n",
    "\t    },\n",
    "\t    \"stimulusTarget\": [150, 200, 250],\n",
    "\t    \"tolerance\": [10, 20, 20],\n",
    "\t    \"threshold\": False,\n",
    "  \t\t\"recordingLocation\": \"soma\"\n",
    "  \t},\n",
    "  \t\"feature\": [\n",
    "  \t\t{\n",
    "  \t\t\t\"name\": \"efeaturename1\"\n",
    "  \t\t},\n",
    "  \t\t{\n",
    "  \t\t\t\"name\": \"efeaturename2\"\n",
    "  \t\t}\n",
    "  \t] \n",
    "})"
   ]
  },
  {
   "cell_type": "code",
   "execution_count": 10,
   "metadata": {},
   "outputs": [],
   "source": [
    "schema_id = forge._model.schema_id(type_of_interest)"
   ]
  },
  {
   "cell_type": "code",
   "execution_count": 11,
   "metadata": {},
   "outputs": [
    {
     "name": "stdout",
     "output_type": "stream",
     "text": [
      "<action> _register_one\n",
      "<succeeded> True\n"
     ]
    }
   ],
   "source": [
    "forge.register(resource, schema_id)"
   ]
  },
  {
   "cell_type": "markdown",
   "metadata": {},
   "source": [
    "---"
   ]
  },
  {
   "cell_type": "markdown",
   "metadata": {},
   "source": [
    "### extraction_files"
   ]
  },
  {
   "cell_type": "code",
   "execution_count": 12,
   "metadata": {},
   "outputs": [],
   "source": [
    "type_of_interest = \"ElectrophysiologyFeatureExtractionTrace\""
   ]
  },
  {
   "cell_type": "code",
   "execution_count": 13,
   "metadata": {
    "jupyter": {
     "source_hidden": true
    }
   },
   "outputs": [],
   "source": [
    "resource = forge.from_json({\n",
    "    \"type\": [\n",
    "\t\t\"Entity\",\n",
    "\t\t\"ElectrophysiologyFeatureExtractionTrace\"\n",
    "\t\t],\n",
    "    \"name\": \"Electrophysiology trace for feature extraction for an L23_PC e-model\",\n",
    "      \"description\": \"Electrophysiology traces from which to extract features for an L23_PC e-model\",\n",
    "      \"eModel\": \"L23_PC\",\n",
    "      \"subject\": {\n",
    "            \"type\": \"Subject\",\n",
    "            \"species\": {\n",
    "                \"id\": \"http://purl.obolibrary.org/obo/NCBITaxon_9606\",\n",
    "                \"label\": \"Homo sapiens\"\n",
    "            }\n",
    "        },\n",
    "      \"trace\": {\n",
    "        \"id\": \"http://trace.org/123\",\n",
    "        \"type\": \"Trace\"\n",
    "      },\n",
    "      \"cell\": {\n",
    "        \"id\": \"http://cell.org/123\",\n",
    "        \"type\": \"Cell\"\n",
    "      },\n",
    "      \"stimulus\": {\n",
    "            \"stimulusType\": {\n",
    "              \"@id\": \"http://bbp.epfl.ch/neurosciencegraph/ontologies/stimulustypes/IDRest\",\n",
    "              \"label\": \"IDRest\"\n",
    "            },\n",
    "            \"onsetTime\": {\n",
    "              \"unitCode\": \"ms\",\n",
    "              \"value\": 700\n",
    "            },\n",
    "            \"offsetTime\": {\n",
    "              \"unitCode\": \"ms\",\n",
    "              \"value\": 1700\n",
    "            },\n",
    "            \"endTime\": {\n",
    "              \"unitCode\": \"ms\",\n",
    "              \"value\": 1700\n",
    "            }\n",
    "        },\n",
    "        \"time\": {\n",
    "            \"unitCode\": \"s\",\n",
    "        },\n",
    "        \"voltage\": {\n",
    "            \"unitCode\": \"mV\"\n",
    "        },\n",
    "        \"current\": {\n",
    "            \"unitCode\": \"pA\"\n",
    "        },\n",
    "        \"timeBetween\": {\n",
    "            \"unitCode\": \"ms\",\n",
    "            \"value\": 0\n",
    "        },\n",
    "        \"timeBetween2\": {\n",
    "            \"unitCode\": \"ms\",\n",
    "            \"value\": 0\n",
    "        },\n",
    "        \"liquidJunctionPotential\": {\n",
    "            \"unitCode\": \"mV\",\n",
    "            \"value\": 14\n",
    "        }\n",
    "})"
   ]
  },
  {
   "cell_type": "code",
   "execution_count": 14,
   "metadata": {},
   "outputs": [],
   "source": [
    "schema_id = forge._model.schema_id(type_of_interest)"
   ]
  },
  {
   "cell_type": "code",
   "execution_count": 15,
   "metadata": {},
   "outputs": [
    {
     "name": "stdout",
     "output_type": "stream",
     "text": [
      "<action> _register_one\n",
      "<succeeded> True\n"
     ]
    }
   ],
   "source": [
    "forge.register(resource, schema_id)"
   ]
  },
  {
   "cell_type": "markdown",
   "metadata": {},
   "source": [
    "---"
   ]
  },
  {
   "cell_type": "markdown",
   "metadata": {},
   "source": [
    "### extraction_efeatures"
   ]
  },
  {
   "cell_type": "code",
   "execution_count": 16,
   "metadata": {},
   "outputs": [],
   "source": [
    "type_of_interest = \"ElectrophysiologyFeature\""
   ]
  },
  {
   "cell_type": "code",
   "execution_count": 17,
   "metadata": {
    "jupyter": {
     "source_hidden": true
    }
   },
   "outputs": [],
   "source": [
    "resource = forge.from_json({\n",
    "\t\"type\": [\n",
    "\t\t\"Entity\",\n",
    "\t\t\"ElectrophysiologyFeature\"\n",
    "\t\t],\n",
    "    \"name\": \"Extracted ISI_CV e-feature\",\n",
    "    \"description\": \"The ISI_CV e-feature extracted from traces recorded using the IDRest stimulus\",\n",
    "    \"eModel\": \"L23_PC\",\n",
    "\t\"subject\": {\n",
    "\t\t\"type\": \"Subject\",\n",
    "\t\t\"species\": {\n",
    "\t\t\t\"id\": \"http://purl.obolibrary.org/obo/NCBITaxon_9606\",\n",
    "\t\t\t\"label\": \"Homo sapiens\"\n",
    "\t\t}\n",
    "\t},\n",
    "  \"feature\": {\n",
    "    \"name\": \"ISI_CV\",\n",
    "    \"value\": [0.305, 0.456, 0.381],\n",
    "    \"series\": [\n",
    "    {\n",
    "      \"statistic\": \"mean\",\n",
    "      \"unitCode\": \"dimensionless\",\n",
    "      \"value\": 0.3257\n",
    "    },\n",
    "    {\n",
    "      \"statistic\": \"standard deviation\",\n",
    "      \"unitCode\": \"dimensionless\",\n",
    "      \"value\": 0.2700\n",
    "    }\n",
    "  ]\n",
    "  }, \n",
    "  \"stimulus\": {\n",
    "      \"stimulusType\": {\n",
    "        \"id\": \"http://bbp.epfl.ch/neurosciencegraph/ontologies/stimulustypes/IDRest\",\n",
    "        \"label\": \"IDRest\"\n",
    "      },\n",
    "      \"stimulusTarget\": 200,\n",
    "      \"recordingLocation\": \"soma\"\n",
    "    }\n",
    "})"
   ]
  },
  {
   "cell_type": "code",
   "execution_count": 18,
   "metadata": {},
   "outputs": [],
   "source": [
    "schema_id = forge._model.schema_id(type_of_interest)"
   ]
  },
  {
   "cell_type": "code",
   "execution_count": 19,
   "metadata": {},
   "outputs": [
    {
     "name": "stdout",
     "output_type": "stream",
     "text": [
      "<action> _register_one\n",
      "<succeeded> True\n"
     ]
    }
   ],
   "source": [
    "forge.register(resource, schema_id)"
   ]
  },
  {
   "cell_type": "markdown",
   "metadata": {},
   "source": [
    "---"
   ]
  },
  {
   "cell_type": "markdown",
   "metadata": {},
   "source": [
    "### extraction_protocols"
   ]
  },
  {
   "cell_type": "code",
   "execution_count": 20,
   "metadata": {},
   "outputs": [],
   "source": [
    "type_of_interest = \"ElectrophysiologyFeatureExtractionProtocol\""
   ]
  },
  {
   "cell_type": "code",
   "execution_count": 21,
   "metadata": {
    "jupyter": {
     "source_hidden": true
    }
   },
   "outputs": [],
   "source": [
    "resource = forge.from_json({\n",
    "  \"type\": [\n",
    "    \"Entity\",\n",
    "    \"ElectrophysiologyFeatureExtractionProtocol\"\n",
    "  ],\n",
    "  \"name\": \"Electrophysiology feature extraction protocol\",\n",
    "  \"description\": \"Electrophysiology feature extraction protocol\",\n",
    "  \"eModel\": \"L23_PC\",\n",
    "  \"subject\": {\n",
    "    \"type\": \"Subject\",\n",
    "    \"species\": {\n",
    "      \"id\": \"http://purl.obolibrary.org/obo/NCBITaxon_9606\",\n",
    "      \"label\": \"Homo sapiens\"\n",
    "    }\n",
    "  },\n",
    "  \"stimulus\": {\n",
    "    \"stimulusType\": {\n",
    "      \"id\": \"http://bbp.epfl.ch/neurosciencegraph/ontologies/stimulustypes/IDRest\",\n",
    "      \"label\": \"IDRest\"\n",
    "    },\n",
    "    \"stimulusTarget\": 200\n",
    "  },\n",
    "  \"path\": \"\",\n",
    "  \"definition\": {\n",
    "    \"step\": {\n",
    "      \"delay\": 700,\n",
    "      \"amplitude\": 0.45,\n",
    "      \"thresholdPercentage\": 200,\n",
    "      \"duration\": 2000,\n",
    "      \"totalDuration\": 3000\n",
    "    },\n",
    "    \"holding\": {\n",
    "      \"delay\": 0.0,\n",
    "      \"amplitude\": -0.043,\n",
    "      \"duration\": 3000,\n",
    "      \"totalDuration\": 3000\n",
    "    }\n",
    "  }\n",
    "})"
   ]
  },
  {
   "cell_type": "code",
   "execution_count": 22,
   "metadata": {},
   "outputs": [],
   "source": [
    "schema_id = forge._model.schema_id(type_of_interest)"
   ]
  },
  {
   "cell_type": "code",
   "execution_count": 23,
   "metadata": {},
   "outputs": [
    {
     "name": "stdout",
     "output_type": "stream",
     "text": [
      "<action> _register_one\n",
      "<succeeded> True\n"
     ]
    }
   ],
   "source": [
    "forge.register(resource, schema_id)"
   ]
  },
  {
   "cell_type": "markdown",
   "metadata": {},
   "source": [
    "---"
   ]
  },
  {
   "cell_type": "markdown",
   "metadata": {},
   "source": [
    "### optimisation_targets"
   ]
  },
  {
   "cell_type": "code",
   "execution_count": 24,
   "metadata": {},
   "outputs": [],
   "source": [
    "type_of_interest = \"ElectrophysiologyFeatureOptimisationTarget\""
   ]
  },
  {
   "cell_type": "code",
   "execution_count": 25,
   "metadata": {
    "jupyter": {
     "source_hidden": true
    }
   },
   "outputs": [],
   "source": [
    "resource = forge.from_json({\n",
    "\t\"type\": [\n",
    "\t\t\"Entity\",\n",
    "\t\t\"Target\",\n",
    "\t\t\"ElectrophysiologyFeatureOptimisationTarget\",\n",
    "\t\t],\n",
    "\t\"name\": \"Electrophysiology feature optimisation target for an L23_PC e-model\",\n",
    "\t\"description\": \"This entity describes the electrophysiology feature optimisation targets for an L23_PC electrical model\",\n",
    "\t\"protocolType\": \"StepThresholdProtocol\",\n",
    "\t\"eModel\": \"L23_PC\",\n",
    "\t\"subject\": {\n",
    "\t\t\"type\": \"Subject\",\n",
    "\t\t\"species\": {\n",
    "\t\t\t\"id\": \"http://purl.obolibrary.org/obo/NCBITaxon_9606\",\n",
    "\t\t\t\"label\": \"Homo sapiens\"\n",
    "\t\t}\n",
    "\t},\n",
    "    \"stimulus\": {\n",
    "\t    \"stimulusType\": {\n",
    "\t      \"id\": \"http://bbp.epfl.ch/neurosciencegraph/ontologies/stimulustypes/IDRest\",\n",
    "\t      \"label\": \"IDRest\"\n",
    "\t    },\n",
    "\t    \"target\": 150,\n",
    "\t    \"recordingLocation\": \"soma\",\n",
    "  \t},\n",
    "  \t\"feature\": [\n",
    "  \t\t{\n",
    "  \t\t\t\"name\": \"efeaturename1\",\n",
    "  \t\t\t\"onsetTime\": {\n",
    "\t\t      \"unitCode\": \"ms\",\n",
    "\t\t      \"value\": 0\n",
    "\t\t    },\n",
    "\t\t    \"offsetTime\": {\n",
    "\t\t      \"unitCode\": \"ms\",\n",
    "\t\t      \"value\": 0\n",
    "\t\t    }\n",
    "  \t\t},\n",
    "  \t\t{\n",
    "  \t\t\t\"name\": \"efeaturename2\",\n",
    "  \t\t\t\"onsetTime\": {\n",
    "\t\t      \"unitCode\": \"ms\",\n",
    "\t\t      \"value\": 0\n",
    "\t\t    },\n",
    "\t\t    \"offsetTime\": {\n",
    "\t\t      \"unitCode\": \"ms\",\n",
    "\t\t      \"value\": 0\n",
    "\t\t    }\n",
    "  \t\t}\n",
    "  \t], \n",
    "  \t\"extraRecordings\": [\n",
    "  \t\t{\n",
    "  \t\t\"var\": \"v\", \n",
    "  \t\t\"somadistance\": 208, \n",
    "  \t    \"type\": \"somadistanceapic\", \n",
    "  \t\t\"name\": \"dend1\", \n",
    "  \t\t\"seclist_name\": \"apical\"}]\n",
    "})"
   ]
  },
  {
   "cell_type": "code",
   "execution_count": 26,
   "metadata": {},
   "outputs": [],
   "source": [
    "schema_id = forge._model.schema_id(type_of_interest)"
   ]
  },
  {
   "cell_type": "code",
   "execution_count": 27,
   "metadata": {},
   "outputs": [
    {
     "name": "stdout",
     "output_type": "stream",
     "text": [
      "<action> _register_one\n",
      "<succeeded> True\n"
     ]
    }
   ],
   "source": [
    "forge.register(resource, schema_id)"
   ]
  },
  {
   "cell_type": "markdown",
   "metadata": {},
   "source": [
    "---"
   ]
  },
  {
   "cell_type": "markdown",
   "metadata": {},
   "source": [
    "### optimisation_morphology"
   ]
  },
  {
   "cell_type": "code",
   "execution_count": 28,
   "metadata": {},
   "outputs": [],
   "source": [
    "type_of_interest = \"ElectrophysiologyFeatureOptimisationNeuronMorphology\""
   ]
  },
  {
   "cell_type": "code",
   "execution_count": 29,
   "metadata": {
    "jupyter": {
     "source_hidden": true
    }
   },
   "outputs": [],
   "source": [
    "resource = forge.from_json({\n",
    "\t\"type\": [\n",
    "\t\t\"Entity\",\n",
    "\t\t\"ElectrophysiologyFeatureOptimisationNeuronMorphology\",\n",
    "\t\t],\n",
    "\t\"name\": \"HU23_blabla optimisation morphology\",\n",
    "\t\"description\": \"This entity is about a neuron morphology used for optimisation\",\n",
    "\t\"eModel\": \"L23_PC\",\n",
    "\t\"subject\": {\n",
    "\t\t\"type\": \"Subject\",\n",
    "\t\t\"species\": {\n",
    "\t\t\t\"id\": \"http://purl.obolibrary.org/obo/NCBITaxon_9606\",\n",
    "\t\t\t\"label\": \"Homo sapiens\"\n",
    "\t\t}\n",
    "\t},\n",
    "\t\"morphology\": {\n",
    "\t\t\"id\": \"http://...\",\n",
    "\t\t\"type\": \"NeuronMorphology\",\n",
    "\t\t\"name\": \"HU23_blabla\",\n",
    "\t\t\"distribution\": {\n",
    "\t\t\t\"contentUrl\": \"...\"\n",
    "\t\t}\n",
    "\t},\n",
    "\t\"sectionListNames\": [\"axonal\"],\n",
    "    \"sectionArrayNames\": [\"axon\"],\n",
    "    \"sectionIndex\": 14\n",
    "})"
   ]
  },
  {
   "cell_type": "code",
   "execution_count": 30,
   "metadata": {},
   "outputs": [],
   "source": [
    "schema_id = forge._model.schema_id(type_of_interest)"
   ]
  },
  {
   "cell_type": "code",
   "execution_count": 31,
   "metadata": {},
   "outputs": [
    {
     "name": "stdout",
     "output_type": "stream",
     "text": [
      "<action> _register_one\n",
      "<succeeded> True\n"
     ]
    }
   ],
   "source": [
    "forge.register(resource, schema_id)"
   ]
  },
  {
   "cell_type": "markdown",
   "metadata": {},
   "source": [
    "---"
   ]
  },
  {
   "cell_type": "markdown",
   "metadata": {},
   "source": [
    "### optimisation_parameters"
   ]
  },
  {
   "cell_type": "code",
   "execution_count": 32,
   "metadata": {},
   "outputs": [],
   "source": [
    "type_of_interest = \"ElectrophysiologyFeatureOptimisationParameter\""
   ]
  },
  {
   "cell_type": "code",
   "execution_count": 33,
   "metadata": {
    "jupyter": {
     "source_hidden": true
    }
   },
   "outputs": [],
   "source": [
    "resource = forge.from_json({\n",
    "\t\"type\": [\n",
    "\t\t\"Entity\",\n",
    "\t\t\"Parameter\",\n",
    "\t\t\"ElectrophysiologyFeatureOptimisationParameter\"\n",
    "\t\t],\n",
    "\t\"name\": \"Optimsation parameter gSKv3_1bar_SKv3_1\",\n",
    "\t\"description\": \"This entity is about the optimisation parameter gSKv3_1bar_SKv3_1\",\n",
    "\t\"eModel\": \"L23_PC\",\n",
    "\t\"subject\": {\n",
    "\t\t\"type\": \"Subject\",\n",
    "\t\t\"species\": {\n",
    "\t\t\t\"id\": \"http://purl.obolibrary.org/obo/NCBITaxon_9606\",\n",
    "\t\t\t\"label\": \"Homo sapiens\"\n",
    "\t\t}\n",
    "\t},\n",
    "    \"parameter\": {\n",
    "    \t\"name\": \"gSKv3_1bar_SKv3_1\",\n",
    "    \t\"minValue\": 0,\n",
    "    \t\"maxValue\": 0.1,\n",
    "    \t\"unitCode\": \"\"\n",
    "    },\n",
    "    \"subCellularMechanism\": \"SKv3_1\",\n",
    "    \"location\": [\"somatic\", \"apical\"],\n",
    "    \"channelDistribution\": \"constant\"\n",
    "\n",
    "})"
   ]
  },
  {
   "cell_type": "code",
   "execution_count": 34,
   "metadata": {},
   "outputs": [],
   "source": [
    "schema_id = forge._model.schema_id(type_of_interest)"
   ]
  },
  {
   "cell_type": "code",
   "execution_count": 35,
   "metadata": {},
   "outputs": [
    {
     "name": "stdout",
     "output_type": "stream",
     "text": [
      "<action> _register_one\n",
      "<succeeded> True\n"
     ]
    }
   ],
   "source": [
    "forge.register(resource, schema_id)"
   ]
  },
  {
   "cell_type": "markdown",
   "metadata": {},
   "source": [
    "---"
   ]
  },
  {
   "cell_type": "markdown",
   "metadata": {},
   "source": [
    "### optimisation_distributions"
   ]
  },
  {
   "cell_type": "code",
   "execution_count": 36,
   "metadata": {},
   "outputs": [],
   "source": [
    "type_of_interest = \"ElectrophysiologyFeatureOptimisationChannelDistribution\""
   ]
  },
  {
   "cell_type": "code",
   "execution_count": 37,
   "metadata": {
    "jupyter": {
     "source_hidden": true
    }
   },
   "outputs": [],
   "source": [
    "resource = forge.from_json({\n",
    "\t\"type\": [\n",
    "\t\t\"Entity\",\n",
    "\t\t\"ElectrophysiologyFeatureOptimisationChannelDistribution\"\n",
    "\t\t],\n",
    "\t\"name\": \"Ion channel distribution for optimisation\",\n",
    "\t\"description\": \"This entity is about the ion channel distribution for the feature optimisation\",\n",
    "    \"channelDistribution\": \"exponential\",\n",
    "    \"function\": \"(-0.8696 + 2.087*math.exp(({distance})*0.0031))*{value}\",\n",
    "    \"parameter\": [\"distance\", \"value\"],\n",
    "    \"somaReferenceLocation\": 0.5\n",
    "\n",
    "})"
   ]
  },
  {
   "cell_type": "code",
   "execution_count": 38,
   "metadata": {},
   "outputs": [],
   "source": [
    "schema_id = forge._model.schema_id(type_of_interest)"
   ]
  },
  {
   "cell_type": "code",
   "execution_count": 39,
   "metadata": {},
   "outputs": [
    {
     "name": "stdout",
     "output_type": "stream",
     "text": [
      "<action> _register_one\n",
      "<succeeded> True\n"
     ]
    }
   ],
   "source": [
    "forge.register(resource, schema_id)"
   ]
  },
  {
   "cell_type": "markdown",
   "metadata": {},
   "source": [
    "---"
   ]
  },
  {
   "cell_type": "markdown",
   "metadata": {},
   "source": [
    "### mechanisms_path"
   ]
  },
  {
   "cell_type": "code",
   "execution_count": 40,
   "metadata": {},
   "outputs": [],
   "source": [
    "type_of_interest = \"SubCellularModel\""
   ]
  },
  {
   "cell_type": "code",
   "execution_count": 41,
   "metadata": {},
   "outputs": [],
   "source": [
    "resource = forge.from_json({\n",
    "\t\"type\": [\n",
    "\t\t\"Entity\",\n",
    "\t\t\"SubCellularModel\"\n",
    "\t\t],\n",
    "\t\"name\": \"Sub Cellular mechanism SKv3_1\",\n",
    "\t\"description\": \"This entity is about the SKv3_1 sub cellular mechanism\",\n",
    "    \"subCellularMechanism\": \"SKv3_1\",\n",
    "    \"modelScript\": {\n",
    "    \t\"id\": \"http://\",\n",
    "        \"type\": \"SubCellularModelScript\"\n",
    "    },\n",
    "    \"stochastic\": False\n",
    "})"
   ]
  },
  {
   "cell_type": "code",
   "execution_count": 42,
   "metadata": {},
   "outputs": [],
   "source": [
    "schema_id = forge._model.schema_id(type_of_interest)"
   ]
  },
  {
   "cell_type": "code",
   "execution_count": 43,
   "metadata": {},
   "outputs": [
    {
     "name": "stdout",
     "output_type": "stream",
     "text": [
      "<action> _register_one\n",
      "<succeeded> True\n"
     ]
    }
   ],
   "source": [
    "forge.register(resource, schema_id)"
   ]
  },
  {
   "cell_type": "markdown",
   "metadata": {},
   "source": [
    "---"
   ]
  },
  {
   "cell_type": "markdown",
   "metadata": {},
   "source": [
    "### models"
   ]
  },
  {
   "cell_type": "code",
   "execution_count": 44,
   "metadata": {},
   "outputs": [],
   "source": [
    "type_of_interest = \"EModel\""
   ]
  },
  {
   "cell_type": "code",
   "execution_count": 45,
   "metadata": {
    "jupyter": {
     "source_hidden": true
    }
   },
   "outputs": [],
   "source": [
    "resource = forge.from_json({\n",
    "\t\"type\": [\n",
    "\t\t\"Entity\",\n",
    "\t\t\"EModel\"\n",
    "\t\t],\n",
    "\t\"name\": \"L23_PC e-model\",\n",
    "\t\"description\": \"This entity is about an L23_PC e-model\",\n",
    "\t\"eModel\": \"L23_PC\",\n",
    "\t\"subject\": {\n",
    "\t\t\"type\": \"Subject\",\n",
    "\t\t\"species\": {\n",
    "\t\t\t\"id\": \"http://purl.obolibrary.org/obo/NCBITaxon_9606\",\n",
    "\t\t\t\"label\": \"Homo sapiens\"\n",
    "\t\t}\n",
    "\t},\n",
    "    \"fitness\": 30.24,\n",
    "    \"parameter\": [\n",
    "    \t{\n",
    "\t    \t\"name\": \"gSKv3_1bar_SKv3_1.apical\",\n",
    "\t    \t\"value\": 0.0018002,\n",
    "\t    \t\"unitCode\": \"\"\n",
    "    \t},\n",
    "    \t{\n",
    "\t    \t\"name\": \"gSKv3_1bar_SKv3_1.basal\",\n",
    "\t    \t\"value\": 0,\n",
    "\t    \t\"unitCode\": \"\"\n",
    "    \t}\n",
    "\n",
    "    ],\n",
    "    \"score\": [\n",
    "    \t{\n",
    "    \t\t\"name\": \"IDrest_250.ISI_CV\",\n",
    "    \t\t\"value\": 0.15,\n",
    "    \t\t\"unitCode\": \"\"\n",
    "    \t},\n",
    "    \t{\n",
    "    \t\t\"name\": \"IDrest_250.AP1_amp\",\n",
    "    \t\t\"value\": 0.34,\n",
    "    \t\t\"unitCode\": \"\"\n",
    "    \t}\n",
    "    ],\n",
    "    \"scoreValidation\": [\n",
    "    \t{\n",
    "    \t\t\"name\": \"IDrest_250.ISI_CV\",\n",
    "    \t\t\"value\": 0.15,\n",
    "    \t\t\"unitCode\": \"\"\n",
    "    \t},\n",
    "    \t{\n",
    "    \t\t\"name\": \"IDrest_250.AP1_amp\",\n",
    "    \t\t\"value\": 0.34,\n",
    "    \t\t\"unitCode\": \"\"\n",
    "    \t}\n",
    "    ],\n",
    "    \"passedValidation\": False,\n",
    "    \"optimizer\": \"IBEA\",\n",
    "    \"seed\": 1,\n",
    "    \"generation\": {\n",
    "        \"type\": \"Generation\",\n",
    "        \"activity\": {\n",
    "            \"wasAssociatedWith\": {\n",
    "                \"type\": [\"Agent\", \"SoftwareAgent\"],\n",
    "                \"softwareSourceCode\": {\n",
    "                 \"type\": \"SoftwareSourceCode\",\n",
    "                 \"version\": \"ff478f8\"\n",
    "              }\n",
    "            }\n",
    "\n",
    "        }\n",
    "    }\n",
    "\n",
    "})"
   ]
  },
  {
   "cell_type": "code",
   "execution_count": 46,
   "metadata": {},
   "outputs": [],
   "source": [
    "schema_id = forge._model.schema_id(type_of_interest)"
   ]
  },
  {
   "cell_type": "code",
   "execution_count": 47,
   "metadata": {},
   "outputs": [
    {
     "name": "stdout",
     "output_type": "stream",
     "text": [
      "<action> _register_one\n",
      "<succeeded> True\n"
     ]
    }
   ],
   "source": [
    "forge.register(resource, schema_id)"
   ]
  },
  {
   "cell_type": "markdown",
   "metadata": {},
   "source": [
    "---"
   ]
  },
  {
   "cell_type": "markdown",
   "metadata": {},
   "source": [
    "### validation_targets"
   ]
  },
  {
   "cell_type": "code",
   "execution_count": 48,
   "metadata": {},
   "outputs": [],
   "source": [
    "type_of_interest = \"ElectrophysiologyFeatureValidationTarget\""
   ]
  },
  {
   "cell_type": "code",
   "execution_count": 49,
   "metadata": {
    "jupyter": {
     "source_hidden": true
    }
   },
   "outputs": [],
   "source": [
    "resource = forge.from_json({\n",
    "\t\"type\": [\n",
    "\t\t\"Entity\",\n",
    "\t\t\"Target\",\n",
    "\t\t\"ElectrophysiologyFeatureValidationTarget\",\n",
    "\t\t],\n",
    "\t\"name\": \"Electrophysiology feature optimisation target for an L23_PC e-model\",\n",
    "\t\"description\": \"This entity describes the electrophysiology feature optimisation targets for an L23_PC electrical model\",\n",
    "\t\"protocolType\": \"StepThresholdProtocol\",\n",
    "\t\"eModel\": \"L23_PC\",\n",
    "\t\"subject\": {\n",
    "\t\t\"type\": \"Subject\",\n",
    "\t\t\"species\": {\n",
    "\t\t\t\"id\": \"http://purl.obolibrary.org/obo/NCBITaxon_9606\",\n",
    "\t\t\t\"label\": \"Homo sapiens\"\n",
    "\t\t}\n",
    "\t},\n",
    "    \"stimulus\": {\n",
    "\t    \"stimulusType\": {\n",
    "\t      \"id\": \"http://bbp.epfl.ch/neurosciencegraph/ontologies/stimulustypes/IDRest\",\n",
    "\t      \"label\": \"IDRest\"\n",
    "\t    },\n",
    "\t    \"target\": 150,\n",
    "\t    \"recordingLocation\": \"soma\",\n",
    "  \t},\n",
    "  \t\"feature\": [\n",
    "  \t\t{\n",
    "  \t\t\t\"name\": \"efeaturename1\",\n",
    "  \t\t\t\"onsetTime\": {\n",
    "\t\t      \"unitCode\": \"ms\",\n",
    "\t\t      \"value\": 0\n",
    "\t\t    },\n",
    "\t\t    \"offsetTime\": {\n",
    "\t\t      \"unitCode\": \"ms\",\n",
    "\t\t      \"value\": 0\n",
    "\t\t    }\n",
    "  \t\t},\n",
    "  \t\t{\n",
    "  \t\t\t\"name\": \"efeaturename2\",\n",
    "  \t\t\t\"onsetTime\": {\n",
    "\t\t      \"unitCode\": \"ms\",\n",
    "\t\t      \"value\": 0\n",
    "\t\t    },\n",
    "\t\t    \"offsetTime\": {\n",
    "\t\t      \"unitCode\": \"ms\",\n",
    "\t\t      \"value\": 0\n",
    "\t\t    }\n",
    "  \t\t}\n",
    "  \t], \n",
    "  \t\"extraRecordings\": [\n",
    "  \t\t{\n",
    "  \t\t\"var\": \"v\", \n",
    "  \t\t\"somadistance\": 208, \n",
    "  \t    \"type\": \"somadistanceapic\", \n",
    "  \t\t\"name\": \"dend1\", \n",
    "  \t\t\"seclist_name\": \"apical\"}]\n",
    "})"
   ]
  },
  {
   "cell_type": "code",
   "execution_count": 50,
   "metadata": {},
   "outputs": [],
   "source": [
    "schema_id = forge._model.schema_id(type_of_interest)"
   ]
  },
  {
   "cell_type": "code",
   "execution_count": 51,
   "metadata": {},
   "outputs": [
    {
     "name": "stdout",
     "output_type": "stream",
     "text": [
      "<action> _register_one\n",
      "<succeeded> True\n"
     ]
    }
   ],
   "source": [
    "forge.register(resource, schema_id)"
   ]
  },
  {
   "cell_type": "markdown",
   "metadata": {},
   "source": [
    "## Search"
   ]
  },
  {
   "cell_type": "code",
   "execution_count": 52,
   "metadata": {},
   "outputs": [],
   "source": [
    "path = forge.paths(\"ElectrophysiologyFeatureExtractionTarget\")"
   ]
  },
  {
   "cell_type": "code",
   "execution_count": 53,
   "metadata": {},
   "outputs": [
    {
     "name": "stdout",
     "output_type": "stream",
     "text": [
      "Submitted query:\n",
      "   PREFIX dc: <http://purl.org/dc/elements/1.1/>\n",
      "   PREFIX dcat: <http://www.w3.org/ns/dcat#>\n",
      "   PREFIX dcterms: <http://purl.org/dc/terms/>\n",
      "   PREFIX mba: <http://api.brain-map.org/api/v2/data/Structure/>\n",
      "   PREFIX nsg: <https://neuroshapes.org/>\n",
      "   PREFIX nsgp: <https://neuroshapes.org/pending/>\n",
      "   PREFIX owl: <http://www.w3.org/2002/07/owl#>\n",
      "   PREFIX prov: <http://www.w3.org/ns/prov#>\n",
      "   PREFIX rdf: <http://www.w3.org/1999/02/22-rdf-syntax-ns#>\n",
      "   PREFIX rdfs: <http://www.w3.org/2000/01/rdf-schema#>\n",
      "   PREFIX schema: <http://schema.org/>\n",
      "   PREFIX sh: <http://www.w3.org/ns/shacl#>\n",
      "   PREFIX shsh: <http://www.w3.org/ns/shacl-shacl#>\n",
      "   PREFIX skos: <http://www.w3.org/2004/02/skos/core#>\n",
      "   PREFIX vann: <http://purl.org/vocab/vann/>\n",
      "   PREFIX void: <http://rdfs.org/ns/void#>\n",
      "   PREFIX xsd: <http://www.w3.org/2001/XMLSchema#>\n",
      "   SELECT ?id ?project WHERE { ?id <https://bluebrain.github.io/nexus/vocabulary/project> ?project;\n",
      "    <https://bluebrain.github.io/nexus/vocabulary/deprecated> false;\n",
      "    rdf:type nsg:ElectrophysiologyFeatureExtractionTarget;\n",
      "    nsg:eModel ?v1;\n",
      "    nsgp:feature/schema:name ?v2;\n",
      "    nsg:stimulus/nsg:stimulusType/rdfs:label ?v3\n",
      "   FILTER(?v1 = \"L23_PC\").\n",
      "    FILTER(?v2 = \"efeaturename1\").\n",
      "    FILTER(?v3 = \"IDRest\") Filter (?project = <https://staging.nexus.ocp.bbp.epfl.ch/v1/projects/Cells/emodel_pipeline>)}\n",
      "\n"
     ]
    },
    {
     "ename": "RuntimeError",
     "evalue": "This event loop is already running",
     "output_type": "error",
     "traceback": [
      "\u001b[0;31m---------------------------------------------------------------------------\u001b[0m",
      "\u001b[0;31mRuntimeError\u001b[0m                              Traceback (most recent call last)",
      "\u001b[0;32m<ipython-input-53-47db3872dd2a>\u001b[0m in \u001b[0;36m<module>\u001b[0;34m\u001b[0m\n\u001b[0;32m----> 1\u001b[0;31m resources = forge.search(path.type == \"ElectrophysiologyFeatureExtractionTarget\",\n\u001b[0m\u001b[1;32m      2\u001b[0m                     \u001b[0mpath\u001b[0m\u001b[0;34m.\u001b[0m\u001b[0meModel\u001b[0m \u001b[0;34m==\u001b[0m \u001b[0;34m\"L23_PC\"\u001b[0m\u001b[0;34m,\u001b[0m\u001b[0;34m\u001b[0m\u001b[0;34m\u001b[0m\u001b[0m\n\u001b[1;32m      3\u001b[0m                     \u001b[0mpath\u001b[0m\u001b[0;34m.\u001b[0m\u001b[0mfeature\u001b[0m\u001b[0;34m.\u001b[0m\u001b[0mname\u001b[0m \u001b[0;34m==\u001b[0m \u001b[0;34m\"efeaturename1\"\u001b[0m\u001b[0;34m,\u001b[0m\u001b[0;34m\u001b[0m\u001b[0;34m\u001b[0m\u001b[0m\n\u001b[1;32m      4\u001b[0m                     \u001b[0mpath\u001b[0m\u001b[0;34m.\u001b[0m\u001b[0mstimulus\u001b[0m\u001b[0;34m.\u001b[0m\u001b[0mstimulusType\u001b[0m\u001b[0;34m.\u001b[0m\u001b[0mlabel\u001b[0m \u001b[0;34m==\u001b[0m \u001b[0;34m\"IDRest\"\u001b[0m\u001b[0;34m,\u001b[0m\u001b[0;34m\u001b[0m\u001b[0;34m\u001b[0m\u001b[0m\n\u001b[1;32m      5\u001b[0m                     \u001b[0mlimit\u001b[0m\u001b[0;34m=\u001b[0m\u001b[0;36m5\u001b[0m\u001b[0;34m,\u001b[0m\u001b[0;34m\u001b[0m\u001b[0;34m\u001b[0m\u001b[0m\n",
      "\u001b[0;32m~/nexus-forge/kgforge/core/commons/execution.py\u001b[0m in \u001b[0;36mwrapper\u001b[0;34m(*args, **kwargs)\u001b[0m\n\u001b[1;32m     62\u001b[0m \u001b[0;34m\u001b[0m\u001b[0m\n\u001b[1;32m     63\u001b[0m         \u001b[0;32mtry\u001b[0m\u001b[0;34m:\u001b[0m\u001b[0;34m\u001b[0m\u001b[0;34m\u001b[0m\u001b[0m\n\u001b[0;32m---> 64\u001b[0;31m             \u001b[0;32mreturn\u001b[0m \u001b[0mfun\u001b[0m\u001b[0;34m(\u001b[0m\u001b[0;34m*\u001b[0m\u001b[0margs\u001b[0m\u001b[0;34m,\u001b[0m \u001b[0;34m**\u001b[0m\u001b[0mkwargs\u001b[0m\u001b[0;34m)\u001b[0m\u001b[0;34m\u001b[0m\u001b[0;34m\u001b[0m\u001b[0m\n\u001b[0m\u001b[1;32m     65\u001b[0m         \u001b[0;32mexcept\u001b[0m \u001b[0mException\u001b[0m \u001b[0;32mas\u001b[0m \u001b[0me\u001b[0m\u001b[0;34m:\u001b[0m\u001b[0;34m\u001b[0m\u001b[0;34m\u001b[0m\u001b[0m\n\u001b[1;32m     66\u001b[0m             \u001b[0mstack\u001b[0m \u001b[0;34m=\u001b[0m \u001b[0mtraceback\u001b[0m\u001b[0;34m.\u001b[0m\u001b[0mextract_stack\u001b[0m\u001b[0;34m(\u001b[0m\u001b[0;34m)\u001b[0m\u001b[0;34m\u001b[0m\u001b[0;34m\u001b[0m\u001b[0m\n",
      "\u001b[0;32m~/nexus-forge/kgforge/core/forge.py\u001b[0m in \u001b[0;36msearch\u001b[0;34m(self, *filters, **params)\u001b[0m\n\u001b[1;32m    331\u001b[0m     \u001b[0;32mdef\u001b[0m \u001b[0msearch\u001b[0m\u001b[0;34m(\u001b[0m\u001b[0mself\u001b[0m\u001b[0;34m,\u001b[0m \u001b[0;34m*\u001b[0m\u001b[0mfilters\u001b[0m\u001b[0;34m,\u001b[0m \u001b[0;34m**\u001b[0m\u001b[0mparams\u001b[0m\u001b[0;34m)\u001b[0m \u001b[0;34m->\u001b[0m \u001b[0mList\u001b[0m\u001b[0;34m[\u001b[0m\u001b[0mResource\u001b[0m\u001b[0;34m]\u001b[0m\u001b[0;34m:\u001b[0m\u001b[0;34m\u001b[0m\u001b[0;34m\u001b[0m\u001b[0m\n\u001b[1;32m    332\u001b[0m         \u001b[0mresolvers\u001b[0m \u001b[0;34m=\u001b[0m \u001b[0mlist\u001b[0m\u001b[0;34m(\u001b[0m\u001b[0mself\u001b[0m\u001b[0;34m.\u001b[0m\u001b[0m_resolvers\u001b[0m\u001b[0;34m.\u001b[0m\u001b[0mvalues\u001b[0m\u001b[0;34m(\u001b[0m\u001b[0;34m)\u001b[0m\u001b[0;34m)\u001b[0m \u001b[0;32mif\u001b[0m \u001b[0mself\u001b[0m\u001b[0;34m.\u001b[0m\u001b[0m_resolvers\u001b[0m \u001b[0;32mis\u001b[0m \u001b[0;32mnot\u001b[0m \u001b[0;32mNone\u001b[0m \u001b[0;32melse\u001b[0m \u001b[0;32mNone\u001b[0m\u001b[0;34m\u001b[0m\u001b[0;34m\u001b[0m\u001b[0m\n\u001b[0;32m--> 333\u001b[0;31m         \u001b[0;32mreturn\u001b[0m \u001b[0mself\u001b[0m\u001b[0;34m.\u001b[0m\u001b[0m_store\u001b[0m\u001b[0;34m.\u001b[0m\u001b[0msearch\u001b[0m\u001b[0;34m(\u001b[0m\u001b[0mresolvers\u001b[0m\u001b[0;34m,\u001b[0m \u001b[0;34m*\u001b[0m\u001b[0mfilters\u001b[0m\u001b[0;34m,\u001b[0m \u001b[0;34m**\u001b[0m\u001b[0mparams\u001b[0m\u001b[0;34m)\u001b[0m\u001b[0;34m\u001b[0m\u001b[0;34m\u001b[0m\u001b[0m\n\u001b[0m\u001b[1;32m    334\u001b[0m \u001b[0;34m\u001b[0m\u001b[0m\n\u001b[1;32m    335\u001b[0m     \u001b[0;34m@\u001b[0m\u001b[0mcatch\u001b[0m\u001b[0;34m\u001b[0m\u001b[0;34m\u001b[0m\u001b[0m\n",
      "\u001b[0;32m~/nexus-forge/kgforge/specializations/stores/bluebrain_nexus.py\u001b[0m in \u001b[0;36msearch\u001b[0;34m(self, resolvers, *filters, **params)\u001b[0m\n\u001b[1;32m    377\u001b[0m \u001b[0;34m\u001b[0m\u001b[0m\n\u001b[1;32m    378\u001b[0m         \u001b[0mresources\u001b[0m \u001b[0;34m=\u001b[0m \u001b[0mself\u001b[0m\u001b[0;34m.\u001b[0m\u001b[0msparql\u001b[0m\u001b[0;34m(\u001b[0m\u001b[0mquery\u001b[0m\u001b[0;34m,\u001b[0m \u001b[0mdebug\u001b[0m\u001b[0;34m=\u001b[0m\u001b[0mdebug\u001b[0m\u001b[0;34m,\u001b[0m \u001b[0mlimit\u001b[0m\u001b[0;34m=\u001b[0m\u001b[0mlimit\u001b[0m\u001b[0;34m,\u001b[0m \u001b[0moffset\u001b[0m\u001b[0;34m=\u001b[0m\u001b[0moffset\u001b[0m\u001b[0;34m)\u001b[0m\u001b[0;34m\u001b[0m\u001b[0;34m\u001b[0m\u001b[0m\n\u001b[0;32m--> 379\u001b[0;31m         \u001b[0mresults\u001b[0m \u001b[0;34m=\u001b[0m \u001b[0mself\u001b[0m\u001b[0;34m.\u001b[0m\u001b[0mservice\u001b[0m\u001b[0;34m.\u001b[0m\u001b[0mbatch_request\u001b[0m\u001b[0;34m(\u001b[0m\u001b[0mresources\u001b[0m\u001b[0;34m,\u001b[0m \u001b[0mBatchAction\u001b[0m\u001b[0;34m.\u001b[0m\u001b[0mFETCH\u001b[0m\u001b[0;34m,\u001b[0m \u001b[0;32mNone\u001b[0m\u001b[0;34m,\u001b[0m \u001b[0mQueryingError\u001b[0m\u001b[0;34m)\u001b[0m\u001b[0;34m\u001b[0m\u001b[0;34m\u001b[0m\u001b[0m\n\u001b[0m\u001b[1;32m    380\u001b[0m         \u001b[0mresources\u001b[0m \u001b[0;34m=\u001b[0m \u001b[0mlist\u001b[0m\u001b[0;34m(\u001b[0m\u001b[0;34m)\u001b[0m\u001b[0;34m\u001b[0m\u001b[0;34m\u001b[0m\u001b[0m\n\u001b[1;32m    381\u001b[0m         \u001b[0;32mfor\u001b[0m \u001b[0mresult\u001b[0m \u001b[0;32min\u001b[0m \u001b[0mresults\u001b[0m\u001b[0;34m:\u001b[0m\u001b[0;34m\u001b[0m\u001b[0;34m\u001b[0m\u001b[0m\n",
      "\u001b[0;32m~/nexus-forge/kgforge/specializations/stores/nexus/service.py\u001b[0m in \u001b[0;36mbatch_request\u001b[0;34m(self, resources, action, callback, error_type, **kwargs)\u001b[0m\n\u001b[1;32m    209\u001b[0m                 \u001b[0;32mreturn\u001b[0m \u001b[0;32mawait\u001b[0m \u001b[0masyncio\u001b[0m\u001b[0;34m.\u001b[0m\u001b[0mgather\u001b[0m\u001b[0;34m(\u001b[0m\u001b[0;34m*\u001b[0m\u001b[0mtasks\u001b[0m\u001b[0;34m)\u001b[0m\u001b[0;34m\u001b[0m\u001b[0;34m\u001b[0m\u001b[0m\n\u001b[1;32m    210\u001b[0m \u001b[0;34m\u001b[0m\u001b[0m\n\u001b[0;32m--> 211\u001b[0;31m         \u001b[0;32mreturn\u001b[0m \u001b[0masyncio\u001b[0m\u001b[0;34m.\u001b[0m\u001b[0mrun\u001b[0m\u001b[0;34m(\u001b[0m\u001b[0mdispatch_action\u001b[0m\u001b[0;34m(\u001b[0m\u001b[0;34m)\u001b[0m\u001b[0;34m)\u001b[0m\u001b[0;34m\u001b[0m\u001b[0;34m\u001b[0m\u001b[0m\n\u001b[0m\u001b[1;32m    212\u001b[0m \u001b[0;34m\u001b[0m\u001b[0m\n\u001b[1;32m    213\u001b[0m     \u001b[0;32mdef\u001b[0m \u001b[0msync_metadata\u001b[0m\u001b[0;34m(\u001b[0m\u001b[0mself\u001b[0m\u001b[0;34m,\u001b[0m \u001b[0mresource\u001b[0m\u001b[0;34m:\u001b[0m \u001b[0mResource\u001b[0m\u001b[0;34m,\u001b[0m \u001b[0mresult\u001b[0m\u001b[0;34m:\u001b[0m \u001b[0mDict\u001b[0m\u001b[0;34m)\u001b[0m \u001b[0;34m->\u001b[0m \u001b[0;32mNone\u001b[0m\u001b[0;34m:\u001b[0m\u001b[0;34m\u001b[0m\u001b[0;34m\u001b[0m\u001b[0m\n",
      "\u001b[0;32m~/venv/lib/python3.8/site-packages/nest_asyncio.py\u001b[0m in \u001b[0;36mrun\u001b[0;34m(future, debug)\u001b[0m\n\u001b[1;32m     29\u001b[0m         \u001b[0mloop\u001b[0m \u001b[0;34m=\u001b[0m \u001b[0masyncio\u001b[0m\u001b[0;34m.\u001b[0m\u001b[0mget_event_loop\u001b[0m\u001b[0;34m(\u001b[0m\u001b[0;34m)\u001b[0m\u001b[0;34m\u001b[0m\u001b[0;34m\u001b[0m\u001b[0m\n\u001b[1;32m     30\u001b[0m         \u001b[0mloop\u001b[0m\u001b[0;34m.\u001b[0m\u001b[0mset_debug\u001b[0m\u001b[0;34m(\u001b[0m\u001b[0mdebug\u001b[0m\u001b[0;34m)\u001b[0m\u001b[0;34m\u001b[0m\u001b[0;34m\u001b[0m\u001b[0m\n\u001b[0;32m---> 31\u001b[0;31m         \u001b[0;32mreturn\u001b[0m \u001b[0mloop\u001b[0m\u001b[0;34m.\u001b[0m\u001b[0mrun_until_complete\u001b[0m\u001b[0;34m(\u001b[0m\u001b[0mfuture\u001b[0m\u001b[0;34m)\u001b[0m\u001b[0;34m\u001b[0m\u001b[0;34m\u001b[0m\u001b[0m\n\u001b[0m\u001b[1;32m     32\u001b[0m \u001b[0;34m\u001b[0m\u001b[0m\n\u001b[1;32m     33\u001b[0m     \u001b[0;32mif\u001b[0m \u001b[0msys\u001b[0m\u001b[0;34m.\u001b[0m\u001b[0mversion_info\u001b[0m \u001b[0;34m>=\u001b[0m \u001b[0;34m(\u001b[0m\u001b[0;36m3\u001b[0m\u001b[0;34m,\u001b[0m \u001b[0;36m6\u001b[0m\u001b[0;34m,\u001b[0m \u001b[0;36m0\u001b[0m\u001b[0;34m)\u001b[0m\u001b[0;34m:\u001b[0m\u001b[0;34m\u001b[0m\u001b[0;34m\u001b[0m\u001b[0m\n",
      "\u001b[0;32m/gpfs/bbp.cscs.ch/ssd/apps/hpc/jenkins/deploy/externals/2021-01-06/linux-rhel7-x86_64/gcc-9.3.0/python-3.8.3-suxrst/lib/python3.8/asyncio/base_events.py\u001b[0m in \u001b[0;36mrun_until_complete\u001b[0;34m(self, future)\u001b[0m\n\u001b[1;32m    590\u001b[0m         \"\"\"\n\u001b[1;32m    591\u001b[0m         \u001b[0mself\u001b[0m\u001b[0;34m.\u001b[0m\u001b[0m_check_closed\u001b[0m\u001b[0;34m(\u001b[0m\u001b[0;34m)\u001b[0m\u001b[0;34m\u001b[0m\u001b[0;34m\u001b[0m\u001b[0m\n\u001b[0;32m--> 592\u001b[0;31m         \u001b[0mself\u001b[0m\u001b[0;34m.\u001b[0m\u001b[0m_check_running\u001b[0m\u001b[0;34m(\u001b[0m\u001b[0;34m)\u001b[0m\u001b[0;34m\u001b[0m\u001b[0;34m\u001b[0m\u001b[0m\n\u001b[0m\u001b[1;32m    593\u001b[0m \u001b[0;34m\u001b[0m\u001b[0m\n\u001b[1;32m    594\u001b[0m         \u001b[0mnew_task\u001b[0m \u001b[0;34m=\u001b[0m \u001b[0;32mnot\u001b[0m \u001b[0mfutures\u001b[0m\u001b[0;34m.\u001b[0m\u001b[0misfuture\u001b[0m\u001b[0;34m(\u001b[0m\u001b[0mfuture\u001b[0m\u001b[0;34m)\u001b[0m\u001b[0;34m\u001b[0m\u001b[0;34m\u001b[0m\u001b[0m\n",
      "\u001b[0;32m/gpfs/bbp.cscs.ch/ssd/apps/hpc/jenkins/deploy/externals/2021-01-06/linux-rhel7-x86_64/gcc-9.3.0/python-3.8.3-suxrst/lib/python3.8/asyncio/base_events.py\u001b[0m in \u001b[0;36m_check_running\u001b[0;34m(self)\u001b[0m\n\u001b[1;32m    550\u001b[0m     \u001b[0;32mdef\u001b[0m \u001b[0m_check_running\u001b[0m\u001b[0;34m(\u001b[0m\u001b[0mself\u001b[0m\u001b[0;34m)\u001b[0m\u001b[0;34m:\u001b[0m\u001b[0;34m\u001b[0m\u001b[0;34m\u001b[0m\u001b[0m\n\u001b[1;32m    551\u001b[0m         \u001b[0;32mif\u001b[0m \u001b[0mself\u001b[0m\u001b[0;34m.\u001b[0m\u001b[0mis_running\u001b[0m\u001b[0;34m(\u001b[0m\u001b[0;34m)\u001b[0m\u001b[0;34m:\u001b[0m\u001b[0;34m\u001b[0m\u001b[0;34m\u001b[0m\u001b[0m\n\u001b[0;32m--> 552\u001b[0;31m             \u001b[0;32mraise\u001b[0m \u001b[0mRuntimeError\u001b[0m\u001b[0;34m(\u001b[0m\u001b[0;34m'This event loop is already running'\u001b[0m\u001b[0;34m)\u001b[0m\u001b[0;34m\u001b[0m\u001b[0;34m\u001b[0m\u001b[0m\n\u001b[0m\u001b[1;32m    553\u001b[0m         \u001b[0;32mif\u001b[0m \u001b[0mevents\u001b[0m\u001b[0;34m.\u001b[0m\u001b[0m_get_running_loop\u001b[0m\u001b[0;34m(\u001b[0m\u001b[0;34m)\u001b[0m \u001b[0;32mis\u001b[0m \u001b[0;32mnot\u001b[0m \u001b[0;32mNone\u001b[0m\u001b[0;34m:\u001b[0m\u001b[0;34m\u001b[0m\u001b[0;34m\u001b[0m\u001b[0m\n\u001b[1;32m    554\u001b[0m             raise RuntimeError(\n",
      "\u001b[0;31mRuntimeError\u001b[0m: This event loop is already running"
     ]
    }
   ],
   "source": [
    "resources = forge.search(\n",
    "    path.type == \"ElectrophysiologyFeatureExtractionTarget\",\n",
    "    path.eModel == \"L23_PC\",\n",
    "    path.feature.name == \"efeaturename1\",\n",
    "    path.stimulus.stimulusType.label == \"IDRest\",\n",
    "    limit=5,\n",
    "    debug=True\n",
    ")"
   ]
  },
  {
   "cell_type": "code",
   "execution_count": null,
   "metadata": {},
   "outputs": [],
   "source": [
    "#filters = {\n",
    "#    \"type\": \"ElectrophysiologyFeatureExtractionTarget\",\n",
    "#    \"stimulus\": {\n",
    "#        \"stimulusType\": {\"label\": \"IDRest\"}\n",
    "#    }\n",
    "#}\n",
    "\n",
    "#resources = access_point.fetch(filters)"
   ]
  }
 ],
 "metadata": {
  "kernelspec": {
   "display_name": "venv",
   "language": "python",
   "name": "venv"
  },
  "language_info": {
   "codemirror_mode": {
    "name": "ipython",
    "version": 3
   },
   "file_extension": ".py",
   "mimetype": "text/x-python",
   "name": "python",
   "nbconvert_exporter": "python",
   "pygments_lexer": "ipython3",
   "version": "3.8.3"
  },
  "pycharm": {
   "stem_cell": {
    "cell_type": "raw",
    "source": [],
    "metadata": {
     "collapsed": false
    }
   }
  }
 },
 "nbformat": 4,
 "nbformat_minor": 4
}