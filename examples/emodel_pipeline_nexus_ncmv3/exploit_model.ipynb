{
 "cells": [
  {
   "cell_type": "markdown",
   "metadata": {},
   "source": [
    "# Accessing the emodels and running custom protocols"
   ]
  },
  {
   "cell_type": "markdown",
   "metadata": {},
   "source": [
    "This notebook show how to access the optimized emodels and how to run and custom protocols using them.\n",
    "This notebook does not show how to use the emodel in a circuit or how to export a model in hoc."
   ]
  },
  {
   "cell_type": "markdown",
   "metadata": {},
   "source": [
    "## Instantiating an access point to Nexus"
   ]
  },
  {
   "cell_type": "code",
   "execution_count": 2,
   "metadata": {},
   "outputs": [],
   "source": [
    "species = \"mouse\"\n",
    "brain_region = \"SSCX\"\n",
    "data_access_point = \"nexus\"\n",
    "nexus_project = \"ncmv3\"\n",
    "nexus_organisation = \"bbp\"\n",
    "nexus_endpoint = \"https://bbp.epfl.ch/nexus/v1\"\n",
    "forge_path = \"./forge.yml\"\n",
    "\n",
    "emodel = \"L5_TPC:B_cAC\"\n",
    "ttype = \"L4/5 IT_1\"\n",
    "iteration_tag = \"v0\""
   ]
  },
  {
   "cell_type": "markdown",
   "metadata": {},
   "source": [
    "This next cell will ask for your Nexus token:"
   ]
  },
  {
   "cell_type": "code",
   "execution_count": 4,
   "metadata": {},
   "outputs": [
    {
     "name": "stdin",
     "output_type": "stream",
     "text": [
      " ·····························································································································································································································································································································································································································································································································································································································································································································································································································································································································································································································································································································································································································································································································································································································································································································································································\n"
     ]
    }
   ],
   "source": [
    "from bluepyemodel.access_point.nexus import NexusAccessPoint\n",
    "\n",
    "access_point = NexusAccessPoint(\n",
    "    emodel=emodel,\n",
    "    species=species,\n",
    "    brain_region=brain_region,\n",
    "    project=nexus_project,\n",
    "    organisation=nexus_organisation,\n",
    "    endpoint=nexus_endpoint,\n",
    "    forge_path=forge_path,\n",
    "    ttype=ttype,\n",
    "    iteration_tag=iteration_tag\n",
    ")"
   ]
  },
  {
   "cell_type": "markdown",
   "metadata": {},
   "source": [
    "## Retrieving the emodels"
   ]
  },
  {
   "cell_type": "code",
   "execution_count": 5,
   "metadata": {},
   "outputs": [],
   "source": [
    "emodels = access_point.get_emodels()"
   ]
  },
  {
   "cell_type": "code",
   "execution_count": 6,
   "metadata": {},
   "outputs": [
    {
     "name": "stdout",
     "output_type": "stream",
     "text": [
      "Found 10 emodels\n",
      "\n",
      "Example of an emodel:\n",
      "\n",
      "{'brain_region': 'SSCX',\n",
      " 'emodel': 'L5_TPC:B_cAC',\n",
      " 'fitness': 294.0428257170971,\n",
      " 'iteration_tag': 'v0',\n",
      " 'optimizer': 'SO-CMA',\n",
      " 'parameters': {'decay_CaDynamics_DC0.axonal': 29.2196061115512,\n",
      "                'decay_CaDynamics_DC0.somatic': 20.000000139999997,\n",
      "                'e_pas.all': -86.9625476195746,\n",
      "                'gCa_HVAbar_Ca_HVA2.apical': 8.035531056383002e-05,\n",
      "                'gCa_HVAbar_Ca_HVA2.axonal': 2.4999998599062323e-11,\n",
      "                'gCa_HVAbar_Ca_HVA2.basal': 4.037300775858469e-05,\n",
      "                'gCa_HVAbar_Ca_HVA2.somatic': 0.023832424074658957,\n",
      "                'gCa_LVAstbar_Ca_LVAst.apical': 0.0003797820510194191,\n",
      "                'gCa_LVAstbar_Ca_LVAst.axonal': 0.017038427353158404,\n",
      "                'gCa_LVAstbar_Ca_LVAst.basal': 0.0007234824814631182,\n",
      "                'gCa_LVAstbar_Ca_LVAst.somatic': 0.005916668854316305,\n",
      "                'gIhbar_HCN1.axonal': 3.808573798478965e-06,\n",
      "                'gIhbar_HCN1.somadend': 0.00018170372046833372,\n",
      "                'gIhbar_HCN2.axonal': 6.67276499024386e-07,\n",
      "                'gIhbar_HCN2.somadend': 2.2261312289343103e-06,\n",
      "                'gKv11_2bar_Kv11_2.apical': 0.0003341866563392647,\n",
      "                'gKv11_2bar_Kv11_2.axonal': 0.0037610050136681734,\n",
      "                'gKv11_2bar_Kv11_2.basal': 0.00012791379458450465,\n",
      "                'gKv11_2bar_Kv11_2.somatic': 0.0031588172151951347,\n",
      "                'gKv11_3bar_Kv11_3.apical': 2.6079188156897756e-06,\n",
      "                'gKv11_3bar_Kv11_3.axonal': 0.004020462671006424,\n",
      "                'gKv11_3bar_Kv11_3.basal': 0.00027653164303313065,\n",
      "                'gKv11_3bar_Kv11_3.somatic': 2.4999997731700585e-12,\n",
      "                'gKv1_1bar_Kv1_1.apical': 4.4141528992185325e-05,\n",
      "                'gKv1_1bar_Kv1_1.axonal': 0.004041913682097306,\n",
      "                'gKv1_1bar_Kv1_1.basal': 2.6575351784080336e-05,\n",
      "                'gKv1_1bar_Kv1_1.somatic': 0.0040712960265136475,\n",
      "                'gKv1_2bar_Kv1_2.apical': 0.000223742905128205,\n",
      "                'gKv1_2bar_Kv1_2.axonal': 0.0016140152324718225,\n",
      "                'gKv1_2bar_Kv1_2.basal': 0.0001860331918290676,\n",
      "                'gKv1_2bar_Kv1_2.somatic': 0.0006913156725000663,\n",
      "                'gKv1_3bar_Kv1_3.apical': 0.00049999999975,\n",
      "                'gKv1_3bar_Kv1_3.axonal': 0.0029816494647683747,\n",
      "                'gKv1_3bar_Kv1_3.basal': 0.00026253534399373323,\n",
      "                'gKv1_3bar_Kv1_3.somatic': 0.0021277540484454086,\n",
      "                'gKv1_6bar_Kv1_6.apical': 0.0004796840622290187,\n",
      "                'gKv1_6bar_Kv1_6.axonal': 0.0027637573387840845,\n",
      "                'gKv1_6bar_Kv1_6.basal': 0.00028357842688903957,\n",
      "                'gKv1_6bar_Kv1_6.somatic': 0.0026624796110330273,\n",
      "                'gKv2_1bar_Kv2_1.apical': 0.0003863318024694734,\n",
      "                'gKv2_1bar_Kv2_1.axonal': 0.0030040349774935614,\n",
      "                'gKv2_1bar_Kv2_1.basal': 0.0002290202904350971,\n",
      "                'gKv2_1bar_Kv2_1.somatic': 0.001695787354674791,\n",
      "                'gKv2_2bar_Kv2_2.apical': 0.00031421998822452,\n",
      "                'gKv2_2bar_Kv2_2.axonal': 0.0034081122476473614,\n",
      "                'gKv2_2bar_Kv2_2.basal': 0.00028319098587443396,\n",
      "                'gKv2_2bar_Kv2_2.somatic': 0.003282755928987439,\n",
      "                'gKv3_3bar_Kv3_3.apical': 7.142499464115378e-05,\n",
      "                'gKv3_3bar_Kv3_3.axonal': 2.4999997731700585e-12,\n",
      "                'gKv3_3bar_Kv3_3.basal': 0.00030906163467377053,\n",
      "                'gKv3_3bar_Kv3_3.somatic': 0.0048138774779726175,\n",
      "                'gKv3_4bar_Kv3_4.apical': 0.00017024014224958618,\n",
      "                'gKv3_4bar_Kv3_4.axonal': 0.004999999997500001,\n",
      "                'gKv3_4bar_Kv3_4.basal': 0.00035741056249293033,\n",
      "                'gKv3_4bar_Kv3_4.somatic': 0.0034616530000471145,\n",
      "                'gKv4_2bar_Kv4_2.apical': 0.00019797869545732513,\n",
      "                'gKv4_2bar_Kv4_2.axonal': 0.0035331189830043585,\n",
      "                'gKv4_2bar_Kv4_2.basal': 0.00032094946528169106,\n",
      "                'gKv4_2bar_Kv4_2.somatic': 0.003059330418832898,\n",
      "                'gKv4_3bar_Kv4_3.apical': 0.00039989635782003083,\n",
      "                'gKv4_3bar_Kv4_3.axonal': 0.0022405652019149157,\n",
      "                'gKv4_3bar_Kv4_3.basal': 0.00022413369872585618,\n",
      "                'gKv4_3bar_Kv4_3.somatic': 0.0032567089775641807,\n",
      "                'gKv7_2bar_Kv7_2.apical': 0.0004002827318931246,\n",
      "                'gKv7_2bar_Kv7_2.axonal': 2.4999997731700585e-12,\n",
      "                'gKv7_2bar_Kv7_2.basal': 1.9868428756374866e-05,\n",
      "                'gKv7_2bar_Kv7_2.somatic': 2.4999997731700585e-12,\n",
      "                'gKv7_3bar_Kv7_3.apical': 0.00021539825128496617,\n",
      "                'gKv7_3bar_Kv7_3.axonal': 0.0016463342309922047,\n",
      "                'gKv7_3bar_Kv7_3.basal': 0.00040982690498128486,\n",
      "                'gKv7_3bar_Kv7_3.somatic': 0.0012764550619700705,\n",
      "                'gSK_E2bar_SK_E2.apical': 0.00034281913152477286,\n",
      "                'gSK_E2bar_SK_E2.axonal': 0.04147309153140139,\n",
      "                'gSK_E2bar_SK_E2.basal': 0.0001197735656922561,\n",
      "                'gSK_E2bar_SK_E2.somatic': 0.0642372211024432,\n",
      "                'g_pas.all': 1.0000000025e-05,\n",
      "                'gamma_CaDynamics_DC0.axonal': 0.02198078666980203,\n",
      "                'gamma_CaDynamics_DC0.somatic': 0.02541163220001719,\n",
      "                'gnabar_Nav1_1.apical': 0.0022505320505974034,\n",
      "                'gnabar_Nav1_1.axonal': 1.1943866802516374,\n",
      "                'gnabar_Nav1_1.basal': 0.0010206159797881789,\n",
      "                'gnabar_Nav1_1.somatic': 0.35405493800355486,\n",
      "                'gnabar_Nav1_2.apical': 0.002557215017360637,\n",
      "                'gnabar_Nav1_2.axonal': 1.8974566570111093,\n",
      "                'gnabar_Nav1_2.basal': 0.004999999997500001,\n",
      "                'gnabar_Nav1_2.somatic': 0.8342314175156619,\n",
      "                'gnabar_Nav1_3.apical': 0.004026341647094433,\n",
      "                'gnabar_Nav1_3.axonal': 1.2000384940806887,\n",
      "                'gnabar_Nav1_3.basal': 0.0024092123863388906,\n",
      "                'gnabar_Nav1_3.somatic': 0.5562961533185788,\n",
      "                'gnabar_Nav1_6.apical': 0.0025894674555463877,\n",
      "                'gnabar_Nav1_6.axonal': 1.3741263831210186,\n",
      "                'gnabar_Nav1_6.basal': 0.0020466617492884255,\n",
      "                'gnabar_Nav1_6.somatic': 4.999999858590343e-10},\n",
      " 'scores': {'APWaveform_220.soma.v.AHP_depth': 13.37370276883892,\n",
      "            'APWaveform_220.soma.v.AP1_amp': 2.0586241731769794,\n",
      "            'APWaveform_220.soma.v.AP2_amp': 1.5606350650576104,\n",
      "            'APWaveform_220.soma.v.AP_amplitude': 2.2139624862251677,\n",
      "            'APWaveform_220.soma.v.AP_duration_half_width': 12.570505351561565,\n",
      "            'IDRest_140.soma.v.AHP_depth': 9.148019735050772,\n",
      "            'IDRest_140.soma.v.AHP_depth_abs': 7.160491831715179,\n",
      "            'IDRest_140.soma.v.AHP_depth_abs_slow': 6.119734919242582,\n",
      "            'IDRest_140.soma.v.AHP_time_from_peak': 0.8069303393694215,\n",
      "            'IDRest_140.soma.v.AP1_amp': 0.21809912263536854,\n",
      "            'IDRest_140.soma.v.AP_amplitude': 0.29342349219942665,\n",
      "            'IDRest_140.soma.v.AP_duration_half_width': 1.67036255955653,\n",
      "            'IDRest_140.soma.v.AP_height': 4.625408460642402,\n",
      "            'IDRest_140.soma.v.AP_width': 1.5230143883776812,\n",
      "            'IDRest_140.soma.v.APlast_amp': 0.4604762585848574,\n",
      "            'IDRest_140.soma.v.ISI_CV': 0.6403844763899899,\n",
      "            'IDRest_140.soma.v.ISI_log_slope': 0.3725922381656352,\n",
      "            'IDRest_140.soma.v.ISI_log_slope_skip': 0.4423734711000803,\n",
      "            'IDRest_140.soma.v.adaptation_index2': 0.5020786808164253,\n",
      "            'IDRest_140.soma.v.doublet_ISI': 0.6313694128722481,\n",
      "            'IDRest_140.soma.v.inv_fifth_ISI': 0.83656258003035,\n",
      "            'IDRest_140.soma.v.inv_first_ISI': 0.47419792544686107,\n",
      "            'IDRest_140.soma.v.inv_fourth_ISI': 0.9798934985258935,\n",
      "            'IDRest_140.soma.v.inv_last_ISI': 1.4470145697426722,\n",
      "            'IDRest_140.soma.v.inv_second_ISI': 1.3585774774963726,\n",
      "            'IDRest_140.soma.v.inv_third_ISI': 1.2532769326854403,\n",
      "            'IDRest_140.soma.v.inv_time_to_first_spike': 4.031849715859466,\n",
      "            'IDRest_140.soma.v.mean_frequency': 0.10690337283382635,\n",
      "            'IDRest_140.soma.v.min_AHP_values': 7.160491831715179,\n",
      "            'IDRest_140.soma.v.time_to_first_spike': 0.6176329274853207,\n",
      "            'IDRest_140.soma.v.time_to_last_spike': 1.176377179135522,\n",
      "            'IDRest_140.soma.v.voltage_base': 1.1868749211627054,\n",
      "            'IDRest_180.soma.v.AHP_depth': 11.129444174513988,\n",
      "            'IDRest_180.soma.v.AHP_depth_abs': 8.145941390605744,\n",
      "            'IDRest_180.soma.v.AHP_depth_abs_slow': 7.11192585884775,\n",
      "            'IDRest_180.soma.v.AHP_time_from_peak': 0.549656732415479,\n",
      "            'IDRest_180.soma.v.AP1_amp': 1.7125146027203264,\n",
      "            'IDRest_180.soma.v.AP_amplitude': 1.8776952667602904,\n",
      "            'IDRest_180.soma.v.AP_duration_half_width': 3.0518021443155754,\n",
      "            'IDRest_180.soma.v.AP_height': 4.996686004666769,\n",
      "            'IDRest_180.soma.v.AP_width': 0.9497409683716069,\n",
      "            'IDRest_180.soma.v.APlast_amp': 2.3189775248759203,\n",
      "            'IDRest_180.soma.v.ISI_CV': 1.0107356639763758,\n",
      "            'IDRest_180.soma.v.ISI_log_slope': 0.06389571874378625,\n",
      "            'IDRest_180.soma.v.ISI_log_slope_skip': 0.08252008877707255,\n",
      "            'IDRest_180.soma.v.adaptation_index2': 0.22392280774593692,\n",
      "            'IDRest_180.soma.v.doublet_ISI': 0.01827632144801362,\n",
      "            'IDRest_180.soma.v.inv_fifth_ISI': 0.40386918877144984,\n",
      "            'IDRest_180.soma.v.inv_first_ISI': 0.6067447844521511,\n",
      "            'IDRest_180.soma.v.inv_fourth_ISI': 0.35529816573551937,\n",
      "            'IDRest_180.soma.v.inv_last_ISI': 0.5050716710119254,\n",
      "            'IDRest_180.soma.v.inv_second_ISI': 0.27918940632394673,\n",
      "            'IDRest_180.soma.v.inv_third_ISI': 0.3043130883974422,\n",
      "            'IDRest_180.soma.v.inv_time_to_first_spike': 5.508701641009875,\n",
      "            'IDRest_180.soma.v.mean_frequency': 0.41962727473793443,\n",
      "            'IDRest_180.soma.v.min_AHP_values': 8.145941390605744,\n",
      "            'IDRest_180.soma.v.time_to_first_spike': 2.1791912205465485,\n",
      "            'IDRest_180.soma.v.time_to_last_spike': 0.3840149111352258,\n",
      "            'IDRest_180.soma.v.voltage_base': 1.1802904145983544,\n",
      "            'IDRest_260.soma.v.AHP_depth': 10.033660484626997,\n",
      "            'IDRest_260.soma.v.AHP_depth_abs': 8.368150837489736,\n",
      "            'IDRest_260.soma.v.AHP_depth_abs_slow': 7.888278702025284,\n",
      "            'IDRest_260.soma.v.AHP_time_from_peak': 0.1809405259941623,\n",
      "            'IDRest_260.soma.v.AP1_amp': 2.0729475517508105,\n",
      "            'IDRest_260.soma.v.AP_amplitude': 2.680005416547616,\n",
      "            'IDRest_260.soma.v.AP_duration_half_width': 3.0622475782626273,\n",
      "            'IDRest_260.soma.v.AP_height': 6.9344997134309345,\n",
      "            'IDRest_260.soma.v.AP_width': 0.05171874198348982,\n",
      "            'IDRest_260.soma.v.APlast_amp': 2.804669562210929,\n",
      "            'IDRest_260.soma.v.ISI_CV': 1.5887331199127688,\n",
      "            'IDRest_260.soma.v.ISI_log_slope': 0.7531149975301238,\n",
      "            'IDRest_260.soma.v.ISI_log_slope_skip': 0.5718040260170559,\n",
      "            'IDRest_260.soma.v.adaptation_index2': 0.6091623815207287,\n",
      "            'IDRest_260.soma.v.doublet_ISI': 4.525986179493415,\n",
      "            'IDRest_260.soma.v.inv_fifth_ISI': 0.6009887499865432,\n",
      "            'IDRest_260.soma.v.inv_first_ISI': 1.5708219901084912,\n",
      "            'IDRest_260.soma.v.inv_fourth_ISI': 0.6828446220810032,\n",
      "            'IDRest_260.soma.v.inv_last_ISI': 0.6343185376310059,\n",
      "            'IDRest_260.soma.v.inv_second_ISI': 0.8803048253355006,\n",
      "            'IDRest_260.soma.v.inv_third_ISI': 0.7685196648133567,\n",
      "            'IDRest_260.soma.v.inv_time_to_first_spike': 7.7913956265716715,\n",
      "            'IDRest_260.soma.v.mean_frequency': 0.7441461583075427,\n",
      "            'IDRest_260.soma.v.min_AHP_values': 8.368150837489736,\n",
      "            'IDRest_260.soma.v.time_to_first_spike': 2.688543715327142,\n",
      "            'IDRest_260.soma.v.time_to_last_spike': 0.7239481366562183,\n",
      "            'IDRest_260.soma.v.voltage_base': 1.2447696565612456,\n",
      "            'IV_-100.soma.v.Spikecount': 0.0,\n",
      "            'IV_-100.soma.v.decay_time_constant_after_stim': 1.7532800711592764,\n",
      "            'IV_-100.soma.v.ohmic_input_resistance_vb_ssse': 2.53128875053616,\n",
      "            'IV_-100.soma.v.sag_amplitude': 4.657572727510138,\n",
      "            'IV_-100.soma.v.sag_ratio1': 1.8981082364773734,\n",
      "            'IV_-100.soma.v.sag_ratio2': 1.8981082364773771,\n",
      "            'IV_-100.soma.v.sag_time_constant': 1.3427015098519635,\n",
      "            'IV_-100.soma.v.steady_state_voltage_stimend': 0.11184550979440322,\n",
      "            'IV_-100.soma.v.voltage_base': 1.1580556377007647,\n",
      "            'IV_-100.soma.v.voltage_deflection': 3.070113372696396,\n",
      "            'IV_-100.soma.v.voltage_deflection_begin': 2.474288079133613,\n",
      "            'IV_-40.soma.v.Spikecount': 0.0,\n",
      "            'IV_-40.soma.v.decay_time_constant_after_stim': 0.49380672469233106,\n",
      "            'IV_-40.soma.v.sag_amplitude': 2.5921208020456348,\n",
      "            'IV_-40.soma.v.sag_ratio1': 1.431385177317079,\n",
      "            'IV_-40.soma.v.sag_ratio2': 1.431385177317079,\n",
      "            'IV_-40.soma.v.sag_time_constant': 0.28638696255427587,\n",
      "            'IV_-40.soma.v.steady_state_voltage_stimend': 0.7581173096860365,\n",
      "            'IV_-40.soma.v.voltage_deflection': 1.7400047217956551,\n",
      "            'IV_-40.soma.v.voltage_deflection_begin': 1.4484913587333514,\n",
      "            'IV_0.soma.v.Spikecount': 0.0,\n",
      "            'IV_0.soma.v.decay_time_constant_after_stim': 0.05538759594151868,\n",
      "            'IV_0.soma.v.ohmic_input_resistance_vb_ssse': 4.758939683798361,\n",
      "            'IV_0.soma.v.sag_amplitude': 1.5390676574107987,\n",
      "            'IV_0.soma.v.sag_ratio1': 1.3031058015472756,\n",
      "            'IV_0.soma.v.sag_ratio2': 0.7257792038362066,\n",
      "            'IV_0.soma.v.sag_time_constant': 0.7801961472852835,\n",
      "            'IV_0.soma.v.steady_state_voltage_stimend': 1.2122922066430675,\n",
      "            'IV_0.soma.v.voltage_deflection': 0.6607976918112658,\n",
      "            'IV_0.soma.v.voltage_deflection_begin': 0.5846255603859567,\n",
      "            'RMPProtocol.soma.v.steady_state_voltage_stimend': 4.135349165361272,\n",
      "            'RinProtocol.soma.v.ohmic_input_resistance_vb_ssse': 2.4066408339600445,\n",
      "            'SearchHoldingCurrent.soma.v.bpo_holding_current': 5.6688743616648285,\n",
      "            'SearchThresholdCurrent.soma.v.bpo_threshold_current': 9.77220651249697},\n",
      " 'scores_validation': {},\n",
      " 'seed': 1,\n",
      " 'species': 'mouse',\n",
      " 'ttype': 'L4/5 IT_1',\n",
      " 'validated': None}\n"
     ]
    }
   ],
   "source": [
    "import pprint\n",
    "\n",
    "print(f\"Found {len(emodels)} emodels\")\n",
    "print(\"\\nExample of an emodel:\\n\")\n",
    "pprint.pprint(emodels[0])"
   ]
  },
  {
   "cell_type": "markdown",
   "metadata": {},
   "source": [
    "## Running protocols and the emodel"
   ]
  },
  {
   "cell_type": "markdown",
   "metadata": {},
   "source": [
    "Instantiate the evaluator which contains the model (except for the value of the parameters that we got above) and the protocols used for optimization:"
   ]
  },
  {
   "cell_type": "code",
   "execution_count": 7,
   "metadata": {},
   "outputs": [
    {
     "name": "stderr",
     "output_type": "stream",
     "text": [
      "Warning: no DISPLAY environment variable.\n",
      "--No graphics will be displayed.\n"
     ]
    }
   ],
   "source": [
    "from bluepyemodel.evaluation.evaluation import get_evaluator_from_access_point\n",
    "\n",
    "evaluator = get_evaluator_from_access_point(\n",
    "    access_point,\n",
    "    stochasticity=False,\n",
    "    include_validation_protocols=False,\n",
    ")"
   ]
  },
  {
   "cell_type": "markdown",
   "metadata": {},
   "source": [
    "To rerun the protocols that where used for optimization on the first of the models, do:"
   ]
  },
  {
   "cell_type": "code",
   "execution_count": 18,
   "metadata": {},
   "outputs": [],
   "source": [
    "responses = evaluator.run_protocols(protocols=evaluator.fitness_protocols.values(), param_values=emodels[0].parameters)"
   ]
  },
  {
   "cell_type": "markdown",
   "metadata": {},
   "source": [
    "If you wish to run additional protocols, you can first define a new protocol:"
   ]
  },
  {
   "cell_type": "code",
   "execution_count": 19,
   "metadata": {},
   "outputs": [],
   "source": [
    "from bluepyemodel.evaluation.protocol_configuration import ProtocolConfiguration\n",
    "from bluepyemodel.evaluation.evaluator import define_protocol\n",
    "\n",
    "protocol_name = \"my_step\"\n",
    "\n",
    "stimuli = [{\n",
    "    \"holding_current\": -0.08,\n",
    "    \"amp\": 0.85,\n",
    "    \"delay\": 100,\n",
    "    \"duration\": 1000,\n",
    "    \"totduration\": 1200\n",
    "}]\n",
    "#\"thresh_perc\": 358.09518664582686,\n",
    "\n",
    "recordings = [\n",
    "    {\n",
    "        \"type\": \"CompRecording\",\n",
    "        \"name\": f\"{protocol_name}.soma.v\",\n",
    "        \"location\": \"soma\",\n",
    "        \"variable\": \"v\",\n",
    "    }\n",
    "]\n",
    "\n",
    "my_protocol_configuration = ProtocolConfiguration(\n",
    "    name=protocol_name,\n",
    "    stimuli=stimuli,\n",
    "    recordings=recordings,\n",
    "    validation=False\n",
    ")\n",
    "\n",
    "my_protocol = define_protocol(my_protocol_configuration)"
   ]
  },
  {
   "cell_type": "markdown",
   "metadata": {},
   "source": [
    "Note that the name of the protocol matters as BluePyEmodel will use it to detect which shape the protocol should have. For example, here, \"step\" is in the name and therefore a step protocol will be generated. A complete list of the eCode that can be used to create protocols can be seen in bluepyemodel/ecode/__init__.py. For more complex eCode, contact Tanguy for an explanation of how to use them."
   ]
  },
  {
   "cell_type": "markdown",
   "metadata": {},
   "source": [
    "Once the protocol is created, it can be added to the protocols already in the evaluator:"
   ]
  },
  {
   "cell_type": "code",
   "execution_count": 20,
   "metadata": {},
   "outputs": [],
   "source": [
    "evaluator.fitness_protocols[\"main_protocol\"].other_protocols[protocol_name] = my_protocol"
   ]
  },
  {
   "cell_type": "code",
   "execution_count": null,
   "metadata": {},
   "outputs": [],
   "source": [
    "responses = evaluator.run_protocols(protocols=evaluator.fitness_protocols.values(), param_values=emodels[0].parameters)"
   ]
  },
  {
   "cell_type": "markdown",
   "metadata": {},
   "source": [
    "Finally, the responses can be plotted and saved in a pdf in the current working direcotry:"
   ]
  },
  {
   "cell_type": "code",
   "execution_count": null,
   "metadata": {},
   "outputs": [],
   "source": [
    "from bluepyemodel.emodel_pipeline import plotting\n",
    "\n",
    "plotting.traces(model=emodels[0], responses=responses, figures_dir=\"./\")"
   ]
  },
  {
   "cell_type": "code",
   "execution_count": null,
   "metadata": {},
   "outputs": [],
   "source": []
  }
 ],
 "metadata": {
  "kernelspec": {
   "display_name": "myvenv",
   "language": "python",
   "name": "myvenv"
  },
  "language_info": {
   "codemirror_mode": {
    "name": "ipython",
    "version": 3
   },
   "file_extension": ".py",
   "mimetype": "text/x-python",
   "name": "python",
   "nbconvert_exporter": "python",
   "pygments_lexer": "ipython3",
   "version": "3.9.7"
  }
 },
 "nbformat": 4,
 "nbformat_minor": 4
}
