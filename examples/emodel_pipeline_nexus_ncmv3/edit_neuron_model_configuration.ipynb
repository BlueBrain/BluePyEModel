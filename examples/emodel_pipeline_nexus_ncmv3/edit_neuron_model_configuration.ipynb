{
 "cells": [
  {
   "cell_type": "markdown",
   "metadata": {},
   "source": [
    "## How to edit an already existing Neuron Model Configuration"
   ]
  },
  {
   "cell_type": "markdown",
   "metadata": {},
   "source": [
    "This notebook explains how to load an already existing neuron model configuration from nexus, edit it, and store it on nexus"
   ]
  },
  {
   "cell_type": "markdown",
   "metadata": {},
   "source": [
    "To run this notebook, you need to already have a NeuronModelConfiguration in Nexus. Therefore, I recommend to do the configuration through python before running this notebook:\n",
    "```\n",
    "python pipeline.py --step=configure_nexus --emodel=EMODEL_NAME --iteration_tag=ITERATION_TAG --ttype=TTYPE\n",
    "python pipeline.py --step=configure_model_from_gene --emodel=EMODEL_NAME --iteration_tag=ITERATION_TAG --ttype=TTYPE\n",
    "```"
   ]
  },
  {
   "cell_type": "markdown",
   "metadata": {},
   "source": [
    "## Loading the NeuronModelConfiguration"
   ]
  },
  {
   "cell_type": "code",
   "execution_count": 7,
   "metadata": {},
   "outputs": [],
   "source": [
    "species = \"mouse\"\n",
    "brain_region = \"SSCX\"\n",
    "data_access_point = \"nexus\"\n",
    "nexus_project = \"ncmv3\"\n",
    "nexus_organisation = \"bbp\"\n",
    "nexus_endpoint = \"prod\"\n",
    "forge_path = \"./forge.yml\"\n",
    "\n",
    "emodel = \"L5_TPC:A_cAC\"\n",
    "ttype = \"L5 ET_8\"\n",
    "iteration_tag = \"v0\""
   ]
  },
  {
   "cell_type": "markdown",
   "metadata": {},
   "source": [
    "This next cell will ask for your Nexus token:"
   ]
  },
  {
   "cell_type": "code",
   "execution_count": 8,
   "metadata": {},
   "outputs": [
    {
     "name": "stdin",
     "output_type": "stream",
     "text": [
      " ·····························································································································································································································································································································································································································································································································································································································································································································································································································································································································································································································································································································································································································································································································································································································································································································································································\n"
     ]
    }
   ],
   "source": [
    "from bluepyemodel.access_point.nexus import NexusAccessPoint\n",
    "\n",
    "access_point = NexusAccessPoint(\n",
    "    emodel=emodel,\n",
    "    species=species,\n",
    "    brain_region=brain_region,\n",
    "    project=\"ncmv3\",\n",
    "    organisation=\"bbp\",\n",
    "    endpoint=\"https://bbp.epfl.ch/nexus/v1\",\n",
    "    forge_path=forge_path,\n",
    "    ttype=ttype,\n",
    "    iteration_tag=iteration_tag\n",
    ")"
   ]
  },
  {
   "cell_type": "markdown",
   "metadata": {},
   "source": [
    "Here, we load the configurator, that is able to load, modify and save the configuration."
   ]
  },
  {
   "cell_type": "code",
   "execution_count": 9,
   "metadata": {},
   "outputs": [
    {
     "name": "stdout",
     "output_type": "stream",
     "text": [
      "Model Configuration:\n",
      "\n",
      "Mechanisms:\n",
      "   {'name': 'pas', 'stochastic': False, 'location': 'all', 'version': None}\n",
      "   {'name': 'CaDynamics_DC0', 'stochastic': False, 'location': 'axonal', 'version': None}\n",
      "   {'name': 'Ca_HVA2', 'stochastic': False, 'location': 'axonal', 'version': None}\n",
      "   {'name': 'Ca_LVAst', 'stochastic': False, 'location': 'axonal', 'version': None}\n",
      "   {'name': 'SK_E2', 'stochastic': False, 'location': 'axonal', 'version': None}\n",
      "   {'name': 'Kv1_1', 'stochastic': False, 'location': 'axonal', 'version': None}\n",
      "   {'name': 'Kv1_2', 'stochastic': False, 'location': 'axonal', 'version': None}\n",
      "   {'name': 'Kv1_3', 'stochastic': False, 'location': 'axonal', 'version': None}\n",
      "   {'name': 'Kv1_4', 'stochastic': False, 'location': 'axonal', 'version': None}\n",
      "   {'name': 'Kv1_5', 'stochastic': False, 'location': 'axonal', 'version': None}\n",
      "   {'name': 'Kv1_6', 'stochastic': False, 'location': 'axonal', 'version': None}\n",
      "   {'name': 'Kv1_7', 'stochastic': False, 'location': 'axonal', 'version': None}\n",
      "   {'name': 'Kv2_1', 'stochastic': False, 'location': 'axonal', 'version': None}\n",
      "   {'name': 'Kv2_2', 'stochastic': False, 'location': 'axonal', 'version': None}\n",
      "   {'name': 'Kv3_1', 'stochastic': False, 'location': 'axonal', 'version': None}\n",
      "   {'name': 'Kv3_2', 'stochastic': False, 'location': 'axonal', 'version': None}\n",
      "   {'name': 'Kv3_3', 'stochastic': False, 'location': 'axonal', 'version': None}\n",
      "   {'name': 'Kv3_4', 'stochastic': False, 'location': 'axonal', 'version': None}\n",
      "   {'name': 'Kv4_1', 'stochastic': False, 'location': 'axonal', 'version': None}\n",
      "   {'name': 'Kv4_2', 'stochastic': False, 'location': 'axonal', 'version': None}\n",
      "   {'name': 'Kv4_3', 'stochastic': False, 'location': 'axonal', 'version': None}\n",
      "   {'name': 'Kv10_1', 'stochastic': False, 'location': 'axonal', 'version': None}\n",
      "   {'name': 'Kv11_1', 'stochastic': False, 'location': 'axonal', 'version': None}\n",
      "   {'name': 'Kv12_3', 'stochastic': False, 'location': 'axonal', 'version': None}\n",
      "   {'name': 'Kv10_2', 'stochastic': False, 'location': 'axonal', 'version': None}\n",
      "   {'name': 'Kv11_2', 'stochastic': False, 'location': 'axonal', 'version': None}\n",
      "   {'name': 'Kv11_3', 'stochastic': False, 'location': 'axonal', 'version': None}\n",
      "   {'name': 'Kv12_1', 'stochastic': False, 'location': 'axonal', 'version': None}\n",
      "   {'name': 'Kv7_1', 'stochastic': False, 'location': 'axonal', 'version': None}\n",
      "   {'name': 'Kv7_2', 'stochastic': False, 'location': 'axonal', 'version': None}\n",
      "   {'name': 'Kv7_3', 'stochastic': False, 'location': 'axonal', 'version': None}\n",
      "   {'name': 'Nav1_1', 'stochastic': False, 'location': 'axonal', 'version': None}\n",
      "   {'name': 'Nav1_2', 'stochastic': False, 'location': 'axonal', 'version': None}\n",
      "   {'name': 'Nav1_3', 'stochastic': False, 'location': 'axonal', 'version': None}\n",
      "   {'name': 'Nav1_4', 'stochastic': False, 'location': 'axonal', 'version': None}\n",
      "   {'name': 'Nav1_5', 'stochastic': False, 'location': 'axonal', 'version': None}\n",
      "   {'name': 'Nav1_6', 'stochastic': False, 'location': 'axonal', 'version': None}\n",
      "   {'name': 'Nav1_7', 'stochastic': False, 'location': 'axonal', 'version': None}\n",
      "   {'name': 'HCN1', 'stochastic': False, 'location': 'axonal', 'version': None}\n",
      "   {'name': 'HCN2', 'stochastic': False, 'location': 'axonal', 'version': None}\n",
      "   {'name': 'HCN4', 'stochastic': False, 'location': 'axonal', 'version': None}\n",
      "   {'name': 'CaDynamics_DC0', 'stochastic': False, 'location': 'somatic', 'version': None}\n",
      "   {'name': 'Ca_HVA2', 'stochastic': False, 'location': 'somatic', 'version': None}\n",
      "   {'name': 'Ca_LVAst', 'stochastic': False, 'location': 'somatic', 'version': None}\n",
      "   {'name': 'SK_E2', 'stochastic': False, 'location': 'somatic', 'version': None}\n",
      "   {'name': 'Kv1_1', 'stochastic': False, 'location': 'somatic', 'version': None}\n",
      "   {'name': 'Kv1_2', 'stochastic': False, 'location': 'somatic', 'version': None}\n",
      "   {'name': 'Kv1_3', 'stochastic': False, 'location': 'somatic', 'version': None}\n",
      "   {'name': 'Kv1_4', 'stochastic': False, 'location': 'somatic', 'version': None}\n",
      "   {'name': 'Kv1_5', 'stochastic': False, 'location': 'somatic', 'version': None}\n",
      "   {'name': 'Kv1_6', 'stochastic': False, 'location': 'somatic', 'version': None}\n",
      "   {'name': 'Kv1_7', 'stochastic': False, 'location': 'somatic', 'version': None}\n",
      "   {'name': 'Kv2_1', 'stochastic': False, 'location': 'somatic', 'version': None}\n",
      "   {'name': 'Kv2_2', 'stochastic': False, 'location': 'somatic', 'version': None}\n",
      "   {'name': 'Kv3_1', 'stochastic': False, 'location': 'somatic', 'version': None}\n",
      "   {'name': 'Kv3_2', 'stochastic': False, 'location': 'somatic', 'version': None}\n",
      "   {'name': 'Kv3_3', 'stochastic': False, 'location': 'somatic', 'version': None}\n",
      "   {'name': 'Kv3_4', 'stochastic': False, 'location': 'somatic', 'version': None}\n",
      "   {'name': 'Kv4_1', 'stochastic': False, 'location': 'somatic', 'version': None}\n",
      "   {'name': 'Kv4_2', 'stochastic': False, 'location': 'somatic', 'version': None}\n",
      "   {'name': 'Kv4_3', 'stochastic': False, 'location': 'somatic', 'version': None}\n",
      "   {'name': 'Kv10_1', 'stochastic': False, 'location': 'somatic', 'version': None}\n",
      "   {'name': 'Kv11_1', 'stochastic': False, 'location': 'somatic', 'version': None}\n",
      "   {'name': 'Kv12_3', 'stochastic': False, 'location': 'somatic', 'version': None}\n",
      "   {'name': 'Kv10_2', 'stochastic': False, 'location': 'somatic', 'version': None}\n",
      "   {'name': 'Kv11_2', 'stochastic': False, 'location': 'somatic', 'version': None}\n",
      "   {'name': 'Kv11_3', 'stochastic': False, 'location': 'somatic', 'version': None}\n",
      "   {'name': 'Kv12_1', 'stochastic': False, 'location': 'somatic', 'version': None}\n",
      "   {'name': 'Kv7_1', 'stochastic': False, 'location': 'somatic', 'version': None}\n",
      "   {'name': 'Kv7_2', 'stochastic': False, 'location': 'somatic', 'version': None}\n",
      "   {'name': 'Kv7_3', 'stochastic': False, 'location': 'somatic', 'version': None}\n",
      "   {'name': 'Nav1_1', 'stochastic': False, 'location': 'somatic', 'version': None}\n",
      "   {'name': 'Nav1_2', 'stochastic': False, 'location': 'somatic', 'version': None}\n",
      "   {'name': 'Nav1_3', 'stochastic': False, 'location': 'somatic', 'version': None}\n",
      "   {'name': 'Nav1_4', 'stochastic': False, 'location': 'somatic', 'version': None}\n",
      "   {'name': 'Nav1_5', 'stochastic': False, 'location': 'somatic', 'version': None}\n",
      "   {'name': 'Nav1_6', 'stochastic': False, 'location': 'somatic', 'version': None}\n",
      "   {'name': 'Nav1_7', 'stochastic': False, 'location': 'somatic', 'version': None}\n",
      "   {'name': 'Ca_HVA2', 'stochastic': False, 'location': 'apical', 'version': None}\n",
      "   {'name': 'Ca_LVAst', 'stochastic': False, 'location': 'apical', 'version': None}\n",
      "   {'name': 'SK_E2', 'stochastic': False, 'location': 'apical', 'version': None}\n",
      "   {'name': 'Kv1_1', 'stochastic': False, 'location': 'apical', 'version': None}\n",
      "   {'name': 'Kv1_2', 'stochastic': False, 'location': 'apical', 'version': None}\n",
      "   {'name': 'Kv1_3', 'stochastic': False, 'location': 'apical', 'version': None}\n",
      "   {'name': 'Kv1_4', 'stochastic': False, 'location': 'apical', 'version': None}\n",
      "   {'name': 'Kv1_5', 'stochastic': False, 'location': 'apical', 'version': None}\n",
      "   {'name': 'Kv1_6', 'stochastic': False, 'location': 'apical', 'version': None}\n",
      "   {'name': 'Kv1_7', 'stochastic': False, 'location': 'apical', 'version': None}\n",
      "   {'name': 'Kv2_1', 'stochastic': False, 'location': 'apical', 'version': None}\n",
      "   {'name': 'Kv2_2', 'stochastic': False, 'location': 'apical', 'version': None}\n",
      "   {'name': 'Kv3_1', 'stochastic': False, 'location': 'apical', 'version': None}\n",
      "   {'name': 'Kv3_2', 'stochastic': False, 'location': 'apical', 'version': None}\n",
      "   {'name': 'Kv3_3', 'stochastic': False, 'location': 'apical', 'version': None}\n",
      "   {'name': 'Kv3_4', 'stochastic': False, 'location': 'apical', 'version': None}\n",
      "   {'name': 'Kv4_1', 'stochastic': False, 'location': 'apical', 'version': None}\n",
      "   {'name': 'Kv4_2', 'stochastic': False, 'location': 'apical', 'version': None}\n",
      "   {'name': 'Kv4_3', 'stochastic': False, 'location': 'apical', 'version': None}\n",
      "   {'name': 'Kv10_1', 'stochastic': False, 'location': 'apical', 'version': None}\n",
      "   {'name': 'Kv11_1', 'stochastic': False, 'location': 'apical', 'version': None}\n",
      "   {'name': 'Kv12_3', 'stochastic': False, 'location': 'apical', 'version': None}\n",
      "   {'name': 'Kv10_2', 'stochastic': False, 'location': 'apical', 'version': None}\n",
      "   {'name': 'Kv11_2', 'stochastic': False, 'location': 'apical', 'version': None}\n",
      "   {'name': 'Kv11_3', 'stochastic': False, 'location': 'apical', 'version': None}\n",
      "   {'name': 'Kv12_1', 'stochastic': False, 'location': 'apical', 'version': None}\n",
      "   {'name': 'Kv7_1', 'stochastic': False, 'location': 'apical', 'version': None}\n",
      "   {'name': 'Kv7_2', 'stochastic': False, 'location': 'apical', 'version': None}\n",
      "   {'name': 'Kv7_3', 'stochastic': False, 'location': 'apical', 'version': None}\n",
      "   {'name': 'Nav1_1', 'stochastic': False, 'location': 'apical', 'version': None}\n",
      "   {'name': 'Nav1_2', 'stochastic': False, 'location': 'apical', 'version': None}\n",
      "   {'name': 'Nav1_3', 'stochastic': False, 'location': 'apical', 'version': None}\n",
      "   {'name': 'Nav1_4', 'stochastic': False, 'location': 'apical', 'version': None}\n",
      "   {'name': 'Nav1_5', 'stochastic': False, 'location': 'apical', 'version': None}\n",
      "   {'name': 'Nav1_6', 'stochastic': False, 'location': 'apical', 'version': None}\n",
      "   {'name': 'Nav1_7', 'stochastic': False, 'location': 'apical', 'version': None}\n",
      "   {'name': 'Ca_HVA2', 'stochastic': False, 'location': 'basal', 'version': None}\n",
      "   {'name': 'Ca_LVAst', 'stochastic': False, 'location': 'basal', 'version': None}\n",
      "   {'name': 'SK_E2', 'stochastic': False, 'location': 'basal', 'version': None}\n",
      "   {'name': 'Kv1_1', 'stochastic': False, 'location': 'basal', 'version': None}\n",
      "   {'name': 'Kv1_2', 'stochastic': False, 'location': 'basal', 'version': None}\n",
      "   {'name': 'Kv1_3', 'stochastic': False, 'location': 'basal', 'version': None}\n",
      "   {'name': 'Kv1_4', 'stochastic': False, 'location': 'basal', 'version': None}\n",
      "   {'name': 'Kv1_5', 'stochastic': False, 'location': 'basal', 'version': None}\n",
      "   {'name': 'Kv1_6', 'stochastic': False, 'location': 'basal', 'version': None}\n",
      "   {'name': 'Kv1_7', 'stochastic': False, 'location': 'basal', 'version': None}\n",
      "   {'name': 'Kv2_1', 'stochastic': False, 'location': 'basal', 'version': None}\n",
      "   {'name': 'Kv2_2', 'stochastic': False, 'location': 'basal', 'version': None}\n",
      "   {'name': 'Kv3_1', 'stochastic': False, 'location': 'basal', 'version': None}\n",
      "   {'name': 'Kv3_2', 'stochastic': False, 'location': 'basal', 'version': None}\n",
      "   {'name': 'Kv3_3', 'stochastic': False, 'location': 'basal', 'version': None}\n",
      "   {'name': 'Kv3_4', 'stochastic': False, 'location': 'basal', 'version': None}\n",
      "   {'name': 'Kv4_1', 'stochastic': False, 'location': 'basal', 'version': None}\n",
      "   {'name': 'Kv4_2', 'stochastic': False, 'location': 'basal', 'version': None}\n",
      "   {'name': 'Kv4_3', 'stochastic': False, 'location': 'basal', 'version': None}\n",
      "   {'name': 'Kv10_1', 'stochastic': False, 'location': 'basal', 'version': None}\n",
      "   {'name': 'Kv11_1', 'stochastic': False, 'location': 'basal', 'version': None}\n",
      "   {'name': 'Kv12_3', 'stochastic': False, 'location': 'basal', 'version': None}\n",
      "   {'name': 'Kv10_2', 'stochastic': False, 'location': 'basal', 'version': None}\n",
      "   {'name': 'Kv11_2', 'stochastic': False, 'location': 'basal', 'version': None}\n",
      "   {'name': 'Kv11_3', 'stochastic': False, 'location': 'basal', 'version': None}\n",
      "   {'name': 'Kv12_1', 'stochastic': False, 'location': 'basal', 'version': None}\n",
      "   {'name': 'Kv7_1', 'stochastic': False, 'location': 'basal', 'version': None}\n",
      "   {'name': 'Kv7_2', 'stochastic': False, 'location': 'basal', 'version': None}\n",
      "   {'name': 'Kv7_3', 'stochastic': False, 'location': 'basal', 'version': None}\n",
      "   {'name': 'Nav1_1', 'stochastic': False, 'location': 'basal', 'version': None}\n",
      "   {'name': 'Nav1_2', 'stochastic': False, 'location': 'basal', 'version': None}\n",
      "   {'name': 'Nav1_3', 'stochastic': False, 'location': 'basal', 'version': None}\n",
      "   {'name': 'Nav1_4', 'stochastic': False, 'location': 'basal', 'version': None}\n",
      "   {'name': 'Nav1_5', 'stochastic': False, 'location': 'basal', 'version': None}\n",
      "   {'name': 'Nav1_6', 'stochastic': False, 'location': 'basal', 'version': None}\n",
      "   {'name': 'Nav1_7', 'stochastic': False, 'location': 'basal', 'version': None}\n",
      "   {'name': 'HCN1', 'stochastic': False, 'location': 'somadend', 'version': None}\n",
      "   {'name': 'HCN2', 'stochastic': False, 'location': 'somadend', 'version': None}\n",
      "   {'name': 'HCN4', 'stochastic': False, 'location': 'somadend', 'version': None}\n",
      "   {'name': 'CaDynamics_DC0', 'stochastic': False, 'location': 'apical', 'version': None}\n",
      "   {'name': 'CaDynamics_DC0', 'stochastic': False, 'location': 'basal', 'version': None}\n",
      "Distributions:\n",
      "   {'name': 'exp', 'function': '(-0.8696 + 2.087*math.exp(({distance})*0.0031))*{value}', 'soma_ref_location': 0.5}\n",
      "Parameters:\n",
      "   {'name': 'v_init', 'value': -80, 'location': 'global'}\n",
      "   {'name': 'celsius', 'value': 34, 'location': 'global'}\n",
      "   {'name': 'cm', 'value': 0.02, 'location': 'myelinated'}\n",
      "   {'name': 'Ra', 'value': 100, 'location': 'all'}\n",
      "   {'name': 'g_pas', 'value': [1e-05, 6e-05], 'location': 'all', 'mechanism': 'pas'}\n",
      "   {'name': 'e_pas', 'value': [-95, -60], 'location': 'all', 'mechanism': 'pas'}\n",
      "   {'name': 'cm', 'value': 1, 'location': 'axonal'}\n",
      "   {'name': 'ena', 'value': 50, 'location': 'axonal'}\n",
      "   {'name': 'ek', 'value': -90, 'location': 'axonal'}\n",
      "   {'name': 'decay_CaDynamics_DC0', 'value': [20, 300], 'location': 'axonal', 'mechanism': 'CaDynamics_DC0'}\n",
      "   {'name': 'gamma_CaDynamics_DC0', 'value': [0.005, 0.05], 'location': 'axonal', 'mechanism': 'CaDynamics_DC0'}\n",
      "   {'name': 'gCa_HVAbar_Ca_HVA2', 'value': [0, 0.05], 'location': 'axonal', 'mechanism': 'Ca_HVA2'}\n",
      "   {'name': 'gCa_LVAstbar_Ca_LVAst', 'value': [0, 0.05], 'location': 'axonal', 'mechanism': 'Ca_LVAst'}\n",
      "   {'name': 'gSK_E2bar_SK_E2', 'value': [0, 0.075], 'location': 'axonal', 'mechanism': 'SK_E2'}\n",
      "   {'name': 'gKv1_1bar_Kv1_1', 'value': [0, 0.005], 'location': 'axonal', 'mechanism': 'Kv1_1'}\n",
      "   {'name': 'gKv1_2bar_Kv1_2', 'value': [0, 0.005], 'location': 'axonal', 'mechanism': 'Kv1_2'}\n",
      "   {'name': 'gKv1_3bar_Kv1_3', 'value': [0, 0.005], 'location': 'axonal', 'mechanism': 'Kv1_3'}\n",
      "   {'name': 'gKv1_4bar_Kv1_4', 'value': 0, 'location': 'axonal', 'mechanism': 'Kv1_4'}\n",
      "   {'name': 'gKv1_5bar_Kv1_5', 'value': 0, 'location': 'axonal', 'mechanism': 'Kv1_5'}\n",
      "   {'name': 'gKv1_6bar_Kv1_6', 'value': [0, 0.005], 'location': 'axonal', 'mechanism': 'Kv1_6'}\n",
      "   {'name': 'gKv1_7bar_Kv1_7', 'value': 0, 'location': 'axonal', 'mechanism': 'Kv1_7'}\n",
      "   {'name': 'gKv2_1bar_Kv2_1', 'value': [0, 0.005], 'location': 'axonal', 'mechanism': 'Kv2_1'}\n",
      "   {'name': 'gKv2_2bar_Kv2_2', 'value': [0, 0.005], 'location': 'axonal', 'mechanism': 'Kv2_2'}\n",
      "   {'name': 'gKv3_1bar_Kv3_1', 'value': 0, 'location': 'axonal', 'mechanism': 'Kv3_1'}\n",
      "   {'name': 'gKv3_2bar_Kv3_2', 'value': 0, 'location': 'axonal', 'mechanism': 'Kv3_2'}\n",
      "   {'name': 'gKv3_3bar_Kv3_3', 'value': [0, 0.005], 'location': 'axonal', 'mechanism': 'Kv3_3'}\n",
      "   {'name': 'gKv3_4bar_Kv3_4', 'value': [0, 0.005], 'location': 'axonal', 'mechanism': 'Kv3_4'}\n",
      "   {'name': 'gKv4_1bar_Kv4_1', 'value': 0, 'location': 'axonal', 'mechanism': 'Kv4_1'}\n",
      "   {'name': 'gKv4_2bar_Kv4_2', 'value': [0, 0.005], 'location': 'axonal', 'mechanism': 'Kv4_2'}\n",
      "   {'name': 'gKv4_3bar_Kv4_3', 'value': [0, 0.005], 'location': 'axonal', 'mechanism': 'Kv4_3'}\n",
      "   {'name': 'gKv10_1bar_Kv10_1', 'value': 0, 'location': 'axonal', 'mechanism': 'Kv10_1'}\n",
      "   {'name': 'gKv11_1bar_Kv11_1', 'value': 0, 'location': 'axonal', 'mechanism': 'Kv11_1'}\n",
      "   {'name': 'gKv12_3bar_Kv12_3', 'value': 0, 'location': 'axonal', 'mechanism': 'Kv12_3'}\n",
      "   {'name': 'gKv10_2bar_Kv10_2', 'value': 0, 'location': 'axonal', 'mechanism': 'Kv10_2'}\n",
      "   {'name': 'gKv11_2bar_Kv11_2', 'value': [0, 0.005], 'location': 'axonal', 'mechanism': 'Kv11_2'}\n",
      "   {'name': 'gKv11_3bar_Kv11_3', 'value': [0, 0.005], 'location': 'axonal', 'mechanism': 'Kv11_3'}\n",
      "   {'name': 'gKv12_1bar_Kv12_1', 'value': 0, 'location': 'axonal', 'mechanism': 'Kv12_1'}\n",
      "   {'name': 'gKv7_1bar_Kv7_1', 'value': 0, 'location': 'axonal', 'mechanism': 'Kv7_1'}\n",
      "   {'name': 'gKv7_2bar_Kv7_2', 'value': [0, 0.005], 'location': 'axonal', 'mechanism': 'Kv7_2'}\n",
      "   {'name': 'gKv7_3bar_Kv7_3', 'value': [0, 0.005], 'location': 'axonal', 'mechanism': 'Kv7_3'}\n",
      "   {'name': 'gnabar_Nav1_1', 'value': [0, 2], 'location': 'axonal', 'mechanism': 'Nav1_1'}\n",
      "   {'name': 'gnabar_Nav1_2', 'value': [0, 2], 'location': 'axonal', 'mechanism': 'Nav1_2'}\n",
      "   {'name': 'gnabar_Nav1_3', 'value': [0, 2], 'location': 'axonal', 'mechanism': 'Nav1_3'}\n",
      "   {'name': 'gnabar_Nav1_4', 'value': 0, 'location': 'axonal', 'mechanism': 'Nav1_4'}\n",
      "   {'name': 'gnabar_Nav1_5', 'value': 0, 'location': 'axonal', 'mechanism': 'Nav1_5'}\n",
      "   {'name': 'gnabar_Nav1_6', 'value': [0, 2], 'location': 'axonal', 'mechanism': 'Nav1_6'}\n",
      "   {'name': 'gnabar_Nav1_7', 'value': 0, 'location': 'axonal', 'mechanism': 'Nav1_7'}\n",
      "   {'name': 'gIhbar_HCN1', 'value': [0, 1e-05], 'location': 'axonal', 'mechanism': 'HCN1'}\n",
      "   {'name': 'gIhbar_HCN2', 'value': [0, 1e-05], 'location': 'axonal', 'mechanism': 'HCN2'}\n",
      "   {'name': 'gIhbar_HCN4', 'value': 0, 'location': 'axonal', 'mechanism': 'HCN4'}\n",
      "   {'name': 'cm', 'value': 1, 'location': 'somatic'}\n",
      "   {'name': 'ena', 'value': 50, 'location': 'somatic'}\n",
      "   {'name': 'ek', 'value': -90, 'location': 'somatic'}\n",
      "   {'name': 'decay_CaDynamics_DC0', 'value': [20, 300], 'location': 'somatic', 'mechanism': 'CaDynamics_DC0'}\n",
      "   {'name': 'gamma_CaDynamics_DC0', 'value': [0.005, 0.05], 'location': 'somatic', 'mechanism': 'CaDynamics_DC0'}\n",
      "   {'name': 'gCa_HVAbar_Ca_HVA2', 'value': [0, 0.05], 'location': 'somatic', 'mechanism': 'Ca_HVA2'}\n",
      "   {'name': 'gCa_LVAstbar_Ca_LVAst', 'value': [0, 0.05], 'location': 'somatic', 'mechanism': 'Ca_LVAst'}\n",
      "   {'name': 'gSK_E2bar_SK_E2', 'value': [0, 0.075], 'location': 'somatic', 'mechanism': 'SK_E2'}\n",
      "   {'name': 'gKv1_1bar_Kv1_1', 'value': [0, 0.005], 'location': 'somatic', 'mechanism': 'Kv1_1'}\n",
      "   {'name': 'gKv1_2bar_Kv1_2', 'value': [0, 0.005], 'location': 'somatic', 'mechanism': 'Kv1_2'}\n",
      "   {'name': 'gKv1_3bar_Kv1_3', 'value': [0, 0.005], 'location': 'somatic', 'mechanism': 'Kv1_3'}\n",
      "   {'name': 'gKv1_4bar_Kv1_4', 'value': 0, 'location': 'somatic', 'mechanism': 'Kv1_4'}\n",
      "   {'name': 'gKv1_5bar_Kv1_5', 'value': 0, 'location': 'somatic', 'mechanism': 'Kv1_5'}\n",
      "   {'name': 'gKv1_6bar_Kv1_6', 'value': [0, 0.005], 'location': 'somatic', 'mechanism': 'Kv1_6'}\n",
      "   {'name': 'gKv1_7bar_Kv1_7', 'value': 0, 'location': 'somatic', 'mechanism': 'Kv1_7'}\n",
      "   {'name': 'gKv2_1bar_Kv2_1', 'value': [0, 0.005], 'location': 'somatic', 'mechanism': 'Kv2_1'}\n",
      "   {'name': 'gKv2_2bar_Kv2_2', 'value': [0, 0.005], 'location': 'somatic', 'mechanism': 'Kv2_2'}\n",
      "   {'name': 'gKv3_1bar_Kv3_1', 'value': 0, 'location': 'somatic', 'mechanism': 'Kv3_1'}\n",
      "   {'name': 'gKv3_2bar_Kv3_2', 'value': 0, 'location': 'somatic', 'mechanism': 'Kv3_2'}\n",
      "   {'name': 'gKv3_3bar_Kv3_3', 'value': [0, 0.005], 'location': 'somatic', 'mechanism': 'Kv3_3'}\n",
      "   {'name': 'gKv3_4bar_Kv3_4', 'value': [0, 0.005], 'location': 'somatic', 'mechanism': 'Kv3_4'}\n",
      "   {'name': 'gKv4_1bar_Kv4_1', 'value': 0, 'location': 'somatic', 'mechanism': 'Kv4_1'}\n",
      "   {'name': 'gKv4_2bar_Kv4_2', 'value': [0, 0.005], 'location': 'somatic', 'mechanism': 'Kv4_2'}\n",
      "   {'name': 'gKv4_3bar_Kv4_3', 'value': [0, 0.005], 'location': 'somatic', 'mechanism': 'Kv4_3'}\n",
      "   {'name': 'gKv10_1bar_Kv10_1', 'value': 0, 'location': 'somatic', 'mechanism': 'Kv10_1'}\n",
      "   {'name': 'gKv11_1bar_Kv11_1', 'value': 0, 'location': 'somatic', 'mechanism': 'Kv11_1'}\n",
      "   {'name': 'gKv12_3bar_Kv12_3', 'value': 0, 'location': 'somatic', 'mechanism': 'Kv12_3'}\n",
      "   {'name': 'gKv10_2bar_Kv10_2', 'value': 0, 'location': 'somatic', 'mechanism': 'Kv10_2'}\n",
      "   {'name': 'gKv11_2bar_Kv11_2', 'value': [0, 0.005], 'location': 'somatic', 'mechanism': 'Kv11_2'}\n",
      "   {'name': 'gKv11_3bar_Kv11_3', 'value': [0, 0.005], 'location': 'somatic', 'mechanism': 'Kv11_3'}\n",
      "   {'name': 'gKv12_1bar_Kv12_1', 'value': 0, 'location': 'somatic', 'mechanism': 'Kv12_1'}\n",
      "   {'name': 'gKv7_1bar_Kv7_1', 'value': 0, 'location': 'somatic', 'mechanism': 'Kv7_1'}\n",
      "   {'name': 'gKv7_2bar_Kv7_2', 'value': [0, 0.005], 'location': 'somatic', 'mechanism': 'Kv7_2'}\n",
      "   {'name': 'gKv7_3bar_Kv7_3', 'value': [0, 0.005], 'location': 'somatic', 'mechanism': 'Kv7_3'}\n",
      "   {'name': 'gnabar_Nav1_1', 'value': [0, 1], 'location': 'somatic', 'mechanism': 'Nav1_1'}\n",
      "   {'name': 'gnabar_Nav1_2', 'value': [0, 1], 'location': 'somatic', 'mechanism': 'Nav1_2'}\n",
      "   {'name': 'gnabar_Nav1_3', 'value': [0, 1], 'location': 'somatic', 'mechanism': 'Nav1_3'}\n",
      "   {'name': 'gnabar_Nav1_4', 'value': 0, 'location': 'somatic', 'mechanism': 'Nav1_4'}\n",
      "   {'name': 'gnabar_Nav1_5', 'value': 0, 'location': 'somatic', 'mechanism': 'Nav1_5'}\n",
      "   {'name': 'gnabar_Nav1_6', 'value': [0, 1], 'location': 'somatic', 'mechanism': 'Nav1_6'}\n",
      "   {'name': 'gnabar_Nav1_7', 'value': 0, 'location': 'somatic', 'mechanism': 'Nav1_7'}\n",
      "   {'name': 'cm', 'value': 2, 'location': 'apical'}\n",
      "   {'name': 'ena', 'value': 50, 'location': 'apical'}\n",
      "   {'name': 'ek', 'value': -90, 'location': 'apical'}\n",
      "   {'name': 'gCa_HVAbar_Ca_HVA2', 'value': [0, 0.0001], 'location': 'apical', 'mechanism': 'Ca_HVA2'}\n",
      "   {'name': 'gCa_LVAstbar_Ca_LVAst', 'value': [0, 0.001], 'location': 'apical', 'mechanism': 'Ca_LVAst'}\n",
      "   {'name': 'gSK_E2bar_SK_E2', 'value': [0, 0.0005], 'location': 'apical', 'mechanism': 'SK_E2'}\n",
      "   {'name': 'gKv1_1bar_Kv1_1', 'value': [0, 0.0005], 'location': 'apical', 'mechanism': 'Kv1_1'}\n",
      "   {'name': 'gKv1_2bar_Kv1_2', 'value': [0, 0.0005], 'location': 'apical', 'mechanism': 'Kv1_2'}\n",
      "   {'name': 'gKv1_3bar_Kv1_3', 'value': [0, 0.0005], 'location': 'apical', 'mechanism': 'Kv1_3'}\n",
      "   {'name': 'gKv1_4bar_Kv1_4', 'value': 0, 'location': 'apical', 'mechanism': 'Kv1_4'}\n",
      "   {'name': 'gKv1_5bar_Kv1_5', 'value': 0, 'location': 'apical', 'mechanism': 'Kv1_5'}\n",
      "   {'name': 'gKv1_6bar_Kv1_6', 'value': [0, 0.0005], 'location': 'apical', 'mechanism': 'Kv1_6'}\n",
      "   {'name': 'gKv1_7bar_Kv1_7', 'value': 0, 'location': 'apical', 'mechanism': 'Kv1_7'}\n",
      "   {'name': 'gKv2_1bar_Kv2_1', 'value': [0, 0.0005], 'location': 'apical', 'mechanism': 'Kv2_1'}\n",
      "   {'name': 'gKv2_2bar_Kv2_2', 'value': [0, 0.0005], 'location': 'apical', 'mechanism': 'Kv2_2'}\n",
      "   {'name': 'gKv3_1bar_Kv3_1', 'value': 0, 'location': 'apical', 'mechanism': 'Kv3_1'}\n",
      "   {'name': 'gKv3_2bar_Kv3_2', 'value': 0, 'location': 'apical', 'mechanism': 'Kv3_2'}\n",
      "   {'name': 'gKv3_3bar_Kv3_3', 'value': [0, 0.0005], 'location': 'apical', 'mechanism': 'Kv3_3'}\n",
      "   {'name': 'gKv3_4bar_Kv3_4', 'value': [0, 0.0005], 'location': 'apical', 'mechanism': 'Kv3_4'}\n",
      "   {'name': 'gKv4_1bar_Kv4_1', 'value': 0, 'location': 'apical', 'mechanism': 'Kv4_1'}\n",
      "   {'name': 'gKv4_2bar_Kv4_2', 'value': [0, 0.0005], 'location': 'apical', 'mechanism': 'Kv4_2'}\n",
      "   {'name': 'gKv4_3bar_Kv4_3', 'value': [0, 0.0005], 'location': 'apical', 'mechanism': 'Kv4_3'}\n",
      "   {'name': 'gKv10_1bar_Kv10_1', 'value': 0, 'location': 'apical', 'mechanism': 'Kv10_1'}\n",
      "   {'name': 'gKv11_1bar_Kv11_1', 'value': 0, 'location': 'apical', 'mechanism': 'Kv11_1'}\n",
      "   {'name': 'gKv12_3bar_Kv12_3', 'value': 0, 'location': 'apical', 'mechanism': 'Kv12_3'}\n",
      "   {'name': 'gKv10_2bar_Kv10_2', 'value': 0, 'location': 'apical', 'mechanism': 'Kv10_2'}\n",
      "   {'name': 'gKv11_2bar_Kv11_2', 'value': [0, 0.0005], 'location': 'apical', 'mechanism': 'Kv11_2'}\n",
      "   {'name': 'gKv11_3bar_Kv11_3', 'value': [0, 0.0005], 'location': 'apical', 'mechanism': 'Kv11_3'}\n",
      "   {'name': 'gKv12_1bar_Kv12_1', 'value': 0, 'location': 'apical', 'mechanism': 'Kv12_1'}\n",
      "   {'name': 'gKv7_1bar_Kv7_1', 'value': 0, 'location': 'apical', 'mechanism': 'Kv7_1'}\n",
      "   {'name': 'gKv7_2bar_Kv7_2', 'value': [0, 0.0005], 'location': 'apical', 'mechanism': 'Kv7_2'}\n",
      "   {'name': 'gKv7_3bar_Kv7_3', 'value': [0, 0.0005], 'location': 'apical', 'mechanism': 'Kv7_3'}\n",
      "   {'name': 'gnabar_Nav1_1', 'value': [0, 0.005], 'location': 'apical', 'mechanism': 'Nav1_1'}\n",
      "   {'name': 'gnabar_Nav1_2', 'value': [0, 0.005], 'location': 'apical', 'mechanism': 'Nav1_2'}\n",
      "   {'name': 'gnabar_Nav1_3', 'value': [0, 0.005], 'location': 'apical', 'mechanism': 'Nav1_3'}\n",
      "   {'name': 'gnabar_Nav1_4', 'value': 0, 'location': 'apical', 'mechanism': 'Nav1_4'}\n",
      "   {'name': 'gnabar_Nav1_5', 'value': 0, 'location': 'apical', 'mechanism': 'Nav1_5'}\n",
      "   {'name': 'gnabar_Nav1_6', 'value': [0, 0.005], 'location': 'apical', 'mechanism': 'Nav1_6'}\n",
      "   {'name': 'gnabar_Nav1_7', 'value': 0, 'location': 'apical', 'mechanism': 'Nav1_7'}\n",
      "   {'name': 'cm', 'value': 2, 'location': 'basal'}\n",
      "   {'name': 'ena', 'value': 50, 'location': 'basal'}\n",
      "   {'name': 'ek', 'value': -90, 'location': 'basal'}\n",
      "   {'name': 'gCa_HVAbar_Ca_HVA2', 'value': [0, 0.0001], 'location': 'basal', 'mechanism': 'Ca_HVA2'}\n",
      "   {'name': 'gCa_LVAstbar_Ca_LVAst', 'value': [0, 0.001], 'location': 'basal', 'mechanism': 'Ca_LVAst'}\n",
      "   {'name': 'gSK_E2bar_SK_E2', 'value': [0, 0.0005], 'location': 'basal', 'mechanism': 'SK_E2'}\n",
      "   {'name': 'gKv1_1bar_Kv1_1', 'value': [0, 0.0005], 'location': 'basal', 'mechanism': 'Kv1_1'}\n",
      "   {'name': 'gKv1_2bar_Kv1_2', 'value': [0, 0.0005], 'location': 'basal', 'mechanism': 'Kv1_2'}\n",
      "   {'name': 'gKv1_3bar_Kv1_3', 'value': [0, 0.0005], 'location': 'basal', 'mechanism': 'Kv1_3'}\n",
      "   {'name': 'gKv1_4bar_Kv1_4', 'value': 0, 'location': 'basal', 'mechanism': 'Kv1_4'}\n",
      "   {'name': 'gKv1_5bar_Kv1_5', 'value': 0, 'location': 'basal', 'mechanism': 'Kv1_5'}\n",
      "   {'name': 'gKv1_6bar_Kv1_6', 'value': [0, 0.0005], 'location': 'basal', 'mechanism': 'Kv1_6'}\n",
      "   {'name': 'gKv1_7bar_Kv1_7', 'value': 0, 'location': 'basal', 'mechanism': 'Kv1_7'}\n",
      "   {'name': 'gKv2_1bar_Kv2_1', 'value': [0, 0.0005], 'location': 'basal', 'mechanism': 'Kv2_1'}\n",
      "   {'name': 'gKv2_2bar_Kv2_2', 'value': [0, 0.0005], 'location': 'basal', 'mechanism': 'Kv2_2'}\n",
      "   {'name': 'gKv3_1bar_Kv3_1', 'value': 0, 'location': 'basal', 'mechanism': 'Kv3_1'}\n",
      "   {'name': 'gKv3_2bar_Kv3_2', 'value': 0, 'location': 'basal', 'mechanism': 'Kv3_2'}\n",
      "   {'name': 'gKv3_3bar_Kv3_3', 'value': [0, 0.0005], 'location': 'basal', 'mechanism': 'Kv3_3'}\n",
      "   {'name': 'gKv3_4bar_Kv3_4', 'value': [0, 0.0005], 'location': 'basal', 'mechanism': 'Kv3_4'}\n",
      "   {'name': 'gKv4_1bar_Kv4_1', 'value': 0, 'location': 'basal', 'mechanism': 'Kv4_1'}\n",
      "   {'name': 'gKv4_2bar_Kv4_2', 'value': [0, 0.0005], 'location': 'basal', 'mechanism': 'Kv4_2'}\n",
      "   {'name': 'gKv4_3bar_Kv4_3', 'value': [0, 0.0005], 'location': 'basal', 'mechanism': 'Kv4_3'}\n",
      "   {'name': 'gKv10_1bar_Kv10_1', 'value': 0, 'location': 'basal', 'mechanism': 'Kv10_1'}\n",
      "   {'name': 'gKv11_1bar_Kv11_1', 'value': 0, 'location': 'basal', 'mechanism': 'Kv11_1'}\n",
      "   {'name': 'gKv12_3bar_Kv12_3', 'value': 0, 'location': 'basal', 'mechanism': 'Kv12_3'}\n",
      "   {'name': 'gKv10_2bar_Kv10_2', 'value': 0, 'location': 'basal', 'mechanism': 'Kv10_2'}\n",
      "   {'name': 'gKv11_2bar_Kv11_2', 'value': [0, 0.0005], 'location': 'basal', 'mechanism': 'Kv11_2'}\n",
      "   {'name': 'gKv11_3bar_Kv11_3', 'value': [0, 0.0005], 'location': 'basal', 'mechanism': 'Kv11_3'}\n",
      "   {'name': 'gKv12_1bar_Kv12_1', 'value': 0, 'location': 'basal', 'mechanism': 'Kv12_1'}\n",
      "   {'name': 'gKv7_1bar_Kv7_1', 'value': 0, 'location': 'basal', 'mechanism': 'Kv7_1'}\n",
      "   {'name': 'gKv7_2bar_Kv7_2', 'value': [0, 0.0005], 'location': 'basal', 'mechanism': 'Kv7_2'}\n",
      "   {'name': 'gKv7_3bar_Kv7_3', 'value': [0, 0.0005], 'location': 'basal', 'mechanism': 'Kv7_3'}\n",
      "   {'name': 'gnabar_Nav1_1', 'value': [0, 0.005], 'location': 'basal', 'mechanism': 'Nav1_1'}\n",
      "   {'name': 'gnabar_Nav1_2', 'value': [0, 0.005], 'location': 'basal', 'mechanism': 'Nav1_2'}\n",
      "   {'name': 'gnabar_Nav1_3', 'value': [0, 0.005], 'location': 'basal', 'mechanism': 'Nav1_3'}\n",
      "   {'name': 'gnabar_Nav1_4', 'value': 0, 'location': 'basal', 'mechanism': 'Nav1_4'}\n",
      "   {'name': 'gnabar_Nav1_5', 'value': 0, 'location': 'basal', 'mechanism': 'Nav1_5'}\n",
      "   {'name': 'gnabar_Nav1_6', 'value': [0, 0.005], 'location': 'basal', 'mechanism': 'Nav1_6'}\n",
      "   {'name': 'gnabar_Nav1_7', 'value': 0, 'location': 'basal', 'mechanism': 'Nav1_7'}\n",
      "   {'name': 'gIhbar_HCN1', 'value': [0, 0.0002], 'location': 'somadend', 'distribution': 'exp', 'mechanism': 'HCN1'}\n",
      "   {'name': 'gIhbar_HCN2', 'value': [0, 0.0002], 'location': 'somadend', 'distribution': 'exp', 'mechanism': 'HCN2'}\n",
      "   {'name': 'gIhbar_HCN4', 'value': 0, 'location': 'somadend', 'mechanism': 'HCN4'}\n",
      "Morphology:\n",
      "   {'name': 'ak180118_C_idD', 'format': None, 'path': 'nexus_temp/ak180118_C_idD.swc', 'seclist_names': None, 'secarray_names': None, 'section_index': None}\n",
      "\n"
     ]
    }
   ],
   "source": [
    "from bluepyemodel.model.model_configurator import ModelConfigurator\n",
    "\n",
    "configurator = ModelConfigurator(access_point)\n",
    "configurator.load_configuration()\n",
    "\n",
    "print(configurator.configuration)"
   ]
  },
  {
   "cell_type": "markdown",
   "metadata": {},
   "source": [
    "## Adding Mechanisms, Distributions, Parameters or Morphology"
   ]
  },
  {
   "cell_type": "markdown",
   "metadata": {},
   "source": [
    "You are now able to modify the neuron model configuration. Below is an example where a mechanism, a distribution and a parameter are added to the other mechanisms, distributions and parameters of the neuron model configuration, and where the morphology is changed to another one."
   ]
  },
  {
   "cell_type": "code",
   "execution_count": 10,
   "metadata": {},
   "outputs": [],
   "source": [
    "from bluepyemodel.model.morphology_configuration import MorphologyConfiguration"
   ]
  },
  {
   "cell_type": "code",
   "execution_count": 11,
   "metadata": {},
   "outputs": [],
   "source": [
    "# add distribution\n",
    "configurator.configuration.add_distribution(\n",
    "    distribution_name=\"decay\",\n",
    "    function=\"math.exp({distance}*{constant})*{value}\",\n",
    "    parameters=[\"constant\"],\n",
    ")"
   ]
  },
  {
   "cell_type": "code",
   "execution_count": 12,
   "metadata": {},
   "outputs": [],
   "source": [
    "# add two parameters\n",
    "configurator.configuration.add_parameter(\n",
    "    parameter_name=\"constant\",\n",
    "    locations=\"distribution_decay\",\n",
    "    value=[-0.1,0.0],\n",
    "    mechanism=None,\n",
    "    distribution_name=None,\n",
    "    stochastic=None,\n",
    ")\n",
    "configurator.configuration.add_parameter(\n",
    "    parameter_name=\"gNaTgbar_NaTg\",\n",
    "    locations=\"apical\",\n",
    "    value=[0.0, 0.1],\n",
    "    mechanism=\"NaTg\",\n",
    "    distribution_name=\"decay\",\n",
    "    stochastic=None,\n",
    ")"
   ]
  },
  {
   "cell_type": "code",
   "execution_count": 13,
   "metadata": {},
   "outputs": [],
   "source": [
    "# add mechanism\n",
    "configurator.configuration.add_mechanism(\n",
    "    mechanism_name=\"NaTg\",\n",
    "    locations=\"apical\",\n",
    "    stochastic=None,\n",
    "    version=None,\n",
    ")"
   ]
  },
  {
   "cell_type": "code",
   "execution_count": 14,
   "metadata": {},
   "outputs": [],
   "source": [
    "# change morphology\n",
    "configurator.configuration.morphology = MorphologyConfiguration(name=\"ak171123_C_idA\")"
   ]
  },
  {
   "cell_type": "markdown",
   "metadata": {},
   "source": [
    "## Removing Parameters, Mechanisms, and Distributions"
   ]
  },
  {
   "cell_type": "markdown",
   "metadata": {},
   "source": [
    "Here, we will see how to remove parameters, mechanisms and distributions. For the sake of simplicity, we will remove the ones that we just added."
   ]
  },
  {
   "cell_type": "code",
   "execution_count": 15,
   "metadata": {},
   "outputs": [],
   "source": [
    "# remove parameter\n",
    "configurator.configuration.remove_parameter(parameter_name=\"constant\")"
   ]
  },
  {
   "cell_type": "markdown",
   "metadata": {},
   "source": [
    "When a mechanism is removed, it also remove all associated parameters. Here, 'gNaTgbar_NaTg' parameter will be removed as well"
   ]
  },
  {
   "cell_type": "code",
   "execution_count": 16,
   "metadata": {},
   "outputs": [],
   "source": [
    "# remove mechanism\n",
    "configurator.configuration.remove_mechanism(mechanism_name=\"NaTg\")"
   ]
  },
  {
   "cell_type": "markdown",
   "metadata": {},
   "source": [
    "There is no function to remove a distribution, but if you want to remove one nonetheless, you can use this code below."
   ]
  },
  {
   "cell_type": "code",
   "execution_count": 17,
   "metadata": {},
   "outputs": [],
   "source": [
    "# remove a distribution\n",
    "distribution_name = \"decay\"\n",
    "configurator.configuration.distributions = [d for d in configurator.configuration.distributions if d.name != distribution_name]"
   ]
  },
  {
   "cell_type": "markdown",
   "metadata": {},
   "source": [
    "## Saving the NeuronModelConfiguration"
   ]
  },
  {
   "cell_type": "markdown",
   "metadata": {},
   "source": [
    "If there is no optimised model in your access point, you can store the new neuron model configuration as it is.\n",
    "\n",
    "However, if there is an optimised model in your access point, you might want to use a new access point with an unused iteration tag in ordrer to not have a conflict with the existing model.\n",
    "\n",
    "In this example, since we have just created the access point without optimising any model yet, we will keep it for storing the neuron model configuration. However, we will need to deprecate the NeuronModelConfiguration first."
   ]
  },
  {
   "cell_type": "code",
   "execution_count": 19,
   "metadata": {},
   "outputs": [
    {
     "name": "stdout",
     "output_type": "stream",
     "text": [
      "<action> _deprecate_one\n",
      "<succeeded> True\n",
      "<action> _register_one\n",
      "<succeeded> True\n"
     ]
    }
   ],
   "source": [
    "# store new model config\n",
    "configurator.save_configuration()"
   ]
  },
  {
   "cell_type": "markdown",
   "metadata": {},
   "source": [
    "## Trying if the optimisation work:"
   ]
  },
  {
   "cell_type": "markdown",
   "metadata": {},
   "source": [
    "Go to your folder containing the mechanisms (usually in nexus_tmp/emodel={emodel}\\__itaration_tag={iteration_tag}\\__ttype={ttype}) and compile them. Then, you can try if the optimisation works using the pipeline:"
   ]
  },
  {
   "cell_type": "markdown",
   "metadata": {},
   "source": [
    "```\n",
    "extraction:\n",
    "python pipeline.py --step=extract --emodel=EMODEL_NAME --iteration_tag=ITERATION_TAG --ttype=TTYPE\n",
    "optimisation:\n",
    "python pipeline.py --step=test_optimize --emodel=EMODEL_NAME --iteration_tag=ITERATION_TAG --ttype=TTYPE\n",
    "```"
   ]
  },
  {
   "cell_type": "code",
   "execution_count": null,
   "metadata": {},
   "outputs": [],
   "source": []
  }
 ],
 "metadata": {
  "kernelspec": {
   "display_name": "myvenv",
   "language": "python",
   "name": "myvenv"
  },
  "language_info": {
   "codemirror_mode": {
    "name": "ipython",
    "version": 3
   },
   "file_extension": ".py",
   "mimetype": "text/x-python",
   "name": "python",
   "nbconvert_exporter": "python",
   "pygments_lexer": "ipython3",
   "version": "3.9.7"
  }
 },
 "nbformat": 4,
 "nbformat_minor": 4
}
