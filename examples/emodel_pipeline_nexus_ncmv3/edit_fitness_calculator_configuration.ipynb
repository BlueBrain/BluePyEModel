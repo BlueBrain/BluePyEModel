{
 "cells": [
  {
   "cell_type": "markdown",
   "metadata": {},
   "source": [
    "To run this notebook, you need to already have a FitnessCalculatorConfiguration in Nexus. Therefore, I recomment to do the configuration and extraction through python before running this notebook:\n",
    "```\n",
    "python pipeline.py --step=configure_nexus --emodel=EMODEL_NAME --iteration_tag=ITERATION_TAG --ttype=TTYPE\n",
    "python pipeline.py --step=configure_model_from_gene --emodel=EMODEL_NAME --iteration_tag=ITERATION_TAG --ttype=TTYPE\n",
    "python pipeline.py --step=extract --emodel=EMODEL_NAME --iteration_tag=ITERATION_TAG --ttype=TTYPE\n",
    "```"
   ]
  },
  {
   "cell_type": "markdown",
   "metadata": {},
   "source": [
    "## Loading the FitnessCalculatorConfiguration"
   ]
  },
  {
   "cell_type": "code",
   "execution_count": 1,
   "metadata": {},
   "outputs": [],
   "source": [
    "species = \"mouse\"\n",
    "brain_region = \"SSCX\"\n",
    "data_access_point = \"nexus\"\n",
    "nexus_project = \"ncmv3\"\n",
    "nexus_organisation = \"bbp\"\n",
    "nexus_endpoint = \"prod\"\n",
    "forge_path = \"./forge.yml\"\n",
    "\n",
    "emodel = \"L5_TPC:A_cAC\"\n",
    "ttype = \"L5 ET_8\"\n",
    "iteration_tag = \"v0\""
   ]
  },
  {
   "cell_type": "markdown",
   "metadata": {},
   "source": [
    "This next cell will ask for your Nexus token:"
   ]
  },
  {
   "cell_type": "code",
   "execution_count": 2,
   "metadata": {},
   "outputs": [
    {
     "name": "stdin",
     "output_type": "stream",
     "text": [
      " ·····························································································································································································································································································································································································································································································································································································································································································································································································································································································································································································································································································································································································································································································································································································································································································································································································\n"
     ]
    }
   ],
   "source": [
    "from bluepyemodel.access_point.nexus import NexusAccessPoint\n",
    "\n",
    "access_point = NexusAccessPoint(\n",
    "    emodel=emodel,\n",
    "    species=species,\n",
    "    brain_region=brain_region,\n",
    "    project=\"ncmv3\",\n",
    "    organisation=\"bbp\",\n",
    "    endpoint=\"https://bbp.epfl.ch/nexus/v1\",\n",
    "    forge_path=forge_path,\n",
    "    ttype=ttype,\n",
    "    iteration_tag=iteration_tag\n",
    ")"
   ]
  },
  {
   "cell_type": "code",
   "execution_count": 3,
   "metadata": {},
   "outputs": [
    {
     "name": "stdout",
     "output_type": "stream",
     "text": [
      "Fitness Calculator Configuration:\n",
      "\n",
      "Protocols:\n",
      "   {'name': 'IDRest_140', 'stimuli': [{'amp': 0.34121546350888576, 'delay': 250.0, 'duration': 1100.0, 'holding_current': -0.11401041566083829, 'thresh_perc': 142.08060963003956, 'totduration': 2328.125}], 'recordings': [{'type': 'CompRecording', 'location': 'soma', 'name': 'IDRest_140.soma.v', 'variable': 'v'}], 'validation': False}\n",
      "   {'name': 'IDRest_180', 'stimuli': [{'amp': 0.43078548215426415, 'delay': 250.0, 'duration': 1100.0, 'holding_current': -0.13150815001648405, 'thresh_perc': 179.37716917877748, 'totduration': 2358.695652173913}], 'recordings': [{'type': 'CompRecording', 'location': 'soma', 'name': 'IDRest_180.soma.v', 'variable': 'v'}], 'validation': False}\n",
      "   {'name': 'IDRest_260', 'stimuli': [{'amp': 0.6267264227033006, 'delay': 250.0, 'duration': 1100.0, 'holding_current': -0.11797499909996986, 'thresh_perc': 260.96611007378897, 'totduration': 2300.0}], 'recordings': [{'type': 'CompRecording', 'location': 'soma', 'name': 'IDRest_260.soma.v', 'variable': 'v'}], 'validation': False}\n",
      "   {'name': 'IV_-100', 'stimuli': [{'amp': -0.23591005349869854, 'delay': 250.0, 'duration': 3000.0, 'holding_current': -0.1286132795503363, 'thresh_perc': -98.23190272288895, 'totduration': 3500.0}], 'recordings': [{'type': 'CompRecording', 'location': 'soma', 'name': 'IV_-100.soma.v', 'variable': 'v'}], 'validation': False}\n",
      "   {'name': 'IV_-40', 'stimuli': [{'amp': -0.10029819001205648, 'delay': 250.0, 'duration': 3000.0, 'holding_current': -0.12861327978316694, 'thresh_perc': -41.763722649490724, 'totduration': 3500.0}], 'recordings': [{'type': 'CompRecording', 'location': 'soma', 'name': 'IV_-40.soma.v', 'variable': 'v'}], 'validation': False}\n",
      "   {'name': 'IV_0', 'stimuli': [{'amp': 4.1854633993835495e-05, 'delay': 250.0, 'duration': 3000.0, 'holding_current': -0.1286621083272621, 'thresh_perc': 0.017428084450022183, 'totduration': 3500.0}], 'recordings': [{'type': 'CompRecording', 'location': 'soma', 'name': 'IV_0.soma.v', 'variable': 'v'}], 'validation': False}\n",
      "   {'name': 'APWaveform_220', 'stimuli': [{'amp': 0.5234411141292842, 'delay': 250.0, 'duration': 200.0, 'holding_current': -0.14360118781526884, 'thresh_perc': 217.95856446869112, 'totduration': 803.5714285714286}], 'recordings': [{'type': 'CompRecording', 'location': 'soma', 'name': 'APWaveform_220.soma.v', 'variable': 'v'}], 'validation': False}\n",
      "EFeatures:\n",
      "   {'efel_feature_name': 'AP_height', 'protocol_name': 'IDRest_140', 'recording_name': 'soma.v', 'efel_settings': {'Threshold': -20.0, 'interp_step': 0.025, 'strict_stiminterval': True}, 'mean': 14.108762130009778, 'std': 4.945663630476327}\n",
      "   {'efel_feature_name': 'ISI_CV', 'protocol_name': 'IDRest_140', 'recording_name': 'soma.v', 'efel_settings': {'Threshold': -20.0, 'interp_step': 0.025, 'strict_stiminterval': True}, 'mean': 0.15736502571955926, 'std': 0.15894054555613132}\n",
      "   {'efel_feature_name': 'doublet_ISI', 'protocol_name': 'IDRest_140', 'recording_name': 'soma.v', 'efel_settings': {'Threshold': -20.0, 'interp_step': 0.025, 'strict_stiminterval': True}, 'mean': 243.01304347809585, 'std': 229.76491824459228}\n",
      "   {'efel_feature_name': 'adaptation_index2', 'protocol_name': 'IDRest_140', 'recording_name': 'soma.v', 'efel_settings': {'Threshold': -20.0, 'interp_step': 0.025, 'strict_stiminterval': True}, 'mean': -0.006628919646983918, 'std': 0.10057069258506694}\n",
      "   {'efel_feature_name': 'mean_frequency', 'protocol_name': 'IDRest_140', 'recording_name': 'soma.v', 'efel_settings': {'Threshold': -20.0, 'interp_step': 0.025, 'strict_stiminterval': True}, 'mean': 7.725091935525307, 'std': 6.321382424082617}\n",
      "   {'efel_feature_name': 'AHP_depth_abs_slow', 'protocol_name': 'IDRest_140', 'recording_name': 'soma.v', 'efel_settings': {'Threshold': -20.0, 'interp_step': 0.025, 'strict_stiminterval': True}, 'mean': -67.76439319878607, 'std': 3.3882196599393035}\n",
      "   {'efel_feature_name': 'AP_width', 'protocol_name': 'IDRest_140', 'recording_name': 'soma.v', 'efel_settings': {'Threshold': -20.0, 'interp_step': 0.025, 'strict_stiminterval': True}, 'mean': 1.3255716014314374, 'std': 0.2971371525855743}\n",
      "   {'efel_feature_name': 'time_to_first_spike', 'protocol_name': 'IDRest_140', 'recording_name': 'soma.v', 'efel_settings': {'Threshold': -20.0, 'interp_step': 0.025, 'strict_stiminterval': True}, 'mean': 53.274999999998045, 'std': 81.0937433364706}\n",
      "   {'efel_feature_name': 'AHP_depth_abs', 'protocol_name': 'IDRest_140', 'recording_name': 'soma.v', 'efel_settings': {'Threshold': -20.0, 'interp_step': 0.025, 'strict_stiminterval': True}, 'mean': -64.8878825559651, 'std': 3.6813358819389816}\n",
      "   {'efel_feature_name': 'ISI_log_slope', 'protocol_name': 'IDRest_140', 'recording_name': 'soma.v', 'efel_settings': {'Threshold': -20.0, 'interp_step': 0.025, 'strict_stiminterval': True}, 'mean': -0.020190742768084333, 'std': 0.31934160210183504}\n",
      "   {'efel_feature_name': 'ISI_log_slope_skip', 'protocol_name': 'IDRest_140', 'recording_name': 'soma.v', 'efel_settings': {'Threshold': -20.0, 'interp_step': 0.025, 'strict_stiminterval': True}, 'mean': -0.0775941383473818, 'std': 0.343114032951197}\n",
      "   {'efel_feature_name': 'voltage_base', 'protocol_name': 'IDRest_140', 'recording_name': 'soma.v', 'efel_settings': {'Threshold': -20.0, 'interp_step': 0.025, 'strict_stiminterval': True}, 'mean': -83.9219067896202, 'std': 4.19609533948101}\n",
      "   {'efel_feature_name': 'time_to_last_spike', 'protocol_name': 'IDRest_140', 'recording_name': 'soma.v', 'efel_settings': {'Threshold': -20.0, 'interp_step': 0.025, 'strict_stiminterval': True}, 'mean': 951.8427083334822, 'std': 221.31264431898046}\n",
      "   {'efel_feature_name': 'inv_time_to_first_spike', 'protocol_name': 'IDRest_140', 'recording_name': 'soma.v', 'efel_settings': {'Threshold': -20.0, 'interp_step': 0.025, 'strict_stiminterval': True}, 'mean': 30.11349774619679, 'std': 14.919697216749467}\n",
      "   {'efel_feature_name': 'inv_first_ISI', 'protocol_name': 'IDRest_140', 'recording_name': 'soma.v', 'efel_settings': {'Threshold': -20.0, 'interp_step': 0.025, 'strict_stiminterval': True}, 'mean': 8.099177499203263, 'std': 7.63475815987385}\n",
      "   {'efel_feature_name': 'inv_second_ISI', 'protocol_name': 'IDRest_140', 'recording_name': 'soma.v', 'efel_settings': {'Threshold': -20.0, 'interp_step': 0.025, 'strict_stiminterval': True}, 'mean': 5.581276450251174, 'std': 3.3948469287313845}\n",
      "   {'efel_feature_name': 'inv_third_ISI', 'protocol_name': 'IDRest_140', 'recording_name': 'soma.v', 'efel_settings': {'Threshold': -20.0, 'interp_step': 0.025, 'strict_stiminterval': True}, 'mean': 5.069977100039213, 'std': 3.7769749175240226}\n",
      "   {'efel_feature_name': 'inv_fourth_ISI', 'protocol_name': 'IDRest_140', 'recording_name': 'soma.v', 'efel_settings': {'Threshold': -20.0, 'interp_step': 0.025, 'strict_stiminterval': True}, 'mean': 4.836037176359079, 'std': 4.268329806367856}\n",
      "   {'efel_feature_name': 'inv_fifth_ISI', 'protocol_name': 'IDRest_140', 'recording_name': 'soma.v', 'efel_settings': {'Threshold': -20.0, 'interp_step': 0.025, 'strict_stiminterval': True}, 'mean': 4.289981414554594, 'std': 4.317753508053305}\n",
      "   {'efel_feature_name': 'inv_last_ISI', 'protocol_name': 'IDRest_140', 'recording_name': 'soma.v', 'efel_settings': {'Threshold': -20.0, 'interp_step': 0.025, 'strict_stiminterval': True}, 'mean': 5.493622496670291, 'std': 2.9828432352411833}\n",
      "   {'efel_feature_name': 'AP_amplitude', 'protocol_name': 'IDRest_140', 'recording_name': 'soma.v', 'efel_settings': {'Threshold': -20.0, 'interp_step': 0.025, 'strict_stiminterval': True}, 'mean': 70.96842990608975, 'std': 9.281443613404804}\n",
      "   {'efel_feature_name': 'AP1_amp', 'protocol_name': 'IDRest_140', 'recording_name': 'soma.v', 'efel_settings': {'Threshold': -20.0, 'interp_step': 0.025, 'strict_stiminterval': True}, 'mean': 80.01718779336575, 'std': 13.748957053653006}\n",
      "   {'efel_feature_name': 'APlast_amp', 'protocol_name': 'IDRest_140', 'recording_name': 'soma.v', 'efel_settings': {'Threshold': -20.0, 'interp_step': 0.025, 'strict_stiminterval': True}, 'mean': 67.44648487587415, 'std': 9.763908469104779}\n",
      "   {'efel_feature_name': 'AP_duration_half_width', 'protocol_name': 'IDRest_140', 'recording_name': 'soma.v', 'efel_settings': {'Threshold': -20.0, 'interp_step': 0.025, 'strict_stiminterval': True}, 'mean': 0.8418391070737443, 'std': 0.18767592501946304}\n",
      "   {'efel_feature_name': 'AHP_depth', 'protocol_name': 'IDRest_140', 'recording_name': 'soma.v', 'efel_settings': {'Threshold': -20.0, 'interp_step': 0.025, 'strict_stiminterval': True}, 'mean': 19.034024233655092, 'std': 3.418873748571413}\n",
      "   {'efel_feature_name': 'AHP_time_from_peak', 'protocol_name': 'IDRest_140', 'recording_name': 'soma.v', 'efel_settings': {'Threshold': -20.0, 'interp_step': 0.025, 'strict_stiminterval': True}, 'mean': 20.8088674317673, 'std': 5.0908279788096635}\n",
      "   {'efel_feature_name': 'min_AHP_values', 'protocol_name': 'IDRest_140', 'recording_name': 'soma.v', 'efel_settings': {'Threshold': -20.0, 'interp_step': 0.025, 'strict_stiminterval': True}, 'mean': -64.8878825559651, 'std': 3.6813358819389816}\n",
      "   {'efel_feature_name': 'AP_height', 'protocol_name': 'IDRest_180', 'recording_name': 'soma.v', 'efel_settings': {'Threshold': -20.0, 'interp_step': 0.025, 'strict_stiminterval': True}, 'mean': 13.290517761629422, 'std': 4.495851146155315}\n",
      "   {'efel_feature_name': 'ISI_CV', 'protocol_name': 'IDRest_180', 'recording_name': 'soma.v', 'efel_settings': {'Threshold': -20.0, 'interp_step': 0.025, 'strict_stiminterval': True}, 'mean': 0.15650760460804455, 'std': 0.13250517110487123}\n",
      "   {'efel_feature_name': 'doublet_ISI', 'protocol_name': 'IDRest_180', 'recording_name': 'soma.v', 'efel_settings': {'Threshold': -20.0, 'interp_step': 0.025, 'strict_stiminterval': True}, 'mean': 96.42608695643403, 'std': 138.27954426781343}\n",
      "   {'efel_feature_name': 'adaptation_index2', 'protocol_name': 'IDRest_180', 'recording_name': 'soma.v', 'efel_settings': {'Threshold': -20.0, 'interp_step': 0.025, 'strict_stiminterval': True}, 'mean': -0.004635562440035728, 'std': 0.03141086011330748}\n",
      "   {'efel_feature_name': 'mean_frequency', 'protocol_name': 'IDRest_180', 'recording_name': 'soma.v', 'efel_settings': {'Threshold': -20.0, 'interp_step': 0.025, 'strict_stiminterval': True}, 'mean': 10.054350744264758, 'std': 3.985115672451399}\n",
      "   {'efel_feature_name': 'AHP_depth_abs_slow', 'protocol_name': 'IDRest_180', 'recording_name': 'soma.v', 'efel_settings': {'Threshold': -20.0, 'interp_step': 0.025, 'strict_stiminterval': True}, 'mean': -65.43452452115436, 'std': 3.271726226057718}\n",
      "   {'efel_feature_name': 'AP_width', 'protocol_name': 'IDRest_180', 'recording_name': 'soma.v', 'efel_settings': {'Threshold': -20.0, 'interp_step': 0.025, 'strict_stiminterval': True}, 'mean': 1.3737082316841107, 'std': 0.30372558511630054}\n",
      "   {'efel_feature_name': 'time_to_first_spike', 'protocol_name': 'IDRest_180', 'recording_name': 'soma.v', 'efel_settings': {'Threshold': -20.0, 'interp_step': 0.025, 'strict_stiminterval': True}, 'mean': 21.647826086983333, 'std': 6.825965105524889}\n",
      "   {'efel_feature_name': 'AHP_depth_abs', 'protocol_name': 'IDRest_180', 'recording_name': 'soma.v', 'efel_settings': {'Threshold': -20.0, 'interp_step': 0.025, 'strict_stiminterval': True}, 'mean': -62.7386087868943, 'std': 3.136930439344715}\n",
      "   {'efel_feature_name': 'ISI_log_slope', 'protocol_name': 'IDRest_180', 'recording_name': 'soma.v', 'efel_settings': {'Threshold': -20.0, 'interp_step': 0.025, 'strict_stiminterval': True}, 'mean': 0.022431072964619686, 'std': 0.17697755552458735}\n",
      "   {'efel_feature_name': 'ISI_log_slope_skip', 'protocol_name': 'IDRest_180', 'recording_name': 'soma.v', 'efel_settings': {'Threshold': -20.0, 'interp_step': 0.025, 'strict_stiminterval': True}, 'mean': -0.005615928553257947, 'std': 0.20930108881259626}\n",
      "   {'efel_feature_name': 'voltage_base', 'protocol_name': 'IDRest_180', 'recording_name': 'soma.v', 'efel_settings': {'Threshold': -20.0, 'interp_step': 0.025, 'strict_stiminterval': True}, 'mean': -84.29264921612447, 'std': 4.214632460806224}\n",
      "   {'efel_feature_name': 'time_to_last_spike', 'protocol_name': 'IDRest_180', 'recording_name': 'soma.v', 'efel_settings': {'Threshold': -20.0, 'interp_step': 0.025, 'strict_stiminterval': True}, 'mean': 998.8521739132096, 'std': 86.45496374526536}\n",
      "   {'efel_feature_name': 'inv_time_to_first_spike', 'protocol_name': 'IDRest_180', 'recording_name': 'soma.v', 'efel_settings': {'Threshold': -20.0, 'interp_step': 0.025, 'strict_stiminterval': True}, 'mean': 52.06265084400646, 'std': 19.732883331829424}\n",
      "   {'efel_feature_name': 'inv_first_ISI', 'protocol_name': 'IDRest_180', 'recording_name': 'soma.v', 'efel_settings': {'Threshold': -20.0, 'interp_step': 0.025, 'strict_stiminterval': True}, 'mean': 19.925290816201688, 'std': 14.629944493910815}\n",
      "   {'efel_feature_name': 'inv_second_ISI', 'protocol_name': 'IDRest_180', 'recording_name': 'soma.v', 'efel_settings': {'Threshold': -20.0, 'interp_step': 0.025, 'strict_stiminterval': True}, 'mean': 9.752142413846967, 'std': 5.617329730755608}\n",
      "   {'efel_feature_name': 'inv_third_ISI', 'protocol_name': 'IDRest_180', 'recording_name': 'soma.v', 'efel_settings': {'Threshold': -20.0, 'interp_step': 0.025, 'strict_stiminterval': True}, 'mean': 9.434075167895049, 'std': 5.228844062570776}\n",
      "   {'efel_feature_name': 'inv_fourth_ISI', 'protocol_name': 'IDRest_180', 'recording_name': 'soma.v', 'efel_settings': {'Threshold': -20.0, 'interp_step': 0.025, 'strict_stiminterval': True}, 'mean': 9.103207060431387, 'std': 5.16233169691182}\n",
      "   {'efel_feature_name': 'inv_fifth_ISI', 'protocol_name': 'IDRest_180', 'recording_name': 'soma.v', 'efel_settings': {'Threshold': -20.0, 'interp_step': 0.025, 'strict_stiminterval': True}, 'mean': 9.065436230266108, 'std': 4.342439428295833}\n",
      "   {'efel_feature_name': 'inv_last_ISI', 'protocol_name': 'IDRest_180', 'recording_name': 'soma.v', 'efel_settings': {'Threshold': -20.0, 'interp_step': 0.025, 'strict_stiminterval': True}, 'mean': 8.647044497552809, 'std': 3.3451670524512216}\n",
      "   {'efel_feature_name': 'AP_amplitude', 'protocol_name': 'IDRest_180', 'recording_name': 'soma.v', 'efel_settings': {'Threshold': -20.0, 'interp_step': 0.025, 'strict_stiminterval': True}, 'mean': 69.36877212876355, 'std': 6.343877099594849}\n",
      "   {'efel_feature_name': 'AP1_amp', 'protocol_name': 'IDRest_180', 'recording_name': 'soma.v', 'efel_settings': {'Threshold': -20.0, 'interp_step': 0.025, 'strict_stiminterval': True}, 'mean': 91.86372304912356, 'std': 14.326589520488737}\n",
      "   {'efel_feature_name': 'APlast_amp', 'protocol_name': 'IDRest_180', 'recording_name': 'soma.v', 'efel_settings': {'Threshold': -20.0, 'interp_step': 0.025, 'strict_stiminterval': True}, 'mean': 63.34605933443305, 'std': 5.446404469460862}\n",
      "   {'efel_feature_name': 'AP_duration_half_width', 'protocol_name': 'IDRest_180', 'recording_name': 'soma.v', 'efel_settings': {'Threshold': -20.0, 'interp_step': 0.025, 'strict_stiminterval': True}, 'mean': 0.8405530339226628, 'std': 0.13727213246059117}\n",
      "   {'efel_feature_name': 'AHP_depth', 'protocol_name': 'IDRest_180', 'recording_name': 'soma.v', 'efel_settings': {'Threshold': -20.0, 'interp_step': 0.025, 'strict_stiminterval': True}, 'mean': 21.554040429230177, 'std': 2.3285465113034958}\n",
      "   {'efel_feature_name': 'AHP_time_from_peak', 'protocol_name': 'IDRest_180', 'recording_name': 'soma.v', 'efel_settings': {'Threshold': -20.0, 'interp_step': 0.025, 'strict_stiminterval': True}, 'mean': 17.158596504647637, 'std': 3.6766653510178053}\n",
      "   {'efel_feature_name': 'min_AHP_values', 'protocol_name': 'IDRest_180', 'recording_name': 'soma.v', 'efel_settings': {'Threshold': -20.0, 'interp_step': 0.025, 'strict_stiminterval': True}, 'mean': -62.7386087868943, 'std': 3.136930439344715}\n",
      "   {'efel_feature_name': 'AP_height', 'protocol_name': 'IDRest_260', 'recording_name': 'soma.v', 'efel_settings': {'Threshold': -20.0, 'interp_step': 0.025, 'strict_stiminterval': True}, 'mean': 9.690296001035318, 'std': 4.086254362954849}\n",
      "   {'efel_feature_name': 'ISI_CV', 'protocol_name': 'IDRest_260', 'recording_name': 'soma.v', 'efel_settings': {'Threshold': -20.0, 'interp_step': 0.025, 'strict_stiminterval': True}, 'mean': 0.10373897799553583, 'std': 0.032566369270269194}\n",
      "   {'efel_feature_name': 'doublet_ISI', 'protocol_name': 'IDRest_260', 'recording_name': 'soma.v', 'efel_settings': {'Threshold': -20.0, 'interp_step': 0.025, 'strict_stiminterval': True}, 'mean': 23.367999999978746, 'std': 11.15665612985242}\n",
      "   {'efel_feature_name': 'adaptation_index2', 'protocol_name': 'IDRest_260', 'recording_name': 'soma.v', 'efel_settings': {'Threshold': -20.0, 'interp_step': 0.025, 'strict_stiminterval': True}, 'mean': 0.0070125605087740135, 'std': 0.0077015576406842924}\n",
      "   {'efel_feature_name': 'mean_frequency', 'protocol_name': 'IDRest_260', 'recording_name': 'soma.v', 'efel_settings': {'Threshold': -20.0, 'interp_step': 0.025, 'strict_stiminterval': True}, 'mean': 18.506347990318844, 'std': 3.9551953255411374}\n",
      "   {'efel_feature_name': 'AHP_depth_abs_slow', 'protocol_name': 'IDRest_260', 'recording_name': 'soma.v', 'efel_settings': {'Threshold': -20.0, 'interp_step': 0.025, 'strict_stiminterval': True}, 'mean': -62.59739254780984, 'std': 3.1298696273904922}\n",
      "   {'efel_feature_name': 'AP_width', 'protocol_name': 'IDRest_260', 'recording_name': 'soma.v', 'efel_settings': {'Threshold': -20.0, 'interp_step': 0.025, 'strict_stiminterval': True}, 'mean': 1.578445746167874, 'std': 0.5932565495968398}\n",
      "   {'efel_feature_name': 'time_to_first_spike', 'protocol_name': 'IDRest_260', 'recording_name': 'soma.v', 'efel_settings': {'Threshold': -20.0, 'interp_step': 0.025, 'strict_stiminterval': True}, 'mean': 12.604000000035034, 'std': 3.26061098568668}\n",
      "   {'efel_feature_name': 'AHP_depth_abs', 'protocol_name': 'IDRest_260', 'recording_name': 'soma.v', 'efel_settings': {'Threshold': -20.0, 'interp_step': 0.025, 'strict_stiminterval': True}, 'mean': -61.859596660965046, 'std': 3.0929798330482523}\n",
      "   {'efel_feature_name': 'ISI_log_slope', 'protocol_name': 'IDRest_260', 'recording_name': 'soma.v', 'efel_settings': {'Threshold': -20.0, 'interp_step': 0.025, 'strict_stiminterval': True}, 'mean': 0.08182628509799014, 'std': 0.08109850141083637}\n",
      "   {'efel_feature_name': 'ISI_log_slope_skip', 'protocol_name': 'IDRest_260', 'recording_name': 'soma.v', 'efel_settings': {'Threshold': -20.0, 'interp_step': 0.025, 'strict_stiminterval': True}, 'mean': 0.058306059815936624, 'std': 0.06643694919676918}\n",
      "   {'efel_feature_name': 'voltage_base', 'protocol_name': 'IDRest_260', 'recording_name': 'soma.v', 'efel_settings': {'Threshold': -20.0, 'interp_step': 0.025, 'strict_stiminterval': True}, 'mean': -84.60749557418909, 'std': 4.2303747787094546}\n",
      "   {'efel_feature_name': 'time_to_last_spike', 'protocol_name': 'IDRest_260', 'recording_name': 'soma.v', 'efel_settings': {'Threshold': -20.0, 'interp_step': 0.025, 'strict_stiminterval': True}, 'mean': 1064.944000000401, 'std': 53.24720000002006}\n",
      "   {'efel_feature_name': 'inv_time_to_first_spike', 'protocol_name': 'IDRest_260', 'recording_name': 'soma.v', 'efel_settings': {'Threshold': -20.0, 'interp_step': 0.025, 'strict_stiminterval': True}, 'mean': 85.69150250050079, 'std': 25.430665361084735}\n",
      "   {'efel_feature_name': 'inv_first_ISI', 'protocol_name': 'IDRest_260', 'recording_name': 'soma.v', 'efel_settings': {'Threshold': -20.0, 'interp_step': 0.025, 'strict_stiminterval': True}, 'mean': 53.783134541321346, 'std': 27.406486897013146}\n",
      "   {'efel_feature_name': 'inv_second_ISI', 'protocol_name': 'IDRest_260', 'recording_name': 'soma.v', 'efel_settings': {'Threshold': -20.0, 'interp_step': 0.025, 'strict_stiminterval': True}, 'mean': 21.459654847607535, 'std': 7.502103794106849}\n",
      "   {'efel_feature_name': 'inv_third_ISI', 'protocol_name': 'IDRest_260', 'recording_name': 'soma.v', 'efel_settings': {'Threshold': -20.0, 'interp_step': 0.025, 'strict_stiminterval': True}, 'mean': 18.79472278189072, 'std': 5.353867926808135}\n",
      "   {'efel_feature_name': 'inv_fourth_ISI', 'protocol_name': 'IDRest_260', 'recording_name': 'soma.v', 'efel_settings': {'Threshold': -20.0, 'interp_step': 0.025, 'strict_stiminterval': True}, 'mean': 19.094562281625077, 'std': 5.91349218506083}\n",
      "   {'efel_feature_name': 'inv_fifth_ISI', 'protocol_name': 'IDRest_260', 'recording_name': 'soma.v', 'efel_settings': {'Threshold': -20.0, 'interp_step': 0.025, 'strict_stiminterval': True}, 'mean': 18.93224146992474, 'std': 5.692652828670523}\n",
      "   {'efel_feature_name': 'inv_last_ISI', 'protocol_name': 'IDRest_260', 'recording_name': 'soma.v', 'efel_settings': {'Threshold': -20.0, 'interp_step': 0.025, 'strict_stiminterval': True}, 'mean': 16.539361933836908, 'std': 3.74192092973054}\n",
      "   {'efel_feature_name': 'AP_amplitude', 'protocol_name': 'IDRest_260', 'recording_name': 'soma.v', 'efel_settings': {'Threshold': -20.0, 'interp_step': 0.025, 'strict_stiminterval': True}, 'mean': 63.371892001184385, 'std': 5.336482516117643}\n",
      "   {'efel_feature_name': 'AP1_amp', 'protocol_name': 'IDRest_260', 'recording_name': 'soma.v', 'efel_settings': {'Threshold': -20.0, 'interp_step': 0.025, 'strict_stiminterval': True}, 'mean': 101.16087493792867, 'std': 5.52702939581697}\n",
      "   {'efel_feature_name': 'APlast_amp', 'protocol_name': 'IDRest_260', 'recording_name': 'soma.v', 'efel_settings': {'Threshold': -20.0, 'interp_step': 0.025, 'strict_stiminterval': True}, 'mean': 58.36187510420173, 'std': 5.552609992884081}\n",
      "   {'efel_feature_name': 'AP_duration_half_width', 'protocol_name': 'IDRest_260', 'recording_name': 'soma.v', 'efel_settings': {'Threshold': -20.0, 'interp_step': 0.025, 'strict_stiminterval': True}, 'mean': 0.7790435987181519, 'std': 0.14541147366764348}\n",
      "   {'efel_feature_name': 'AHP_depth', 'protocol_name': 'IDRest_260', 'recording_name': 'soma.v', 'efel_settings': {'Threshold': -20.0, 'interp_step': 0.025, 'strict_stiminterval': True}, 'mean': 22.74789891322405, 'std': 2.462070150954621}\n",
      "   {'efel_feature_name': 'AHP_time_from_peak', 'protocol_name': 'IDRest_260', 'recording_name': 'soma.v', 'efel_settings': {'Threshold': -20.0, 'interp_step': 0.025, 'strict_stiminterval': True}, 'mean': 13.690446163164268, 'std': 3.1308540126966347}\n",
      "   {'efel_feature_name': 'min_AHP_values', 'protocol_name': 'IDRest_260', 'recording_name': 'soma.v', 'efel_settings': {'Threshold': -20.0, 'interp_step': 0.025, 'strict_stiminterval': True}, 'mean': -61.859596660965046, 'std': 3.0929798330482523}\n",
      "   {'efel_feature_name': 'voltage_base', 'protocol_name': 'IV_-100', 'recording_name': 'soma.v', 'efel_settings': {'Threshold': -20.0, 'interp_step': 0.025, 'strict_stiminterval': True}, 'mean': -84.0395851312698, 'std': 4.20197925656349}\n",
      "   {'efel_feature_name': 'steady_state_voltage_stimend', 'protocol_name': 'IV_-100', 'recording_name': 'soma.v', 'efel_settings': {'Threshold': -20.0, 'interp_step': 0.025, 'strict_stiminterval': True}, 'mean': -94.58033028389974, 'std': 4.729016514194988}\n",
      "   {'efel_feature_name': 'ohmic_input_resistance_vb_ssse', 'protocol_name': 'IV_-100', 'recording_name': 'soma.v', 'efel_settings': {'Threshold': -20.0, 'interp_step': 0.025, 'strict_stiminterval': True}, 'mean': 46.05055222374117, 'std': 11.440640198243514}\n",
      "   {'efel_feature_name': 'voltage_deflection', 'protocol_name': 'IV_-100', 'recording_name': 'soma.v', 'efel_settings': {'Threshold': -20.0, 'interp_step': 0.025, 'strict_stiminterval': True}, 'mean': -10.519719902921777, 'std': 1.1770574828076779}\n",
      "   {'efel_feature_name': 'voltage_deflection_begin', 'protocol_name': 'IV_-100', 'recording_name': 'soma.v', 'efel_settings': {'Threshold': -20.0, 'interp_step': 0.025, 'strict_stiminterval': True}, 'mean': -11.357107357339531, 'std': 1.2848325283710278}\n",
      "   {'efel_feature_name': 'decay_time_constant_after_stim', 'protocol_name': 'IV_-100', 'recording_name': 'soma.v', 'efel_settings': {'Threshold': -20.0, 'interp_step': 0.025, 'strict_stiminterval': True}, 'mean': 9.485442481551594, 'std': 2.1364282280333606}\n",
      "   {'efel_feature_name': 'Spikecount', 'protocol_name': 'IV_-100', 'recording_name': 'soma.v', 'efel_settings': {'Threshold': -20.0, 'interp_step': 0.025, 'strict_stiminterval': True}, 'mean': 0.0, 'std': 0.001}\n",
      "   {'efel_feature_name': 'sag_ratio1', 'protocol_name': 'IV_-100', 'recording_name': 'soma.v', 'efel_settings': {'Threshold': -20.0, 'interp_step': 0.025, 'strict_stiminterval': True}, 'mean': 0.2817019543992645, 'std': 0.039966985442642114}\n",
      "   {'efel_feature_name': 'sag_ratio2', 'protocol_name': 'IV_-100', 'recording_name': 'soma.v', 'efel_settings': {'Threshold': -20.0, 'interp_step': 0.025, 'strict_stiminterval': True}, 'mean': 0.7182980456007355, 'std': 0.039966985442642114}\n",
      "   {'efel_feature_name': 'sag_amplitude', 'protocol_name': 'IV_-100', 'recording_name': 'soma.v', 'efel_settings': {'Threshold': -20.0, 'interp_step': 0.025, 'strict_stiminterval': True}, 'mean': 4.15170129897111, 'std': 0.7974274581734256}\n",
      "   {'efel_feature_name': 'sag_time_constant', 'protocol_name': 'IV_-100', 'recording_name': 'soma.v', 'efel_settings': {'Threshold': -20.0, 'interp_step': 0.025, 'strict_stiminterval': True}, 'mean': 129.16041766724635, 'std': 72.05008194101647}\n",
      "   {'efel_feature_name': 'steady_state_voltage_stimend', 'protocol_name': 'SearchHoldingCurrent', 'recording_name': 'soma.v', 'efel_settings': {'Threshold': -20.0, 'interp_step': 0.025, 'strict_stiminterval': True}, 'mean': -84.34285359163505, 'std': 4.217142679581753}\n",
      "   {'efel_feature_name': 'steady_state_voltage_stimend', 'protocol_name': 'IV_-40', 'recording_name': 'soma.v', 'efel_settings': {'Threshold': -20.0, 'interp_step': 0.025, 'strict_stiminterval': True}, 'mean': -89.25297612976024, 'std': 4.462648806488012}\n",
      "   {'efel_feature_name': 'ohmic_input_resistance_vb_ssse', 'protocol_name': 'RinProtocol', 'recording_name': 'soma.v', 'efel_settings': {'Threshold': -20.0, 'interp_step': 0.025, 'strict_stiminterval': True}, 'mean': 51.72773294744735, 'std': 12.204055653756072}\n",
      "   {'efel_feature_name': 'voltage_deflection', 'protocol_name': 'IV_-40', 'recording_name': 'soma.v', 'efel_settings': {'Threshold': -20.0, 'interp_step': 0.025, 'strict_stiminterval': True}, 'mean': -4.92029328927123, 'std': 0.6010176020456317}\n",
      "   {'efel_feature_name': 'voltage_deflection_begin', 'protocol_name': 'IV_-40', 'recording_name': 'soma.v', 'efel_settings': {'Threshold': -20.0, 'interp_step': 0.025, 'strict_stiminterval': True}, 'mean': -5.290442341612042, 'std': 0.6508336241326091}\n",
      "   {'efel_feature_name': 'decay_time_constant_after_stim', 'protocol_name': 'IV_-40', 'recording_name': 'soma.v', 'efel_settings': {'Threshold': -20.0, 'interp_step': 0.025, 'strict_stiminterval': True}, 'mean': 10.923905739282132, 'std': 3.044002546361935}\n",
      "   {'efel_feature_name': 'Spikecount', 'protocol_name': 'IV_-40', 'recording_name': 'soma.v', 'efel_settings': {'Threshold': -20.0, 'interp_step': 0.025, 'strict_stiminterval': True}, 'mean': 0.0, 'std': 0.001}\n",
      "   {'efel_feature_name': 'sag_ratio1', 'protocol_name': 'IV_-40', 'recording_name': 'soma.v', 'efel_settings': {'Threshold': -20.0, 'interp_step': 0.025, 'strict_stiminterval': True}, 'mean': 0.2634355431893902, 'std': 0.05802722393450188}\n",
      "   {'efel_feature_name': 'sag_ratio2', 'protocol_name': 'IV_-40', 'recording_name': 'soma.v', 'efel_settings': {'Threshold': -20.0, 'interp_step': 0.025, 'strict_stiminterval': True}, 'mean': 0.7365644568106098, 'std': 0.05802722393450189}\n",
      "   {'efel_feature_name': 'sag_amplitude', 'protocol_name': 'IV_-40', 'recording_name': 'soma.v', 'efel_settings': {'Threshold': -20.0, 'interp_step': 0.025, 'strict_stiminterval': True}, 'mean': 1.7655790345759246, 'std': 0.45525524508774146}\n",
      "   {'efel_feature_name': 'sag_time_constant', 'protocol_name': 'IV_-40', 'recording_name': 'soma.v', 'efel_settings': {'Threshold': -20.0, 'interp_step': 0.025, 'strict_stiminterval': True}, 'mean': 141.0816501564869, 'std': 85.66812886725118}\n",
      "   {'efel_feature_name': 'steady_state_voltage_stimend', 'protocol_name': 'RMPProtocol', 'recording_name': 'soma.v', 'efel_settings': {'Threshold': -20.0, 'interp_step': 0.025, 'strict_stiminterval': True}, 'mean': -84.47019005679229, 'std': 4.223509502839614}\n",
      "   {'efel_feature_name': 'steady_state_voltage_stimend', 'protocol_name': 'IV_0', 'recording_name': 'soma.v', 'efel_settings': {'Threshold': -20.0, 'interp_step': 0.025, 'strict_stiminterval': True}, 'mean': -84.47489959615359, 'std': 4.223744979807679}\n",
      "   {'efel_feature_name': 'ohmic_input_resistance_vb_ssse', 'protocol_name': 'IV_0', 'recording_name': 'soma.v', 'efel_settings': {'Threshold': -20.0, 'interp_step': 0.025, 'strict_stiminterval': True}, 'mean': -213.65052895593982, 'std': 519.8263478798384}\n",
      "   {'efel_feature_name': 'voltage_deflection', 'protocol_name': 'IV_0', 'recording_name': 'soma.v', 'efel_settings': {'Threshold': -20.0, 'interp_step': 0.025, 'strict_stiminterval': True}, 'mean': 0.059827693951168825, 'std': 0.1969374747278509}\n",
      "   {'efel_feature_name': 'voltage_deflection_begin', 'protocol_name': 'IV_0', 'recording_name': 'soma.v', 'efel_settings': {'Threshold': -20.0, 'interp_step': 0.025, 'strict_stiminterval': True}, 'mean': 0.017484167567772158, 'std': 0.12930416005449027}\n",
      "   {'efel_feature_name': 'decay_time_constant_after_stim', 'protocol_name': 'IV_0', 'recording_name': 'soma.v', 'efel_settings': {'Threshold': -20.0, 'interp_step': 0.025, 'strict_stiminterval': True}, 'mean': 134.60381040436667, 'std': 514.8578092962749}\n",
      "   {'efel_feature_name': 'Spikecount', 'protocol_name': 'IV_0', 'recording_name': 'soma.v', 'efel_settings': {'Threshold': -20.0, 'interp_step': 0.025, 'strict_stiminterval': True}, 'mean': 0.0, 'std': 0.001}\n",
      "   {'efel_feature_name': 'sag_ratio1', 'protocol_name': 'IV_0', 'recording_name': 'soma.v', 'efel_settings': {'Threshold': -20.0, 'interp_step': 0.025, 'strict_stiminterval': True}, 'mean': 0.7643220908417101, 'std': 0.14331648346346962}\n",
      "   {'efel_feature_name': 'sag_ratio2', 'protocol_name': 'IV_0', 'recording_name': 'soma.v', 'efel_settings': {'Threshold': -20.0, 'interp_step': 0.025, 'strict_stiminterval': True}, 'mean': -0.20812066645538335, 'std': 1.2607480889445062}\n",
      "   {'efel_feature_name': 'sag_amplitude', 'protocol_name': 'IV_0', 'recording_name': 'soma.v', 'efel_settings': {'Threshold': -20.0, 'interp_step': 0.025, 'strict_stiminterval': True}, 'mean': 0.54735490219138, 'std': 0.4859621340452943}\n",
      "   {'efel_feature_name': 'sag_time_constant', 'protocol_name': 'IV_0', 'recording_name': 'soma.v', 'efel_settings': {'Threshold': -20.0, 'interp_step': 0.025, 'strict_stiminterval': True}, 'mean': 111.42086187255248, 'std': 162.1417190400466}\n",
      "   {'efel_feature_name': 'AP_amplitude', 'protocol_name': 'APWaveform_220', 'recording_name': 'soma.v', 'efel_settings': {'Threshold': -20.0, 'interp_step': 0.025, 'strict_stiminterval': True}, 'mean': 77.80608972464056, 'std': 6.095719533957858}\n",
      "   {'efel_feature_name': 'AP1_amp', 'protocol_name': 'APWaveform_220', 'recording_name': 'soma.v', 'efel_settings': {'Threshold': -20.0, 'interp_step': 0.025, 'strict_stiminterval': True}, 'mean': 101.366665476382, 'std': 7.354419810163043}\n",
      "   {'efel_feature_name': 'AP2_amp', 'protocol_name': 'APWaveform_220', 'recording_name': 'soma.v', 'efel_settings': {'Threshold': -20.0, 'interp_step': 0.025, 'strict_stiminterval': True}, 'mean': 67.59546076678701, 'std': 5.998485395809519}\n",
      "   {'efel_feature_name': 'AP_duration_half_width', 'protocol_name': 'APWaveform_220', 'recording_name': 'soma.v', 'efel_settings': {'Threshold': -20.0, 'interp_step': 0.025, 'strict_stiminterval': True}, 'mean': 0.494464285713836, 'std': 0.06700276672116723}\n",
      "   {'efel_feature_name': 'AHP_depth', 'protocol_name': 'APWaveform_220', 'recording_name': 'soma.v', 'efel_settings': {'Threshold': -20.0, 'interp_step': 0.025, 'strict_stiminterval': True}, 'mean': 22.63235840664162, 'std': 2.522233201802204}\n",
      "   {'efel_feature_name': 'bpo_holding_current', 'protocol_name': 'SearchHoldingCurrent', 'recording_name': 'soma.v', 'efel_settings': {'strict_stiminterval': True}, 'mean': -0.12859883061990296, 'std': 0.06455116060688817}\n",
      "   {'efel_feature_name': 'bpo_threshold_current', 'protocol_name': 'SearchThresholdCurrent', 'recording_name': 'soma.v', 'efel_settings': {'strict_stiminterval': True}, 'mean': 0.24015624960884452, 'std': 0.061604521205073}\n",
      "\n"
     ]
    }
   ],
   "source": [
    "fitness_config = access_point.get_fitness_calculator_configuration()\n",
    "\n",
    "print(fitness_config)"
   ]
  },
  {
   "cell_type": "markdown",
   "metadata": {},
   "source": [
    "## Adding EFeature or Protocol"
   ]
  },
  {
   "cell_type": "code",
   "execution_count": 4,
   "metadata": {},
   "outputs": [],
   "source": [
    "from bluepyemodel.evaluation.efeature_configuration import EFeatureConfiguration\n",
    "from bluepyemodel.evaluation.protocol_configuration import ProtocolConfiguration"
   ]
  },
  {
   "cell_type": "code",
   "execution_count": 5,
   "metadata": {},
   "outputs": [],
   "source": [
    "protocol_name = \"bAP\"\n",
    "\n",
    "stimuli = [{\n",
    "    \"amp\": None,\n",
    "    \"delay\": 700,\n",
    "    \"duration\": 4,\n",
    "    \"holding_current\": None,\n",
    "    \"thresh_perc\": 1000,\n",
    "    \"totduration\": 1000\n",
    "}]\n",
    "\n",
    "recordings = [\n",
    "    {\n",
    "        \"type\": \"CompRecording\",\n",
    "        \"location\": \"soma\",\n",
    "        \"name\": f\"{protocol_name}.soma.v\",\n",
    "        \"variable\": \"v\"\n",
    "    },\n",
    "    {\n",
    "        \"type\": \"somadistanceapic\",\n",
    "        \"name\": f\"{protocol_name}.dend1.v\",\n",
    "        \"variable\": \"v\",\n",
    "        \"somadistance\": 137.74,\n",
    "        \"seclist_name\": \"apical\"\n",
    "    },\n",
    "    {\n",
    "        \"type\": \"somadistanceapic\",\n",
    "        \"name\": f\"{protocol_name}.dend2.v\",\n",
    "        \"variable\": \"v\",\n",
    "        \"somadistance\": 266.20,\n",
    "        \"seclist_name\": \"apical\"\n",
    "    },\n",
    "    {\n",
    "        \"type\": \"somadistanceapic\",\n",
    "        \"name\": f\"{protocol_name}.ca_prox_apic.v\",\n",
    "        \"variable\": \"cai\",\n",
    "        \"somadistance\": 33.11,\n",
    "        \"seclist_name\": \"apical\"\n",
    "    },\n",
    "    {\n",
    "        \"type\": \"somadistanceapic\",\n",
    "        \"name\": f\"{protocol_name}.ca_prox_basal.v\",\n",
    "        \"variable\": \"cai\",\n",
    "        \"somadistance\": 33.11,\n",
    "        \"seclist_name\": \"basal\"\n",
    "    },\n",
    "    {\n",
    "        \"type\": \"nrnseclistcomp\",\n",
    "        \"name\": f\"{protocol_name}.ca_soma.v\",\n",
    "        \"variable\": \"cai\",\n",
    "        \"comp_x\": 0.5,\n",
    "        \"sec_index\": 0,\n",
    "        \"seclist_name\": \"soma\"\n",
    "    },\n",
    "    {\n",
    "        \"type\": \"nrnseclistcomp\",\n",
    "        \"name\": f\"{protocol_name}.ca_ais.v\",\n",
    "        \"variable\": \"cai\",\n",
    "        \"comp_x\": 0.5,\n",
    "        \"sec_index\": 0,\n",
    "        \"seclist_name\": \"axon\"\n",
    "    },\n",
    "]\n",
    "\n",
    "protocol_config = ProtocolConfiguration(\n",
    "    name=protocol_name,\n",
    "    stimuli=stimuli,\n",
    "    recordings=recordings,\n",
    "    validation=False\n",
    ")\n",
    "\n",
    "fitness_config.protocols.append(protocol_config)"
   ]
  },
  {
   "cell_type": "code",
   "execution_count": 6,
   "metadata": {},
   "outputs": [],
   "source": [
    "efeature_def = EFeatureConfiguration(\n",
    "    efel_feature_name=\"Spikecount\",\n",
    "    protocol_name=protocol_name,\n",
    "    recording_name=\"soma.v\",\n",
    "    mean=1.0,\n",
    "    std=0.1,\n",
    "    efel_settings={\"strict_stiminterval\": False},\n",
    "    threshold_efeature_std=None,\n",
    ")\n",
    "\n",
    "fitness_config.efeatures.append(efeature_def)"
   ]
  },
  {
   "cell_type": "markdown",
   "metadata": {},
   "source": [
    "## Saving the FitnessCalculatorConfiguration"
   ]
  },
  {
   "cell_type": "code",
   "execution_count": 7,
   "metadata": {},
   "outputs": [
    {
     "name": "stdout",
     "output_type": "stream",
     "text": [
      "<action> _deprecate_one\n",
      "<succeeded> True\n",
      "<action> _register_one\n",
      "<succeeded> True\n"
     ]
    }
   ],
   "source": [
    "access_point.store_fitness_calculator_configuration(fitness_config)"
   ]
  },
  {
   "cell_type": "markdown",
   "metadata": {},
   "source": [
    "## Trying if the optimisation work:"
   ]
  },
  {
   "cell_type": "markdown",
   "metadata": {},
   "source": [
    "```\n",
    "python pipeline.py --step=test_optimize --emodel=EMODEL_NAME --iteration_tag=ITERATION_TAG --ttype=TTYPE\n",
    "```"
   ]
  },
  {
   "cell_type": "code",
   "execution_count": null,
   "metadata": {},
   "outputs": [],
   "source": []
  }
 ],
 "metadata": {
  "kernelspec": {
   "display_name": "myvenv",
   "language": "python",
   "name": "myvenv"
  },
  "language_info": {
   "codemirror_mode": {
    "name": "ipython",
    "version": 3
   },
   "file_extension": ".py",
   "mimetype": "text/x-python",
   "name": "python",
   "nbconvert_exporter": "python",
   "pygments_lexer": "ipython3",
   "version": "3.9.7"
  }
 },
 "nbformat": 4,
 "nbformat_minor": 4
}
