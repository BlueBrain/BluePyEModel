{
 "cells": [
  {
   "cell_type": "markdown",
   "metadata": {},
   "source": [
    "# Extracting electrical features using BluePyEModel"
   ]
  },
  {
   "cell_type": "markdown",
   "metadata": {},
   "source": [
    "This notebook will show how to use BluePyEModel to extract electrical features from experimental voltage traces. For this example we will use the rat somatosensory cortex data present here in the directory \"exp_data\" (Also available at: http://microcircuits.epfl.ch/#/article/article_4_eph)\n",
    "\n",
    "For a more detailed used-case of BluePyEfe 2, read the example present in the examples directory of BluePyEfe 2.\n",
    "\n",
    "Author of this script: Tanguy Damart @ Blue Brain Project"
   ]
  },
  {
   "cell_type": "markdown",
   "metadata": {},
   "source": [
    "## Creating the config dictionary"
   ]
  },
  {
   "cell_type": "markdown",
   "metadata": {},
   "source": [
    "As for BluePyEfe, the first step in extracting e-features is to create a config dictionary. \n",
    "\n",
    "The first entry of this dictionary containes the files containing recordings as well as the matching metadata:"
   ]
  },
  {
   "cell_type": "code",
   "execution_count": 1,
   "metadata": {},
   "outputs": [],
   "source": [
    "import glob\n",
    "\n",
    "# Get the path of the files for the first cell and build the metadata dictionaries\n",
    "trace_metadata1 = []\n",
    "for file in glob.glob(\"./exp_data/B6/B6_Ch0_IDRest_*.ibw\"):\n",
    "    trace_metadata1.append({\n",
    "        \"i_file\": file,\n",
    "        \"v_file\": file.replace(\"Ch0\", \"Ch3\"),\n",
    "        \"i_unit\": \"pA\",\n",
    "        \"v_unit\": \"mV\",\n",
    "        \"t_unit\": \"s\",\n",
    "        \"dt\": 0.00025,\n",
    "        \"ljp\": 14.\n",
    "    })\n",
    "\n",
    "# Do the same for the second cell\n",
    "trace_metadata2 = []\n",
    "for file in glob.glob(\"./exp_data/B8/B8_Ch0_IDRest_*.ibw\"):\n",
    "    trace_metadata2.append({\n",
    "        \"i_file\": file,\n",
    "        \"v_file\": file.replace(\"Ch0\", \"Ch3\"),\n",
    "        \"i_unit\": \"pA\",\n",
    "        \"v_unit\": \"mV\",\n",
    "        \"t_unit\": \"s\",\n",
    "        \"dt\": 0.00025,\n",
    "        \"ljp\": 14.\n",
    "    })\n",
    "\n",
    "cells = {\n",
    "    'MouseNeuron1': {'IDRest': trace_metadata1},\n",
    "    'MouseNeuron2': {'IDRest': trace_metadata2}\n",
    "}"
   ]
  },
  {
   "cell_type": "markdown",
   "metadata": {},
   "source": [
    "The second entry contains the e-features that should be extracted for each protocols as well as the targets (expressed in % of the rheobase):"
   ]
  },
  {
   "cell_type": "code",
   "execution_count": 2,
   "metadata": {},
   "outputs": [],
   "source": [
    "interesting_efeatures = [\n",
    "    'Spikecount', \n",
    "    'mean_frequency',\n",
    "    'ISI_CV',\n",
    "    'AP1_amp',\n",
    "    'AP_width'\n",
    "]\n",
    "\n",
    "protocols = {\n",
    "    'IDRest': {\n",
    "        'tolerances': [20.],\n",
    "        'targets': [150, 200, 250, 300],\n",
    "        'efeatures': interesting_efeatures,\n",
    "        'location': 'soma'\n",
    "    }\n",
    "}"
   ]
  },
  {
   "cell_type": "markdown",
   "metadata": {},
   "source": [
    "Finally, we can specify the protocols used to find the rheobase and create the config dictionary:"
   ]
  },
  {
   "cell_type": "code",
   "execution_count": 3,
   "metadata": {},
   "outputs": [
    {
     "name": "stdout",
     "output_type": "stream",
     "text": [
      "{'cells': {'MouseNeuron1': {'IDRest': [{'dt': 0.00025,\n",
      "                                        'i_file': './exp_data/B6/B6_Ch0_IDRest_182.ibw',\n",
      "                                        'i_unit': 'pA',\n",
      "                                        'ljp': 14.0,\n",
      "                                        't_unit': 's',\n",
      "                                        'v_file': './exp_data/B6/B6_Ch3_IDRest_182.ibw',\n",
      "                                        'v_unit': 'mV'},\n",
      "                                       {'dt': 0.00025,\n",
      "                                        'i_file': './exp_data/B6/B6_Ch0_IDRest_183.ibw',\n",
      "                                        'i_unit': 'pA',\n",
      "                                        'ljp': 14.0,\n",
      "                                        't_unit': 's',\n",
      "                                        'v_file': './exp_data/B6/B6_Ch3_IDRest_183.ibw',\n",
      "                                        'v_unit': 'mV'},\n",
      "                                       {'dt': 0.00025,\n",
      "                                        'i_file': './exp_data/B6/B6_Ch0_IDRest_184.ibw',\n",
      "                                        'i_unit': 'pA',\n",
      "                                        'ljp': 14.0,\n",
      "                                        't_unit': 's',\n",
      "                                        'v_file': './exp_data/B6/B6_Ch3_IDRest_184.ibw',\n",
      "                                        'v_unit': 'mV'},\n",
      "                                       {'dt': 0.00025,\n",
      "                                        'i_file': './exp_data/B6/B6_Ch0_IDRest_181.ibw',\n",
      "                                        'i_unit': 'pA',\n",
      "                                        'ljp': 14.0,\n",
      "                                        't_unit': 's',\n",
      "                                        'v_file': './exp_data/B6/B6_Ch3_IDRest_181.ibw',\n",
      "                                        'v_unit': 'mV'},\n",
      "                                       {'dt': 0.00025,\n",
      "                                        'i_file': './exp_data/B6/B6_Ch0_IDRest_185.ibw',\n",
      "                                        'i_unit': 'pA',\n",
      "                                        'ljp': 14.0,\n",
      "                                        't_unit': 's',\n",
      "                                        'v_file': './exp_data/B6/B6_Ch3_IDRest_185.ibw',\n",
      "                                        'v_unit': 'mV'}]},\n",
      "           'MouseNeuron2': {'IDRest': [{'dt': 0.00025,\n",
      "                                        'i_file': './exp_data/B8/B8_Ch0_IDRest_148.ibw',\n",
      "                                        'i_unit': 'pA',\n",
      "                                        'ljp': 14.0,\n",
      "                                        't_unit': 's',\n",
      "                                        'v_file': './exp_data/B8/B8_Ch3_IDRest_148.ibw',\n",
      "                                        'v_unit': 'mV'},\n",
      "                                       {'dt': 0.00025,\n",
      "                                        'i_file': './exp_data/B8/B8_Ch0_IDRest_149.ibw',\n",
      "                                        'i_unit': 'pA',\n",
      "                                        'ljp': 14.0,\n",
      "                                        't_unit': 's',\n",
      "                                        'v_file': './exp_data/B8/B8_Ch3_IDRest_149.ibw',\n",
      "                                        'v_unit': 'mV'},\n",
      "                                       {'dt': 0.00025,\n",
      "                                        'i_file': './exp_data/B8/B8_Ch0_IDRest_145.ibw',\n",
      "                                        'i_unit': 'pA',\n",
      "                                        'ljp': 14.0,\n",
      "                                        't_unit': 's',\n",
      "                                        'v_file': './exp_data/B8/B8_Ch3_IDRest_145.ibw',\n",
      "                                        'v_unit': 'mV'},\n",
      "                                       {'dt': 0.00025,\n",
      "                                        'i_file': './exp_data/B8/B8_Ch0_IDRest_146.ibw',\n",
      "                                        'i_unit': 'pA',\n",
      "                                        'ljp': 14.0,\n",
      "                                        't_unit': 's',\n",
      "                                        'v_file': './exp_data/B8/B8_Ch3_IDRest_146.ibw',\n",
      "                                        'v_unit': 'mV'},\n",
      "                                       {'dt': 0.00025,\n",
      "                                        'i_file': './exp_data/B8/B8_Ch0_IDRest_147.ibw',\n",
      "                                        'i_unit': 'pA',\n",
      "                                        'ljp': 14.0,\n",
      "                                        't_unit': 's',\n",
      "                                        'v_file': './exp_data/B8/B8_Ch3_IDRest_147.ibw',\n",
      "                                        'v_unit': 'mV'}]}},\n",
      " 'options': {'logging': True,\n",
      "             'protocols_threshold': ['IDRest'],\n",
      "             'strict_stiminterval': True,\n",
      "             'threshold_nvalue_save': 1},\n",
      " 'protocols': {'IDRest': {'efeatures': ['Spikecount',\n",
      "                                        'mean_frequency',\n",
      "                                        'ISI_CV',\n",
      "                                        'AP1_amp',\n",
      "                                        'AP_width'],\n",
      "                          'location': 'soma',\n",
      "                          'targets': [150, 200, 250, 300],\n",
      "                          'tolerances': [20.0]}}}\n"
     ]
    }
   ],
   "source": [
    "import pprint\n",
    "from bluepyemodel.feature_extraction.extract import get_config, extract_efeatures\n",
    "\n",
    "protocols_threshold = ['IDRest']\n",
    "threshold_nvalue_save = 1\n",
    "\n",
    "config_dict = get_config(\n",
    "    cells,\n",
    "    protocols,\n",
    "    protocols_threshold=protocols_threshold,\n",
    "    threshold_nvalue_save=threshold_nvalue_save,\n",
    ")\n",
    "\n",
    "pprint.pprint(config_dict)"
   ]
  },
  {
   "cell_type": "markdown",
   "metadata": {},
   "source": [
    "## Extracting the e-features"
   ]
  },
  {
   "cell_type": "code",
   "execution_count": 4,
   "metadata": {},
   "outputs": [
    {
     "data": {
      "text/plain": [
       "<Figure size 432x288 with 0 Axes>"
      ]
     },
     "metadata": {},
     "output_type": "display_data"
    }
   ],
   "source": [
    "efeatures, stimuli, currents = extract_efeatures(\n",
    "    config_dict, \n",
    "    \"ExampleCell\",\n",
    "    plot=True\n",
    ")"
   ]
  },
  {
   "cell_type": "markdown",
   "metadata": {},
   "source": [
    "The extract_features function returns three information: the e-features, the stimuli (also called protocols) and the threshold and holding currents:"
   ]
  },
  {
   "cell_type": "code",
   "execution_count": 5,
   "metadata": {},
   "outputs": [
    {
     "name": "stdout",
     "output_type": "stream",
     "text": [
      "{'all_hypamp': {'MouseNeuron1': -0.012499390169978142,\n",
      "                'MouseNeuron2': -0.05312240868806839},\n",
      " 'all_thresh': {'MouseNeuron1': 0.11874420754611492,\n",
      "                'MouseNeuron2': 0.09374542534351349},\n",
      " 'hypamp': [-0.032810899429023266, 0.020311509259045124],\n",
      " 'thresh': [0.1062448164448142, 0.012499391101300716]}\n"
     ]
    }
   ],
   "source": [
    "pprint.pprint(currents)"
   ]
  },
  {
   "cell_type": "markdown",
   "metadata": {},
   "source": [
    "As the arguement plot is set to True, the experimental traces as well as the efeatures will be plotted and the matching pdfs will be saved under the directory \"ExampleCell\"."
   ]
  }
 ],
 "metadata": {
  "kernelspec": {
   "display_name": "Python 3",
   "language": "python",
   "name": "python3"
  },
  "language_info": {
   "codemirror_mode": {
    "name": "ipython",
    "version": 3
   },
   "file_extension": ".py",
   "mimetype": "text/x-python",
   "name": "python",
   "nbconvert_exporter": "python",
   "pygments_lexer": "ipython3",
   "version": "3.7.4"
  },
  "pycharm": {
   "stem_cell": {
    "cell_type": "raw",
    "metadata": {
     "collapsed": false
    },
    "source": []
   }
  }
 },
 "nbformat": 4,
 "nbformat_minor": 2
}
