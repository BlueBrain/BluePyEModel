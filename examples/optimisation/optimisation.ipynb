{
 "cells": [
  {
   "cell_type": "code",
   "execution_count": 1,
   "metadata": {},
   "outputs": [],
   "source": [
    "%load_ext autoreload\n",
    "%autoreload"
   ]
  },
  {
   "cell_type": "markdown",
   "metadata": {},
   "source": [
    "## E-model optimisation with BluePyEModel"
   ]
  },
  {
   "cell_type": "markdown",
   "metadata": {},
   "source": [
    "This notebook will show how to use BluePyEModel to optimize an e-model using the pipeline.\n",
    "\n",
    "For more detailed used-cases of BluePyOpt, refer the examples present in the examples directory of BluePyOpt at https://github.com/BlueBrain/BluePyOpt.\n",
    "\n",
    "Author of this script: Tanguy Damart @ Blue Brain Project"
   ]
  },
  {
   "cell_type": "code",
   "execution_count": 2,
   "metadata": {},
   "outputs": [],
   "source": [
    "import logging\n",
    "\n",
    "logger = logging.getLogger()\n",
    "logging.basicConfig(\n",
    "    level=logging.INFO,\n",
    "    handlers=[logging.StreamHandler()]\n",
    ")"
   ]
  },
  {
   "cell_type": "code",
   "execution_count": 3,
   "metadata": {},
   "outputs": [
    {
     "data": {
      "text/plain": [
       "'./mechanisms'"
      ]
     },
     "execution_count": 3,
     "metadata": {},
     "output_type": "execute_result"
    }
   ],
   "source": [
    "import shutil\n",
    "import os\n",
    "\n",
    "if os.path.exists('./config'):\n",
    "    shutil.rmtree('./config')\n",
    "    \n",
    "if os.path.exists('./mechanisms'):\n",
    "    shutil.rmtree('./mechanisms')\n",
    "    \n",
    "shutil.copytree('../../tests/config', './config')\n",
    "shutil.copytree('../../tests/mechanisms', './mechanisms')"
   ]
  },
  {
   "cell_type": "code",
   "execution_count": 4,
   "metadata": {},
   "outputs": [
    {
     "name": "stdout",
     "output_type": "stream",
     "text": [
      "which: no xcrun in (/gpfs/bbp.cscs.ch/home/damart/venv/bin:/opt/clmgr/sbin:/opt/clmgr/bin:/opt/sgi/sbin:/opt/sgi/bin:/usr/lib64/qt-3.3/bin:/gpfs/bbp.cscs.ch/home/damart//.nix-profile/bin:/nix/var/nix/profiles/default/bin:/usr/lib64/ccache:/usr/local/bin:/usr/bin:/usr/local/sbin:/usr/sbin:/gpfs/bbp.cscs.ch/ssd/apps/bb5/systemtools:/opt/c3/bin:/opt/ddn/scalers/tools:/usr/lpp/mmfs/bin:/opt/ddn/gs/scripts:/opt/ddn/gs/bin:/opt/ibutils/bin:/opt/ddn/ime/bin:/sbin:/bin:/gpfs/bbp.cscs.ch/home/damart/.local/bin:/gpfs/bbp.cscs.ch/home/damart/bin)\n",
      "/gpfs/bbp.cscs.ch/home/damart/BluePyEModel/examples/optimisation\n",
      "Mod files: \"mechanisms/CaDynamics_DC0.mod\" \"mechanisms/Ca_HVA2.mod\" \"mechanisms/Ca_HVA.mod\" \"mechanisms/Ca_LVAst.mod\" \"mechanisms/Ih.mod\" \"mechanisms/KdShu2007.mod\" \"mechanisms/K_Pst.mod\" \"mechanisms/K_Tst.mod\" \"mechanisms/Nap_Et2.mod\" \"mechanisms/NaTg2.mod\" \"mechanisms/NaTg.mod\" \"mechanisms/SK_E2.mod\" \"mechanisms/SKv3_1.mod\" \"mechanisms/StochKv2.mod\" \"mechanisms/StochKv3.mod\"\n",
      "\n",
      "COBJS=''\n",
      " -> \u001b[32mCompiling\u001b[0m mod_func.c\n",
      "/gpfs/bbp.cscs.ch/ssd/apps/hpc/jenkins/deploy/compilers/2021-01-06/linux-rhel7-x86_64/gcc-4.8.5/gcc-9.3.0-45gzrp/bin/gcc -O2   -I.   -I/gpfs/bbp.cscs.ch/home/damart/venv/lib/python3.8/site-packages/neuron/.data/include  -I/nrnwheel/openmpi/include -fPIC -c mod_func.c -o mod_func.o\n",
      " => \u001b[32mLINKING\u001b[0m shared library ./libnrnmech.so\n",
      "/gpfs/bbp.cscs.ch/ssd/apps/hpc/jenkins/deploy/compilers/2021-01-06/linux-rhel7-x86_64/gcc-4.8.5/gcc-9.3.0-45gzrp/bin/g++ -O2 -DVERSION_INFO='7.8.2' -std=c++11 -shared -fPIC  -I /gpfs/bbp.cscs.ch/home/damart/venv/lib/python3.8/site-packages/neuron/.data/include -o ./libnrnmech.so -Wl,-soname,libnrnmech.so \\\n",
      "  ./mod_func.o ./CaDynamics_DC0.o ./Ca_HVA2.o ./Ca_HVA.o ./Ca_LVAst.o ./Ih.o ./KdShu2007.o ./K_Pst.o ./K_Tst.o ./Nap_Et2.o ./NaTg2.o ./NaTg.o ./SK_E2.o ./SKv3_1.o ./StochKv2.o ./StochKv3.o  -L/gpfs/bbp.cscs.ch/home/damart/venv/lib/python3.8/site-packages/neuron/.data/lib -lnrniv -Wl,-rpath,/gpfs/bbp.cscs.ch/home/damart/venv/lib/python3.8/site-packages/neuron/.data/lib   \n",
      "rm -f ./.libs/libnrnmech.so ; mkdir -p ./.libs ; cp ./libnrnmech.so ./.libs/libnrnmech.so\n",
      "Successfully created x86_64/special\n"
     ]
    }
   ],
   "source": [
    "!nrnivmodl mechanisms"
   ]
  },
  {
   "cell_type": "markdown",
   "metadata": {},
   "source": [
    "## Instantiate the Pipeline:"
   ]
  },
  {
   "cell_type": "markdown",
   "metadata": {},
   "source": [
    "The pipeline has three ways of accessing the data required for optimisation: either using an PostrgreSQL database (\"sql\"), using Nexus (\"nexus\"), or using the old style config dictionary that relies on recipes (\"singlecell\"). In this example, we will use this last way, that refer to as \"singlecell\"."
   ]
  },
  {
   "cell_type": "code",
   "execution_count": 5,
   "metadata": {},
   "outputs": [],
   "source": [
    "db_api = 'singlecell'"
   ]
  },
  {
   "cell_type": "markdown",
   "metadata": {},
   "source": [
    "The name of the e-model and species have to be specified. The name of the e-model has to match exactly the entry of the recipes.json when using the \"singlecell\" data access. With \"singlecell\", specifying the species of the model is required but inconsequential."
   ]
  },
  {
   "cell_type": "code",
   "execution_count": 6,
   "metadata": {},
   "outputs": [],
   "source": [
    "emodel = 'cADpyr_L5TPC'\n",
    "species = 'rat'"
   ]
  },
  {
   "cell_type": "markdown",
   "metadata": {},
   "source": [
    "To set where the pipeline should save the results of the optimization as well as to know where are the mechanisms (.mod files) and where to store the final models, some setup is needed:"
   ]
  },
  {
   "cell_type": "code",
   "execution_count": 7,
   "metadata": {},
   "outputs": [],
   "source": [
    "import pathlib\n",
    "\n",
    "working_dir = pathlib.Path('./')\n",
    "mechanisms_dir = working_dir / 'mechanisms'\n",
    "recipes_path = 'config/recipes.json'\n",
    "final_path = './final.json'"
   ]
  },
  {
   "cell_type": "markdown",
   "metadata": {},
   "source": [
    "Finally, with all these information, let's instantiate the pipeline:"
   ]
  },
  {
   "cell_type": "code",
   "execution_count": 8,
   "metadata": {},
   "outputs": [],
   "source": [
    "from bluepyemodel.emodel_pipeline.emodel_pipeline import EModel_pipeline\n",
    "\n",
    "pipeline = EModel_pipeline(\n",
    "    emodel=emodel,\n",
    "    species=species,\n",
    "    db_api=db_api,\n",
    "    recipes_path=recipes_path,\n",
    ")"
   ]
  },
  {
   "cell_type": "markdown",
   "metadata": {},
   "source": [
    "## Run the optimisation"
   ]
  },
  {
   "cell_type": "markdown",
   "metadata": {},
   "source": [
    "To run an optimisation, some parameters have to be set: the maximum number of generation for which the optimization algorithm will run (\"max_ngen\") and the size of the population (\"offspring_size\"). For the present example, the number of offspring as well as the maximum number of generations are kept voluntarily low, in practice, typical values would be for example offspring_size = 20 and max_ngen = 500.\n",
    "\n",
    "For the optimizing algorithm there are three choices: \"IBEA\", \"SO-CMA\" and \"MO-CMA\". \"MO-CMA\" is recommended by default but the best algorithm can change depending on the problem."
   ]
  },
  {
   "cell_type": "code",
   "execution_count": 9,
   "metadata": {},
   "outputs": [],
   "source": [
    "optimizer = \"MO-CMA\"\n",
    "max_ngen = 3\n",
    "opt_params = {\n",
    "    'offspring_size': 3,\n",
    "    'weight_hv': 0.4,\n",
    "    'seed': 42\n",
    "}"
   ]
  },
  {
   "cell_type": "markdown",
   "metadata": {},
   "source": [
    "During the optimization, a checkpoint file, containing all the information about the optimisation process will be saved. It's path must also be provided:"
   ]
  },
  {
   "cell_type": "code",
   "execution_count": 10,
   "metadata": {},
   "outputs": [],
   "source": [
    "chkp_path = f\"./checkpoints/checkpoint_{opt_params['seed']}.pkl\""
   ]
  },
  {
   "cell_type": "markdown",
   "metadata": {},
   "source": [
    "Finally, the optimisation can be ran (warning: slow):"
   ]
  },
  {
   "cell_type": "code",
   "execution_count": null,
   "metadata": {},
   "outputs": [
    {
     "name": "stderr",
     "output_type": "stream",
     "text": [
      "INFO:bluepyemodel.emodel_pipeline.emodel_pipeline:Path to the checkpoint file is ./checkpoints/checkpoint_42.pkl\n",
      "WARNING:bluepyemodel.evaluation.model:No morphology modifiers provided, replace_axon_with_taper will be used.\n",
      "WARNING:bluepyemodel.evaluation.evaluator:E-feature Step_280.soma.v.time_to_last_spike has a standard deviation inferior to 1% of its mean.\n",
      "INFO:bluepyemodel.optimisation.optimisation:Running optimisation ...\n",
      "INFO:__main__:Generation 1\n",
      "INFO:__main__:gen\tnevals\tavg    \tstd    \tmin    \tmax    \n",
      "1  \t3     \t509.278\t193.956\t271.314\t746.405\n",
      "INFO:__main__:Generation 2\n",
      "INFO:__main__:2  \t3     \t365.574\t267.213\t155.278\t742.634\n",
      "/gpfs/bbp.cscs.ch/home/damart/venv/lib/python3.8/site-packages/bluepyopt/deapext/hype.py:100: RuntimeWarning: divide by zero encountered in true_divide\n",
      "  alpha.append(numpy.prod((k - j) / (nrP - j) / i))\n",
      "INFO:__main__:Generation 3\n"
     ]
    }
   ],
   "source": [
    "_ = pipeline.optimize(\n",
    "        max_ngen=max_ngen,\n",
    "        stochasticity=False,\n",
    "        opt_params=opt_params,\n",
    "        optimizer=optimizer,\n",
    "        checkpoint_path=chkp_path\n",
    "    )"
   ]
  },
  {
   "cell_type": "markdown",
   "metadata": {},
   "source": [
    "## Save the best models:"
   ]
  },
  {
   "cell_type": "markdown",
   "metadata": {},
   "source": [
    "This next step will look at the checkpoint file generated during the optimisation and will save the best model in the final.json whose path was indicated above. This is necessary as for the \"singlecell\" access point, all subsequent operations (plotting, model management, etc) will except to read the e-models from this file."
   ]
  },
  {
   "cell_type": "code",
   "execution_count": 11,
   "metadata": {},
   "outputs": [
    {
     "name": "stderr",
     "output_type": "stream",
     "text": [
      "WARNING:bluepyemodel.evaluation.model:No morphology modifiers provided, replace_axon_with_taper will be used.\n",
      "WARNING:bluepyemodel.evaluation.evaluator:E-feature Step_280.soma.v.time_to_last_spike has a standard deviation inferior to 1% of its mean.\n",
      "INFO:bluepyemodel.api.singlecell:final.json does not exist and will be create\n",
      "WARNING:bluepyemodel.api.singlecell:Githash is None. It is strongly advised to use githash in the future.\n"
     ]
    }
   ],
   "source": [
    "pipeline.store_best_model(\n",
    "    stochasticity=False,\n",
    "    opt_params=opt_params,\n",
    "    optimizer=optimizer,\n",
    "    checkpoint_path=chkp_path\n",
    ")"
   ]
  },
  {
   "cell_type": "markdown",
   "metadata": {},
   "source": [
    "## Plot the convergence of the optimisation, the traces and the scores:"
   ]
  },
  {
   "cell_type": "markdown",
   "metadata": {},
   "source": [
    "To look at the results of our optimisation, the following function can be used. All figures will be saved in the \"figures\" directory.\n",
    "\n",
    "This first plotting function plots the minimum and average fitness as a function of the number of evaluation. It is useful to check if an optimisation succeeded. A succesfull optimisation should present a decreasing fitness."
   ]
  },
  {
   "cell_type": "code",
   "execution_count": 12,
   "metadata": {},
   "outputs": [
    {
     "data": {
      "text/plain": [
       "<Figure size 432x288 with 0 Axes>"
      ]
     },
     "metadata": {},
     "output_type": "display_data"
    }
   ],
   "source": [
    "from bluepyemodel.emodel_pipeline import plotting\n",
    "\n",
    "plotting.optimization(\n",
    "    chkp_path, \n",
    "    figures_dir=\"./figures\"\n",
    ")"
   ]
  },
  {
   "cell_type": "markdown",
   "metadata": {},
   "source": [
    "This next function reads the best models from the final.json and compute their responses and scores for the protocols used for optimization:"
   ]
  },
  {
   "cell_type": "code",
   "execution_count": 13,
   "metadata": {},
   "outputs": [
    {
     "name": "stderr",
     "output_type": "stream",
     "text": [
      "WARNING:bluepyemodel.evaluation.model:No morphology modifiers provided, replace_axon_with_taper will be used.\n",
      "WARNING:bluepyemodel.evaluation.evaluator:E-feature Step_280.soma.v.time_to_last_spike has a standard deviation inferior to 1% of its mean.\n",
      "INFO:bluepyemodel.evaluation.evaluation:In compute_responses, 1 emodels found to evaluate.\n"
     ]
    },
    {
     "data": {
      "text/plain": [
       "[{'emodel': 'cADpyr_L5TPC',\n",
       "  'fitness': 124.89217249398135,\n",
       "  'parameters': {'constant.distribution_decay': -0.05761755956616788,\n",
       "   'g_pas.all': 3.0446989142962795e-05,\n",
       "   'e_pas.all': -66.21521061023577,\n",
       "   'gIhbar_Ih.somadend': 0.0001468327408282559,\n",
       "   'gNaTgbar_NaTg.axonal': 1.0557666798267504,\n",
       "   'gNap_Et2bar_Nap_Et2.axonal': 0.019999999990000003,\n",
       "   'gK_Pstbar_K_Pst.axonal': 0.21342282914315452,\n",
       "   'gK_Tstbar_K_Tst.axonal': 0.1450168979063192,\n",
       "   'gSKv3_1bar_SKv3_1.axonal': 0.4822515777534655,\n",
       "   'gCa_HVAbar_Ca_HVA2.axonal': 0.00046777231124318225,\n",
       "   'gCa_LVAstbar_Ca_LVAst.axonal': 0.001192849764132396,\n",
       "   'gSK_E2bar_SK_E2.axonal': 0.07120480729680471,\n",
       "   'decay_CaDynamics_DC0.axonal': 49.57316374152761,\n",
       "   'gamma_CaDynamics_DC0.axonal': 0.005000000022499996,\n",
       "   'gNaTgbar_NaTg.somatic': 0.2335080803358746,\n",
       "   'gK_Pstbar_K_Pst.somatic': 0.08338597224852684,\n",
       "   'gK_Tstbar_K_Tst.somatic': 0.03542971205739827,\n",
       "   'gSKv3_1bar_SKv3_1.somatic': 0.7939238323813753,\n",
       "   'gCa_HVAbar_Ca_HVA2.somatic': 0.0005914614833551564,\n",
       "   'gCa_LVAstbar_Ca_LVAst.somatic': 0.007116722626782309,\n",
       "   'gSK_E2bar_SK_E2.somatic': 0.03312135104449614,\n",
       "   'decay_CaDynamics_DC0.somatic': 217.96969409487718,\n",
       "   'gamma_CaDynamics_DC0.somatic': 0.0499999999775,\n",
       "   'gamma_CaDynamics_DC0.apical': 0.047890901659215473,\n",
       "   'gNaTgbar_NaTg.apical': 0.05961329992836672,\n",
       "   'gSKv3_1bar_SKv3_1.apical': 0.00016526528856275892,\n",
       "   'gCa_HVAbar_Ca_HVA2.apical': 9.346386966170391e-05,\n",
       "   'gCa_LVAstbar_Ca_LVAst.apical': 4.999999980020986e-13,\n",
       "   'gamma_CaDynamics_DC0.basal': 0.023712456972067166,\n",
       "   'gCa_HVAbar_Ca_HVA2.basal': 7.117190970190541e-05,\n",
       "   'gCa_LVAstbar_Ca_LVAst.basal': 0.0005580256183230489},\n",
       "  'scores': {'bAP.soma.v.Spikecount': 0.0,\n",
       "   'bAP.dend1.v.maximum_voltage_from_voltagebase': 11.156411914367242,\n",
       "   'bAP.dend2.v.maximum_voltage_from_voltagebase': 8.072462397689083,\n",
       "   'bAP.ca_prox_apic.cai.maximum_voltage_from_voltagebase': 2.8176666929171392,\n",
       "   'bAP.ca_prox_basal.cai.maximum_voltage_from_voltagebase': 5.701848975053257,\n",
       "   'bAP.ca_soma.cai.maximum_voltage_from_voltagebase': 0.20602705531301083,\n",
       "   'bAP.ca_ais.cai.maximum_voltage_from_voltagebase': 0.8043788192647304,\n",
       "   'Step_150.soma.v.voltage_base': 0.4486804320840318,\n",
       "   'Step_150.soma.v.voltage_after_stim': 2.824259411964716,\n",
       "   'Step_150.soma.v.AP_amplitude': 1.1535791469466667,\n",
       "   'Step_150.soma.v.APlast_amp': 1.324324093627997,\n",
       "   'Step_150.soma.v.AHP_depth': 1.8869893275517617,\n",
       "   'Step_150.soma.v.mean_frequency': 3.1515011123521397,\n",
       "   'Step_150.soma.v.inv_time_to_first_spike': 0.4686569933005182,\n",
       "   'Step_150.soma.v.time_to_last_spike': 0.7043360400885134,\n",
       "   'Step_150.soma.v.inv_first_ISI': 3.7531606303268563,\n",
       "   'Step_150.soma.v.inv_second_ISI': 3.7685975410497328,\n",
       "   'Step_150.soma.v.inv_third_ISI': 2.945917729163941,\n",
       "   'Step_150.soma.v.inv_fourth_ISI': 3.0988389846779,\n",
       "   'Step_150.soma.v.inv_fifth_ISI': 3.0746378916696346,\n",
       "   'Step_200.soma.v.voltage_base': 0.2904923712535363,\n",
       "   'Step_200.soma.v.voltage_after_stim': 2.6242679866923013,\n",
       "   'Step_200.soma.v.AP_amplitude': 1.627313724229217,\n",
       "   'Step_200.soma.v.APlast_amp': 1.8183910824272465,\n",
       "   'Step_200.soma.v.AHP_depth': 2.422119179002333,\n",
       "   'Step_200.soma.v.mean_frequency': 2.8241851754008724,\n",
       "   'Step_200.soma.v.inv_time_to_first_spike': 0.5466544448718585,\n",
       "   'Step_200.soma.v.time_to_last_spike': 0.48054847774241827,\n",
       "   'Step_200.soma.v.inv_first_ISI': 2.2116341798608468,\n",
       "   'Step_200.soma.v.inv_second_ISI': 2.2001413749844527,\n",
       "   'Step_200.soma.v.inv_third_ISI': 1.744796422601178,\n",
       "   'Step_200.soma.v.inv_fourth_ISI': 2.0642153350953443,\n",
       "   'Step_200.soma.v.inv_fifth_ISI': 2.2764303598985305,\n",
       "   'Step_280.soma.v.voltage_base': 0.5066222516715102,\n",
       "   'Step_280.soma.v.voltage_after_stim': 2.8129567488619087,\n",
       "   'Step_280.soma.v.AP_amplitude': 2.0257079967329266,\n",
       "   'Step_280.soma.v.APlast_amp': 2.303488160978069,\n",
       "   'Step_280.soma.v.AHP_depth': 2.470344808399146,\n",
       "   'Step_280.soma.v.mean_frequency': 1.8730475898112893,\n",
       "   'Step_280.soma.v.inv_time_to_first_spike': 0.5202299921504383,\n",
       "   'Step_280.soma.v.time_to_last_spike': 0.8188188697234337,\n",
       "   'Step_280.soma.v.inv_first_ISI': 0.7567133292714182,\n",
       "   'Step_280.soma.v.inv_second_ISI': 0.4020359487024015,\n",
       "   'Step_280.soma.v.inv_third_ISI': 0.06763474799102555,\n",
       "   'Step_280.soma.v.inv_fourth_ISI': 0.3841102326629476,\n",
       "   'Step_280.soma.v.inv_fifth_ISI': 0.6768442586166299,\n",
       "   'APWaveform_320.soma.v.AP_amplitude': 1.1975132123969507,\n",
       "   'APWaveform_320.soma.v.AP1_amp': 3.701649019995774,\n",
       "   'APWaveform_320.soma.v.AP2_amp': 1.7028579936416277,\n",
       "   'APWaveform_320.soma.v.AP_duration_half_width': 2.2606422703504134,\n",
       "   'APWaveform_320.soma.v.AHP_depth': 3.574330828458259,\n",
       "   'IV_-100.soma.v.voltage_deflection': 1.8461600834450005,\n",
       "   'IV_-100.soma.v.voltage_deflection_begin': 2.49697391654283,\n",
       "   'SpikeRec_600.soma.v.decay_time_constant_after_stim': 0.7723493286301815,\n",
       "   'SpikeRec_600.soma.v.voltage_after_stim': 1.8921746563295787,\n",
       "   'SpikeRec_600.soma.v.Spikecount': 0.43669141039236475,\n",
       "   '.bpo_threshold_current.bpo_threshold_current': 0.885220833380757,\n",
       "   '.bpo_holding_current.bpo_holding_current': 3.385855923694779,\n",
       "   'RinProtocol.soma.v.ohmic_input_resistance_vb_ssse': 1.61105346289559,\n",
       "   'RMPProtocol.soma.v.steady_state_voltage_stimend': 3.0166793147850934},\n",
       "  'seed': 42,\n",
       "  'githash': 'None',\n",
       "  'optimizer': 'MO-CMA',\n",
       "  'scores_validation': {},\n",
       "  'validated': True,\n",
       "  'responses': {'RMPProtocol.soma.v': <bluepyopt.ephys.responses.TimeVoltageResponse at 0x7ff50a0399a0>,\n",
       "   'bpo_rmp': -66.07614036443474,\n",
       "   'bpo_holding_current': -0.49453125,\n",
       "   'RinProtocol.soma.v': <bluepyopt.ephys.responses.TimeVoltageResponse at 0x7ff50a052be0>,\n",
       "   'bpo_rin': 25.797858980962474,\n",
       "   'bpo_threshold_current': 0.3927878025044673,\n",
       "   'bAP.soma.v': <bluepyopt.ephys.responses.TimeVoltageResponse at 0x7ff50a052e20>,\n",
       "   'bAP.dend1.v': <bluepyopt.ephys.responses.TimeVoltageResponse at 0x7ff50a048280>,\n",
       "   'bAP.dend2.v': <bluepyopt.ephys.responses.TimeVoltageResponse at 0x7ff50a048610>,\n",
       "   'bAP.ca_prox_apic.cai': <bluepyopt.ephys.responses.TimeVoltageResponse at 0x7ff50a0489a0>,\n",
       "   'bAP.ca_prox_basal.cai': <bluepyopt.ephys.responses.TimeVoltageResponse at 0x7ff50a048d30>,\n",
       "   'bAP.ca_soma.cai': <bluepyopt.ephys.responses.TimeVoltageResponse at 0x7ff50a049100>,\n",
       "   'bAP.ca_ais.cai': <bluepyopt.ephys.responses.TimeVoltageResponse at 0x7ff50a049490>,\n",
       "   'Step_150.soma.v': <bluepyopt.ephys.responses.TimeVoltageResponse at 0x7ff50a048820>,\n",
       "   'Step_200.soma.v': <bluepyopt.ephys.responses.TimeVoltageResponse at 0x7ff50a0494f0>,\n",
       "   'Step_280.soma.v': <bluepyopt.ephys.responses.TimeVoltageResponse at 0x7ff50a049cd0>,\n",
       "   'APWaveform_320.soma.v': <bluepyopt.ephys.responses.TimeVoltageResponse at 0x7ff50a052460>,\n",
       "   'IV_-100.soma.v': <bluepyopt.ephys.responses.TimeVoltageResponse at 0x7ff50a037e20>,\n",
       "   'SpikeRec_600.soma.v': <bluepyopt.ephys.responses.TimeVoltageResponse at 0x7ff50a039520>}}]"
      ]
     },
     "execution_count": 13,
     "metadata": {},
     "output_type": "execute_result"
    },
    {
     "data": {
      "text/plain": [
       "<Figure size 432x288 with 0 Axes>"
      ]
     },
     "metadata": {},
     "output_type": "display_data"
    }
   ],
   "source": [
    "pipeline.plot_models(figures_dir=\"./figures\")"
   ]
  },
  {
   "cell_type": "markdown",
   "metadata": {},
   "source": [
    "Using this function, it is also possible to compute the response to any protocols. \n",
    "\n",
    "Some eCodes are already defined and can be used as is (e.g: 'APWaveform', 'DeHyperpol', 'FirePattern', 'HyperDepol', 'IDrest', 'IV', 'PosCheops', Ramp', 'sAHP', 'SineSpec', 'SubWhiteNoise'):"
   ]
  },
  {
   "cell_type": "code",
   "execution_count": 14,
   "metadata": {},
   "outputs": [],
   "source": [
    "additional_protocols = {}\n",
    "additional_protocols['PosCheops'] = {'type': 'StepThresholdProtocol'}"
   ]
  },
  {
   "cell_type": "markdown",
   "metadata": {},
   "source": [
    "Protocols of custom length and amplitude can also be used. To know which parameters can be changed for the different protocol, have a look the classes defined in bluepyemodel/ecodes/.\n",
    "\n",
    "For example, to define a custom step that doesnt not depend on the threshold current: \n",
    "\n",
    "(Note the change of the \"type\". The amplitude is specified in nA)."
   ]
  },
  {
   "cell_type": "code",
   "execution_count": 15,
   "metadata": {},
   "outputs": [],
   "source": [
    "additional_protocols['Step'] = {\n",
    "    \"type\": \"StepProtocol\",\n",
    "    'stimuli': {\n",
    "        'amp': 0.4,\n",
    "        'delay': 50,\n",
    "        'duration': 20,\n",
    "        'totduration': 100,\n",
    "        'holding_current': -0.1\n",
    "    } \n",
    "}"
   ]
  },
  {
   "cell_type": "markdown",
   "metadata": {},
   "source": [
    "Another example: a ramp of custom length that depends of the threshold and holding currents.\n",
    "\n",
    "The thresh_perc field is used to indicate an amplitude relative to the threshold current."
   ]
  },
  {
   "cell_type": "code",
   "execution_count": 16,
   "metadata": {},
   "outputs": [],
   "source": [
    "additional_protocols['Ramp'] = {\n",
    "    \"type\": \"StepThresholdProtocol\",\n",
    "    'stimuli': {\n",
    "        'thresh_perc': 0.8,\n",
    "        'delay': 100,\n",
    "        'duration': 500,\n",
    "        'totduration': 800\n",
    "    } \n",
    "}"
   ]
  },
  {
   "cell_type": "markdown",
   "metadata": {},
   "source": [
    "Now let's plot the voltage responses to these stimuli (see the directory ./figures):"
   ]
  },
  {
   "cell_type": "code",
   "execution_count": null,
   "metadata": {},
   "outputs": [
    {
     "name": "stderr",
     "output_type": "stream",
     "text": [
      "WARNING:bluepyemodel.evaluation.model:No morphology modifiers provided, replace_axon_with_taper will be used.\n",
      "WARNING:bluepyemodel.evaluation.evaluator:E-feature Step_280.soma.v.time_to_last_spike has a standard deviation inferior to 1% of its mean.\n",
      "INFO:bluepyemodel.evaluation.evaluation:In compute_responses, 1 emodels found to evaluate.\n"
     ]
    }
   ],
   "source": [
    "pipeline.plot_models(\n",
    "        figures_dir=\"./figures\",\n",
    "        additional_protocols=additional_protocols\n",
    "    )"
   ]
  }
 ],
 "metadata": {
  "kernelspec": {
   "display_name": "venv",
   "language": "python",
   "name": "venv"
  },
  "language_info": {
   "codemirror_mode": {
    "name": "ipython",
    "version": 3
   },
   "file_extension": ".py",
   "mimetype": "text/x-python",
   "name": "python",
   "nbconvert_exporter": "python",
   "pygments_lexer": "ipython3",
   "version": "3.8.3"
  }
 },
 "nbformat": 4,
 "nbformat_minor": 4
}
