{
 "cells": [
  {
   "cell_type": "markdown",
   "metadata": {},
   "source": [
    "## E-model optimisation with BluePyEModel"
   ]
  },
  {
   "cell_type": "markdown",
   "metadata": {},
   "source": [
    "This notebook will show how to use BluePyEModel to optimize an e-model using the pipeline.\n",
    "\n",
    "For more detailed used-cases of BluePyOpt, refer the examples present in the examples directory of BluePyOpt at https://github.com/BlueBrain/BluePyOpt.\n",
    "\n",
    "Author of this script: Tanguy Damart @ Blue Brain Project"
   ]
  },
  {
   "cell_type": "code",
   "execution_count": null,
   "metadata": {},
   "outputs": [],
   "source": [
    "import logging\n",
    "\n",
    "logger = logging.getLogger()\n",
    "logging.basicConfig(\n",
    "    level=logging.INFO,\n",
    "    handlers=[logging.StreamHandler()]\n",
    ")"
   ]
  },
  {
   "cell_type": "code",
   "execution_count": null,
   "metadata": {},
   "outputs": [],
   "source": [
    "import shutil\n",
    "import os\n",
    "\n",
    "if os.path.exists('./config'):\n",
    "    shutil.rmtree('./config')\n",
    "    \n",
    "if os.path.exists('./mechanisms'):\n",
    "    shutil.rmtree('./mechanisms')\n",
    "    \n",
    "shutil.copytree('../../tests/config', './config')\n",
    "shutil.copytree('../../tests/mechanisms', './mechanisms')"
   ]
  },
  {
   "cell_type": "markdown",
   "metadata": {},
   "source": [
    "## Instantiate the Pipeline:"
   ]
  },
  {
   "cell_type": "markdown",
   "metadata": {},
   "source": [
    "The pipeline has three ways of accessing the data required for optimisation: either using an PostrgreSQL database (\"sql\"), using Nexus (\"nexus\"), or using the old style config dictionary that relies on recipes (\"singlecell\"). In this example, we will use this last way, that refer to as \"singlecell\"."
   ]
  },
  {
   "cell_type": "code",
   "execution_count": null,
   "metadata": {},
   "outputs": [],
   "source": [
    "db_api = 'singlecell'"
   ]
  },
  {
   "cell_type": "markdown",
   "metadata": {},
   "source": [
    "The name of the e-model and species have to be specified. The name of the e-model has to match exactly the entry of the recipes.json when using the \"singlecell\" data access. With \"singlecell\", specifying the species of the model is required but inconsequential."
   ]
  },
  {
   "cell_type": "code",
   "execution_count": null,
   "metadata": {},
   "outputs": [],
   "source": [
    "emodel = 'cADpyr_L5TPC'\n",
    "species = 'rat'"
   ]
  },
  {
   "cell_type": "markdown",
   "metadata": {},
   "source": [
    "To set where the pipeline should save the results of the optimization as well as to know where are the mechanisms (.mod files) and where to store the final models, some setup is needed:"
   ]
  },
  {
   "cell_type": "code",
   "execution_count": null,
   "metadata": {},
   "outputs": [],
   "source": [
    "import pathlib\n",
    "\n",
    "working_dir = pathlib.Path('./')\n",
    "mechanisms_dir = working_dir / 'mechanisms'\n",
    "recipes_path = 'config/recipes.json'\n",
    "final_path = './final.json'"
   ]
  },
  {
   "cell_type": "markdown",
   "metadata": {},
   "source": [
    "Finally, with all these information, let's instantiate the pipeline:"
   ]
  },
  {
   "cell_type": "code",
   "execution_count": null,
   "metadata": {},
   "outputs": [],
   "source": [
    "from bluepyemodel.emodel_pipeline.emodel_pipeline import EModel_pipeline\n",
    "\n",
    "pipeline = EModel_pipeline(\n",
    "    emodel=emodel,\n",
    "    species=species,\n",
    "    db_api=db_api,\n",
    "    mechanisms_dir=mechanisms_dir,\n",
    "    working_dir=working_dir,\n",
    "    recipes_path=recipes_path,\n",
    "    final_path=final_path,\n",
    ")"
   ]
  },
  {
   "cell_type": "markdown",
   "metadata": {},
   "source": [
    "## Run the optimisation"
   ]
  },
  {
   "cell_type": "markdown",
   "metadata": {},
   "source": [
    "To run an optimisation, some parameters have to be set: the maximum number of generation for which the optimization algorithm will run (\"max_ngen\") and the size of the population (\"offspring_size\"). For the present example, the number of offspring as well as the maximum number of generations are kept voluntarily low, in practice, typical values would be for example offspring_size = 20 and max_ngen = 500.\n",
    "\n",
    "For the optimizing algorithm there are three choices: \"IBEA\", \"SO-CMA\" and \"MO-CMA\". \"MO-CMA\" is recommended by default but the best algorithm can change depending on the problem."
   ]
  },
  {
   "cell_type": "code",
   "execution_count": null,
   "metadata": {},
   "outputs": [],
   "source": [
    "optimizer = \"MO-CMA\"\n",
    "max_ngen = 5\n",
    "opt_params = {\n",
    "    'offspring_size': 3,\n",
    "    'weight_hv': 0.4,\n",
    "    'seed': 42\n",
    "}"
   ]
  },
  {
   "cell_type": "markdown",
   "metadata": {},
   "source": [
    "During the optimization, a checkpoint file, containing all the information about the optimisation process will be saved. It's path must also be provided:"
   ]
  },
  {
   "cell_type": "code",
   "execution_count": null,
   "metadata": {},
   "outputs": [],
   "source": [
    "chkp_path = f\"./checkpoints/checkpoint_{opt_params['seed']}.pkl\""
   ]
  },
  {
   "cell_type": "markdown",
   "metadata": {},
   "source": [
    "Finally, the optimisation can be ran (warning: slow):"
   ]
  },
  {
   "cell_type": "code",
   "execution_count": null,
   "metadata": {},
   "outputs": [],
   "source": [
    "_ = pipeline.optimize(\n",
    "        max_ngen=max_ngen,\n",
    "        stochasticity=False,\n",
    "        copy_mechanisms=False,\n",
    "        compile_mechanisms=True,\n",
    "        opt_params=opt_params,\n",
    "        optimizer=optimizer,\n",
    "        checkpoint_path=chkp_path\n",
    "    )"
   ]
  },
  {
   "cell_type": "markdown",
   "metadata": {},
   "source": [
    "## Save the best models:"
   ]
  },
  {
   "cell_type": "markdown",
   "metadata": {},
   "source": [
    "This next step will look at the checkpoint file generated during the optimisation and will save the best model in the final.json whose path was indicated above. This is necessary as for the \"singlecell\" access point, all subsequent operations (plotting, model management, etc) will except to read the e-models from this file."
   ]
  },
  {
   "cell_type": "code",
   "execution_count": null,
   "metadata": {},
   "outputs": [],
   "source": [
    "pipeline.store_best_model(\n",
    "    stochasticity=False,\n",
    "    copy_mechanisms=False,\n",
    "    opt_params=opt_params,\n",
    "    optimizer=optimizer,\n",
    "    checkpoint_path=chkp_path\n",
    ")"
   ]
  },
  {
   "cell_type": "markdown",
   "metadata": {},
   "source": [
    "## Plot the convergence of the optimisation, the traces and the scores:"
   ]
  },
  {
   "cell_type": "markdown",
   "metadata": {},
   "source": [
    "To look at the results of our optimisation, the following function can be used. All figures will be saved in the \"figures\" directory.\n",
    "\n",
    "This first plotting function plots the minimum and average fitness as a function of the number of evaluation. It is useful to check if an optimisation succeeded. A succesfull optimisation should present a decreasing fitness."
   ]
  },
  {
   "cell_type": "code",
   "execution_count": null,
   "metadata": {},
   "outputs": [],
   "source": [
    "from bluepyemodel.emodel_pipeline import plotting\n",
    "\n",
    "plotting.optimization(\n",
    "    chkp_path, \n",
    "    figures_dir=\"./figures\"\n",
    ")"
   ]
  },
  {
   "cell_type": "markdown",
   "metadata": {},
   "source": [
    "This next function reads the best models from the final.json and compute their responses and scores for the protocols used for optimization:"
   ]
  },
  {
   "cell_type": "code",
   "execution_count": null,
   "metadata": {},
   "outputs": [],
   "source": [
    "pipeline.plot_models(figures_dir=\"./figures\")"
   ]
  },
  {
   "cell_type": "markdown",
   "metadata": {},
   "source": [
    "Using this function, it is also possible to compute the response to any protocols. \n",
    "\n",
    "Some eCodes are already defined and can be used as is (e.g: 'APWaveform', 'DeHyperpol', 'FirePattern', 'HyperDepol', 'IDrest', 'IV', 'PosCheops', Ramp', 'sAHP', 'SineSpec', 'SubWhiteNoise'):"
   ]
  },
  {
   "cell_type": "code",
   "execution_count": null,
   "metadata": {},
   "outputs": [],
   "source": [
    "additional_protocols = {}\n",
    "additional_protocols['PosCheops'] = {'type': 'StepThresholdProtocol'}"
   ]
  },
  {
   "cell_type": "markdown",
   "metadata": {},
   "source": [
    "Protocols of custom length and amplitude can also be used. To know which parameters can be changed for the different protocol, have a look the classes defined in bluepyemodel/ecodes/.\n",
    "\n",
    "For example, to define a custom step that doesnt not depend on the threshold current: \n",
    "\n",
    "(Note the change of the \"type\". The amplitude is specified in nA)."
   ]
  },
  {
   "cell_type": "code",
   "execution_count": null,
   "metadata": {},
   "outputs": [],
   "source": [
    "additional_protocols['Step'] = {\n",
    "    \"type\": \"StepProtocol\",\n",
    "    'stimuli': {\n",
    "        'amp': 0.4,\n",
    "        'delay': 50,\n",
    "        'duration': 20,\n",
    "        'totduration': 100,\n",
    "        'holding_current': -0.1\n",
    "    } \n",
    "}"
   ]
  },
  {
   "cell_type": "markdown",
   "metadata": {},
   "source": [
    "Another example: a ramp of custom length that depends of the threshold and holding currents.\n",
    "\n",
    "The thresh_perc field is used to indicate an amplitude relative to the threshold current."
   ]
  },
  {
   "cell_type": "code",
   "execution_count": null,
   "metadata": {},
   "outputs": [],
   "source": [
    "additional_protocols['Ramp'] = {\n",
    "    \"type\": \"StepThresholdProtocol\",\n",
    "    'stimuli': {\n",
    "        'thresh_perc': 0.8,\n",
    "        'delay': 100,\n",
    "        'duration': 500,\n",
    "        'totduration': 800\n",
    "    } \n",
    "}"
   ]
  },
  {
   "cell_type": "markdown",
   "metadata": {},
   "source": [
    "Now let's plot the voltage responses to these stimuli (see the directory ./figures):"
   ]
  },
  {
   "cell_type": "code",
   "execution_count": null,
   "metadata": {},
   "outputs": [],
   "source": [
    "pipeline.plot_models(\n",
    "        figures_dir=\"./figures\",\n",
    "        additional_protocols=additional_protocols\n",
    "    )"
   ]
  }
 ],
 "metadata": {
  "kernelspec": {
   "display_name": "venv",
   "language": "python",
   "name": "venv"
  },
  "language_info": {
   "codemirror_mode": {
    "name": "ipython",
    "version": 3
   },
   "file_extension": ".py",
   "mimetype": "text/x-python",
   "name": "python",
   "nbconvert_exporter": "python",
   "pygments_lexer": "ipython3",
   "version": "3.7.4"
  }
 },
 "nbformat": 4,
 "nbformat_minor": 4
}
