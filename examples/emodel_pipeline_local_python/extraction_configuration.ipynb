{
 "cells": [
  {
   "cell_type": "markdown",
   "id": "3719e243",
   "metadata": {},
   "source": [
    "# Configuring the extraction of efeatures\n",
    "\n",
    "This notebook will demonstrate how to create the configuration files required for efeature extraction. Of course, it is a ficticious example as no ephys data is present in the current package.\n",
    "\n",
    "The first step is to instantiate an access point to the local directory that will take care of storing the configuration:"
   ]
  },
  {
   "cell_type": "code",
   "execution_count": 1,
   "id": "62d2dc4a",
   "metadata": {},
   "outputs": [],
   "source": [
    "emodel = \"L5PC\""
   ]
  },
  {
   "cell_type": "code",
   "execution_count": 2,
   "id": "3587d4d3",
   "metadata": {},
   "outputs": [],
   "source": [
    "from bluepyemodel.access_point.local import LocalAccessPoint\n",
    "\n",
    "access_point = LocalAccessPoint(\n",
    "    emodel=emodel,\n",
    "    final_path=\"./final.json\",\n",
    "    emodel_dir=f\"./\",\n",
    "    recipes_path='./config/recipes.json',\n",
    ")"
   ]
  },
  {
   "cell_type": "markdown",
   "id": "d40c8b54",
   "metadata": {},
   "source": [
    "Then, you will need to implement the function to gather the metadata of the files your are interested in as well as build a list of the targets:"
   ]
  },
  {
   "cell_type": "code",
   "execution_count": 5,
   "id": "2a3bd708",
   "metadata": {},
   "outputs": [],
   "source": [
    "import glob\n",
    "import pathlib\n",
    "\n",
    "protocols_rheobase = [\"IDthresh\"]\n",
    "\n",
    "targets = [\n",
    "    {\n",
    "        \"efeature\": \"Spikecount\",\n",
    "        \"protocol\": \"IDRest\",\n",
    "        \"amplitude\": 200,\n",
    "        \"tolerance\": 100,\n",
    "        \"efel_settings\": {\"strict_stiminterval\": True}\n",
    "    },\n",
    "    {\n",
    "        \"efeature\": \"voltage_base\",\n",
    "        \"protocol\": \"IDRest\",\n",
    "        \"amplitude\": 200,\n",
    "        \"tolerance\": 100,\n",
    "        \"efel_settings\": {\"strict_stiminterval\": True}\n",
    "    },\n",
    "    {\n",
    "        \"efeature\": \"AP_amplitude\",\n",
    "        \"protocol\": \"IDRest\",\n",
    "        \"amplitude\": 200,\n",
    "        \"tolerance\": 100,\n",
    "        \"efel_settings\": {\"strict_stiminterval\": True}\n",
    "    },  \n",
    "    {\n",
    "        \"efeature\": \"AP_amplitude\",\n",
    "        \"protocol\": \"APWaveform\",\n",
    "        \"amplitude\": 300,\n",
    "        \"tolerance\": 100,\n",
    "        \"efel_settings\": {\"strict_stiminterval\": True}\n",
    "    }\n",
    "]\n",
    "\n",
    "\n",
    "def get_files_metadata():\n",
    "    \"\"\" Build a list of files metadata of the form:\n",
    "\n",
    "    [\n",
    "        {\n",
    "          \"cell_name\": \"180124HuSHS1C3IN1\",\n",
    "          \"filename\": \"180124HuSHS1C3IN1\",\n",
    "          \"filepath\": \"./ephys_data/C010600C1-MT-C1.nwb\",\n",
    "          \"ecodes\": {\n",
    "            \"APWaveform\": {}\n",
    "          },\n",
    "          \"other_metadata\": {\n",
    "            \"ljp\": 14.0,\n",
    "            \"i_unit\": \"pA\",\n",
    "            \"t_unit\": \"s\",\n",
    "            \"v_unit\": \"mV\"\n",
    "          }\n",
    "        },\n",
    "        .\n",
    "        .\n",
    "        .\n",
    "    ]\n",
    "      \"\"\"\n",
    "    \n",
    "    files_metadata = []\n",
    "    \n",
    "    ecodes = list(set([t[\"protocol\"] for t in targets] + protocols_rheobase))\n",
    "\n",
    "    for path in glob.glob(\"./ephys_data/*.nwb\"):\n",
    "        cell_name = pathlib.Path(path).stem\n",
    "    \n",
    "        files_metadata.append({\n",
    "            \"cell_name\": cell_name,\n",
    "            \"filepath\": path,\n",
    "            \"ecodes\": {e: {} for e in ecodes}\n",
    "        })\n",
    "\n",
    "    return files_metadata"
   ]
  },
  {
   "cell_type": "markdown",
   "id": "fc32b66c",
   "metadata": {},
   "source": [
    "Then, we can create the configuration itself:"
   ]
  },
  {
   "cell_type": "code",
   "execution_count": 9,
   "id": "cbb98569",
   "metadata": {},
   "outputs": [],
   "source": [
    "from bluepyemodel.efeatures_extraction.targets_configuration import TargetsConfiguration\n",
    "\n",
    "config = TargetsConfiguration(\n",
    "    files=get_files_metadata(),\n",
    "    targets=targets,\n",
    "    protocols_rheobase=protocols_rheobase,\n",
    ")"
   ]
  },
  {
   "cell_type": "markdown",
   "id": "25452d2c",
   "metadata": {},
   "source": [
    "Finally, it can be stored in the path indicated under the field \"features\" in the recipes:"
   ]
  },
  {
   "cell_type": "code",
   "execution_count": 7,
   "id": "2b2567a5",
   "metadata": {},
   "outputs": [],
   "source": [
    "access_point.store_targets_configuration(config)"
   ]
  }
 ],
 "metadata": {
  "kernelspec": {
   "display_name": "Python 3 (ipykernel)",
   "language": "python",
   "name": "python3"
  },
  "language_info": {
   "codemirror_mode": {
    "name": "ipython",
    "version": 3
   },
   "file_extension": ".py",
   "mimetype": "text/x-python",
   "name": "python",
   "nbconvert_exporter": "python",
   "pygments_lexer": "ipython3",
   "version": "3.9.7"
  }
 },
 "nbformat": 4,
 "nbformat_minor": 5
}
