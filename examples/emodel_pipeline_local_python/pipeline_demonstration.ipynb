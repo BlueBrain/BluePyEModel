{
 "cells": [
  {
   "cell_type": "code",
   "execution_count": null,
   "metadata": {},
   "outputs": [],
   "source": [
    "%load_ext autoreload\n",
    "%autoreload\n",
    "!nrnivmodl mechanisms\n",
    "\n",
    "import logging\n",
    "\n",
    "logging.basicConfig(\n",
    "    level=logging.INFO,\n",
    "    handlers=[logging.StreamHandler()],\n",
    ")\n",
    "\n",
    "from bluepyemodel.emodel_pipeline.emodel_pipeline import EModel_pipeline"
   ]
  },
  {
   "cell_type": "code",
   "execution_count": null,
   "metadata": {},
   "outputs": [],
   "source": [
    "emodel = \"L5PC\"\n",
    "species = \"rat\"\n",
    "brain_region = \"sscx\"\n",
    "seed = 42\n",
    "iteration_tag = \"v0\"\n",
    "data_access_point = \"local\"\n",
    "recipes_path = './config/recipes.json'"
   ]
  },
  {
   "cell_type": "code",
   "execution_count": null,
   "metadata": {},
   "outputs": [],
   "source": [
    "pipeline = EModel_pipeline(\n",
    "    emodel=emodel,\n",
    "    species=species,\n",
    "    brain_region=brain_region,\n",
    "    data_access_point=data_access_point,\n",
    "    recipes_path=recipes_path,\n",
    "    iteration_tag=itaration_tag,\n",
    "    use_ipyparallel=False,\n",
    ")"
   ]
  },
  {
   "cell_type": "code",
   "execution_count": null,
   "metadata": {},
   "outputs": [],
   "source": [
    "pipeline.optimize(seed=seed)"
   ]
  },
  {
   "cell_type": "code",
   "execution_count": null,
   "metadata": {},
   "outputs": [],
   "source": [
    "pipeline.store_optimisation_results()"
   ]
  },
  {
   "cell_type": "code",
   "execution_count": null,
   "metadata": {},
   "outputs": [],
   "source": [
    "pipeline.validation()"
   ]
  },
  {
   "cell_type": "code",
   "execution_count": null,
   "metadata": {},
   "outputs": [],
   "source": [
    "pipeline.plot()"
   ]
  },
  {
   "cell_type": "code",
   "execution_count": null,
   "metadata": {},
   "outputs": [],
   "source": [
    "# change the currentscape configuration and replot the currentscapes\n",
    "from bluepyemodel.emodel_pipeline.plotting import currentscape\n",
    "\n",
    "output_dir = f\"./recordings/emodel={emodel}__iteration={iteration_tag}__seed={seed}\"\n",
    "config = {\"title\": \"L5PC currentscape\"}\n",
    "currentscape(output_dir=output_dir, config=config, figures_dir=\"figures/currentscape/all\")"
   ]
  }
 ],
 "metadata": {
  "kernelspec": {
   "display_name": "Python 3",
   "language": "python",
   "name": "python3"
  },
  "language_info": {
   "codemirror_mode": {
    "name": "ipython",
    "version": 3
   },
   "file_extension": ".py",
   "mimetype": "text/x-python",
   "name": "python",
   "nbconvert_exporter": "python",
   "pygments_lexer": "ipython3",
   "version": "3.7.7"
  }
 },
 "nbformat": 4,
 "nbformat_minor": 4
}
