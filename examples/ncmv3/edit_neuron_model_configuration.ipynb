{
 "cells": [
  {
   "attachments": {},
   "cell_type": "markdown",
   "metadata": {},
   "source": [
    "## How to edit an already existing Neuron Model Configuration"
   ]
  },
  {
   "attachments": {},
   "cell_type": "markdown",
   "metadata": {},
   "source": [
    "This notebook explains how to load an already existing neuron model configuration from nexus, edit it, and store it on nexus"
   ]
  },
  {
   "attachments": {},
   "cell_type": "markdown",
   "metadata": {},
   "source": [
    "To run this notebook, you need to already have a NeuronModelConfiguration in Nexus. Therefore, I recommend to do the configuration through python before running this notebook:\n",
    "```\n",
    "python pipeline.py --step=configure_nexus --emodel=EMODEL_NAME --iteration_tag=ITERATION_TAG --ttype=TTYPE\n",
    "python pipeline.py --step=configure_model_from_gene --emodel=EMODEL_NAME --iteration_tag=ITERATION_TAG --ttype=TTYPE\n",
    "```"
   ]
  },
  {
   "attachments": {},
   "cell_type": "markdown",
   "metadata": {},
   "source": [
    "## Loading the NeuronModelConfiguration"
   ]
  },
  {
   "cell_type": "code",
   "execution_count": 1,
   "metadata": {},
   "outputs": [],
   "source": [
    "species = \"mouse\"\n",
    "brain_region = \"SSCX\"\n",
    "data_access_point = \"nexus\"\n",
    "nexus_project = \"ncmv3\"\n",
    "nexus_organisation = \"bbp\"\n",
    "nexus_endpoint = \"prod\"\n",
    "forge_path = \"./forge.yml\"\n",
    "forge_ontology_path = \"./nsg.yml\"\n",
    "\n",
    "emodel = \"L5_TPC:B_cAC\"\n",
    "ttype = \"182_L4/5 IT CTX\"\n",
    "iteration_tag = \"mettypesv12_1\""
   ]
  },
  {
   "attachments": {},
   "cell_type": "markdown",
   "metadata": {},
   "source": [
    "This next cell will ask for your Nexus token:"
   ]
  },
  {
   "cell_type": "code",
   "execution_count": null,
   "metadata": {},
   "outputs": [],
   "source": [
    "from bluepyemodelnexus.nexus import NexusAccessPoint\n",
    "\n",
    "access_point = NexusAccessPoint(\n",
    "    emodel=emodel,\n",
    "    species=species,\n",
    "    brain_region=brain_region,\n",
    "    project=\"ncmv3\",\n",
    "    organisation=\"bbp\",\n",
    "    endpoint=\"https://bbp.epfl.ch/nexus/v1\",\n",
    "    forge_path=forge_path,\n",
    "    forge_ontology_path=forge_ontology_path,\n",
    "    ttype=ttype,\n",
    "    iteration_tag=iteration_tag\n",
    ")"
   ]
  },
  {
   "attachments": {},
   "cell_type": "markdown",
   "metadata": {},
   "source": [
    "Here, we load the configurator, that is able to load, modify and save the configuration."
   ]
  },
  {
   "cell_type": "code",
   "execution_count": null,
   "metadata": {},
   "outputs": [],
   "source": [
    "from bluepyemodel.model.model_configurator import ModelConfigurator\n",
    "\n",
    "configurator = ModelConfigurator(access_point)\n",
    "configurator.load_configuration()\n",
    "\n",
    "print(configurator.configuration)"
   ]
  },
  {
   "attachments": {},
   "cell_type": "markdown",
   "metadata": {},
   "source": [
    "## Adding Mechanisms, Distributions, Parameters or Morphology"
   ]
  },
  {
   "attachments": {},
   "cell_type": "markdown",
   "metadata": {},
   "source": [
    "You are now able to modify the neuron model configuration. Below is an example where a mechanism, a distribution and a parameter are added to the other mechanisms, distributions and parameters of the neuron model configuration, and where the morphology is changed to another one."
   ]
  },
  {
   "cell_type": "code",
   "execution_count": 4,
   "metadata": {},
   "outputs": [],
   "source": [
    "from bluepyemodel.model.morphology_configuration import MorphologyConfiguration"
   ]
  },
  {
   "cell_type": "code",
   "execution_count": 5,
   "metadata": {},
   "outputs": [],
   "source": [
    "# add distribution\n",
    "configurator.configuration.add_distribution(\n",
    "    distribution_name=\"decay\",\n",
    "    function=\"math.exp({distance}*{constant})*{value}\",\n",
    "    parameters=[\"constant\"],\n",
    ")"
   ]
  },
  {
   "cell_type": "code",
   "execution_count": 6,
   "metadata": {},
   "outputs": [],
   "source": [
    "# add two parameters\n",
    "configurator.configuration.add_parameter(\n",
    "    parameter_name=\"constant\",\n",
    "    locations=\"distribution_decay\",\n",
    "    value=[-0.1,0.0],\n",
    "    mechanism=None,\n",
    "    distribution_name=None,\n",
    "    stochastic=None,\n",
    ")\n",
    "configurator.configuration.add_parameter(\n",
    "    parameter_name=\"gNaTgbar_NaTg\",\n",
    "    locations=\"apical\",\n",
    "    value=[0.0, 0.1],\n",
    "    mechanism=\"NaTg\",\n",
    "    distribution_name=\"decay\",\n",
    "    stochastic=None,\n",
    ")"
   ]
  },
  {
   "cell_type": "code",
   "execution_count": 7,
   "metadata": {},
   "outputs": [],
   "source": [
    "# add mechanism\n",
    "configurator.configuration.add_mechanism(\n",
    "    mechanism_name=\"NaTg\",\n",
    "    locations=\"apical\",\n",
    "    stochastic=None,\n",
    "    version=None,\n",
    ")"
   ]
  },
  {
   "cell_type": "code",
   "execution_count": 8,
   "metadata": {},
   "outputs": [],
   "source": [
    "# change morphology\n",
    "configurator.configuration.morphology = MorphologyConfiguration(name=\"ak171123_C_idA\")"
   ]
  },
  {
   "attachments": {},
   "cell_type": "markdown",
   "metadata": {},
   "source": [
    "## Removing Parameters, Mechanisms, and Distributions"
   ]
  },
  {
   "attachments": {},
   "cell_type": "markdown",
   "metadata": {},
   "source": [
    "Here, we will see how to remove parameters, mechanisms and distributions. For the sake of simplicity, we will remove the ones that we just added."
   ]
  },
  {
   "cell_type": "code",
   "execution_count": 15,
   "metadata": {},
   "outputs": [],
   "source": [
    "# remove parameter\n",
    "configurator.configuration.remove_parameter(parameter_name=\"constant\")"
   ]
  },
  {
   "attachments": {},
   "cell_type": "markdown",
   "metadata": {},
   "source": [
    "When a mechanism is removed, it also remove all associated parameters. Here, 'gNaTgbar_NaTg' parameter will be removed as well"
   ]
  },
  {
   "cell_type": "code",
   "execution_count": 16,
   "metadata": {},
   "outputs": [],
   "source": [
    "# remove mechanism\n",
    "configurator.configuration.remove_mechanism(mechanism_name=\"NaTg\")"
   ]
  },
  {
   "attachments": {},
   "cell_type": "markdown",
   "metadata": {},
   "source": [
    "There is no function to remove a distribution, but if you want to remove one nonetheless, you can use this code below."
   ]
  },
  {
   "cell_type": "code",
   "execution_count": 17,
   "metadata": {},
   "outputs": [],
   "source": [
    "# remove a distribution\n",
    "distribution_name = \"decay\"\n",
    "configurator.configuration.distributions = [d for d in configurator.configuration.distributions if d.name != distribution_name]"
   ]
  },
  {
   "attachments": {},
   "cell_type": "markdown",
   "metadata": {},
   "source": [
    "## Saving the NeuronModelConfiguration"
   ]
  },
  {
   "attachments": {},
   "cell_type": "markdown",
   "metadata": {},
   "source": [
    "If there is no optimised model in your access point, you can store the new neuron model configuration as it is.\n",
    "\n",
    "However, if there is an optimised model in your access point, you might want to use a new access point with an unused iteration tag in ordrer to not have a conflict with the existing model.\n",
    "\n",
    "In this example, since we have just created the access point without optimising any model yet, we will keep it for storing the new neuron model configuration. Note that the old NeuronModelConfiguration will be deprecated."
   ]
  },
  {
   "cell_type": "code",
   "execution_count": null,
   "metadata": {},
   "outputs": [],
   "source": [
    "# store new model config\n",
    "configurator.save_configuration()"
   ]
  },
  {
   "attachments": {},
   "cell_type": "markdown",
   "metadata": {},
   "source": [
    "## Trying if the optimisation work:"
   ]
  },
  {
   "attachments": {},
   "cell_type": "markdown",
   "metadata": {},
   "source": [
    "Go to your folder containing the mechanisms (e.g. ./nexus_tmp/emodel=L5_TPC:B_cAC__iteration_tag=mettypesv12_1__ttype=182_L4/5_IT_CTX) and compile them. Then, you can try if the optimisation works using the pipeline:"
   ]
  },
  {
   "attachments": {},
   "cell_type": "markdown",
   "metadata": {},
   "source": [
    "```\n",
    "extraction:\n",
    "python pipeline.py --step=extract --emodel=EMODEL_NAME --iteration_tag=ITERATION_TAG --ttype=TTYPE\n",
    "optimisation:\n",
    "python pipeline.py --step=test_optimise --emodel=EMODEL_NAME --iteration_tag=ITERATION_TAG --ttype=TTYPE\n",
    "```"
   ]
  },
  {
   "cell_type": "code",
   "execution_count": null,
   "metadata": {},
   "outputs": [],
   "source": []
  }
 ],
 "metadata": {
  "kernelspec": {
   "display_name": "venv-bluepyemodel",
   "language": "python",
   "name": "venv-bluepyemodel"
  },
  "language_info": {
   "codemirror_mode": {
    "name": "ipython",
    "version": 3
   },
   "file_extension": ".py",
   "mimetype": "text/x-python",
   "name": "python",
   "nbconvert_exporter": "python",
   "pygments_lexer": "ipython3",
   "version": "3.8.3"
  }
 },
 "nbformat": 4,
 "nbformat_minor": 4
}
