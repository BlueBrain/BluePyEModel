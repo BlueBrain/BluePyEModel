{
 "cells": [
  {
   "attachments": {},
   "cell_type": "markdown",
   "metadata": {},
   "source": [
    "# Accessing the emodels and running custom protocols"
   ]
  },
  {
   "attachments": {},
   "cell_type": "markdown",
   "metadata": {},
   "source": [
    "This notebook shows how to access the optimised emodels and how to run custom protocols using them."
   ]
  },
  {
   "attachments": {},
   "cell_type": "markdown",
   "metadata": {},
   "source": [
    "## Instantiating an access point to Nexus"
   ]
  },
  {
   "cell_type": "code",
   "execution_count": 2,
   "metadata": {},
   "outputs": [],
   "source": [
    "species = \"mouse\"\n",
    "brain_region = \"SSCX\"\n",
    "data_access_point = \"nexus\"\n",
    "nexus_project = \"ncmv3\"\n",
    "nexus_organisation = \"bbp\"\n",
    "nexus_endpoint = \"https://bbp.epfl.ch/nexus/v1\"\n",
    "forge_path = \"./forge.yml\"\n",
    "\n",
    "emodel = \"L5_TPC:B_cAC\"\n",
    "ttype = \"L4/5 IT_1\"\n",
    "iteration_tag = \"v0\""
   ]
  },
  {
   "attachments": {},
   "cell_type": "markdown",
   "metadata": {},
   "source": [
    "This next cell will ask for your Nexus token:"
   ]
  },
  {
   "cell_type": "code",
   "execution_count": null,
   "metadata": {},
   "outputs": [],
   "source": [
    "from bluepyemodelnexus.nexus import NexusAccessPoint\n",
    "\n",
    "access_point = NexusAccessPoint(\n",
    "    emodel=emodel,\n",
    "    species=species,\n",
    "    brain_region=brain_region,\n",
    "    project=nexus_project,\n",
    "    organisation=nexus_organisation,\n",
    "    endpoint=nexus_endpoint,\n",
    "    forge_path=forge_path,\n",
    "    ttype=ttype,\n",
    "    iteration_tag=iteration_tag\n",
    ")"
   ]
  },
  {
   "attachments": {},
   "cell_type": "markdown",
   "metadata": {},
   "source": [
    "## Retrieving the emodels"
   ]
  },
  {
   "cell_type": "code",
   "execution_count": 5,
   "metadata": {},
   "outputs": [],
   "source": [
    "emodels = access_point.get_emodels()"
   ]
  },
  {
   "cell_type": "code",
   "execution_count": null,
   "metadata": {},
   "outputs": [],
   "source": [
    "import pprint\n",
    "\n",
    "print(f\"Found {len(emodels)} emodels\")\n",
    "print(\"\\nExample of an emodel:\\n\")\n",
    "pprint.pprint(emodels[0])"
   ]
  },
  {
   "attachments": {},
   "cell_type": "markdown",
   "metadata": {},
   "source": [
    "## Running protocols and the emodel"
   ]
  },
  {
   "attachments": {},
   "cell_type": "markdown",
   "metadata": {},
   "source": [
    "Instantiate the evaluator which contains the model (except for the value of the parameters that we got above) and the protocols used for optimisation:"
   ]
  },
  {
   "cell_type": "code",
   "execution_count": null,
   "metadata": {},
   "outputs": [],
   "source": [
    "from bluepyemodel.evaluation.evaluation import get_evaluator_from_access_point\n",
    "\n",
    "evaluator = get_evaluator_from_access_point(\n",
    "    access_point,\n",
    "    stochasticity=False,\n",
    "    include_validation_protocols=False,\n",
    ")"
   ]
  },
  {
   "attachments": {},
   "cell_type": "markdown",
   "metadata": {},
   "source": [
    "To rerun the protocols that were used for optimisation on the first of the models, do:"
   ]
  },
  {
   "cell_type": "code",
   "execution_count": 18,
   "metadata": {},
   "outputs": [],
   "source": [
    "responses = evaluator.run_protocols(protocols=evaluator.fitness_protocols.values(), param_values=emodels[0].parameters)"
   ]
  },
  {
   "attachments": {},
   "cell_type": "markdown",
   "metadata": {},
   "source": [
    "If you wish to run additional protocols, you can first define a new protocol:"
   ]
  },
  {
   "cell_type": "code",
   "execution_count": 19,
   "metadata": {},
   "outputs": [],
   "source": [
    "from bluepyemodel.evaluation.protocol_configuration import ProtocolConfiguration\n",
    "from bluepyemodel.evaluation.evaluator import define_protocol\n",
    "\n",
    "protocol_name = \"my_step\"\n",
    "\n",
    "stimuli = [{\n",
    "    \"holding_current\": -0.08,\n",
    "    \"amp\": 0.85,\n",
    "    \"delay\": 100,\n",
    "    \"duration\": 1000,\n",
    "    \"totduration\": 1200\n",
    "}]\n",
    "#\"thresh_perc\": 358.09518664582686,\n",
    "\n",
    "recordings = [\n",
    "    {\n",
    "        \"type\": \"CompRecording\",\n",
    "        \"name\": f\"{protocol_name}.soma.v\",\n",
    "        \"location\": \"soma\",\n",
    "        \"variable\": \"v\",\n",
    "    }\n",
    "]\n",
    "\n",
    "my_protocol_configuration = ProtocolConfiguration(\n",
    "    name=protocol_name,\n",
    "    stimuli=stimuli,\n",
    "    recordings=recordings,\n",
    "    validation=False\n",
    ")\n",
    "\n",
    "my_protocol = define_protocol(my_protocol_configuration)"
   ]
  },
  {
   "attachments": {},
   "cell_type": "markdown",
   "metadata": {},
   "source": [
    "Note that the name of the protocol matters as BluePyEmodel will use it to detect which shape the protocol should have. For example, here, \"step\" is in the name and therefore a step protocol will be generated. A complete list of the eCode that can be used to create protocols can be seen [here](https://github.com/BlueBrain/BluePyEModel/blob/main/bluepyemodel/ecode/__init__.py). For more complex eCode, contact Aurélien or Ilkan for an explanation of how to use them."
   ]
  },
  {
   "attachments": {},
   "cell_type": "markdown",
   "metadata": {},
   "source": [
    "Once the protocol is created, it can be added to the protocols already in the evaluator:"
   ]
  },
  {
   "cell_type": "code",
   "execution_count": 20,
   "metadata": {},
   "outputs": [],
   "source": [
    "evaluator.fitness_protocols[\"main_protocol\"].other_protocols[protocol_name] = my_protocol"
   ]
  },
  {
   "cell_type": "code",
   "execution_count": null,
   "metadata": {},
   "outputs": [],
   "source": [
    "responses = evaluator.run_protocols(protocols=evaluator.fitness_protocols.values(), param_values=emodels[0].parameters)"
   ]
  },
  {
   "attachments": {},
   "cell_type": "markdown",
   "metadata": {},
   "source": [
    "Finally, the responses can be plotted and saved in a pdf in the current working direcotry:"
   ]
  },
  {
   "cell_type": "code",
   "execution_count": null,
   "metadata": {},
   "outputs": [],
   "source": [
    "from bluepyemodel.emodel_pipeline import plotting\n",
    "\n",
    "plotting.traces(model=emodels[0], responses=responses, figures_dir=\"./\")"
   ]
  }
 ],
 "metadata": {
  "kernelspec": {
   "display_name": "myvenv",
   "language": "python",
   "name": "myvenv"
  },
  "language_info": {
   "codemirror_mode": {
    "name": "ipython",
    "version": 3
   },
   "file_extension": ".py",
   "mimetype": "text/x-python",
   "name": "python",
   "nbconvert_exporter": "python",
   "pygments_lexer": "ipython3",
   "version": "3.9.7"
  }
 },
 "nbformat": 4,
 "nbformat_minor": 4
}
