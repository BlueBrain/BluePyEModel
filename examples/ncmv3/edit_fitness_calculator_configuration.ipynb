{
 "cells": [
  {
   "cell_type": "markdown",
   "metadata": {},
   "source": [
    "To run this notebook, you need to already have a FitnessCalculatorConfiguration in Nexus. Therefore, I recomment to do the configuration and extraction through python before running this notebook:\n",
    "```\n",
    "python pipeline.py --step=configure_nexus --emodel=EMODEL_NAME --iteration_tag=ITERATION_TAG --ttype=TTYPE\n",
    "python pipeline.py --step=configure_model_from_gene --emodel=EMODEL_NAME --iteration_tag=ITERATION_TAG --ttype=TTYPE\n",
    "python pipeline.py --step=extract --emodel=EMODEL_NAME --iteration_tag=ITERATION_TAG --ttype=TTYPE\n",
    "```"
   ]
  },
  {
   "cell_type": "markdown",
   "metadata": {},
   "source": [
    "## Loading the FitnessCalculatorConfiguration"
   ]
  },
  {
   "cell_type": "code",
   "execution_count": 9,
   "metadata": {},
   "outputs": [],
   "source": [
    "species = \"mouse\"\n",
    "brain_region = \"SSCX\"\n",
    "data_access_point = \"nexus\"\n",
    "nexus_project = \"ncmv3\"\n",
    "nexus_organisation = \"bbp\"\n",
    "nexus_endpoint = \"prod\"\n",
    "forge_path = \"./forge.yml\"\n",
    "forge_ontology_path = \"./nsg.yml\"\n",
    "\n",
    "emodel = \"L5_TPC:B_cAC\"\n",
    "ttype = \"182_L4/5 IT CTX\"\n",
    "iteration_tag = \"mettypesv12_1\""
   ]
  },
  {
   "cell_type": "markdown",
   "metadata": {},
   "source": [
    "This next cell will ask for your Nexus token:"
   ]
  },
  {
   "cell_type": "code",
   "execution_count": null,
   "metadata": {},
   "outputs": [],
   "source": [
    "from bluepyemodelnexus.nexus import NexusAccessPoint\n",
    "\n",
    "access_point = NexusAccessPoint(\n",
    "    emodel=emodel,\n",
    "    species=species,\n",
    "    brain_region=brain_region,\n",
    "    project=\"ncmv3\",\n",
    "    organisation=\"bbp\",\n",
    "    endpoint=\"https://bbp.epfl.ch/nexus/v1\",\n",
    "    forge_path=forge_path,\n",
    "    forge_ontology_path=forge_ontology_path,\n",
    "    ttype=ttype,\n",
    "    iteration_tag=iteration_tag\n",
    ")"
   ]
  },
  {
   "cell_type": "code",
   "execution_count": null,
   "metadata": {},
   "outputs": [],
   "source": [
    "fitness_config = access_point.get_fitness_calculator_configuration()\n",
    "\n",
    "print(fitness_config)"
   ]
  },
  {
   "cell_type": "markdown",
   "metadata": {},
   "source": [
    "## Adding EFeature or Protocol"
   ]
  },
  {
   "cell_type": "code",
   "execution_count": 12,
   "metadata": {},
   "outputs": [],
   "source": [
    "from bluepyemodel.evaluation.efeature_configuration import EFeatureConfiguration\n",
    "from bluepyemodel.evaluation.protocol_configuration import ProtocolConfiguration"
   ]
  },
  {
   "cell_type": "code",
   "execution_count": 14,
   "metadata": {},
   "outputs": [],
   "source": [
    "protocol_name = \"Step_1000\"\n",
    "\n",
    "stimuli = [{\n",
    "    \"amp\": None,\n",
    "    \"delay\": 700,\n",
    "    \"duration\": 4,\n",
    "    \"holding_current\": None,\n",
    "    \"thresh_perc\": 1000,\n",
    "    \"totduration\": 1000\n",
    "}]\n",
    "\n",
    "recordings = [\n",
    "    {\n",
    "        \"type\": \"CompRecording\",\n",
    "        \"location\": \"soma\",\n",
    "        \"name\": f\"{protocol_name}.soma.v\",\n",
    "        \"variable\": \"v\"\n",
    "    },\n",
    "]\n",
    "\n",
    "protocol_config = ProtocolConfiguration(\n",
    "    name=protocol_name,\n",
    "    stimuli=stimuli,\n",
    "    recordings=recordings,\n",
    "    validation=False\n",
    ")\n",
    "\n",
    "fitness_config.protocols.append(protocol_config)"
   ]
  },
  {
   "cell_type": "code",
   "execution_count": 16,
   "metadata": {},
   "outputs": [],
   "source": [
    "efeature_def = EFeatureConfiguration(\n",
    "    efel_feature_name=\"Spikecount\",\n",
    "    protocol_name=protocol_name,\n",
    "    recording_name=\"soma.v\",\n",
    "    mean=1.0,\n",
    "    std=0.1,\n",
    "    efel_settings={\"strict_stiminterval\": False},\n",
    "    threshold_efeature_std=None,\n",
    ")\n",
    "\n",
    "fitness_config.efeatures.append(efeature_def)"
   ]
  },
  {
   "cell_type": "markdown",
   "metadata": {},
   "source": [
    "## Saving the FitnessCalculatorConfiguration"
   ]
  },
  {
   "cell_type": "code",
   "execution_count": null,
   "metadata": {},
   "outputs": [],
   "source": [
    "access_point.store_fitness_calculator_configuration(fitness_config)"
   ]
  },
  {
   "cell_type": "markdown",
   "metadata": {},
   "source": [
    "## Trying if the optimisation work:"
   ]
  },
  {
   "cell_type": "markdown",
   "metadata": {},
   "source": [
    "```\n",
    "python pipeline.py --step=test_optimise --emodel=EMODEL_NAME --iteration_tag=ITERATION_TAG --ttype=TTYPE\n",
    "```"
   ]
  },
  {
   "cell_type": "code",
   "execution_count": null,
   "metadata": {},
   "outputs": [],
   "source": []
  }
 ],
 "metadata": {
  "kernelspec": {
   "display_name": "venv-bluepyemodel",
   "language": "python",
   "name": "venv-bluepyemodel"
  },
  "language_info": {
   "codemirror_mode": {
    "name": "ipython",
    "version": 3
   },
   "file_extension": ".py",
   "mimetype": "text/x-python",
   "name": "python",
   "nbconvert_exporter": "python",
   "pygments_lexer": "ipython3",
   "version": "3.8.3"
  }
 },
 "nbformat": 4,
 "nbformat_minor": 4
}
