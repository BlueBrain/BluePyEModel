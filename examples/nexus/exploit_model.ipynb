{
 "cells": [
  {
   "cell_type": "markdown",
   "metadata": {},
   "source": [
    "# Accessing the emodels and running custom protocols"
   ]
  },
  {
   "cell_type": "markdown",
   "metadata": {},
   "source": [
    "This notebook shows how to access the optimised emodels and how to run custom protocols on them."
   ]
  },
  {
   "cell_type": "markdown",
   "metadata": {},
   "source": [
    "## Instantiating an access point to Nexus"
   ]
  },
  {
   "cell_type": "markdown",
   "metadata": {},
   "source": [
    "Please fill in the values to match the metadata of the model you want to access"
   ]
  },
  {
   "cell_type": "code",
   "execution_count": 4,
   "metadata": {},
   "outputs": [],
   "source": [
    "emodel = \"L5_TPC\"\n",
    "etype = \"cAC\"\n",
    "mtype = None\n",
    "ttype = None\n",
    "iteration_tag = \"XXXX-XX-XX\"\n",
    "species = \"mouse\"\n",
    "brain_region = \"SSCX\"\n",
    "\n",
    "nexus_project = \"\" # specify the nexus project to use\n",
    "nexus_organisation = \"\" # specify the nexus organisation to use\n",
    "nexus_endpoint = \"\" # specify the nexus endpoint to use\n",
    "\n",
    "# Advanced settings (only change if you know what you are doing)\n",
    "forge_path = \"./forge.yml\"\n",
    "forge_ontology_path = \"./nsg.yml\""
   ]
  },
  {
   "cell_type": "markdown",
   "metadata": {},
   "source": [
    "This next cell will ask for your Nexus token:"
   ]
  },
  {
   "cell_type": "code",
   "execution_count": null,
   "metadata": {},
   "outputs": [],
   "source": [
    "from bluepyemodel.access_point.nexus import NexusAccessPoint\n",
    "\n",
    "access_point = NexusAccessPoint(\n",
    "    emodel=emodel,\n",
    "    species=species,\n",
    "    brain_region=brain_region,\n",
    "    project=nexus_project,\n",
    "    organisation=nexus_organisation,\n",
    "    endpoint=nexus_endpoint,\n",
    "    forge_path=forge_path,\n",
    "    etype=etype,\n",
    "    mtype=mtype,\n",
    "    ttype=ttype,\n",
    "    iteration_tag=iteration_tag,\n",
    ")"
   ]
  },
  {
   "cell_type": "markdown",
   "metadata": {},
   "source": [
    "## Retrieving the emodels"
   ]
  },
  {
   "cell_type": "code",
   "execution_count": 6,
   "metadata": {},
   "outputs": [],
   "source": [
    "emodels = access_point.get_emodels()"
   ]
  },
  {
   "cell_type": "code",
   "execution_count": null,
   "metadata": {},
   "outputs": [],
   "source": [
    "import pprint\n",
    "\n",
    "print(f\"Found {len(emodels)} emodels\")\n",
    "print(\"\\nExample of an emodel:\\n\")\n",
    "pprint.pprint(emodels[0].as_dict())"
   ]
  },
  {
   "cell_type": "markdown",
   "metadata": {},
   "source": [
    "## Running protocols and the emodel"
   ]
  },
  {
   "cell_type": "markdown",
   "metadata": {},
   "source": [
    "Instantiate the evaluator which contains the model and the protocols used for optimisation:"
   ]
  },
  {
   "cell_type": "code",
   "execution_count": null,
   "metadata": {},
   "outputs": [],
   "source": [
    "from bluepyemodel.evaluation.evaluation import get_evaluator_from_access_point\n",
    "\n",
    "evaluator = get_evaluator_from_access_point(\n",
    "    access_point,\n",
    "    stochasticity=False,\n",
    "    include_validation_protocols=False,\n",
    ")"
   ]
  },
  {
   "cell_type": "markdown",
   "metadata": {},
   "source": [
    "To rerun the protocols that were used for optimisation on the first of the models, do:"
   ]
  },
  {
   "cell_type": "code",
   "execution_count": 9,
   "metadata": {},
   "outputs": [],
   "source": [
    "responses = evaluator.run_protocols(protocols=evaluator.fitness_protocols.values(), param_values=emodels[0].parameters)"
   ]
  },
  {
   "cell_type": "markdown",
   "metadata": {},
   "source": [
    "If you wish to run additional protocols, you can first define a new protocol:"
   ]
  },
  {
   "cell_type": "code",
   "execution_count": 10,
   "metadata": {},
   "outputs": [],
   "source": [
    "from bluepyemodel.evaluation.protocol_configuration import ProtocolConfiguration\n",
    "from bluepyemodel.evaluation.evaluator import define_protocol\n",
    "\n",
    "protocol_name = \"Step_test\"\n",
    "\n",
    "stimuli = [{\n",
    "    \"holding_current\": -0.08,\n",
    "    \"threshold\": 0.16,\n",
    "    \"amp\": 300,\n",
    "    \"delay\": 100,\n",
    "    \"duration\": 1000,\n",
    "    \"totduration\": 1200\n",
    "}]\n",
    "\n",
    "recordings = [\n",
    "    {\n",
    "        \"type\": \"CompRecording\",\n",
    "        \"name\": f\"{protocol_name}.soma.v\",\n",
    "        \"location\": \"soma\",\n",
    "        \"variable\": \"v\",\n",
    "    }\n",
    "]\n",
    "\n",
    "my_protocol_configuration = ProtocolConfiguration(\n",
    "    name=protocol_name,\n",
    "    stimuli=stimuli,\n",
    "    recordings=recordings,\n",
    "    validation=False\n",
    ")\n",
    "\n",
    "my_protocol = define_protocol(my_protocol_configuration)"
   ]
  },
  {
   "cell_type": "markdown",
   "metadata": {},
   "source": [
    "Note that the name of the protocol matters as BluePyEmodel will use it to detect which shape the protocol should have. For example, here, \"step\" is in the name and therefore a step protocol will be generated. A complete list of the eCode that can be used to create protocols can be seen [here](https://github.com/BlueBrain/BluePyEModel/blob/main/bluepyemodel/ecode/__init__.py). For more complex eCode, contact the package authors for an explanation of how to use them."
   ]
  },
  {
   "cell_type": "markdown",
   "metadata": {},
   "source": [
    "Once the protocol is created, it can be added to the protocols already in the evaluator:"
   ]
  },
  {
   "cell_type": "code",
   "execution_count": 11,
   "metadata": {},
   "outputs": [],
   "source": [
    "evaluator.fitness_protocols[\"main_protocol\"].protocols[protocol_name] = my_protocol\n",
    "evaluator.fitness_protocols[\"main_protocol\"].execution_order = (\n",
    "    evaluator.fitness_protocols[\"main_protocol\"].compute_execution_order()\n",
    ")"
   ]
  },
  {
   "cell_type": "markdown",
   "metadata": {},
   "source": [
    "Finally, the responses can be plotted and saved in a pdf in the current working directory:"
   ]
  },
  {
   "cell_type": "code",
   "execution_count": null,
   "metadata": {},
   "outputs": [],
   "source": [
    "from bluepyemodel.emodel_pipeline import plotting\n",
    "from bluepyemodel.emodel_pipeline.plotting import get_recording_names\n",
    "\n",
    "responses = evaluator.run_protocols(protocols=evaluator.fitness_protocols.values(), param_values=emodels[0].parameters)\n",
    "stimuli = evaluator.fitness_protocols[\"main_protocol\"].protocols\n",
    "recording_names = get_recording_names(\n",
    "    access_point.get_fitness_calculator_configuration().protocols,\n",
    "    stimuli,\n",
    ")\n",
    "plotting.traces(model=emodels[0], responses=responses, recording_names=recording_names, stimuli=stimuli, figures_dir=\"./\")"
   ]
  }
 ],
 "metadata": {
  "kernelspec": {
   "display_name": "venv-bpem",
   "language": "python",
   "name": "venv-bpem"
  },
  "language_info": {
   "codemirror_mode": {
    "name": "ipython",
    "version": 3
   },
   "file_extension": ".py",
   "mimetype": "text/x-python",
   "name": "python",
   "nbconvert_exporter": "python",
   "pygments_lexer": "ipython3",
   "version": "3.10.8"
  }
 },
 "nbformat": 4,
 "nbformat_minor": 4
}
