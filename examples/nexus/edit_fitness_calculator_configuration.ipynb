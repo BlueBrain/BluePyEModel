{
 "cells": [
  {
   "cell_type": "markdown",
   "metadata": {},
   "source": [
    "# Editing the FitnessCalculatorConfiguration: A Step-by-Step Guide"
   ]
  },
  {
   "cell_type": "markdown",
   "metadata": {},
   "source": [
    "To run this notebook, you need to have an existing FitnessCalculatorConfiguration on Nexus."
   ]
  },
  {
   "cell_type": "markdown",
   "metadata": {},
   "source": [
    "Please fill in the values to match the metadata of the FitnessCalculatorConfiguration you want to edit."
   ]
  },
  {
   "cell_type": "code",
   "execution_count": 3,
   "metadata": {},
   "outputs": [],
   "source": [
    "emodel = \"L5_TPC\"\n",
    "etype = \"cAC\"\n",
    "mtype = None\n",
    "ttype = None\n",
    "iteration_tag = \"XXXX-XX-XX\"\n",
    "species = \"mouse\"\n",
    "brain_region = \"SSCX\"\n",
    "\n",
    "nexus_project = \"\" # specify the nexus project to use\n",
    "nexus_organisation = \"\" # specify the nexus organisation to use\n",
    "nexus_endpoint = \"\" # specify the nexus endpoint to use\n",
    "\n",
    "# Advanced settings (only change if you know what you are doing)\n",
    "forge_path = \"./forge.yml\"\n",
    "forge_ontology_path = \"./nsg.yml\""
   ]
  },
  {
   "cell_type": "markdown",
   "metadata": {},
   "source": [
    "This next cell will ask for your Nexus token:"
   ]
  },
  {
   "cell_type": "code",
   "execution_count": null,
   "metadata": {},
   "outputs": [],
   "source": [
    "from bluepyemodel.access_point.nexus import NexusAccessPoint\n",
    "\n",
    "data_access_point = \"nexus\"\n",
    "access_point = NexusAccessPoint(\n",
    "    emodel=emodel,\n",
    "    species=species,\n",
    "    brain_region=brain_region,\n",
    "    project=nexus_project,\n",
    "    organisation=nexus_organisation,\n",
    "    endpoint=nexus_endpoint,\n",
    "    forge_path=forge_path,\n",
    "    forge_ontology_path=forge_ontology_path,\n",
    "    etype=etype,\n",
    "    mtype=mtype,\n",
    "    ttype=ttype,\n",
    "    iteration_tag=iteration_tag\n",
    ")"
   ]
  },
  {
   "cell_type": "code",
   "execution_count": 5,
   "metadata": {},
   "outputs": [
    {
     "name": "stdout",
     "output_type": "stream",
     "text": [
      "Fitness Calculator Configuration:\n",
      "\n",
      "Protocols:\n",
      "   {'name': 'IDrest_130', 'stimuli': [{'delay': 700.5, 'amp': 0.4508745591995102, 'thresh_perc': 136.24160437248662, 'duration': 2000.25, 'totduration': 3000.0, 'holding_current': -0.09770833142101765}], 'recordings_from_config': [{'type': 'CompRecording', 'name': 'IDrest_130.soma.v', 'location': 'soma', 'variable': 'v'}], 'validation': False, 'protocol_type': 'ThresholdBasedProtocol', 'stochasticity': False}\n",
      "   {'name': 'IDrest_200', 'stimuli': [{'delay': 700.5, 'amp': 0.6552015231929614, 'thresh_perc': 197.9834632177735, 'duration': 2000.25, 'totduration': 3000.0, 'holding_current': -0.09765624813735485}], 'recordings_from_config': [{'type': 'CompRecording', 'name': 'IDrest_200.soma.v', 'location': 'soma', 'variable': 'v'}], 'validation': False, 'protocol_type': 'ThresholdBasedProtocol', 'stochasticity': False}\n",
      "   {'name': 'IV_0', 'stimuli': [{'delay': 20.0, 'amp': 0.00016210680283757512, 'thresh_perc': 0.048984114201291125, 'duration': 1000.0, 'totduration': 1320.0, 'holding_current': -0.09769097136126624}], 'recordings_from_config': [{'type': 'CompRecording', 'name': 'IV_0.soma.v', 'location': 'soma', 'variable': 'v'}], 'validation': False, 'protocol_type': 'ThresholdBasedProtocol', 'stochasticity': False}\n",
      "   {'name': 'IV_-100', 'stimuli': [{'delay': 20.0, 'amp': -0.3150840740753216, 'thresh_perc': -95.2095408542356, 'duration': 1000.0, 'totduration': 1320.0, 'holding_current': -0.097534721924199}], 'recordings_from_config': [{'type': 'CompRecording', 'name': 'IV_-100.soma.v', 'location': 'soma', 'variable': 'v'}], 'validation': False, 'protocol_type': 'ThresholdBasedProtocol', 'stochasticity': False}\n",
      "   {'name': 'APWaveform_280', 'stimuli': [{'delay': 5.03, 'amp': 0.9239451116109707, 'thresh_perc': 279.1902133078517, 'duration': 51.24666666666667, 'totduration': 59.99, 'holding_current': -0.07718750089406967}], 'recordings_from_config': [{'type': 'CompRecording', 'name': 'APWaveform_280.soma.v', 'location': 'soma', 'variable': 'v'}], 'validation': False, 'protocol_type': 'ThresholdBasedProtocol', 'stochasticity': False}\n",
      "   {'name': 'IDhyperpol_150', 'stimuli': [{'delay': 100.0, 'tmid': 700.0000000000001, 'tmid2': 2700.0, 'toff': 2900.0, 'amp': 0.47654440222873184, 'long_amp': -0.22305531470241, 'thresh_perc': 143.99830859749372, 'duration': 2000.0, 'totduration': 3000.0, 'holding_current': -0.1074999999254942}], 'recordings_from_config': [{'type': 'CompRecording', 'name': 'IDhyperpol_150.soma.v', 'location': 'soma', 'variable': 'v'}], 'validation': True, 'protocol_type': 'ThresholdBasedProtocol', 'stochasticity': False}\n",
      "EFeatures:\n",
      "   {'efel_feature_name': 'Spikecount', 'protocol_name': 'IDrest_130', 'recording_name': 'soma.v', 'threshold_efeature_std': 0.1, 'default_std_value': 0.001, 'mean': 8.666666666666666, 'original_std': 3.496029493900505, 'sample_size': 6, 'efeature_name': 'Spikecount', 'weight': 1.0, 'efel_settings': {'strict_stiminterval': True, 'Threshold': -20, 'interp_step': 0.025}}\n",
      "   {'efel_feature_name': 'ISI_CV', 'protocol_name': 'IDrest_130', 'recording_name': 'soma.v', 'threshold_efeature_std': 0.1, 'default_std_value': 0.001, 'mean': 0.3702316995087826, 'original_std': 0.32566048327925706, 'sample_size': 6, 'efeature_name': 'ISI_CV', 'weight': 1.0, 'efel_settings': {'strict_stiminterval': True, 'Threshold': -20, 'interp_step': 0.025}}\n",
      "   {'efel_feature_name': 'doublet_ISI', 'protocol_name': 'IDrest_130', 'recording_name': 'soma.v', 'threshold_efeature_std': 0.1, 'default_std_value': 0.001, 'mean': 151.83333333319524, 'original_std': 34.61624939562405, 'sample_size': 6, 'efeature_name': 'doublet_ISI', 'weight': 1.0, 'efel_settings': {'strict_stiminterval': True, 'Threshold': -20, 'interp_step': 0.025}}\n",
      "   {'efel_feature_name': 'mean_frequency', 'protocol_name': 'IDrest_130', 'recording_name': 'soma.v', 'threshold_efeature_std': 0.1, 'default_std_value': 0.001, 'mean': 4.70922378383736, 'original_std': 1.6760068225673201, 'sample_size': 6, 'efeature_name': 'mean_frequency', 'weight': 1.0, 'efel_settings': {'strict_stiminterval': True, 'Threshold': -20, 'interp_step': 0.025}}\n",
      "   {'efel_feature_name': 'time_to_first_spike', 'protocol_name': 'IDrest_130', 'recording_name': 'soma.v', 'threshold_efeature_std': 0.1, 'default_std_value': 0.001, 'mean': 33.458333332939674, 'original_std': 7.231897899039166, 'sample_size': 6, 'efeature_name': 'time_to_first_spike', 'weight': 1.0, 'efel_settings': {'strict_stiminterval': True, 'Threshold': -20, 'interp_step': 0.025}}\n",
      "   {'efel_feature_name': 'ISI_log_slope', 'protocol_name': 'IDrest_130', 'recording_name': 'soma.v', 'threshold_efeature_std': 0.1, 'default_std_value': 0.001, 'mean': -0.16581691171366217, 'original_std': 0.8515890058904552, 'sample_size': 6, 'efeature_name': 'ISI_log_slope', 'weight': 1.0, 'efel_settings': {'strict_stiminterval': True, 'Threshold': -20, 'interp_step': 0.025}}\n",
      "   {'efel_feature_name': 'voltage_base', 'protocol_name': 'IDrest_130', 'recording_name': 'soma.v', 'threshold_efeature_std': 0.1, 'default_std_value': 0.001, 'mean': -82.78261651725562, 'original_std': 0.657020244055356, 'sample_size': 6, 'efeature_name': 'voltage_base', 'weight': 1.0, 'efel_settings': {'strict_stiminterval': True, 'Threshold': -20, 'interp_step': 0.025}}\n",
      "   {'efel_feature_name': 'time_to_last_spike', 'protocol_name': 'IDrest_130', 'recording_name': 'soma.v', 'threshold_efeature_std': 0.1, 'default_std_value': 0.001, 'mean': 1806.9583333380724, 'original_std': 116.31793863080907, 'sample_size': 6, 'efeature_name': 'time_to_last_spike', 'weight': 1.0, 'efel_settings': {'strict_stiminterval': True, 'Threshold': -20, 'interp_step': 0.025}}\n",
      "   {'efel_feature_name': 'inv_time_to_first_spike', 'protocol_name': 'IDrest_130', 'recording_name': 'soma.v', 'threshold_efeature_std': 0.1, 'default_std_value': 0.001, 'mean': 31.44753263082006, 'original_std': 7.29210290109057, 'sample_size': 6, 'efeature_name': 'inv_time_to_first_spike', 'weight': 1.0, 'efel_settings': {'strict_stiminterval': True, 'Threshold': -20, 'interp_step': 0.025}}\n",
      "   {'efel_feature_name': 'inv_first_ISI', 'protocol_name': 'IDrest_130', 'recording_name': 'soma.v', 'threshold_efeature_std': 0.1, 'default_std_value': 0.001, 'mean': 6.925399554807271, 'original_std': 1.5071612674614459, 'sample_size': 6, 'efeature_name': 'inv_first_ISI', 'weight': 1.0, 'efel_settings': {'strict_stiminterval': True, 'Threshold': -20, 'interp_step': 0.025}}\n",
      "   {'efel_feature_name': 'inv_second_ISI', 'protocol_name': 'IDrest_130', 'recording_name': 'soma.v', 'threshold_efeature_std': 0.1, 'default_std_value': 0.001, 'mean': 4.985717646424224, 'original_std': 2.104516309965638, 'sample_size': 6, 'efeature_name': 'inv_second_ISI', 'weight': 1.0, 'efel_settings': {'strict_stiminterval': True, 'Threshold': -20, 'interp_step': 0.025}}\n",
      "   {'efel_feature_name': 'inv_third_ISI', 'protocol_name': 'IDrest_130', 'recording_name': 'soma.v', 'threshold_efeature_std': 0.1, 'default_std_value': 0.001, 'mean': 4.840173932427828, 'original_std': 1.2897829185036143, 'sample_size': 6, 'efeature_name': 'inv_third_ISI', 'weight': 1.0, 'efel_settings': {'strict_stiminterval': True, 'Threshold': -20, 'interp_step': 0.025}}\n",
      "   {'efel_feature_name': 'inv_last_ISI', 'protocol_name': 'IDrest_130', 'recording_name': 'soma.v', 'threshold_efeature_std': 0.1, 'default_std_value': 0.001, 'mean': 4.740281701448489, 'original_std': 1.4623481605488782, 'sample_size': 6, 'efeature_name': 'inv_last_ISI', 'weight': 1.0, 'efel_settings': {'strict_stiminterval': True, 'Threshold': -20, 'interp_step': 0.025}}\n",
      "   {'efel_feature_name': 'AHP_depth', 'protocol_name': 'IDrest_130', 'recording_name': 'soma.v', 'threshold_efeature_std': 0.1, 'default_std_value': 0.001, 'mean': 18.961034660480593, 'original_std': 1.1849839363452002, 'sample_size': 6, 'efeature_name': 'AHP_depth', 'weight': 1.0, 'efel_settings': {'strict_stiminterval': True, 'Threshold': -20, 'interp_step': 0.025}}\n",
      "   {'efel_feature_name': 'AHP_time_from_peak', 'protocol_name': 'IDrest_130', 'recording_name': 'soma.v', 'threshold_efeature_std': 0.1, 'default_std_value': 0.001, 'mean': 25.620500090252204, 'original_std': 2.638148646675542, 'sample_size': 6, 'efeature_name': 'AHP_time_from_peak', 'weight': 1.0, 'efel_settings': {'strict_stiminterval': True, 'Threshold': -20, 'interp_step': 0.025}}\n",
      "   {'efel_feature_name': 'min_AHP_values', 'protocol_name': 'IDrest_130', 'recording_name': 'soma.v', 'threshold_efeature_std': 0.1, 'default_std_value': 0.001, 'mean': -63.821581856775026, 'original_std': 1.5391678614966964, 'sample_size': 6, 'efeature_name': 'min_AHP_values', 'weight': 1.0, 'efel_settings': {'strict_stiminterval': True, 'Threshold': -20, 'interp_step': 0.025}}\n",
      "   {'efel_feature_name': 'depol_block_bool', 'protocol_name': 'IDrest_130', 'recording_name': 'soma.v', 'threshold_efeature_std': 0.1, 'default_std_value': 0.001, 'mean': 0.0, 'original_std': 0.001, 'sample_size': 6, 'efeature_name': 'depol_block_bool', 'weight': 1.0, 'efel_settings': {'strict_stiminterval': True, 'Threshold': -20, 'interp_step': 0.025}}\n",
      "   {'efel_feature_name': 'voltage_after_stim', 'protocol_name': 'IDrest_130', 'recording_name': 'soma.v', 'threshold_efeature_std': 0.1, 'default_std_value': 0.001, 'mean': -87.12239628840818, 'original_std': 0.9572409682749269, 'sample_size': 6, 'efeature_name': 'voltage_after_stim', 'weight': 1.0, 'efel_settings': {'strict_stiminterval': True, 'Threshold': -20, 'interp_step': 0.025}}\n",
      "   {'efel_feature_name': 'burst_number', 'protocol_name': 'IDrest_130', 'recording_name': 'soma.v', 'threshold_efeature_std': 0.1, 'default_std_value': 0.001, 'mean': 0.6666666666666666, 'original_std': 0.9428090415820634, 'sample_size': 6, 'efeature_name': 'burst_number', 'weight': 1.0, 'efel_settings': {'strict_stiminterval': True, 'Threshold': -20, 'interp_step': 0.025}}\n",
      "   {'efel_feature_name': 'number_initial_spikes', 'protocol_name': 'IDrest_130', 'recording_name': 'soma.v', 'threshold_efeature_std': 0.1, 'default_std_value': 0.001, 'mean': 1.6666666666666667, 'original_std': 0.4714045207910317, 'sample_size': 6, 'efeature_name': 'number_initial_spikes', 'weight': 1.0, 'efel_settings': {'strict_stiminterval': True, 'Threshold': -20, 'interp_step': 0.025}}\n",
      "   {'efel_feature_name': 'irregularity_index', 'protocol_name': 'IDrest_130', 'recording_name': 'soma.v', 'threshold_efeature_std': 0.1, 'default_std_value': 0.001, 'mean': 213.95798611189414, 'original_std': 278.960340993408, 'sample_size': 6, 'efeature_name': 'irregularity_index', 'weight': 1.0, 'efel_settings': {'strict_stiminterval': True, 'Threshold': -20, 'interp_step': 0.025}}\n",
      "   {'efel_feature_name': 'adaptation_index', 'protocol_name': 'IDrest_130', 'recording_name': 'soma.v', 'threshold_efeature_std': 0.1, 'default_std_value': 0.001, 'mean': 0.021810381821812972, 'original_std': 0.025904931541217195, 'sample_size': 6, 'efeature_name': 'adaptation_index', 'weight': 1.0, 'efel_settings': {'strict_stiminterval': True, 'Threshold': -20, 'interp_step': 0.025}}\n",
      "   {'efel_feature_name': 'burst_mean_freq', 'protocol_name': 'IDrest_130', 'recording_name': 'soma.v', 'threshold_efeature_std': 0.1, 'default_std_value': 0.001, 'mean': 6.189144214407903, 'original_std': 0.14984960695170724, 'sample_size': 2, 'efeature_name': 'burst_mean_freq', 'weight': 1.0, 'efel_settings': {'strict_stiminterval': True, 'Threshold': -20, 'interp_step': 0.025}}\n",
      "   {'efel_feature_name': 'Spikecount', 'protocol_name': 'IDrest_200', 'recording_name': 'soma.v', 'threshold_efeature_std': 0.1, 'default_std_value': 0.001, 'mean': 19.833333333333332, 'original_std': 3.4840908267278117, 'sample_size': 6, 'efeature_name': 'Spikecount', 'weight': 1.0, 'efel_settings': {'strict_stiminterval': True, 'Threshold': -20, 'interp_step': 0.025}}\n",
      "   {'efel_feature_name': 'ISI_CV', 'protocol_name': 'IDrest_200', 'recording_name': 'soma.v', 'threshold_efeature_std': 0.1, 'default_std_value': 0.001, 'mean': 0.07463775460612596, 'original_std': 0.028505952255165983, 'sample_size': 6, 'efeature_name': 'ISI_CV', 'weight': 1.0, 'efel_settings': {'strict_stiminterval': True, 'Threshold': -20, 'interp_step': 0.025}}\n",
      "   {'efel_feature_name': 'doublet_ISI', 'protocol_name': 'IDrest_200', 'recording_name': 'soma.v', 'threshold_efeature_std': 0.1, 'default_std_value': 0.001, 'mean': 44.208333333293126, 'original_std': 9.628967436268557, 'sample_size': 6, 'efeature_name': 'doublet_ISI', 'weight': 1.0, 'efel_settings': {'strict_stiminterval': True, 'Threshold': -20, 'interp_step': 0.025}}\n",
      "   {'efel_feature_name': 'mean_frequency', 'protocol_name': 'IDrest_200', 'recording_name': 'soma.v', 'threshold_efeature_std': 0.1, 'default_std_value': 0.001, 'mean': 10.189637299220186, 'original_std': 1.778840871822643, 'sample_size': 6, 'efeature_name': 'mean_frequency', 'weight': 1.0, 'efel_settings': {'strict_stiminterval': True, 'Threshold': -20, 'interp_step': 0.025}}\n",
      "   {'efel_feature_name': 'time_to_first_spike', 'protocol_name': 'IDrest_200', 'recording_name': 'soma.v', 'threshold_efeature_std': 0.1, 'default_std_value': 0.001, 'mean': 16.58333333295502, 'original_std': 3.72677996249626, 'sample_size': 6, 'efeature_name': 'time_to_first_spike', 'weight': 1.0, 'efel_settings': {'strict_stiminterval': True, 'Threshold': -20, 'interp_step': 0.025}}\n",
      "   {'efel_feature_name': 'ISI_log_slope', 'protocol_name': 'IDrest_200', 'recording_name': 'soma.v', 'threshold_efeature_std': 0.1, 'default_std_value': 0.001, 'mean': 0.03345638299091273, 'original_std': 0.05974524879883885, 'sample_size': 6, 'efeature_name': 'ISI_log_slope', 'weight': 1.0, 'efel_settings': {'strict_stiminterval': True, 'Threshold': -20, 'interp_step': 0.025}}\n",
      "   {'efel_feature_name': 'voltage_base', 'protocol_name': 'IDrest_200', 'recording_name': 'soma.v', 'threshold_efeature_std': 0.1, 'default_std_value': 0.001, 'mean': -82.656065689877, 'original_std': 0.4123618296597106, 'sample_size': 6, 'efeature_name': 'voltage_base', 'weight': 1.0, 'efel_settings': {'strict_stiminterval': True, 'Threshold': -20, 'interp_step': 0.025}}\n",
      "   {'efel_feature_name': 'time_to_last_spike', 'protocol_name': 'IDrest_200', 'recording_name': 'soma.v', 'threshold_efeature_std': 0.1, 'default_std_value': 0.001, 'mean': 1946.500000005247, 'original_std': 17.939713858801507, 'sample_size': 6, 'efeature_name': 'time_to_last_spike', 'weight': 1.0, 'efel_settings': {'strict_stiminterval': True, 'Threshold': -20, 'interp_step': 0.025}}\n",
      "   {'efel_feature_name': 'inv_time_to_first_spike', 'protocol_name': 'IDrest_200', 'recording_name': 'soma.v', 'threshold_efeature_std': 0.1, 'default_std_value': 0.001, 'mean': 63.138076544811895, 'original_std': 12.691389369204195, 'sample_size': 6, 'efeature_name': 'inv_time_to_first_spike', 'weight': 1.0, 'efel_settings': {'strict_stiminterval': True, 'Threshold': -20, 'interp_step': 0.025}}\n",
      "   {'efel_feature_name': 'inv_first_ISI', 'protocol_name': 'IDrest_200', 'recording_name': 'soma.v', 'threshold_efeature_std': 0.1, 'default_std_value': 0.001, 'mean': 23.61128698555237, 'original_std': 4.5663583102585985, 'sample_size': 6, 'efeature_name': 'inv_first_ISI', 'weight': 1.0, 'efel_settings': {'strict_stiminterval': True, 'Threshold': -20, 'interp_step': 0.025}}\n",
      "   {'efel_feature_name': 'inv_second_ISI', 'protocol_name': 'IDrest_200', 'recording_name': 'soma.v', 'threshold_efeature_std': 0.1, 'default_std_value': 0.001, 'mean': 10.888408719900829, 'original_std': 1.9500846038754984, 'sample_size': 6, 'efeature_name': 'inv_second_ISI', 'weight': 1.0, 'efel_settings': {'strict_stiminterval': True, 'Threshold': -20, 'interp_step': 0.025}}\n",
      "   {'efel_feature_name': 'inv_third_ISI', 'protocol_name': 'IDrest_200', 'recording_name': 'soma.v', 'threshold_efeature_std': 0.1, 'default_std_value': 0.001, 'mean': 9.988777902840466, 'original_std': 2.0044673370648782, 'sample_size': 6, 'efeature_name': 'inv_third_ISI', 'weight': 1.0, 'efel_settings': {'strict_stiminterval': True, 'Threshold': -20, 'interp_step': 0.025}}\n",
      "   {'efel_feature_name': 'inv_last_ISI', 'protocol_name': 'IDrest_200', 'recording_name': 'soma.v', 'threshold_efeature_std': 0.1, 'default_std_value': 0.001, 'mean': 9.955328682497806, 'original_std': 2.3570371576647995, 'sample_size': 6, 'efeature_name': 'inv_last_ISI', 'weight': 1.0, 'efel_settings': {'strict_stiminterval': True, 'Threshold': -20, 'interp_step': 0.025}}\n",
      "   {'efel_feature_name': 'AHP_depth', 'protocol_name': 'IDrest_200', 'recording_name': 'soma.v', 'threshold_efeature_std': 0.1, 'default_std_value': 0.001, 'mean': 21.875388331111182, 'original_std': 1.6438123287417166, 'sample_size': 6, 'efeature_name': 'AHP_depth', 'weight': 1.0, 'efel_settings': {'strict_stiminterval': True, 'Threshold': -20, 'interp_step': 0.025}}\n",
      "   {'efel_feature_name': 'AHP_time_from_peak', 'protocol_name': 'IDrest_200', 'recording_name': 'soma.v', 'threshold_efeature_std': 0.1, 'default_std_value': 0.001, 'mean': 20.00731497674777, 'original_std': 1.747628947979076, 'sample_size': 6, 'efeature_name': 'AHP_time_from_peak', 'weight': 1.0, 'efel_settings': {'strict_stiminterval': True, 'Threshold': -20, 'interp_step': 0.025}}\n",
      "   {'efel_feature_name': 'min_AHP_values', 'protocol_name': 'IDrest_200', 'recording_name': 'soma.v', 'threshold_efeature_std': 0.1, 'default_std_value': 0.001, 'mean': -60.78067735876579, 'original_std': 1.919410899483439, 'sample_size': 6, 'efeature_name': 'min_AHP_values', 'weight': 1.0, 'efel_settings': {'strict_stiminterval': True, 'Threshold': -20, 'interp_step': 0.025}}\n",
      "   {'efel_feature_name': 'depol_block_bool', 'protocol_name': 'IDrest_200', 'recording_name': 'soma.v', 'threshold_efeature_std': 0.1, 'default_std_value': 0.001, 'mean': 0.0, 'original_std': 0.001, 'sample_size': 6, 'efeature_name': 'depol_block_bool', 'weight': 1.0, 'efel_settings': {'strict_stiminterval': True, 'Threshold': -20, 'interp_step': 0.025}}\n",
      "   {'efel_feature_name': 'voltage_after_stim', 'protocol_name': 'IDrest_200', 'recording_name': 'soma.v', 'threshold_efeature_std': 0.1, 'default_std_value': 0.001, 'mean': -86.90101193311828, 'original_std': 0.5605484695404097, 'sample_size': 6, 'efeature_name': 'voltage_after_stim', 'weight': 1.0, 'efel_settings': {'strict_stiminterval': True, 'Threshold': -20, 'interp_step': 0.025}}\n",
      "   {'efel_feature_name': 'burst_number', 'protocol_name': 'IDrest_200', 'recording_name': 'soma.v', 'threshold_efeature_std': 0.1, 'default_std_value': 0.001, 'mean': 0.0, 'original_std': 0.001, 'sample_size': 6, 'efeature_name': 'burst_number', 'weight': 1.0, 'efel_settings': {'strict_stiminterval': True, 'Threshold': -20, 'interp_step': 0.025}}\n",
      "   {'efel_feature_name': 'number_initial_spikes', 'protocol_name': 'IDrest_200', 'recording_name': 'soma.v', 'threshold_efeature_std': 0.1, 'default_std_value': 0.001, 'mean': 3.0, 'original_std': 0.001, 'sample_size': 6, 'efeature_name': 'number_initial_spikes', 'weight': 1.0, 'efel_settings': {'strict_stiminterval': True, 'Threshold': -20, 'interp_step': 0.025}}\n",
      "   {'efel_feature_name': 'irregularity_index', 'protocol_name': 'IDrest_200', 'recording_name': 'soma.v', 'threshold_efeature_std': 0.1, 'default_std_value': 0.001, 'mean': 6.7059774196184, 'original_std': 1.583840773838753, 'sample_size': 6, 'efeature_name': 'irregularity_index', 'weight': 1.0, 'efel_settings': {'strict_stiminterval': True, 'Threshold': -20, 'interp_step': 0.025}}\n",
      "   {'efel_feature_name': 'adaptation_index', 'protocol_name': 'IDrest_200', 'recording_name': 'soma.v', 'threshold_efeature_std': 0.1, 'default_std_value': 0.001, 'mean': 0.0005470381772781952, 'original_std': 0.0037812147886006962, 'sample_size': 6, 'efeature_name': 'adaptation_index', 'weight': 1.0, 'efel_settings': {'strict_stiminterval': True, 'Threshold': -20, 'interp_step': 0.025}}\n",
      "   {'efel_feature_name': 'steady_state_voltage_stimend', 'protocol_name': 'RMPProtocol', 'recording_name': 'soma.v', 'threshold_efeature_std': 0.1, 'default_std_value': 0.001, 'mean': -83.38956665960032, 'original_std': 0.44319427048989085, 'sample_size': 9, 'efeature_name': 'voltage_base', 'weight': 1.0, 'efel_settings': {'strict_stiminterval': True, 'Threshold': -20, 'interp_step': 0.025}}\n",
      "   {'efel_feature_name': 'ohmic_input_resistance_vb_ssse', 'protocol_name': 'IV_0', 'recording_name': 'soma.v', 'threshold_efeature_std': 0.1, 'default_std_value': 0.001, 'mean': 40.381127264357104, 'original_std': 486.9230848650381, 'sample_size': 8, 'efeature_name': 'ohmic_input_resistance_vb_ssse', 'weight': 1.0, 'efel_settings': {'strict_stiminterval': True, 'Threshold': -20, 'interp_step': 0.025}}\n",
      "   {'efel_feature_name': 'steady_state_voltage_stimend', 'protocol_name': 'SearchHoldingCurrent', 'recording_name': 'soma.v', 'threshold_efeature_std': 0.1, 'default_std_value': 0.001, 'mean': -83.1602795290849, 'original_std': 0.5732871465615677, 'sample_size': 9, 'efeature_name': 'voltage_base', 'weight': 1.0, 'efel_settings': {'strict_stiminterval': True, 'Threshold': -20, 'interp_step': 0.025}}\n",
      "   {'efel_feature_name': 'ohmic_input_resistance_vb_ssse', 'protocol_name': 'RinProtocol', 'recording_name': 'soma.v', 'threshold_efeature_std': 0.1, 'default_std_value': 0.001, 'mean': 46.144060948518096, 'original_std': 9.540253650631344, 'sample_size': 9, 'efeature_name': 'ohmic_input_resistance_vb_ssse', 'weight': 1.0, 'efel_settings': {'strict_stiminterval': True, 'Threshold': -20, 'interp_step': 0.025}}\n",
      "   {'efel_feature_name': 'voltage_base', 'protocol_name': 'IV_-100', 'recording_name': 'soma.v', 'threshold_efeature_std': 0.1, 'default_std_value': 0.001, 'mean': -83.10270958313072, 'original_std': 0.7408161829891378, 'sample_size': 9, 'efeature_name': 'voltage_base', 'weight': 1.0, 'efel_settings': {'strict_stiminterval': True, 'Threshold': -20, 'interp_step': 0.025}}\n",
      "   {'efel_feature_name': 'ohmic_input_resistance_vb_ssse', 'protocol_name': 'IV_-100', 'recording_name': 'soma.v', 'threshold_efeature_std': 0.1, 'default_std_value': 0.001, 'mean': 41.950232851373016, 'original_std': 7.7917698493471175, 'sample_size': 9, 'efeature_name': 'ohmic_input_resistance_vb_ssse', 'weight': 1.0, 'efel_settings': {'strict_stiminterval': True, 'Threshold': -20, 'interp_step': 0.025}}\n",
      "   {'efel_feature_name': 'AP_amplitude', 'protocol_name': 'APWaveform_280', 'recording_name': 'soma.v', 'threshold_efeature_std': 0.1, 'default_std_value': 0.001, 'mean': 85.63229179382726, 'original_std': 0.2739372661121643, 'sample_size': 3, 'efeature_name': 'AP_amplitude', 'weight': 1.0, 'efel_settings': {'strict_stiminterval': True, 'Threshold': -20, 'interp_step': 0.025}}\n",
      "   {'efel_feature_name': 'AP1_amp', 'protocol_name': 'APWaveform_280', 'recording_name': 'soma.v', 'threshold_efeature_std': 0.1, 'default_std_value': 0.001, 'mean': 91.24062410990176, 'original_std': 0.7323490865525268, 'sample_size': 3, 'efeature_name': 'AP1_amp', 'weight': 1.0, 'efel_settings': {'strict_stiminterval': True, 'Threshold': -20, 'interp_step': 0.025}}\n",
      "   {'efel_feature_name': 'AP_duration_half_width', 'protocol_name': 'APWaveform_280', 'recording_name': 'soma.v', 'threshold_efeature_std': 0.1, 'default_std_value': 0.001, 'mean': 1.3916666666666269, 'original_std': 0.005892556509886723, 'sample_size': 3, 'efeature_name': 'AP_duration_half_width', 'weight': 1.0, 'efel_settings': {'strict_stiminterval': True, 'Threshold': -20, 'interp_step': 0.025}}\n",
      "   {'efel_feature_name': 'AHP_depth', 'protocol_name': 'APWaveform_280', 'recording_name': 'soma.v', 'threshold_efeature_std': 0.1, 'default_std_value': 0.001, 'mean': 23.89942607879726, 'original_std': 0.4119030778088721, 'sample_size': 3, 'efeature_name': 'AHP_depth', 'weight': 1.0, 'efel_settings': {'strict_stiminterval': True, 'Threshold': -20, 'interp_step': 0.025}}\n",
      "   {'efel_feature_name': 'mean_frequency', 'protocol_name': 'IDhyperpol_150', 'recording_name': 'soma.v', 'threshold_efeature_std': 0.1, 'default_std_value': 0.001, 'mean': 4.824314976680847, 'original_std': 0.8271130180600073, 'sample_size': 2, 'efeature_name': 'mean_frequency', 'weight': 1.0, 'efel_settings': {'strict_stiminterval': True, 'Threshold': -20, 'interp_step': 0.025}}\n",
      "   {'efel_feature_name': 'voltage_base', 'protocol_name': 'IDhyperpol_150', 'recording_name': 'soma.v', 'threshold_efeature_std': 0.1, 'default_std_value': 0.001, 'mean': -83.85849777183599, 'original_std': 0.5382516057115367, 'sample_size': 2, 'efeature_name': 'voltage_base', 'weight': 1.0, 'efel_settings': {'strict_stiminterval': True, 'Threshold': -20, 'interp_step': 0.025}}\n",
      "   {'efel_feature_name': 'depol_block_bool', 'protocol_name': 'IDhyperpol_150', 'recording_name': 'soma.v', 'threshold_efeature_std': 0.1, 'default_std_value': 0.001, 'mean': 1.0, 'original_std': 0.001, 'sample_size': 2, 'efeature_name': 'depol_block_bool', 'weight': 1.0, 'efel_settings': {'strict_stiminterval': True, 'Threshold': -20, 'interp_step': 0.025}}\n",
      "   {'efel_feature_name': 'bpo_holding_current', 'protocol_name': 'SearchHoldingCurrent', 'recording_name': 'soma.v', 'threshold_efeature_std': 0.1, 'default_std_value': 0.001, 'mean': -0.09753230129913182, 'original_std': 0.039795330549849496, 'sample_size': None, 'efeature_name': None, 'weight': 1.0, 'efel_settings': {'strict_stiminterval': True}}\n",
      "   {'efel_feature_name': 'bpo_threshold_current', 'protocol_name': 'SearchThresholdCurrent', 'recording_name': 'soma.v', 'threshold_efeature_std': 0.1, 'default_std_value': 0.001, 'mean': 0.33093749980131787, 'original_std': 0.06647122484201451, 'sample_size': None, 'efeature_name': None, 'weight': 1.0, 'efel_settings': {'strict_stiminterval': True}}\n",
      "\n"
     ]
    }
   ],
   "source": [
    "fitness_config = access_point.get_fitness_calculator_configuration()\n",
    "\n",
    "print(fitness_config)"
   ]
  },
  {
   "cell_type": "code",
   "execution_count": 6,
   "metadata": {},
   "outputs": [],
   "source": [
    "from bluepyemodel.evaluation.efeature_configuration import EFeatureConfiguration\n",
    "from bluepyemodel.evaluation.protocol_configuration import ProtocolConfiguration"
   ]
  },
  {
   "cell_type": "markdown",
   "metadata": {},
   "source": [
    "As an example, we add a new protocol called `Step_1000`"
   ]
  },
  {
   "cell_type": "code",
   "execution_count": 7,
   "metadata": {},
   "outputs": [],
   "source": [
    "protocol_name = \"Step_1000\"\n",
    "\n",
    "stimuli = [{\n",
    "    \"amp\": None,\n",
    "    \"delay\": 700,\n",
    "    \"duration\": 4,\n",
    "    \"holding_current\": None,\n",
    "    \"thresh_perc\": 1000,\n",
    "    \"totduration\": 1000\n",
    "}]\n",
    "\n",
    "recordings = [\n",
    "    {\n",
    "        \"type\": \"CompRecording\",\n",
    "        \"location\": \"soma\",\n",
    "        \"name\": f\"{protocol_name}.soma.v\",\n",
    "        \"variable\": \"v\"\n",
    "    },\n",
    "]\n",
    "\n",
    "protocol_config = ProtocolConfiguration(\n",
    "    name=protocol_name,\n",
    "    stimuli=stimuli,\n",
    "    recordings=recordings,\n",
    "    validation=False\n",
    ")\n",
    "\n",
    "fitness_config.protocols.append(protocol_config)"
   ]
  },
  {
   "cell_type": "markdown",
   "metadata": {},
   "source": [
    "Note that the name of the protocol matters as BluePyEmodel will use it to detect which shape the protocol should have. For example, here, \"step\" is in the name and therefore a step protocol will be generated. A complete list of the eCode that can be used to create protocols can be seen [here](https://github.com/BlueBrain/BluePyEModel/blob/main/bluepyemodel/ecode/__init__.py). For more complex eCode, contact the package authors for an explanation of how to use them.§"
   ]
  },
  {
   "cell_type": "markdown",
   "metadata": {},
   "source": [
    "Next, we add the feature associated with the newly defined protocol."
   ]
  },
  {
   "cell_type": "code",
   "execution_count": 11,
   "metadata": {},
   "outputs": [
    {
     "name": "stdout",
     "output_type": "stream",
     "text": [
      "Fitness Calculator Configuration:\n",
      "\n",
      "Protocols:\n",
      "   {'name': 'IDrest_130', 'stimuli': [{'delay': 700.5, 'amp': 0.4508745591995102, 'thresh_perc': 136.24160437248662, 'duration': 2000.25, 'totduration': 3000.0, 'holding_current': -0.09770833142101765}], 'recordings_from_config': [{'type': 'CompRecording', 'name': 'IDrest_130.soma.v', 'location': 'soma', 'variable': 'v'}], 'validation': False, 'protocol_type': 'ThresholdBasedProtocol', 'stochasticity': False}\n",
      "   {'name': 'IDrest_200', 'stimuli': [{'delay': 700.5, 'amp': 0.6552015231929614, 'thresh_perc': 197.9834632177735, 'duration': 2000.25, 'totduration': 3000.0, 'holding_current': -0.09765624813735485}], 'recordings_from_config': [{'type': 'CompRecording', 'name': 'IDrest_200.soma.v', 'location': 'soma', 'variable': 'v'}], 'validation': False, 'protocol_type': 'ThresholdBasedProtocol', 'stochasticity': False}\n",
      "   {'name': 'IV_0', 'stimuli': [{'delay': 20.0, 'amp': 0.00016210680283757512, 'thresh_perc': 0.048984114201291125, 'duration': 1000.0, 'totduration': 1320.0, 'holding_current': -0.09769097136126624}], 'recordings_from_config': [{'type': 'CompRecording', 'name': 'IV_0.soma.v', 'location': 'soma', 'variable': 'v'}], 'validation': False, 'protocol_type': 'ThresholdBasedProtocol', 'stochasticity': False}\n",
      "   {'name': 'IV_-100', 'stimuli': [{'delay': 20.0, 'amp': -0.3150840740753216, 'thresh_perc': -95.2095408542356, 'duration': 1000.0, 'totduration': 1320.0, 'holding_current': -0.097534721924199}], 'recordings_from_config': [{'type': 'CompRecording', 'name': 'IV_-100.soma.v', 'location': 'soma', 'variable': 'v'}], 'validation': False, 'protocol_type': 'ThresholdBasedProtocol', 'stochasticity': False}\n",
      "   {'name': 'APWaveform_280', 'stimuli': [{'delay': 5.03, 'amp': 0.9239451116109707, 'thresh_perc': 279.1902133078517, 'duration': 51.24666666666667, 'totduration': 59.99, 'holding_current': -0.07718750089406967}], 'recordings_from_config': [{'type': 'CompRecording', 'name': 'APWaveform_280.soma.v', 'location': 'soma', 'variable': 'v'}], 'validation': False, 'protocol_type': 'ThresholdBasedProtocol', 'stochasticity': False}\n",
      "   {'name': 'IDhyperpol_150', 'stimuli': [{'delay': 100.0, 'tmid': 700.0000000000001, 'tmid2': 2700.0, 'toff': 2900.0, 'amp': 0.47654440222873184, 'long_amp': -0.22305531470241, 'thresh_perc': 143.99830859749372, 'duration': 2000.0, 'totduration': 3000.0, 'holding_current': -0.1074999999254942}], 'recordings_from_config': [{'type': 'CompRecording', 'name': 'IDhyperpol_150.soma.v', 'location': 'soma', 'variable': 'v'}], 'validation': True, 'protocol_type': 'ThresholdBasedProtocol', 'stochasticity': False}\n",
      "   {'name': 'Step_1000', 'stimuli': [{'amp': None, 'delay': 700, 'duration': 4, 'holding_current': None, 'thresh_perc': 1000, 'totduration': 1000}], 'recordings_from_config': [{'type': 'CompRecording', 'location': 'soma', 'name': 'Step_1000.soma.v', 'variable': 'v'}], 'validation': False, 'protocol_type': 'ThresholdBasedProtocol', 'stochasticity': False}\n",
      "EFeatures:\n",
      "   {'efel_feature_name': 'Spikecount', 'protocol_name': 'IDrest_130', 'recording_name': 'soma.v', 'threshold_efeature_std': 0.1, 'default_std_value': 0.001, 'mean': 8.666666666666666, 'original_std': 3.496029493900505, 'sample_size': 6, 'efeature_name': 'Spikecount', 'weight': 1.0, 'efel_settings': {'strict_stiminterval': True, 'Threshold': -20, 'interp_step': 0.025}}\n",
      "   {'efel_feature_name': 'ISI_CV', 'protocol_name': 'IDrest_130', 'recording_name': 'soma.v', 'threshold_efeature_std': 0.1, 'default_std_value': 0.001, 'mean': 0.3702316995087826, 'original_std': 0.32566048327925706, 'sample_size': 6, 'efeature_name': 'ISI_CV', 'weight': 1.0, 'efel_settings': {'strict_stiminterval': True, 'Threshold': -20, 'interp_step': 0.025}}\n",
      "   {'efel_feature_name': 'doublet_ISI', 'protocol_name': 'IDrest_130', 'recording_name': 'soma.v', 'threshold_efeature_std': 0.1, 'default_std_value': 0.001, 'mean': 151.83333333319524, 'original_std': 34.61624939562405, 'sample_size': 6, 'efeature_name': 'doublet_ISI', 'weight': 1.0, 'efel_settings': {'strict_stiminterval': True, 'Threshold': -20, 'interp_step': 0.025}}\n",
      "   {'efel_feature_name': 'mean_frequency', 'protocol_name': 'IDrest_130', 'recording_name': 'soma.v', 'threshold_efeature_std': 0.1, 'default_std_value': 0.001, 'mean': 4.70922378383736, 'original_std': 1.6760068225673201, 'sample_size': 6, 'efeature_name': 'mean_frequency', 'weight': 1.0, 'efel_settings': {'strict_stiminterval': True, 'Threshold': -20, 'interp_step': 0.025}}\n",
      "   {'efel_feature_name': 'time_to_first_spike', 'protocol_name': 'IDrest_130', 'recording_name': 'soma.v', 'threshold_efeature_std': 0.1, 'default_std_value': 0.001, 'mean': 33.458333332939674, 'original_std': 7.231897899039166, 'sample_size': 6, 'efeature_name': 'time_to_first_spike', 'weight': 1.0, 'efel_settings': {'strict_stiminterval': True, 'Threshold': -20, 'interp_step': 0.025}}\n",
      "   {'efel_feature_name': 'ISI_log_slope', 'protocol_name': 'IDrest_130', 'recording_name': 'soma.v', 'threshold_efeature_std': 0.1, 'default_std_value': 0.001, 'mean': -0.16581691171366217, 'original_std': 0.8515890058904552, 'sample_size': 6, 'efeature_name': 'ISI_log_slope', 'weight': 1.0, 'efel_settings': {'strict_stiminterval': True, 'Threshold': -20, 'interp_step': 0.025}}\n",
      "   {'efel_feature_name': 'voltage_base', 'protocol_name': 'IDrest_130', 'recording_name': 'soma.v', 'threshold_efeature_std': 0.1, 'default_std_value': 0.001, 'mean': -82.78261651725562, 'original_std': 0.657020244055356, 'sample_size': 6, 'efeature_name': 'voltage_base', 'weight': 1.0, 'efel_settings': {'strict_stiminterval': True, 'Threshold': -20, 'interp_step': 0.025}}\n",
      "   {'efel_feature_name': 'time_to_last_spike', 'protocol_name': 'IDrest_130', 'recording_name': 'soma.v', 'threshold_efeature_std': 0.1, 'default_std_value': 0.001, 'mean': 1806.9583333380724, 'original_std': 116.31793863080907, 'sample_size': 6, 'efeature_name': 'time_to_last_spike', 'weight': 1.0, 'efel_settings': {'strict_stiminterval': True, 'Threshold': -20, 'interp_step': 0.025}}\n",
      "   {'efel_feature_name': 'inv_time_to_first_spike', 'protocol_name': 'IDrest_130', 'recording_name': 'soma.v', 'threshold_efeature_std': 0.1, 'default_std_value': 0.001, 'mean': 31.44753263082006, 'original_std': 7.29210290109057, 'sample_size': 6, 'efeature_name': 'inv_time_to_first_spike', 'weight': 1.0, 'efel_settings': {'strict_stiminterval': True, 'Threshold': -20, 'interp_step': 0.025}}\n",
      "   {'efel_feature_name': 'inv_first_ISI', 'protocol_name': 'IDrest_130', 'recording_name': 'soma.v', 'threshold_efeature_std': 0.1, 'default_std_value': 0.001, 'mean': 6.925399554807271, 'original_std': 1.5071612674614459, 'sample_size': 6, 'efeature_name': 'inv_first_ISI', 'weight': 1.0, 'efel_settings': {'strict_stiminterval': True, 'Threshold': -20, 'interp_step': 0.025}}\n",
      "   {'efel_feature_name': 'inv_second_ISI', 'protocol_name': 'IDrest_130', 'recording_name': 'soma.v', 'threshold_efeature_std': 0.1, 'default_std_value': 0.001, 'mean': 4.985717646424224, 'original_std': 2.104516309965638, 'sample_size': 6, 'efeature_name': 'inv_second_ISI', 'weight': 1.0, 'efel_settings': {'strict_stiminterval': True, 'Threshold': -20, 'interp_step': 0.025}}\n",
      "   {'efel_feature_name': 'inv_third_ISI', 'protocol_name': 'IDrest_130', 'recording_name': 'soma.v', 'threshold_efeature_std': 0.1, 'default_std_value': 0.001, 'mean': 4.840173932427828, 'original_std': 1.2897829185036143, 'sample_size': 6, 'efeature_name': 'inv_third_ISI', 'weight': 1.0, 'efel_settings': {'strict_stiminterval': True, 'Threshold': -20, 'interp_step': 0.025}}\n",
      "   {'efel_feature_name': 'inv_last_ISI', 'protocol_name': 'IDrest_130', 'recording_name': 'soma.v', 'threshold_efeature_std': 0.1, 'default_std_value': 0.001, 'mean': 4.740281701448489, 'original_std': 1.4623481605488782, 'sample_size': 6, 'efeature_name': 'inv_last_ISI', 'weight': 1.0, 'efel_settings': {'strict_stiminterval': True, 'Threshold': -20, 'interp_step': 0.025}}\n",
      "   {'efel_feature_name': 'AHP_depth', 'protocol_name': 'IDrest_130', 'recording_name': 'soma.v', 'threshold_efeature_std': 0.1, 'default_std_value': 0.001, 'mean': 18.961034660480593, 'original_std': 1.1849839363452002, 'sample_size': 6, 'efeature_name': 'AHP_depth', 'weight': 1.0, 'efel_settings': {'strict_stiminterval': True, 'Threshold': -20, 'interp_step': 0.025}}\n",
      "   {'efel_feature_name': 'AHP_time_from_peak', 'protocol_name': 'IDrest_130', 'recording_name': 'soma.v', 'threshold_efeature_std': 0.1, 'default_std_value': 0.001, 'mean': 25.620500090252204, 'original_std': 2.638148646675542, 'sample_size': 6, 'efeature_name': 'AHP_time_from_peak', 'weight': 1.0, 'efel_settings': {'strict_stiminterval': True, 'Threshold': -20, 'interp_step': 0.025}}\n",
      "   {'efel_feature_name': 'min_AHP_values', 'protocol_name': 'IDrest_130', 'recording_name': 'soma.v', 'threshold_efeature_std': 0.1, 'default_std_value': 0.001, 'mean': -63.821581856775026, 'original_std': 1.5391678614966964, 'sample_size': 6, 'efeature_name': 'min_AHP_values', 'weight': 1.0, 'efel_settings': {'strict_stiminterval': True, 'Threshold': -20, 'interp_step': 0.025}}\n",
      "   {'efel_feature_name': 'depol_block_bool', 'protocol_name': 'IDrest_130', 'recording_name': 'soma.v', 'threshold_efeature_std': 0.1, 'default_std_value': 0.001, 'mean': 0.0, 'original_std': 0.001, 'sample_size': 6, 'efeature_name': 'depol_block_bool', 'weight': 1.0, 'efel_settings': {'strict_stiminterval': True, 'Threshold': -20, 'interp_step': 0.025}}\n",
      "   {'efel_feature_name': 'voltage_after_stim', 'protocol_name': 'IDrest_130', 'recording_name': 'soma.v', 'threshold_efeature_std': 0.1, 'default_std_value': 0.001, 'mean': -87.12239628840818, 'original_std': 0.9572409682749269, 'sample_size': 6, 'efeature_name': 'voltage_after_stim', 'weight': 1.0, 'efel_settings': {'strict_stiminterval': True, 'Threshold': -20, 'interp_step': 0.025}}\n",
      "   {'efel_feature_name': 'burst_number', 'protocol_name': 'IDrest_130', 'recording_name': 'soma.v', 'threshold_efeature_std': 0.1, 'default_std_value': 0.001, 'mean': 0.6666666666666666, 'original_std': 0.9428090415820634, 'sample_size': 6, 'efeature_name': 'burst_number', 'weight': 1.0, 'efel_settings': {'strict_stiminterval': True, 'Threshold': -20, 'interp_step': 0.025}}\n",
      "   {'efel_feature_name': 'number_initial_spikes', 'protocol_name': 'IDrest_130', 'recording_name': 'soma.v', 'threshold_efeature_std': 0.1, 'default_std_value': 0.001, 'mean': 1.6666666666666667, 'original_std': 0.4714045207910317, 'sample_size': 6, 'efeature_name': 'number_initial_spikes', 'weight': 1.0, 'efel_settings': {'strict_stiminterval': True, 'Threshold': -20, 'interp_step': 0.025}}\n",
      "   {'efel_feature_name': 'irregularity_index', 'protocol_name': 'IDrest_130', 'recording_name': 'soma.v', 'threshold_efeature_std': 0.1, 'default_std_value': 0.001, 'mean': 213.95798611189414, 'original_std': 278.960340993408, 'sample_size': 6, 'efeature_name': 'irregularity_index', 'weight': 1.0, 'efel_settings': {'strict_stiminterval': True, 'Threshold': -20, 'interp_step': 0.025}}\n",
      "   {'efel_feature_name': 'adaptation_index', 'protocol_name': 'IDrest_130', 'recording_name': 'soma.v', 'threshold_efeature_std': 0.1, 'default_std_value': 0.001, 'mean': 0.021810381821812972, 'original_std': 0.025904931541217195, 'sample_size': 6, 'efeature_name': 'adaptation_index', 'weight': 1.0, 'efel_settings': {'strict_stiminterval': True, 'Threshold': -20, 'interp_step': 0.025}}\n",
      "   {'efel_feature_name': 'burst_mean_freq', 'protocol_name': 'IDrest_130', 'recording_name': 'soma.v', 'threshold_efeature_std': 0.1, 'default_std_value': 0.001, 'mean': 6.189144214407903, 'original_std': 0.14984960695170724, 'sample_size': 2, 'efeature_name': 'burst_mean_freq', 'weight': 1.0, 'efel_settings': {'strict_stiminterval': True, 'Threshold': -20, 'interp_step': 0.025}}\n",
      "   {'efel_feature_name': 'Spikecount', 'protocol_name': 'IDrest_200', 'recording_name': 'soma.v', 'threshold_efeature_std': 0.1, 'default_std_value': 0.001, 'mean': 19.833333333333332, 'original_std': 3.4840908267278117, 'sample_size': 6, 'efeature_name': 'Spikecount', 'weight': 1.0, 'efel_settings': {'strict_stiminterval': True, 'Threshold': -20, 'interp_step': 0.025}}\n",
      "   {'efel_feature_name': 'ISI_CV', 'protocol_name': 'IDrest_200', 'recording_name': 'soma.v', 'threshold_efeature_std': 0.1, 'default_std_value': 0.001, 'mean': 0.07463775460612596, 'original_std': 0.028505952255165983, 'sample_size': 6, 'efeature_name': 'ISI_CV', 'weight': 1.0, 'efel_settings': {'strict_stiminterval': True, 'Threshold': -20, 'interp_step': 0.025}}\n",
      "   {'efel_feature_name': 'doublet_ISI', 'protocol_name': 'IDrest_200', 'recording_name': 'soma.v', 'threshold_efeature_std': 0.1, 'default_std_value': 0.001, 'mean': 44.208333333293126, 'original_std': 9.628967436268557, 'sample_size': 6, 'efeature_name': 'doublet_ISI', 'weight': 1.0, 'efel_settings': {'strict_stiminterval': True, 'Threshold': -20, 'interp_step': 0.025}}\n",
      "   {'efel_feature_name': 'mean_frequency', 'protocol_name': 'IDrest_200', 'recording_name': 'soma.v', 'threshold_efeature_std': 0.1, 'default_std_value': 0.001, 'mean': 10.189637299220186, 'original_std': 1.778840871822643, 'sample_size': 6, 'efeature_name': 'mean_frequency', 'weight': 1.0, 'efel_settings': {'strict_stiminterval': True, 'Threshold': -20, 'interp_step': 0.025}}\n",
      "   {'efel_feature_name': 'time_to_first_spike', 'protocol_name': 'IDrest_200', 'recording_name': 'soma.v', 'threshold_efeature_std': 0.1, 'default_std_value': 0.001, 'mean': 16.58333333295502, 'original_std': 3.72677996249626, 'sample_size': 6, 'efeature_name': 'time_to_first_spike', 'weight': 1.0, 'efel_settings': {'strict_stiminterval': True, 'Threshold': -20, 'interp_step': 0.025}}\n",
      "   {'efel_feature_name': 'ISI_log_slope', 'protocol_name': 'IDrest_200', 'recording_name': 'soma.v', 'threshold_efeature_std': 0.1, 'default_std_value': 0.001, 'mean': 0.03345638299091273, 'original_std': 0.05974524879883885, 'sample_size': 6, 'efeature_name': 'ISI_log_slope', 'weight': 1.0, 'efel_settings': {'strict_stiminterval': True, 'Threshold': -20, 'interp_step': 0.025}}\n",
      "   {'efel_feature_name': 'voltage_base', 'protocol_name': 'IDrest_200', 'recording_name': 'soma.v', 'threshold_efeature_std': 0.1, 'default_std_value': 0.001, 'mean': -82.656065689877, 'original_std': 0.4123618296597106, 'sample_size': 6, 'efeature_name': 'voltage_base', 'weight': 1.0, 'efel_settings': {'strict_stiminterval': True, 'Threshold': -20, 'interp_step': 0.025}}\n",
      "   {'efel_feature_name': 'time_to_last_spike', 'protocol_name': 'IDrest_200', 'recording_name': 'soma.v', 'threshold_efeature_std': 0.1, 'default_std_value': 0.001, 'mean': 1946.500000005247, 'original_std': 17.939713858801507, 'sample_size': 6, 'efeature_name': 'time_to_last_spike', 'weight': 1.0, 'efel_settings': {'strict_stiminterval': True, 'Threshold': -20, 'interp_step': 0.025}}\n",
      "   {'efel_feature_name': 'inv_time_to_first_spike', 'protocol_name': 'IDrest_200', 'recording_name': 'soma.v', 'threshold_efeature_std': 0.1, 'default_std_value': 0.001, 'mean': 63.138076544811895, 'original_std': 12.691389369204195, 'sample_size': 6, 'efeature_name': 'inv_time_to_first_spike', 'weight': 1.0, 'efel_settings': {'strict_stiminterval': True, 'Threshold': -20, 'interp_step': 0.025}}\n",
      "   {'efel_feature_name': 'inv_first_ISI', 'protocol_name': 'IDrest_200', 'recording_name': 'soma.v', 'threshold_efeature_std': 0.1, 'default_std_value': 0.001, 'mean': 23.61128698555237, 'original_std': 4.5663583102585985, 'sample_size': 6, 'efeature_name': 'inv_first_ISI', 'weight': 1.0, 'efel_settings': {'strict_stiminterval': True, 'Threshold': -20, 'interp_step': 0.025}}\n",
      "   {'efel_feature_name': 'inv_second_ISI', 'protocol_name': 'IDrest_200', 'recording_name': 'soma.v', 'threshold_efeature_std': 0.1, 'default_std_value': 0.001, 'mean': 10.888408719900829, 'original_std': 1.9500846038754984, 'sample_size': 6, 'efeature_name': 'inv_second_ISI', 'weight': 1.0, 'efel_settings': {'strict_stiminterval': True, 'Threshold': -20, 'interp_step': 0.025}}\n",
      "   {'efel_feature_name': 'inv_third_ISI', 'protocol_name': 'IDrest_200', 'recording_name': 'soma.v', 'threshold_efeature_std': 0.1, 'default_std_value': 0.001, 'mean': 9.988777902840466, 'original_std': 2.0044673370648782, 'sample_size': 6, 'efeature_name': 'inv_third_ISI', 'weight': 1.0, 'efel_settings': {'strict_stiminterval': True, 'Threshold': -20, 'interp_step': 0.025}}\n",
      "   {'efel_feature_name': 'inv_last_ISI', 'protocol_name': 'IDrest_200', 'recording_name': 'soma.v', 'threshold_efeature_std': 0.1, 'default_std_value': 0.001, 'mean': 9.955328682497806, 'original_std': 2.3570371576647995, 'sample_size': 6, 'efeature_name': 'inv_last_ISI', 'weight': 1.0, 'efel_settings': {'strict_stiminterval': True, 'Threshold': -20, 'interp_step': 0.025}}\n",
      "   {'efel_feature_name': 'AHP_depth', 'protocol_name': 'IDrest_200', 'recording_name': 'soma.v', 'threshold_efeature_std': 0.1, 'default_std_value': 0.001, 'mean': 21.875388331111182, 'original_std': 1.6438123287417166, 'sample_size': 6, 'efeature_name': 'AHP_depth', 'weight': 1.0, 'efel_settings': {'strict_stiminterval': True, 'Threshold': -20, 'interp_step': 0.025}}\n",
      "   {'efel_feature_name': 'AHP_time_from_peak', 'protocol_name': 'IDrest_200', 'recording_name': 'soma.v', 'threshold_efeature_std': 0.1, 'default_std_value': 0.001, 'mean': 20.00731497674777, 'original_std': 1.747628947979076, 'sample_size': 6, 'efeature_name': 'AHP_time_from_peak', 'weight': 1.0, 'efel_settings': {'strict_stiminterval': True, 'Threshold': -20, 'interp_step': 0.025}}\n",
      "   {'efel_feature_name': 'min_AHP_values', 'protocol_name': 'IDrest_200', 'recording_name': 'soma.v', 'threshold_efeature_std': 0.1, 'default_std_value': 0.001, 'mean': -60.78067735876579, 'original_std': 1.919410899483439, 'sample_size': 6, 'efeature_name': 'min_AHP_values', 'weight': 1.0, 'efel_settings': {'strict_stiminterval': True, 'Threshold': -20, 'interp_step': 0.025}}\n",
      "   {'efel_feature_name': 'depol_block_bool', 'protocol_name': 'IDrest_200', 'recording_name': 'soma.v', 'threshold_efeature_std': 0.1, 'default_std_value': 0.001, 'mean': 0.0, 'original_std': 0.001, 'sample_size': 6, 'efeature_name': 'depol_block_bool', 'weight': 1.0, 'efel_settings': {'strict_stiminterval': True, 'Threshold': -20, 'interp_step': 0.025}}\n",
      "   {'efel_feature_name': 'voltage_after_stim', 'protocol_name': 'IDrest_200', 'recording_name': 'soma.v', 'threshold_efeature_std': 0.1, 'default_std_value': 0.001, 'mean': -86.90101193311828, 'original_std': 0.5605484695404097, 'sample_size': 6, 'efeature_name': 'voltage_after_stim', 'weight': 1.0, 'efel_settings': {'strict_stiminterval': True, 'Threshold': -20, 'interp_step': 0.025}}\n",
      "   {'efel_feature_name': 'burst_number', 'protocol_name': 'IDrest_200', 'recording_name': 'soma.v', 'threshold_efeature_std': 0.1, 'default_std_value': 0.001, 'mean': 0.0, 'original_std': 0.001, 'sample_size': 6, 'efeature_name': 'burst_number', 'weight': 1.0, 'efel_settings': {'strict_stiminterval': True, 'Threshold': -20, 'interp_step': 0.025}}\n",
      "   {'efel_feature_name': 'number_initial_spikes', 'protocol_name': 'IDrest_200', 'recording_name': 'soma.v', 'threshold_efeature_std': 0.1, 'default_std_value': 0.001, 'mean': 3.0, 'original_std': 0.001, 'sample_size': 6, 'efeature_name': 'number_initial_spikes', 'weight': 1.0, 'efel_settings': {'strict_stiminterval': True, 'Threshold': -20, 'interp_step': 0.025}}\n",
      "   {'efel_feature_name': 'irregularity_index', 'protocol_name': 'IDrest_200', 'recording_name': 'soma.v', 'threshold_efeature_std': 0.1, 'default_std_value': 0.001, 'mean': 6.7059774196184, 'original_std': 1.583840773838753, 'sample_size': 6, 'efeature_name': 'irregularity_index', 'weight': 1.0, 'efel_settings': {'strict_stiminterval': True, 'Threshold': -20, 'interp_step': 0.025}}\n",
      "   {'efel_feature_name': 'adaptation_index', 'protocol_name': 'IDrest_200', 'recording_name': 'soma.v', 'threshold_efeature_std': 0.1, 'default_std_value': 0.001, 'mean': 0.0005470381772781952, 'original_std': 0.0037812147886006962, 'sample_size': 6, 'efeature_name': 'adaptation_index', 'weight': 1.0, 'efel_settings': {'strict_stiminterval': True, 'Threshold': -20, 'interp_step': 0.025}}\n",
      "   {'efel_feature_name': 'steady_state_voltage_stimend', 'protocol_name': 'RMPProtocol', 'recording_name': 'soma.v', 'threshold_efeature_std': 0.1, 'default_std_value': 0.001, 'mean': -83.38956665960032, 'original_std': 0.44319427048989085, 'sample_size': 9, 'efeature_name': 'voltage_base', 'weight': 1.0, 'efel_settings': {'strict_stiminterval': True, 'Threshold': -20, 'interp_step': 0.025}}\n",
      "   {'efel_feature_name': 'ohmic_input_resistance_vb_ssse', 'protocol_name': 'IV_0', 'recording_name': 'soma.v', 'threshold_efeature_std': 0.1, 'default_std_value': 0.001, 'mean': 40.381127264357104, 'original_std': 486.9230848650381, 'sample_size': 8, 'efeature_name': 'ohmic_input_resistance_vb_ssse', 'weight': 1.0, 'efel_settings': {'strict_stiminterval': True, 'Threshold': -20, 'interp_step': 0.025}}\n",
      "   {'efel_feature_name': 'steady_state_voltage_stimend', 'protocol_name': 'SearchHoldingCurrent', 'recording_name': 'soma.v', 'threshold_efeature_std': 0.1, 'default_std_value': 0.001, 'mean': -83.1602795290849, 'original_std': 0.5732871465615677, 'sample_size': 9, 'efeature_name': 'voltage_base', 'weight': 1.0, 'efel_settings': {'strict_stiminterval': True, 'Threshold': -20, 'interp_step': 0.025}}\n",
      "   {'efel_feature_name': 'ohmic_input_resistance_vb_ssse', 'protocol_name': 'RinProtocol', 'recording_name': 'soma.v', 'threshold_efeature_std': 0.1, 'default_std_value': 0.001, 'mean': 46.144060948518096, 'original_std': 9.540253650631344, 'sample_size': 9, 'efeature_name': 'ohmic_input_resistance_vb_ssse', 'weight': 1.0, 'efel_settings': {'strict_stiminterval': True, 'Threshold': -20, 'interp_step': 0.025}}\n",
      "   {'efel_feature_name': 'voltage_base', 'protocol_name': 'IV_-100', 'recording_name': 'soma.v', 'threshold_efeature_std': 0.1, 'default_std_value': 0.001, 'mean': -83.10270958313072, 'original_std': 0.7408161829891378, 'sample_size': 9, 'efeature_name': 'voltage_base', 'weight': 1.0, 'efel_settings': {'strict_stiminterval': True, 'Threshold': -20, 'interp_step': 0.025}}\n",
      "   {'efel_feature_name': 'ohmic_input_resistance_vb_ssse', 'protocol_name': 'IV_-100', 'recording_name': 'soma.v', 'threshold_efeature_std': 0.1, 'default_std_value': 0.001, 'mean': 41.950232851373016, 'original_std': 7.7917698493471175, 'sample_size': 9, 'efeature_name': 'ohmic_input_resistance_vb_ssse', 'weight': 1.0, 'efel_settings': {'strict_stiminterval': True, 'Threshold': -20, 'interp_step': 0.025}}\n",
      "   {'efel_feature_name': 'AP_amplitude', 'protocol_name': 'APWaveform_280', 'recording_name': 'soma.v', 'threshold_efeature_std': 0.1, 'default_std_value': 0.001, 'mean': 85.63229179382726, 'original_std': 0.2739372661121643, 'sample_size': 3, 'efeature_name': 'AP_amplitude', 'weight': 1.0, 'efel_settings': {'strict_stiminterval': True, 'Threshold': -20, 'interp_step': 0.025}}\n",
      "   {'efel_feature_name': 'AP1_amp', 'protocol_name': 'APWaveform_280', 'recording_name': 'soma.v', 'threshold_efeature_std': 0.1, 'default_std_value': 0.001, 'mean': 91.24062410990176, 'original_std': 0.7323490865525268, 'sample_size': 3, 'efeature_name': 'AP1_amp', 'weight': 1.0, 'efel_settings': {'strict_stiminterval': True, 'Threshold': -20, 'interp_step': 0.025}}\n",
      "   {'efel_feature_name': 'AP_duration_half_width', 'protocol_name': 'APWaveform_280', 'recording_name': 'soma.v', 'threshold_efeature_std': 0.1, 'default_std_value': 0.001, 'mean': 1.3916666666666269, 'original_std': 0.005892556509886723, 'sample_size': 3, 'efeature_name': 'AP_duration_half_width', 'weight': 1.0, 'efel_settings': {'strict_stiminterval': True, 'Threshold': -20, 'interp_step': 0.025}}\n",
      "   {'efel_feature_name': 'AHP_depth', 'protocol_name': 'APWaveform_280', 'recording_name': 'soma.v', 'threshold_efeature_std': 0.1, 'default_std_value': 0.001, 'mean': 23.89942607879726, 'original_std': 0.4119030778088721, 'sample_size': 3, 'efeature_name': 'AHP_depth', 'weight': 1.0, 'efel_settings': {'strict_stiminterval': True, 'Threshold': -20, 'interp_step': 0.025}}\n",
      "   {'efel_feature_name': 'mean_frequency', 'protocol_name': 'IDhyperpol_150', 'recording_name': 'soma.v', 'threshold_efeature_std': 0.1, 'default_std_value': 0.001, 'mean': 4.824314976680847, 'original_std': 0.8271130180600073, 'sample_size': 2, 'efeature_name': 'mean_frequency', 'weight': 1.0, 'efel_settings': {'strict_stiminterval': True, 'Threshold': -20, 'interp_step': 0.025}}\n",
      "   {'efel_feature_name': 'voltage_base', 'protocol_name': 'IDhyperpol_150', 'recording_name': 'soma.v', 'threshold_efeature_std': 0.1, 'default_std_value': 0.001, 'mean': -83.85849777183599, 'original_std': 0.5382516057115367, 'sample_size': 2, 'efeature_name': 'voltage_base', 'weight': 1.0, 'efel_settings': {'strict_stiminterval': True, 'Threshold': -20, 'interp_step': 0.025}}\n",
      "   {'efel_feature_name': 'depol_block_bool', 'protocol_name': 'IDhyperpol_150', 'recording_name': 'soma.v', 'threshold_efeature_std': 0.1, 'default_std_value': 0.001, 'mean': 1.0, 'original_std': 0.001, 'sample_size': 2, 'efeature_name': 'depol_block_bool', 'weight': 1.0, 'efel_settings': {'strict_stiminterval': True, 'Threshold': -20, 'interp_step': 0.025}}\n",
      "   {'efel_feature_name': 'bpo_holding_current', 'protocol_name': 'SearchHoldingCurrent', 'recording_name': 'soma.v', 'threshold_efeature_std': 0.1, 'default_std_value': 0.001, 'mean': -0.09753230129913182, 'original_std': 0.039795330549849496, 'sample_size': None, 'efeature_name': None, 'weight': 1.0, 'efel_settings': {'strict_stiminterval': True}}\n",
      "   {'efel_feature_name': 'bpo_threshold_current', 'protocol_name': 'SearchThresholdCurrent', 'recording_name': 'soma.v', 'threshold_efeature_std': 0.1, 'default_std_value': 0.001, 'mean': 0.33093749980131787, 'original_std': 0.06647122484201451, 'sample_size': None, 'efeature_name': None, 'weight': 1.0, 'efel_settings': {'strict_stiminterval': True}}\n",
      "   {'efel_feature_name': 'Spikecount', 'protocol_name': 'Step_1000', 'recording_name': 'soma.v', 'threshold_efeature_std': None, 'default_std_value': 0.001, 'mean': 1.0, 'original_std': 0.1, 'sample_size': None, 'efeature_name': None, 'weight': 1.0, 'efel_settings': {'strict_stiminterval': False}}\n",
      "\n"
     ]
    }
   ],
   "source": [
    "efeature_def = EFeatureConfiguration(\n",
    "    efel_feature_name=\"Spikecount\",\n",
    "    protocol_name=protocol_name,\n",
    "    recording_name=\"soma.v\",\n",
    "    mean=1.0,\n",
    "    std=0.1,\n",
    "    efel_settings={\"strict_stiminterval\": False},\n",
    "    threshold_efeature_std=None,\n",
    ")\n",
    "\n",
    "fitness_config.efeatures.append(efeature_def)\n",
    "print(fitness_config)"
   ]
  },
  {
   "cell_type": "markdown",
   "metadata": {},
   "source": [
    "Finally, we save the edited FitnessCalculatorConfiguration back to Nexus"
   ]
  },
  {
   "cell_type": "code",
   "execution_count": 9,
   "metadata": {},
   "outputs": [
    {
     "name": "stdout",
     "output_type": "stream",
     "text": [
      "<action> _deprecate_one\n",
      "<succeeded> True\n",
      "<action> _register_one\n",
      "<succeeded> True\n",
      "<action> _update_one\n",
      "<succeeded> True\n"
     ]
    }
   ],
   "source": [
    "access_point.store_fitness_calculator_configuration(fitness_config)"
   ]
  },
  {
   "cell_type": "markdown",
   "metadata": {},
   "source": [
    "To verify that the optimization works with the new FCC, run the following command:"
   ]
  },
  {
   "cell_type": "code",
   "execution_count": null,
   "metadata": {},
   "outputs": [],
   "source": [
    "!python pipeline.py --step=test_optimise --emodel={emodel} --etype={etype} --iteration_tag={iteration_tag} --ttype={ttype}"
   ]
  }
 ],
 "metadata": {
  "kernelspec": {
   "display_name": "venv-bpem",
   "language": "python",
   "name": "venv-bpem"
  },
  "language_info": {
   "codemirror_mode": {
    "name": "ipython",
    "version": 3
   },
   "file_extension": ".py",
   "mimetype": "text/x-python",
   "name": "python",
   "nbconvert_exporter": "python",
   "pygments_lexer": "ipython3",
   "version": "3.10.8"
  }
 },
 "nbformat": 4,
 "nbformat_minor": 4
}
