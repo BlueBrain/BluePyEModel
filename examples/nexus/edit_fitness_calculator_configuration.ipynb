{
 "cells": [
  {
   "cell_type": "markdown",
   "metadata": {},
   "source": [
    "# Editing the FitnessCalculatorConfiguration: A Step-by-Step Guide"
   ]
  },
  {
   "cell_type": "markdown",
   "metadata": {},
   "source": [
    "To run this notebook, you need to have an existing FitnessCalculatorConfiguration on Nexus."
   ]
  },
  {
   "cell_type": "markdown",
   "metadata": {},
   "source": [
    "Please fill in the values to match the metadata of the FitnessCalculatorConfiguration you want to edit."
   ]
  },
  {
   "cell_type": "code",
   "execution_count": 8,
   "metadata": {},
   "outputs": [],
   "source": [
    "emodel = \"L5_TPC\"\n",
    "etype = \"cAC\"\n",
    "mtype = None\n",
    "ttype = None\n",
    "iteration_tag = \"XXXX-XX-XX\"\n",
    "species = \"mouse\"\n",
    "brain_region = \"SSCX\"\n",
    "\n",
    "nexus_project = \"\" # specify the nexus project to use\n",
    "nexus_organisation = \"bbp\"\n",
    "nexus_endpoint = \"prod\"\n",
    "\n",
    "# Advanced settings (only change if you know what you are doing)\n",
    "forge_path = \"./forge.yml\"\n",
    "forge_ontology_path = \"./nsg.yml\""
   ]
  },
  {
   "cell_type": "markdown",
   "metadata": {},
   "source": [
    "This next cell will ask for your Nexus token:"
   ]
  },
  {
   "cell_type": "code",
   "execution_count": null,
   "metadata": {},
   "outputs": [],
   "source": [
    "from bluepyemodel.access_point.nexus import NexusAccessPoint\n",
    "\n",
    "data_access_point = \"nexus\"\n",
    "access_point = NexusAccessPoint(\n",
    "    emodel=emodel,\n",
    "    species=species,\n",
    "    brain_region=brain_region,\n",
    "    project=nexus_project,\n",
    "    organisation=\"bbp\",\n",
    "    endpoint=\"https://bbp.epfl.ch/nexus/v1\",\n",
    "    forge_path=forge_path,\n",
    "    forge_ontology_path=forge_ontology_path,\n",
    "    etype=etype,\n",
    "    mtype=mtype,\n",
    "    ttype=ttype,\n",
    "    iteration_tag=iteration_tag\n",
    ")"
   ]
  },
  {
   "cell_type": "code",
   "execution_count": null,
   "metadata": {},
   "outputs": [],
   "source": [
    "fitness_config = access_point.get_fitness_calculator_configuration()\n",
    "\n",
    "print(fitness_config)"
   ]
  },
  {
   "cell_type": "code",
   "execution_count": 18,
   "metadata": {},
   "outputs": [],
   "source": [
    "from bluepyemodel.evaluation.efeature_configuration import EFeatureConfiguration\n",
    "from bluepyemodel.evaluation.protocol_configuration import ProtocolConfiguration"
   ]
  },
  {
   "cell_type": "markdown",
   "metadata": {},
   "source": [
    "As an example, we add a new protocol called `Step_1000`"
   ]
  },
  {
   "cell_type": "code",
   "execution_count": 19,
   "metadata": {},
   "outputs": [],
   "source": [
    "protocol_name = \"Step_1000\"\n",
    "\n",
    "stimuli = [{\n",
    "    \"amp\": None,\n",
    "    \"delay\": 700,\n",
    "    \"duration\": 4,\n",
    "    \"holding_current\": None,\n",
    "    \"thresh_perc\": 1000,\n",
    "    \"totduration\": 1000\n",
    "}]\n",
    "\n",
    "recordings = [\n",
    "    {\n",
    "        \"type\": \"CompRecording\",\n",
    "        \"location\": \"soma\",\n",
    "        \"name\": f\"{protocol_name}.soma.v\",\n",
    "        \"variable\": \"v\"\n",
    "    },\n",
    "]\n",
    "\n",
    "protocol_config = ProtocolConfiguration(\n",
    "    name=protocol_name,\n",
    "    stimuli=stimuli,\n",
    "    recordings=recordings,\n",
    "    validation=False\n",
    ")\n",
    "\n",
    "fitness_config.protocols.append(protocol_config)"
   ]
  },
  {
   "cell_type": "markdown",
   "metadata": {},
   "source": [
    "Next, we add the feature associated with the newly defined protocol."
   ]
  },
  {
   "cell_type": "code",
   "execution_count": 20,
   "metadata": {},
   "outputs": [],
   "source": [
    "efeature_def = EFeatureConfiguration(\n",
    "    efel_feature_name=\"Spikecount\",\n",
    "    protocol_name=protocol_name,\n",
    "    recording_name=\"soma.v\",\n",
    "    mean=1.0,\n",
    "    std=0.1,\n",
    "    efel_settings={\"strict_stiminterval\": False},\n",
    "    threshold_efeature_std=None,\n",
    ")\n",
    "\n",
    "fitness_config.efeatures.append(efeature_def)"
   ]
  },
  {
   "cell_type": "markdown",
   "metadata": {},
   "source": [
    "Finally, we save the edited FitnessCalculatorConfiguration back to Nexus"
   ]
  },
  {
   "cell_type": "code",
   "execution_count": null,
   "metadata": {},
   "outputs": [],
   "source": [
    "access_point.store_fitness_calculator_configuration(fitness_config)"
   ]
  },
  {
   "cell_type": "markdown",
   "metadata": {},
   "source": [
    "To verify that the optimization works with the new FCC, run the following command:"
   ]
  },
  {
   "cell_type": "code",
   "execution_count": null,
   "metadata": {},
   "outputs": [],
   "source": [
    "!python pipeline.py --step=test_optimise --emodel={emodel} --etype={etype} --iteration_tag={iteration_tag} --ttype={ttype}"
   ]
  }
 ],
 "metadata": {
  "kernelspec": {
   "display_name": "venv-bpem",
   "language": "python",
   "name": "venv-bpem"
  },
  "language_info": {
   "codemirror_mode": {
    "name": "ipython",
    "version": 3
   },
   "file_extension": ".py",
   "mimetype": "text/x-python",
   "name": "python",
   "nbconvert_exporter": "python",
   "pygments_lexer": "ipython3",
   "version": "3.10.8"
  }
 },
 "nbformat": 4,
 "nbformat_minor": 4
}
