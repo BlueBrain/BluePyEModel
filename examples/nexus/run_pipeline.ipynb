{
 "cells": [
  {
   "cell_type": "markdown",
   "metadata": {},
   "source": [
    "# Run the pipeline with Nexus/Luigi/bbp-workflow"
   ]
  },
  {
   "cell_type": "markdown",
   "metadata": {},
   "source": [
    "This notebook provides an example of how to run the pipeline using the Nexus access point, Luigi and bbp-workflow. For more details, please refer to the [README](./README.md)."
   ]
  },
  {
   "cell_type": "code",
   "execution_count": 1,
   "metadata": {},
   "outputs": [],
   "source": [
    "import logging\n",
    "from bluepyemodel.model.model_configurator import ModelConfigurator\n",
    "from bluepyemodel.emodel_pipeline.emodel_pipeline import EModel_pipeline\n",
    "from bluepyemodel.emodel_pipeline.emodel_settings import EModelPipelineSettings\n",
    "from bluepyemodel.efeatures_extraction.targets_configurator import TargetsConfigurator"
   ]
  },
  {
   "cell_type": "code",
   "execution_count": 2,
   "metadata": {},
   "outputs": [],
   "source": [
    "emodel = \"L5_TPC\"\n",
    "etype = \"cAC\"\n",
    "mtype = None\n",
    "ttype = None\n",
    "iteration_tag = \"XXXX-XX-XX\"\n",
    "species = \"mouse\"\n",
    "brain_region = \"SSCX\"\n",
    "iteration=\"test-bpem-nexus\"\n",
    "morphology = \"C060114A5\"\n",
    "morphology_format = \"asc\""
   ]
  },
  {
   "cell_type": "code",
   "execution_count": 3,
   "metadata": {},
   "outputs": [],
   "source": [
    "# Nexus settings\n",
    "nexus_project = \"\" # specify the nexus project\n",
    "nexus_organisation = \"\" # specify the nexus organisation\n",
    "nexus_endpoint = \"prod\"\n",
    "forge_path = \"./forge.yml\"\n",
    "forge_ontology_path = \"./nsg.yml\"\n",
    "legacy_conf_json_file = \"./../L5PC/config/params/pyr.json\" # specify the path to the json file containing the model configuration if the model is not configured from gene data"
   ]
  },
  {
   "cell_type": "code",
   "execution_count": 4,
   "metadata": {},
   "outputs": [],
   "source": [
    "logger = logging.getLogger()\n",
    "logging.basicConfig(\n",
    "    level=logging.INFO,\n",
    "    handlers=[logging.StreamHandler()],\n",
    ")"
   ]
  },
  {
   "cell_type": "code",
   "execution_count": null,
   "metadata": {},
   "outputs": [],
   "source": [
    "pipeline = EModel_pipeline(\n",
    "    emodel=emodel,\n",
    "    etype=etype,\n",
    "    mtype=mtype,\n",
    "    ttype=ttype,\n",
    "    iteration_tag=iteration,\n",
    "    species=species,\n",
    "    brain_region=brain_region,\n",
    "    forge_path=forge_path,\n",
    "    forge_ontology_path=forge_ontology_path,\n",
    "    nexus_organisation=nexus_organisation,\n",
    "    nexus_project=nexus_project,\n",
    "    nexus_endpoint=nexus_endpoint,\n",
    "    use_ipyparallel=True,\n",
    "    use_multiprocessing=False,\n",
    "    data_access_point=\"nexus\",\n",
    ")"
   ]
  },
  {
   "cell_type": "markdown",
   "metadata": {},
   "source": [
    "To begin, we need to initialize the ``TargetsConfigurator`` using the provided ``targets.py`` file. This file contains predefined configurations for targets and file metadata needed for the feature extraction process, and it can be customized as needed."
   ]
  },
  {
   "cell_type": "code",
   "execution_count": null,
   "metadata": {},
   "outputs": [],
   "source": [
    "from targets import filenames, ecodes_metadata, targets, protocols_rheobase\n",
    "\n",
    "files_metadata = []\n",
    "for filename in filenames:\n",
    "    files_metadata.append({\"cell_name\": filename, \"ecodes\": ecodes_metadata})\n",
    "\n",
    "targets_formated = []\n",
    "for ecode in targets:\n",
    "    for amplitude in targets[ecode][\"amplitudes\"]:\n",
    "        for efeature in targets[ecode][\"efeatures\"]:\n",
    "            targets_formated.append(\n",
    "                {\n",
    "                    \"efeature\": efeature,\n",
    "                    \"protocol\": ecode,\n",
    "                    \"amplitude\": amplitude,\n",
    "                    \"tolerance\": 10.0,\n",
    "                }\n",
    "            )\n",
    "\n",
    "configurator = TargetsConfigurator(pipeline.access_point)\n",
    "configurator.new_configuration(files_metadata, targets_formated, protocols_rheobase)\n",
    "configurator.save_configuration()\n",
    "print(configurator.configuration.as_dict())"
   ]
  },
  {
   "cell_type": "markdown",
   "metadata": {},
   "source": [
    "Next, we need to store the ``EModelPipelineSettings`` (EMPS). The following cell creates an instance of EMPS with various parameters, which can be customized according to your needs:"
   ]
  },
  {
   "cell_type": "code",
   "execution_count": 9,
   "metadata": {},
   "outputs": [
    {
     "name": "stdout",
     "output_type": "stream",
     "text": [
      "<action> _deprecate_one\n",
      "<succeeded> True\n",
      "<action> _register_one\n",
      "<succeeded> True\n"
     ]
    }
   ],
   "source": [
    "pipeline_settings = EModelPipelineSettings(\n",
    "        stochasticity=False,\n",
    "        optimiser=\"SO-CMA\",\n",
    "        optimisation_params={\"offspring_size\": 20},\n",
    "        optimisation_timeout=600.0,\n",
    "        threshold_efeature_std=0.1,\n",
    "        max_ngen=100,\n",
    "        validation_threshold=10.0,\n",
    "        plot_extraction=True,\n",
    "        plot_optimisation=True,\n",
    "        compile_mechanisms=True,\n",
    "        name_Rin_protocol=\"IV_-40\",\n",
    "        name_rmp_protocol=\"IV_0\",\n",
    "        efel_settings={\n",
    "            \"strict_stiminterval\": True,\n",
    "            \"Threshold\": -20,\n",
    "            \"interp_step\": 0.025,\n",
    "        },\n",
    "        strict_holding_bounds=True,\n",
    "        validation_protocols=[\"IDhyperpol_150\"],\n",
    "        morph_modifiers=[],\n",
    "        n_model=3,\n",
    "        optimisation_batch_size=3,\n",
    "        max_n_batch=5,\n",
    "        name_gene_map=\"Mouse_met_types_ion_channel_expression\",\n",
    "    )\n",
    "\n",
    "pipeline.access_point.store_pipeline_settings(pipeline_settings)"
   ]
  },
  {
   "cell_type": "markdown",
   "metadata": {},
   "source": [
    "In the next cell, we will use ``ICSelector`` to generate the ``EModelConfiguration`` (EMC) based on gene data. This process will use the provided ``etype``, ``mtype``, and ``ttype`` to select appropriate ion channel resources from Nexus."
   ]
  },
  {
   "cell_type": "code",
   "execution_count": null,
   "metadata": {},
   "outputs": [],
   "source": [
    "pipeline.configure_model(morphology_name=morphology, morphology_format=morphology_format, use_gene_data=True)"
   ]
  },
  {
   "cell_type": "markdown",
   "metadata": {},
   "source": [
    "Before running the Luigi pipeline, we need to configure the [launch script](./launch_luigi.sh) and the [Luigi configuration script](./luigi.cfg). See sections 2 and 4, respectively, in the following [README](./README.md) for more details.\n",
    "\n",
    "Once the coniguration is done, we can run the Luigi pipeline in the terminal, by following these steps:"
   ]
  },
  {
   "cell_type": "markdown",
   "metadata": {},
   "source": [
    "\n",
    "\n",
    "Activate the virtual environment:\n",
    "\n",
    "``source myvenv/bin/activate``"
   ]
  },
  {
   "cell_type": "markdown",
   "metadata": {},
   "source": [
    "Initialize Kerberos authentication: \n",
    "\n",
    "``kinit``\n"
   ]
  },
  {
   "cell_type": "markdown",
   "metadata": {},
   "source": [
    "Launch the Luigi pipeline:\n",
    "\n",
    "``./launch_luigi.sh``"
   ]
  }
 ],
 "metadata": {
  "kernelspec": {
   "display_name": "venv-bpem",
   "language": "python",
   "name": "venv-bpem"
  },
  "language_info": {
   "codemirror_mode": {
    "name": "ipython",
    "version": 3
   },
   "file_extension": ".py",
   "mimetype": "text/x-python",
   "name": "python",
   "nbconvert_exporter": "python",
   "pygments_lexer": "ipython3",
   "version": "3.10.8"
  }
 },
 "nbformat": 4,
 "nbformat_minor": 4
}
