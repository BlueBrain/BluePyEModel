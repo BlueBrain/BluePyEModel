{
 "cells": [
  {
   "cell_type": "markdown",
   "metadata": {},
   "source": [
    "## How to edit an already existing Neuron Model Configuration"
   ]
  },
  {
   "cell_type": "markdown",
   "metadata": {},
   "source": [
    "This notebook explains how to load an already existing neuron model configuration from nexus, edit it, and store it on nexus"
   ]
  },
  {
   "cell_type": "markdown",
   "metadata": {},
   "source": [
    "To run this notebook, you need to already have a NeuronModelConfiguration in Nexus."
   ]
  },
  {
   "cell_type": "markdown",
   "metadata": {},
   "source": [
    "## Loading the NeuronModelConfiguration"
   ]
  },
  {
   "cell_type": "markdown",
   "metadata": {},
   "source": [
    "Please fill in the values to match the metadata of the model you want to edit."
   ]
  },
  {
   "cell_type": "code",
   "execution_count": 1,
   "metadata": {},
   "outputs": [],
   "source": [
    "emodel = \"L5_TPC\"\n",
    "etype = \"cAC\"\n",
    "mtype = None\n",
    "ttype = None\n",
    "iteration_tag = \"XXXX-XX-XX\"\n",
    "species = \"mouse\"\n",
    "brain_region = \"SSCX\"\n",
    "\n",
    "nexus_project = \"\" # specify the nexus project to use\n",
    "nexus_organisation = \"\" # specify the nexus organisation to use\n",
    "nexus_endpoint = \"\" # specify the nexus endpoint to use\n",
    "\n",
    "# Advanced settings (only change if you know what you are doing)\n",
    "forge_path = \"./forge.yml\"\n",
    "forge_ontology_path = \"./nsg.yml\""
   ]
  },
  {
   "cell_type": "markdown",
   "metadata": {},
   "source": [
    "This next cell will ask for your Nexus token:"
   ]
  },
  {
   "cell_type": "code",
   "execution_count": null,
   "metadata": {},
   "outputs": [],
   "source": [
    "from bluepyemodel.access_point.nexus import NexusAccessPoint\n",
    "\n",
    "access_point = NexusAccessPoint(\n",
    "    emodel=emodel,\n",
    "    species=species,\n",
    "    brain_region=brain_region,\n",
    "    project=nexus_project,\n",
    "    organisation=nexus_organisation,\n",
    "    endpoint=nexus_endpoint,\n",
    "    forge_path=forge_path,\n",
    "    forge_ontology_path=forge_ontology_path,\n",
    "    etype=etype,\n",
    "    mtype=mtype,\n",
    "    ttype=ttype,\n",
    "    iteration_tag=iteration_tag\n",
    ")"
   ]
  },
  {
   "cell_type": "code",
   "execution_count": null,
   "metadata": {},
   "outputs": [],
   "source": [
    "from bluepyemodel.model.model_configurator import ModelConfigurator\n",
    "\n",
    "configurator = ModelConfigurator(access_point)\n",
    "configurator.load_configuration()\n",
    "\n",
    "print(configurator.configuration)"
   ]
  },
  {
   "cell_type": "markdown",
   "metadata": {},
   "source": [
    "## Adding Mechanisms, Distributions, Parameters or Morphology"
   ]
  },
  {
   "cell_type": "markdown",
   "metadata": {},
   "source": [
    "You can now modify the neuron model configuration. Below is an example where a mechanism, a distribution, and a parameter are added to the existing mechanisms, distributions, and parameters of the neuron model configuration. Additionally, the morphology is updated to a different one."
   ]
  },
  {
   "cell_type": "code",
   "execution_count": 4,
   "metadata": {},
   "outputs": [],
   "source": [
    "from bluepyemodel.model.morphology_configuration import MorphologyConfiguration"
   ]
  },
  {
   "cell_type": "code",
   "execution_count": 5,
   "metadata": {},
   "outputs": [],
   "source": [
    "# add distribution\n",
    "configurator.configuration.add_distribution(\n",
    "    distribution_name=\"decay\",\n",
    "    function=\"math.exp({distance}*{constant})*{value}\",\n",
    "    parameters=[\"constant\"],\n",
    ")"
   ]
  },
  {
   "cell_type": "code",
   "execution_count": 6,
   "metadata": {},
   "outputs": [],
   "source": [
    "# add two parameters\n",
    "configurator.configuration.add_parameter(\n",
    "    parameter_name=\"constant\",\n",
    "    locations=\"distribution_decay\",\n",
    "    value=[-0.1,0.0],\n",
    "    mechanism=None,\n",
    "    distribution_name=None,\n",
    "    stochastic=None,\n",
    ")\n",
    "configurator.configuration.add_parameter(\n",
    "    parameter_name=\"gNaTgbar_NaTg\",\n",
    "    locations=\"apical\",\n",
    "    value=[0.0, 0.1],\n",
    "    mechanism=\"NaTg\",\n",
    "    distribution_name=\"decay\",\n",
    "    stochastic=None,\n",
    ")"
   ]
  },
  {
   "cell_type": "code",
   "execution_count": 7,
   "metadata": {},
   "outputs": [],
   "source": [
    "# add mechanism\n",
    "configurator.configuration.add_mechanism(\n",
    "    mechanism_name=\"NaTg\",\n",
    "    locations=\"apical\",\n",
    "    stochastic=None,\n",
    "    version=None,\n",
    ")"
   ]
  },
  {
   "cell_type": "code",
   "execution_count": 8,
   "metadata": {},
   "outputs": [],
   "source": [
    "# change morphology\n",
    "configurator.configuration.morphology = MorphologyConfiguration(name=\"ak171123_C_idA\")"
   ]
  },
  {
   "cell_type": "markdown",
   "metadata": {},
   "source": [
    "## Removing Parameters, Mechanisms, and Distributions"
   ]
  },
  {
   "cell_type": "markdown",
   "metadata": {},
   "source": [
    "Here, we will see how to remove parameters, mechanisms and distributions. For the sake of simplicity, we will remove the ones that we just added."
   ]
  },
  {
   "cell_type": "code",
   "execution_count": 9,
   "metadata": {},
   "outputs": [],
   "source": [
    "# remove parameter\n",
    "configurator.configuration.remove_parameter(parameter_name=\"constant\")"
   ]
  },
  {
   "cell_type": "markdown",
   "metadata": {},
   "source": [
    "When a mechanism is removed, it also removes all associated parameters. Here, 'gNaTgbar_NaTg' parameter will be removed as well"
   ]
  },
  {
   "cell_type": "code",
   "execution_count": 10,
   "metadata": {},
   "outputs": [],
   "source": [
    "# remove mechanism\n",
    "configurator.configuration.remove_mechanism(mechanism_name=\"NaTg\")"
   ]
  },
  {
   "cell_type": "markdown",
   "metadata": {},
   "source": [
    "There is no function to remove a distribution, but if you need to remove one, you can use the code below."
   ]
  },
  {
   "cell_type": "code",
   "execution_count": 11,
   "metadata": {},
   "outputs": [],
   "source": [
    "# remove a distribution\n",
    "distribution_name = \"decay\"\n",
    "configurator.configuration.distributions = [d for d in configurator.configuration.distributions if d.name != distribution_name]"
   ]
  },
  {
   "cell_type": "markdown",
   "metadata": {},
   "source": [
    "## Saving the NeuronModelConfiguration"
   ]
  },
  {
   "cell_type": "markdown",
   "metadata": {},
   "source": [
    "If there is no optimised model in your access point, you can store the new neuron model configuration as it is.\n",
    "\n",
    "However, if there is an optimised model in your access point, it is advisable to use a new access point with an unused iteration tag to avoid conflicts with the existing model.\n",
    "\n",
    "In this example, since we have just created the access point without optimising any model yet, we will keep it for storing the new neuron model configuration. Note that the old NeuronModelConfiguration will be deprecated."
   ]
  },
  {
   "cell_type": "code",
   "execution_count": null,
   "metadata": {},
   "outputs": [],
   "source": [
    "# store new model config\n",
    "configurator.save_configuration()"
   ]
  },
  {
   "cell_type": "markdown",
   "metadata": {},
   "source": [
    "To verify that the optimization works, run the following commands:"
   ]
  },
  {
   "cell_type": "code",
   "execution_count": null,
   "metadata": {},
   "outputs": [],
   "source": [
    "!python pipeline.py --step=extract --emodel={emodel} --etype={etype} --iteration_tag={iteration_tag} --ttype={ttype}\n",
    "!python pipeline.py --step=test_optimise --emodel={emodel} --etype={etype} --iteration_tag={iteration_tag} --ttype={ttype}"
   ]
  }
 ],
 "metadata": {
  "kernelspec": {
   "display_name": "venv-bpem",
   "language": "python",
   "name": "venv-bpem"
  },
  "language_info": {
   "codemirror_mode": {
    "name": "ipython",
    "version": 3
   },
   "file_extension": ".py",
   "mimetype": "text/x-python",
   "name": "python",
   "nbconvert_exporter": "python",
   "pygments_lexer": "ipython3",
   "version": "3.10.8"
  }
 },
 "nbformat": 4,
 "nbformat_minor": 4
}
